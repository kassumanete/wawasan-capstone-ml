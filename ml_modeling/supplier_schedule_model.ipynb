{
 "nbformat": 4,
 "nbformat_minor": 0,
 "metadata": {
  "colab": {
   "provenance": [
    {
     "file_id": "18_WXz7ac6EQsRs05TyZz3aFA4OCAKKpu",
     "timestamp": 1685810472026
    }
   ],
   "machine_shape": "hm",
   "gpuType": "T4"
  },
  "kernelspec": {
   "name": "python3",
   "language": "python",
   "display_name": "Python 3 (ipykernel)"
  },
  "language_info": {
   "name": "python"
  },
  "accelerator": "GPU"
 },
 "cells": [
  {
   "cell_type": "markdown",
   "source": [
    "# Introduction\n",
    "This is a notebook using machine learning to output the schedule of suppliers.\n",
    "First import the data in the form of a csv file. The input of the model will be a date and the output will be a list of days corresponding to the schedule of the suppliers and when they will arrive next."
   ],
   "metadata": {
    "id": "tRUuzt7aKWSV"
   }
  },
  {
   "cell_type": "markdown",
   "source": [
    "# Imports"
   ],
   "metadata": {
    "id": "8bxo4TufKhGv"
   }
  },
  {
   "cell_type": "code",
   "source": [
    "import pandas as pd\n",
    "import tensorflow as tf\n",
    "import matplotlib.pyplot as plt\n",
    "import numpy as np\n",
    "import datetime as dt"
   ],
   "metadata": {
    "id": "WmUC3rAWK2oY",
    "executionInfo": {
     "status": "ok",
     "timestamp": 1686700022790,
     "user_tz": -420,
     "elapsed": 3311,
     "user": {
      "displayName": "Muhammad Arief",
      "userId": "01585842397766244027"
     }
    },
    "ExecuteTime": {
     "end_time": "2023-06-14T06:43:12.127289600Z",
     "start_time": "2023-06-14T06:43:07.899538Z"
    }
   },
   "execution_count": 1,
   "outputs": [
    {
     "name": "stderr",
     "output_type": "stream",
     "text": [
      "2023-06-14 06:43:09.045620: I tensorflow/core/platform/cpu_feature_guard.cc:193] This TensorFlow binary is optimized with oneAPI Deep Neural Network Library (oneDNN) to use the following CPU instructions in performance-critical operations:  AVX2 AVX512F FMA\n",
      "To enable them in other operations, rebuild TensorFlow with the appropriate compiler flags.\n",
      "2023-06-14 06:43:09.892828: W tensorflow/compiler/xla/stream_executor/platform/default/dso_loader.cc:64] Could not load dynamic library 'libnvinfer.so.7'; dlerror: libnvinfer.so.7: cannot open shared object file: No such file or directory; LD_LIBRARY_PATH: /usr/local/cuda/lib64:/usr/local/nccl2/lib:/usr/local/cuda/extras/CUPTI/lib64\n",
      "2023-06-14 06:43:09.892930: W tensorflow/compiler/xla/stream_executor/platform/default/dso_loader.cc:64] Could not load dynamic library 'libnvinfer_plugin.so.7'; dlerror: libnvinfer_plugin.so.7: cannot open shared object file: No such file or directory; LD_LIBRARY_PATH: /usr/local/cuda/lib64:/usr/local/nccl2/lib:/usr/local/cuda/extras/CUPTI/lib64\n",
      "2023-06-14 06:43:09.892939: W tensorflow/compiler/tf2tensorrt/utils/py_utils.cc:38] TF-TRT Warning: Cannot dlopen some TensorRT libraries. If you would like to use Nvidia GPU with TensorRT, please make sure the missing libraries mentioned above are installed properly.\n"
     ]
    }
   ]
  },
  {
   "cell_type": "markdown",
   "source": [
    "# Load Dataset"
   ],
   "metadata": {
    "id": "8pGoEnoHKjxP"
   }
  },
  {
   "cell_type": "code",
   "source": [
    "# from google.colab import drive\n",
    "# drive.mount('/content/drive')"
   ],
   "metadata": {
    "colab": {
     "base_uri": "https://localhost:8080/"
    },
    "id": "QZngx6-34P97",
    "executionInfo": {
     "status": "ok",
     "timestamp": 1686700041303,
     "user_tz": -420,
     "elapsed": 18522,
     "user": {
      "displayName": "Muhammad Arief",
      "userId": "01585842397766244027"
     }
    },
    "outputId": "2491e6db-810a-4205-f469-84342c549034",
    "ExecuteTime": {
     "end_time": "2023-06-14T06:43:12.127289600Z",
     "start_time": "2023-06-14T06:43:12.092068900Z"
    }
   },
   "execution_count": 2,
   "outputs": []
  },
  {
   "cell_type": "code",
   "source": [
    "filepath = 'data/supplier_dates.csv'#supplier schedule on remote server\n",
    "# filepath = '/content/drive/MyDrive/Documents/uni_work/Bangkit2023/batch1/capstone/repo/ml_modeling/supplier_dates.csv'\n",
    "df = pd.read_csv(filepath, dtype = {'tanggal':str,'supplier':str})\n",
    "#remove all punctuation from the supplier names"
   ],
   "metadata": {
    "id": "P6VvZzoWLhFS",
    "executionInfo": {
     "status": "ok",
     "timestamp": 1686700043899,
     "user_tz": -420,
     "elapsed": 2600,
     "user": {
      "displayName": "Muhammad Arief",
      "userId": "01585842397766244027"
     }
    },
    "outputId": "ec6be762-5cb3-43c2-e41a-026727a24abc",
    "colab": {
     "base_uri": "https://localhost:8080/"
    },
    "ExecuteTime": {
     "end_time": "2023-06-14T06:43:12.127289600Z",
     "start_time": "2023-06-14T06:43:12.093311400Z"
    }
   },
   "execution_count": 3,
   "outputs": []
  },
  {
   "cell_type": "markdown",
   "source": [
    "\n",
    "# Data Transformation"
   ],
   "metadata": {
    "id": "1nXJDI2NKlzt"
   }
  },
  {
   "cell_type": "markdown",
   "source": [
    "Transform the code of suppliers into their tokenized forms using the tokenizer."
   ],
   "metadata": {
    "id": "BH9V6V7GOxti"
   }
  },
  {
   "cell_type": "code",
   "execution_count": 4,
   "outputs": [
    {
     "data": {
      "text/plain": "        tanggal  ABA  ABK  ABS  ADR  AI  AJW  ALBACAR  ALFA  ANIS  ...  TIARA  \\\n386  2023-04-01    0    0    0    0   0    0        0     0     0  ...      0   \n385  2023-03-31    0    0    0    0   0    0        0     0     0  ...      0   \n384  2023-03-30    1    0    0    0   0    0        0     0     0  ...      0   \n383  2023-03-29    0    0    0    0   0    0        0     0     0  ...      0   \n382  2023-03-28    0    0    0    0   0    0        0     0     0  ...      0   \n\n     TUAH  UB  UMJ  URB  UTJ  VG  WOI  WT  YIP  \n386     0   1    0    0    0   0    0   1    1  \n385     0   0    0    0    0   0    0   0    0  \n384     0   0    0    0    0   0    1   0    0  \n383     0   0    1    0    0   1    0   0    0  \n382     0   0    0    0    0   1    0   0    0  \n\n[5 rows x 103 columns]",
      "text/html": "<div>\n<style scoped>\n    .dataframe tbody tr th:only-of-type {\n        vertical-align: middle;\n    }\n\n    .dataframe tbody tr th {\n        vertical-align: top;\n    }\n\n    .dataframe thead th {\n        text-align: right;\n    }\n</style>\n<table border=\"1\" class=\"dataframe\">\n  <thead>\n    <tr style=\"text-align: right;\">\n      <th></th>\n      <th>tanggal</th>\n      <th>ABA</th>\n      <th>ABK</th>\n      <th>ABS</th>\n      <th>ADR</th>\n      <th>AI</th>\n      <th>AJW</th>\n      <th>ALBACAR</th>\n      <th>ALFA</th>\n      <th>ANIS</th>\n      <th>...</th>\n      <th>TIARA</th>\n      <th>TUAH</th>\n      <th>UB</th>\n      <th>UMJ</th>\n      <th>URB</th>\n      <th>UTJ</th>\n      <th>VG</th>\n      <th>WOI</th>\n      <th>WT</th>\n      <th>YIP</th>\n    </tr>\n  </thead>\n  <tbody>\n    <tr>\n      <th>386</th>\n      <td>2023-04-01</td>\n      <td>0</td>\n      <td>0</td>\n      <td>0</td>\n      <td>0</td>\n      <td>0</td>\n      <td>0</td>\n      <td>0</td>\n      <td>0</td>\n      <td>0</td>\n      <td>...</td>\n      <td>0</td>\n      <td>0</td>\n      <td>1</td>\n      <td>0</td>\n      <td>0</td>\n      <td>0</td>\n      <td>0</td>\n      <td>0</td>\n      <td>1</td>\n      <td>1</td>\n    </tr>\n    <tr>\n      <th>385</th>\n      <td>2023-03-31</td>\n      <td>0</td>\n      <td>0</td>\n      <td>0</td>\n      <td>0</td>\n      <td>0</td>\n      <td>0</td>\n      <td>0</td>\n      <td>0</td>\n      <td>0</td>\n      <td>...</td>\n      <td>0</td>\n      <td>0</td>\n      <td>0</td>\n      <td>0</td>\n      <td>0</td>\n      <td>0</td>\n      <td>0</td>\n      <td>0</td>\n      <td>0</td>\n      <td>0</td>\n    </tr>\n    <tr>\n      <th>384</th>\n      <td>2023-03-30</td>\n      <td>1</td>\n      <td>0</td>\n      <td>0</td>\n      <td>0</td>\n      <td>0</td>\n      <td>0</td>\n      <td>0</td>\n      <td>0</td>\n      <td>0</td>\n      <td>...</td>\n      <td>0</td>\n      <td>0</td>\n      <td>0</td>\n      <td>0</td>\n      <td>0</td>\n      <td>0</td>\n      <td>0</td>\n      <td>1</td>\n      <td>0</td>\n      <td>0</td>\n    </tr>\n    <tr>\n      <th>383</th>\n      <td>2023-03-29</td>\n      <td>0</td>\n      <td>0</td>\n      <td>0</td>\n      <td>0</td>\n      <td>0</td>\n      <td>0</td>\n      <td>0</td>\n      <td>0</td>\n      <td>0</td>\n      <td>...</td>\n      <td>0</td>\n      <td>0</td>\n      <td>0</td>\n      <td>1</td>\n      <td>0</td>\n      <td>0</td>\n      <td>1</td>\n      <td>0</td>\n      <td>0</td>\n      <td>0</td>\n    </tr>\n    <tr>\n      <th>382</th>\n      <td>2023-03-28</td>\n      <td>0</td>\n      <td>0</td>\n      <td>0</td>\n      <td>0</td>\n      <td>0</td>\n      <td>0</td>\n      <td>0</td>\n      <td>0</td>\n      <td>0</td>\n      <td>...</td>\n      <td>0</td>\n      <td>0</td>\n      <td>0</td>\n      <td>0</td>\n      <td>0</td>\n      <td>0</td>\n      <td>1</td>\n      <td>0</td>\n      <td>0</td>\n      <td>0</td>\n    </tr>\n  </tbody>\n</table>\n<p>5 rows × 103 columns</p>\n</div>"
     },
     "execution_count": 4,
     "metadata": {},
     "output_type": "execute_result"
    }
   ],
   "source": [
    "#multi_hot encode the suppliers based of the date and if they visited on that date or not\n",
    "#df['supplier'] = np.array([i[0] for i in supplier_sequence],dtype = np.int64)\n",
    "\n",
    "multi_hot = pd.get_dummies(df, columns = ['supplier'],prefix = '', prefix_sep = '')\n",
    "multi_hot = multi_hot.drop_duplicates()\n",
    "multi_hot = multi_hot.groupby('tanggal').sum()\n",
    "multi_hot = multi_hot.reset_index()\n",
    "multi_hot = multi_hot.sort_values('tanggal', ascending= False)\n",
    "multi_hot.head()"
   ],
   "metadata": {
    "id": "gzDWaoaT9Zlj",
    "executionInfo": {
     "status": "ok",
     "timestamp": 1686702080781,
     "user_tz": -420,
     "elapsed": 346,
     "user": {
      "displayName": "Muhammad Arief",
      "userId": "01585842397766244027"
     }
    },
    "colab": {
     "base_uri": "https://localhost:8080/"
    },
    "outputId": "7f09856a-318f-4374-e735-a9f7256dc55b",
    "ExecuteTime": {
     "end_time": "2023-06-14T06:43:12.127289600Z",
     "start_time": "2023-06-14T06:43:12.094313900Z"
    }
   }
  },
  {
   "cell_type": "code",
   "execution_count": 5,
   "outputs": [
    {
     "data": {
      "text/plain": "        tanggal  ABA  ABK  ABS  ADR  AI  AJW  ALBACAR  ALFA  ANIS  ...  TIARA  \\\n386  2023-04-01   -1   -1   -1   -1  -1   -1       -1    -1    -1  ...     -1   \n385  2023-03-31    0    0    0    0   0    0        0     0     0  ...      0   \n384  2023-03-30    1    0    0    0   0    0        0     0     0  ...      0   \n383  2023-03-29    0    0    0    0   0    0        0     0     0  ...      0   \n382  2023-03-28    0    0    0    0   0    0        0     0     0  ...      0   \n..          ...  ...  ...  ...  ...  ..  ...      ...   ...   ...  ...    ...   \n4    2022-01-07    0    0    0    0   0    0        0     0     0  ...      0   \n3    2022-01-06    1    0    0    1   0    0        0     0     0  ...      0   \n2    2022-01-05    0    0    0    0   0    1        0     0     0  ...      0   \n1    2022-01-04    0    0    0    0   0    0        0     0     0  ...      0   \n0    2022-01-03    0    0    0    0   1    0        0     0     0  ...      0   \n\n     TUAH  UB  UMJ  URB  UTJ  VG  WOI  WT  YIP  \n386    -1   0   -1   -1   -1  -1   -1   0    0  \n385     0   0    0    0    0   0    0   0    0  \n384     0   0    0    0    0   0    1   0    0  \n383     0   0    1    0    0   1    0   0    0  \n382     0   0    0    0    0   1    0   0    0  \n..    ...  ..  ...  ...  ...  ..  ...  ..  ...  \n4       0   0    0    0    0   0    0   1    0  \n3       0   0    0    0    0   0    0   0    0  \n2       0   0    0    0    0   1    0   0    0  \n1       0   0    0    0    0   0    0   0    0  \n0       0   0    0    0    0   1    0   0    0  \n\n[387 rows x 103 columns]",
      "text/html": "<div>\n<style scoped>\n    .dataframe tbody tr th:only-of-type {\n        vertical-align: middle;\n    }\n\n    .dataframe tbody tr th {\n        vertical-align: top;\n    }\n\n    .dataframe thead th {\n        text-align: right;\n    }\n</style>\n<table border=\"1\" class=\"dataframe\">\n  <thead>\n    <tr style=\"text-align: right;\">\n      <th></th>\n      <th>tanggal</th>\n      <th>ABA</th>\n      <th>ABK</th>\n      <th>ABS</th>\n      <th>ADR</th>\n      <th>AI</th>\n      <th>AJW</th>\n      <th>ALBACAR</th>\n      <th>ALFA</th>\n      <th>ANIS</th>\n      <th>...</th>\n      <th>TIARA</th>\n      <th>TUAH</th>\n      <th>UB</th>\n      <th>UMJ</th>\n      <th>URB</th>\n      <th>UTJ</th>\n      <th>VG</th>\n      <th>WOI</th>\n      <th>WT</th>\n      <th>YIP</th>\n    </tr>\n  </thead>\n  <tbody>\n    <tr>\n      <th>386</th>\n      <td>2023-04-01</td>\n      <td>-1</td>\n      <td>-1</td>\n      <td>-1</td>\n      <td>-1</td>\n      <td>-1</td>\n      <td>-1</td>\n      <td>-1</td>\n      <td>-1</td>\n      <td>-1</td>\n      <td>...</td>\n      <td>-1</td>\n      <td>-1</td>\n      <td>0</td>\n      <td>-1</td>\n      <td>-1</td>\n      <td>-1</td>\n      <td>-1</td>\n      <td>-1</td>\n      <td>0</td>\n      <td>0</td>\n    </tr>\n    <tr>\n      <th>385</th>\n      <td>2023-03-31</td>\n      <td>0</td>\n      <td>0</td>\n      <td>0</td>\n      <td>0</td>\n      <td>0</td>\n      <td>0</td>\n      <td>0</td>\n      <td>0</td>\n      <td>0</td>\n      <td>...</td>\n      <td>0</td>\n      <td>0</td>\n      <td>0</td>\n      <td>0</td>\n      <td>0</td>\n      <td>0</td>\n      <td>0</td>\n      <td>0</td>\n      <td>0</td>\n      <td>0</td>\n    </tr>\n    <tr>\n      <th>384</th>\n      <td>2023-03-30</td>\n      <td>1</td>\n      <td>0</td>\n      <td>0</td>\n      <td>0</td>\n      <td>0</td>\n      <td>0</td>\n      <td>0</td>\n      <td>0</td>\n      <td>0</td>\n      <td>...</td>\n      <td>0</td>\n      <td>0</td>\n      <td>0</td>\n      <td>0</td>\n      <td>0</td>\n      <td>0</td>\n      <td>0</td>\n      <td>1</td>\n      <td>0</td>\n      <td>0</td>\n    </tr>\n    <tr>\n      <th>383</th>\n      <td>2023-03-29</td>\n      <td>0</td>\n      <td>0</td>\n      <td>0</td>\n      <td>0</td>\n      <td>0</td>\n      <td>0</td>\n      <td>0</td>\n      <td>0</td>\n      <td>0</td>\n      <td>...</td>\n      <td>0</td>\n      <td>0</td>\n      <td>0</td>\n      <td>1</td>\n      <td>0</td>\n      <td>0</td>\n      <td>1</td>\n      <td>0</td>\n      <td>0</td>\n      <td>0</td>\n    </tr>\n    <tr>\n      <th>382</th>\n      <td>2023-03-28</td>\n      <td>0</td>\n      <td>0</td>\n      <td>0</td>\n      <td>0</td>\n      <td>0</td>\n      <td>0</td>\n      <td>0</td>\n      <td>0</td>\n      <td>0</td>\n      <td>...</td>\n      <td>0</td>\n      <td>0</td>\n      <td>0</td>\n      <td>0</td>\n      <td>0</td>\n      <td>0</td>\n      <td>1</td>\n      <td>0</td>\n      <td>0</td>\n      <td>0</td>\n    </tr>\n    <tr>\n      <th>...</th>\n      <td>...</td>\n      <td>...</td>\n      <td>...</td>\n      <td>...</td>\n      <td>...</td>\n      <td>...</td>\n      <td>...</td>\n      <td>...</td>\n      <td>...</td>\n      <td>...</td>\n      <td>...</td>\n      <td>...</td>\n      <td>...</td>\n      <td>...</td>\n      <td>...</td>\n      <td>...</td>\n      <td>...</td>\n      <td>...</td>\n      <td>...</td>\n      <td>...</td>\n      <td>...</td>\n    </tr>\n    <tr>\n      <th>4</th>\n      <td>2022-01-07</td>\n      <td>0</td>\n      <td>0</td>\n      <td>0</td>\n      <td>0</td>\n      <td>0</td>\n      <td>0</td>\n      <td>0</td>\n      <td>0</td>\n      <td>0</td>\n      <td>...</td>\n      <td>0</td>\n      <td>0</td>\n      <td>0</td>\n      <td>0</td>\n      <td>0</td>\n      <td>0</td>\n      <td>0</td>\n      <td>0</td>\n      <td>1</td>\n      <td>0</td>\n    </tr>\n    <tr>\n      <th>3</th>\n      <td>2022-01-06</td>\n      <td>1</td>\n      <td>0</td>\n      <td>0</td>\n      <td>1</td>\n      <td>0</td>\n      <td>0</td>\n      <td>0</td>\n      <td>0</td>\n      <td>0</td>\n      <td>...</td>\n      <td>0</td>\n      <td>0</td>\n      <td>0</td>\n      <td>0</td>\n      <td>0</td>\n      <td>0</td>\n      <td>0</td>\n      <td>0</td>\n      <td>0</td>\n      <td>0</td>\n    </tr>\n    <tr>\n      <th>2</th>\n      <td>2022-01-05</td>\n      <td>0</td>\n      <td>0</td>\n      <td>0</td>\n      <td>0</td>\n      <td>0</td>\n      <td>1</td>\n      <td>0</td>\n      <td>0</td>\n      <td>0</td>\n      <td>...</td>\n      <td>0</td>\n      <td>0</td>\n      <td>0</td>\n      <td>0</td>\n      <td>0</td>\n      <td>0</td>\n      <td>1</td>\n      <td>0</td>\n      <td>0</td>\n      <td>0</td>\n    </tr>\n    <tr>\n      <th>1</th>\n      <td>2022-01-04</td>\n      <td>0</td>\n      <td>0</td>\n      <td>0</td>\n      <td>0</td>\n      <td>0</td>\n      <td>0</td>\n      <td>0</td>\n      <td>0</td>\n      <td>0</td>\n      <td>...</td>\n      <td>0</td>\n      <td>0</td>\n      <td>0</td>\n      <td>0</td>\n      <td>0</td>\n      <td>0</td>\n      <td>0</td>\n      <td>0</td>\n      <td>0</td>\n      <td>0</td>\n    </tr>\n    <tr>\n      <th>0</th>\n      <td>2022-01-03</td>\n      <td>0</td>\n      <td>0</td>\n      <td>0</td>\n      <td>0</td>\n      <td>1</td>\n      <td>0</td>\n      <td>0</td>\n      <td>0</td>\n      <td>0</td>\n      <td>...</td>\n      <td>0</td>\n      <td>0</td>\n      <td>0</td>\n      <td>0</td>\n      <td>0</td>\n      <td>0</td>\n      <td>1</td>\n      <td>0</td>\n      <td>0</td>\n      <td>0</td>\n    </tr>\n  </tbody>\n</table>\n<p>387 rows × 103 columns</p>\n</div>"
     },
     "execution_count": 5,
     "metadata": {},
     "output_type": "execute_result"
    }
   ],
   "source": [
    "#swap values of 0 and 1 in the first row of the dataframe (because the first row is the multihot date for supplier visits)\n",
    "def process_recent(dataframe):\n",
    "  \"\"\"\n",
    "  Swaps the values of 0 and 1 in the first row of the dataframe\n",
    "  Args:\n",
    "    dataframe (dataframe): dataframe containing the dates\n",
    "\n",
    "  Returns:\n",
    "    df (dataframe): dataframe containing the swapped values of 0 and 1 in the first row of the dataframe\n",
    "  \"\"\"\n",
    "  for i in range(1, len(dataframe.columns)):\n",
    "    if dataframe.iloc[0,i] == 0:\n",
    "      dataframe.iloc[0,i] = -1\n",
    "    else:\n",
    "      dataframe.iloc[0,i] = 0\n",
    "  return dataframe\n",
    "multi_hot = process_recent(multi_hot)\n",
    "multi_hot"
   ],
   "metadata": {
    "id": "hMXwhguN9Zlp",
    "ExecuteTime": {
     "end_time": "2023-06-14T06:43:12.128301900Z",
     "start_time": "2023-06-14T06:43:12.094313900Z"
    }
   }
  },
  {
   "cell_type": "code",
   "execution_count": 6,
   "outputs": [
    {
     "data": {
      "text/plain": "        tanggal  ABA  ABK  ABS  ADR  AI  AJW  ALBACAR  ALFA  ANIS  ...  TUAH  \\\n386  2023-04-01   -1   -1   -1   -1  -1   -1       -1    -1    -1  ...    -1   \n385  2023-03-31    0    0    0    0   0    0        0     0     0  ...     0   \n384  2023-03-30    1    0    0    0   0    0        0     0     0  ...     0   \n383  2023-03-29    0    0    0    0   0    0        0     0     0  ...     0   \n382  2023-03-28    0    0    0    0   0    0        0     0     0  ...     0   \n..          ...  ...  ...  ...  ...  ..  ...      ...   ...   ...  ...   ...   \n4    2022-01-07    0    0    0    0   0    0        0     0     0  ...     0   \n3    2022-01-06    1    0    0    1   0    0        0     0     0  ...     0   \n2    2022-01-05    0    0    0    0   0    1        0     0     0  ...     0   \n1    2022-01-04    0    0    0    0   0    0        0     0     0  ...     0   \n0    2022-01-03    0    0    0    0   1    0        0     0     0  ...     0   \n\n     UB  UMJ  URB  UTJ  VG  WOI  WT  YIP   next_data  \n386   0   -1   -1   -1  -1   -1   0    0        None  \n385   0    0    0    0   0    0   0    0  2023-04-01  \n384   0    0    0    0   0    1   0    0  2023-03-31  \n383   0    1    0    0   1    0   0    0  2023-03-30  \n382   0    0    0    0   1    0   0    0  2023-03-29  \n..   ..  ...  ...  ...  ..  ...  ..  ...         ...  \n4     0    0    0    0   0    0   1    0  2022-01-08  \n3     0    0    0    0   0    0   0    0  2022-01-07  \n2     0    0    0    0   1    0   0    0  2022-01-06  \n1     0    0    0    0   0    0   0    0  2022-01-05  \n0     0    0    0    0   1    0   0    0  2022-01-04  \n\n[387 rows x 104 columns]",
      "text/html": "<div>\n<style scoped>\n    .dataframe tbody tr th:only-of-type {\n        vertical-align: middle;\n    }\n\n    .dataframe tbody tr th {\n        vertical-align: top;\n    }\n\n    .dataframe thead th {\n        text-align: right;\n    }\n</style>\n<table border=\"1\" class=\"dataframe\">\n  <thead>\n    <tr style=\"text-align: right;\">\n      <th></th>\n      <th>tanggal</th>\n      <th>ABA</th>\n      <th>ABK</th>\n      <th>ABS</th>\n      <th>ADR</th>\n      <th>AI</th>\n      <th>AJW</th>\n      <th>ALBACAR</th>\n      <th>ALFA</th>\n      <th>ANIS</th>\n      <th>...</th>\n      <th>TUAH</th>\n      <th>UB</th>\n      <th>UMJ</th>\n      <th>URB</th>\n      <th>UTJ</th>\n      <th>VG</th>\n      <th>WOI</th>\n      <th>WT</th>\n      <th>YIP</th>\n      <th>next_data</th>\n    </tr>\n  </thead>\n  <tbody>\n    <tr>\n      <th>386</th>\n      <td>2023-04-01</td>\n      <td>-1</td>\n      <td>-1</td>\n      <td>-1</td>\n      <td>-1</td>\n      <td>-1</td>\n      <td>-1</td>\n      <td>-1</td>\n      <td>-1</td>\n      <td>-1</td>\n      <td>...</td>\n      <td>-1</td>\n      <td>0</td>\n      <td>-1</td>\n      <td>-1</td>\n      <td>-1</td>\n      <td>-1</td>\n      <td>-1</td>\n      <td>0</td>\n      <td>0</td>\n      <td>None</td>\n    </tr>\n    <tr>\n      <th>385</th>\n      <td>2023-03-31</td>\n      <td>0</td>\n      <td>0</td>\n      <td>0</td>\n      <td>0</td>\n      <td>0</td>\n      <td>0</td>\n      <td>0</td>\n      <td>0</td>\n      <td>0</td>\n      <td>...</td>\n      <td>0</td>\n      <td>0</td>\n      <td>0</td>\n      <td>0</td>\n      <td>0</td>\n      <td>0</td>\n      <td>0</td>\n      <td>0</td>\n      <td>0</td>\n      <td>2023-04-01</td>\n    </tr>\n    <tr>\n      <th>384</th>\n      <td>2023-03-30</td>\n      <td>1</td>\n      <td>0</td>\n      <td>0</td>\n      <td>0</td>\n      <td>0</td>\n      <td>0</td>\n      <td>0</td>\n      <td>0</td>\n      <td>0</td>\n      <td>...</td>\n      <td>0</td>\n      <td>0</td>\n      <td>0</td>\n      <td>0</td>\n      <td>0</td>\n      <td>0</td>\n      <td>1</td>\n      <td>0</td>\n      <td>0</td>\n      <td>2023-03-31</td>\n    </tr>\n    <tr>\n      <th>383</th>\n      <td>2023-03-29</td>\n      <td>0</td>\n      <td>0</td>\n      <td>0</td>\n      <td>0</td>\n      <td>0</td>\n      <td>0</td>\n      <td>0</td>\n      <td>0</td>\n      <td>0</td>\n      <td>...</td>\n      <td>0</td>\n      <td>0</td>\n      <td>1</td>\n      <td>0</td>\n      <td>0</td>\n      <td>1</td>\n      <td>0</td>\n      <td>0</td>\n      <td>0</td>\n      <td>2023-03-30</td>\n    </tr>\n    <tr>\n      <th>382</th>\n      <td>2023-03-28</td>\n      <td>0</td>\n      <td>0</td>\n      <td>0</td>\n      <td>0</td>\n      <td>0</td>\n      <td>0</td>\n      <td>0</td>\n      <td>0</td>\n      <td>0</td>\n      <td>...</td>\n      <td>0</td>\n      <td>0</td>\n      <td>0</td>\n      <td>0</td>\n      <td>0</td>\n      <td>1</td>\n      <td>0</td>\n      <td>0</td>\n      <td>0</td>\n      <td>2023-03-29</td>\n    </tr>\n    <tr>\n      <th>...</th>\n      <td>...</td>\n      <td>...</td>\n      <td>...</td>\n      <td>...</td>\n      <td>...</td>\n      <td>...</td>\n      <td>...</td>\n      <td>...</td>\n      <td>...</td>\n      <td>...</td>\n      <td>...</td>\n      <td>...</td>\n      <td>...</td>\n      <td>...</td>\n      <td>...</td>\n      <td>...</td>\n      <td>...</td>\n      <td>...</td>\n      <td>...</td>\n      <td>...</td>\n      <td>...</td>\n    </tr>\n    <tr>\n      <th>4</th>\n      <td>2022-01-07</td>\n      <td>0</td>\n      <td>0</td>\n      <td>0</td>\n      <td>0</td>\n      <td>0</td>\n      <td>0</td>\n      <td>0</td>\n      <td>0</td>\n      <td>0</td>\n      <td>...</td>\n      <td>0</td>\n      <td>0</td>\n      <td>0</td>\n      <td>0</td>\n      <td>0</td>\n      <td>0</td>\n      <td>0</td>\n      <td>1</td>\n      <td>0</td>\n      <td>2022-01-08</td>\n    </tr>\n    <tr>\n      <th>3</th>\n      <td>2022-01-06</td>\n      <td>1</td>\n      <td>0</td>\n      <td>0</td>\n      <td>1</td>\n      <td>0</td>\n      <td>0</td>\n      <td>0</td>\n      <td>0</td>\n      <td>0</td>\n      <td>...</td>\n      <td>0</td>\n      <td>0</td>\n      <td>0</td>\n      <td>0</td>\n      <td>0</td>\n      <td>0</td>\n      <td>0</td>\n      <td>0</td>\n      <td>0</td>\n      <td>2022-01-07</td>\n    </tr>\n    <tr>\n      <th>2</th>\n      <td>2022-01-05</td>\n      <td>0</td>\n      <td>0</td>\n      <td>0</td>\n      <td>0</td>\n      <td>0</td>\n      <td>1</td>\n      <td>0</td>\n      <td>0</td>\n      <td>0</td>\n      <td>...</td>\n      <td>0</td>\n      <td>0</td>\n      <td>0</td>\n      <td>0</td>\n      <td>0</td>\n      <td>1</td>\n      <td>0</td>\n      <td>0</td>\n      <td>0</td>\n      <td>2022-01-06</td>\n    </tr>\n    <tr>\n      <th>1</th>\n      <td>2022-01-04</td>\n      <td>0</td>\n      <td>0</td>\n      <td>0</td>\n      <td>0</td>\n      <td>0</td>\n      <td>0</td>\n      <td>0</td>\n      <td>0</td>\n      <td>0</td>\n      <td>...</td>\n      <td>0</td>\n      <td>0</td>\n      <td>0</td>\n      <td>0</td>\n      <td>0</td>\n      <td>0</td>\n      <td>0</td>\n      <td>0</td>\n      <td>0</td>\n      <td>2022-01-05</td>\n    </tr>\n    <tr>\n      <th>0</th>\n      <td>2022-01-03</td>\n      <td>0</td>\n      <td>0</td>\n      <td>0</td>\n      <td>0</td>\n      <td>1</td>\n      <td>0</td>\n      <td>0</td>\n      <td>0</td>\n      <td>0</td>\n      <td>...</td>\n      <td>0</td>\n      <td>0</td>\n      <td>0</td>\n      <td>0</td>\n      <td>0</td>\n      <td>1</td>\n      <td>0</td>\n      <td>0</td>\n      <td>0</td>\n      <td>2022-01-04</td>\n    </tr>\n  </tbody>\n</table>\n<p>387 rows × 104 columns</p>\n</div>"
     },
     "execution_count": 6,
     "metadata": {},
     "output_type": "execute_result"
    }
   ],
   "source": [
    "#add previous date column\n",
    "def next_day(dataframe):\n",
    "  \"\"\"\n",
    "  Adds a column containing the previous date\n",
    "  Args:\n",
    "    dataframe (dataframe): dataframe containing the dates\n",
    "\n",
    "  Returns:\n",
    "    df (dataframe): dataframe containing the previous date\n",
    "  \"\"\"\n",
    "  dataframe['next_data'] = dataframe['tanggal'].shift(1)\n",
    "  return dataframe\n",
    "multi_hot = next_day(multi_hot)\n",
    "multi_hot"
   ],
   "metadata": {
    "collapsed": false,
    "ExecuteTime": {
     "end_time": "2023-06-14T06:43:12.128301900Z",
     "start_time": "2023-06-14T06:43:12.095313600Z"
    }
   }
  },
  {
   "cell_type": "code",
   "execution_count": 7,
   "outputs": [
    {
     "data": {
      "text/plain": "        tanggal  ABA  ABK  ABS  ADR  AI  AJW  ALBACAR  ALFA  ANIS  ...  TUAH  \\\n386  2023-04-01   -1   -1   -1   -1  -1   -1       -1    -1    -1  ...    -1   \n385  2023-03-31    0    0    0    0   0    0        0     0     0  ...     0   \n384  2023-03-30    1    0    0    0   0    0        0     0     0  ...     0   \n383  2023-03-29    0    0    0    0   0    0        0     0     0  ...     0   \n382  2023-03-28    0    0    0    0   0    0        0     0     0  ...     0   \n\n     UB  UMJ  URB  UTJ  VG  WOI  WT  YIP  time_diff  \n386   0   -1   -1   -1  -1   -1   0    0        0.0  \n385   0    0    0    0   0    0   0    0        1.0  \n384   0    0    0    0   0    1   0    0        1.0  \n383   0    1    0    0   1    0   0    0        1.0  \n382   0    0    0    0   1    0   0    0        1.0  \n\n[5 rows x 104 columns]",
      "text/html": "<div>\n<style scoped>\n    .dataframe tbody tr th:only-of-type {\n        vertical-align: middle;\n    }\n\n    .dataframe tbody tr th {\n        vertical-align: top;\n    }\n\n    .dataframe thead th {\n        text-align: right;\n    }\n</style>\n<table border=\"1\" class=\"dataframe\">\n  <thead>\n    <tr style=\"text-align: right;\">\n      <th></th>\n      <th>tanggal</th>\n      <th>ABA</th>\n      <th>ABK</th>\n      <th>ABS</th>\n      <th>ADR</th>\n      <th>AI</th>\n      <th>AJW</th>\n      <th>ALBACAR</th>\n      <th>ALFA</th>\n      <th>ANIS</th>\n      <th>...</th>\n      <th>TUAH</th>\n      <th>UB</th>\n      <th>UMJ</th>\n      <th>URB</th>\n      <th>UTJ</th>\n      <th>VG</th>\n      <th>WOI</th>\n      <th>WT</th>\n      <th>YIP</th>\n      <th>time_diff</th>\n    </tr>\n  </thead>\n  <tbody>\n    <tr>\n      <th>386</th>\n      <td>2023-04-01</td>\n      <td>-1</td>\n      <td>-1</td>\n      <td>-1</td>\n      <td>-1</td>\n      <td>-1</td>\n      <td>-1</td>\n      <td>-1</td>\n      <td>-1</td>\n      <td>-1</td>\n      <td>...</td>\n      <td>-1</td>\n      <td>0</td>\n      <td>-1</td>\n      <td>-1</td>\n      <td>-1</td>\n      <td>-1</td>\n      <td>-1</td>\n      <td>0</td>\n      <td>0</td>\n      <td>0.0</td>\n    </tr>\n    <tr>\n      <th>385</th>\n      <td>2023-03-31</td>\n      <td>0</td>\n      <td>0</td>\n      <td>0</td>\n      <td>0</td>\n      <td>0</td>\n      <td>0</td>\n      <td>0</td>\n      <td>0</td>\n      <td>0</td>\n      <td>...</td>\n      <td>0</td>\n      <td>0</td>\n      <td>0</td>\n      <td>0</td>\n      <td>0</td>\n      <td>0</td>\n      <td>0</td>\n      <td>0</td>\n      <td>0</td>\n      <td>1.0</td>\n    </tr>\n    <tr>\n      <th>384</th>\n      <td>2023-03-30</td>\n      <td>1</td>\n      <td>0</td>\n      <td>0</td>\n      <td>0</td>\n      <td>0</td>\n      <td>0</td>\n      <td>0</td>\n      <td>0</td>\n      <td>0</td>\n      <td>...</td>\n      <td>0</td>\n      <td>0</td>\n      <td>0</td>\n      <td>0</td>\n      <td>0</td>\n      <td>0</td>\n      <td>1</td>\n      <td>0</td>\n      <td>0</td>\n      <td>1.0</td>\n    </tr>\n    <tr>\n      <th>383</th>\n      <td>2023-03-29</td>\n      <td>0</td>\n      <td>0</td>\n      <td>0</td>\n      <td>0</td>\n      <td>0</td>\n      <td>0</td>\n      <td>0</td>\n      <td>0</td>\n      <td>0</td>\n      <td>...</td>\n      <td>0</td>\n      <td>0</td>\n      <td>1</td>\n      <td>0</td>\n      <td>0</td>\n      <td>1</td>\n      <td>0</td>\n      <td>0</td>\n      <td>0</td>\n      <td>1.0</td>\n    </tr>\n    <tr>\n      <th>382</th>\n      <td>2023-03-28</td>\n      <td>0</td>\n      <td>0</td>\n      <td>0</td>\n      <td>0</td>\n      <td>0</td>\n      <td>0</td>\n      <td>0</td>\n      <td>0</td>\n      <td>0</td>\n      <td>...</td>\n      <td>0</td>\n      <td>0</td>\n      <td>0</td>\n      <td>0</td>\n      <td>0</td>\n      <td>1</td>\n      <td>0</td>\n      <td>0</td>\n      <td>0</td>\n      <td>1.0</td>\n    </tr>\n  </tbody>\n</table>\n<p>5 rows × 104 columns</p>\n</div>"
     },
     "execution_count": 7,
     "metadata": {},
     "output_type": "execute_result"
    }
   ],
   "source": [
    "#Get the time difference between the current date and the previous date and convert it to days, keep the first row as 0\n",
    "def time_diff(dataframe):\n",
    "  \"\"\"\n",
    "  Adds a column containing the time difference between the current date and the previous date and convert it to days, keep the first row as 0\n",
    "  Args:\n",
    "    dataframe (dataframe): dataframe containing the dates\n",
    "\n",
    "  Returns:\n",
    "    df (dataframe): dataframe containing the time difference between the current date and the previous date and convert it to days, keep the first row as 0\n",
    "  \"\"\"\n",
    "  dataframe['time_diff'] = pd.to_datetime(dataframe['next_data']) - pd.to_datetime(dataframe['tanggal'])\n",
    "  dataframe['time_diff'] = dataframe['time_diff'].dt.days\n",
    "  dataframe.iloc[0,dataframe.columns.get_loc('time_diff')] = 0\n",
    "  return dataframe\n",
    "multi_hot = time_diff(multi_hot)\n",
    "multi_hot.pop('next_data')\n",
    "multi_hot.head()"
   ],
   "metadata": {
    "collapsed": false,
    "ExecuteTime": {
     "end_time": "2023-06-14T06:43:12.128301900Z",
     "start_time": "2023-06-14T06:43:12.096310300Z"
    }
   }
  },
  {
   "cell_type": "code",
   "execution_count": 8,
   "outputs": [
    {
     "data": {
      "text/plain": "        tanggal  ABA  ABK  ABS  ADR  AI  AJW  ALBACAR  ALFA  ANIS  ...  TIARA  \\\n386  2023-04-01   -1   -1   -1   -1  -1   -1       -1    -1    -1  ...     -1   \n385  2023-03-31   -1   -1   -1   -1  -1   -1       -1    -1    -1  ...     -1   \n384  2023-03-30    0   -1   -1   -1  -1   -1       -1    -1    -1  ...     -1   \n383  2023-03-29    1   -1   -1   -1  -1   -1       -1    -1    -1  ...     -1   \n382  2023-03-28    2   -1   -1   -1  -1   -1       -1    -1    -1  ...     -1   \n\n     TUAH  UB  UMJ  URB  UTJ  VG  WOI  WT  YIP  \n386    -1   0   -1   -1   -1  -1   -1   0    0  \n385    -1   1   -1   -1   -1  -1   -1   1    1  \n384    -1   2   -1   -1   -1  -1    0   2    2  \n383    -1   3    0   -1   -1   0    1   3    3  \n382    -1   4    1   -1   -1   0    2   4    4  \n\n[5 rows x 103 columns]",
      "text/html": "<div>\n<style scoped>\n    .dataframe tbody tr th:only-of-type {\n        vertical-align: middle;\n    }\n\n    .dataframe tbody tr th {\n        vertical-align: top;\n    }\n\n    .dataframe thead th {\n        text-align: right;\n    }\n</style>\n<table border=\"1\" class=\"dataframe\">\n  <thead>\n    <tr style=\"text-align: right;\">\n      <th></th>\n      <th>tanggal</th>\n      <th>ABA</th>\n      <th>ABK</th>\n      <th>ABS</th>\n      <th>ADR</th>\n      <th>AI</th>\n      <th>AJW</th>\n      <th>ALBACAR</th>\n      <th>ALFA</th>\n      <th>ANIS</th>\n      <th>...</th>\n      <th>TIARA</th>\n      <th>TUAH</th>\n      <th>UB</th>\n      <th>UMJ</th>\n      <th>URB</th>\n      <th>UTJ</th>\n      <th>VG</th>\n      <th>WOI</th>\n      <th>WT</th>\n      <th>YIP</th>\n    </tr>\n  </thead>\n  <tbody>\n    <tr>\n      <th>386</th>\n      <td>2023-04-01</td>\n      <td>-1</td>\n      <td>-1</td>\n      <td>-1</td>\n      <td>-1</td>\n      <td>-1</td>\n      <td>-1</td>\n      <td>-1</td>\n      <td>-1</td>\n      <td>-1</td>\n      <td>...</td>\n      <td>-1</td>\n      <td>-1</td>\n      <td>0</td>\n      <td>-1</td>\n      <td>-1</td>\n      <td>-1</td>\n      <td>-1</td>\n      <td>-1</td>\n      <td>0</td>\n      <td>0</td>\n    </tr>\n    <tr>\n      <th>385</th>\n      <td>2023-03-31</td>\n      <td>-1</td>\n      <td>-1</td>\n      <td>-1</td>\n      <td>-1</td>\n      <td>-1</td>\n      <td>-1</td>\n      <td>-1</td>\n      <td>-1</td>\n      <td>-1</td>\n      <td>...</td>\n      <td>-1</td>\n      <td>-1</td>\n      <td>1</td>\n      <td>-1</td>\n      <td>-1</td>\n      <td>-1</td>\n      <td>-1</td>\n      <td>-1</td>\n      <td>1</td>\n      <td>1</td>\n    </tr>\n    <tr>\n      <th>384</th>\n      <td>2023-03-30</td>\n      <td>0</td>\n      <td>-1</td>\n      <td>-1</td>\n      <td>-1</td>\n      <td>-1</td>\n      <td>-1</td>\n      <td>-1</td>\n      <td>-1</td>\n      <td>-1</td>\n      <td>...</td>\n      <td>-1</td>\n      <td>-1</td>\n      <td>2</td>\n      <td>-1</td>\n      <td>-1</td>\n      <td>-1</td>\n      <td>-1</td>\n      <td>0</td>\n      <td>2</td>\n      <td>2</td>\n    </tr>\n    <tr>\n      <th>383</th>\n      <td>2023-03-29</td>\n      <td>1</td>\n      <td>-1</td>\n      <td>-1</td>\n      <td>-1</td>\n      <td>-1</td>\n      <td>-1</td>\n      <td>-1</td>\n      <td>-1</td>\n      <td>-1</td>\n      <td>...</td>\n      <td>-1</td>\n      <td>-1</td>\n      <td>3</td>\n      <td>0</td>\n      <td>-1</td>\n      <td>-1</td>\n      <td>0</td>\n      <td>1</td>\n      <td>3</td>\n      <td>3</td>\n    </tr>\n    <tr>\n      <th>382</th>\n      <td>2023-03-28</td>\n      <td>2</td>\n      <td>-1</td>\n      <td>-1</td>\n      <td>-1</td>\n      <td>-1</td>\n      <td>-1</td>\n      <td>-1</td>\n      <td>-1</td>\n      <td>-1</td>\n      <td>...</td>\n      <td>-1</td>\n      <td>-1</td>\n      <td>4</td>\n      <td>1</td>\n      <td>-1</td>\n      <td>-1</td>\n      <td>0</td>\n      <td>2</td>\n      <td>4</td>\n      <td>4</td>\n    </tr>\n  </tbody>\n</table>\n<p>5 rows × 103 columns</p>\n</div>"
     },
     "execution_count": 8,
     "metadata": {},
     "output_type": "execute_result"
    }
   ],
   "source": [
    "#update each column\n",
    "def day_until_visit(dataframe):\n",
    "  \"\"\"\n",
    "  Adds a column containing the days till the next visit\n",
    "  Args:\n",
    "    dataframe (dataframe): dataframe containing the dates\n",
    "\n",
    "  Returns:\n",
    "    df (dataframe): dataframe containing the since last visit limited to a max of 365\n",
    "  \"\"\"\n",
    "  dataframe = dataframe.copy()\n",
    "  for i in range(1, len(dataframe.columns)-1):\n",
    "    for j in range(1, len(dataframe)):\n",
    "      if dataframe.iloc[j,i] == 0 and dataframe.iloc[j - 1,i] == -1:\n",
    "        dataframe.iloc[j,i] = -1\n",
    "      elif dataframe.iloc[j,i] == 0:\n",
    "        dataframe.iloc[j,i] = dataframe.iloc[j - 1,i] + dataframe.iloc[j,dataframe.columns.get_loc('time_diff')]\n",
    "      else:\n",
    "        dataframe.iloc[j,i] = 0\n",
    "  return dataframe\n",
    "days_diff = day_until_visit(multi_hot)\n",
    "days_diff.pop('time_diff')\n",
    "days_diff.head()"
   ],
   "metadata": {
    "id": "aYctV8hl9Zlq",
    "ExecuteTime": {
     "end_time": "2023-06-14T06:43:16.116756100Z",
     "start_time": "2023-06-14T06:43:12.096310300Z"
    }
   }
  },
  {
   "cell_type": "code",
   "execution_count": 9,
   "outputs": [
    {
     "data": {
      "text/plain": "          tanggal supplier  days_to_next_visit\n0      2023-04-01      ABA                  -1\n1      2023-03-31      ABA                  -1\n2      2023-03-30      ABA                   0\n3      2023-03-29      ABA                   1\n4      2023-03-28      ABA                   2\n...           ...      ...                 ...\n39469  2022-01-07      YIP                   1\n39470  2022-01-06      YIP                   2\n39471  2022-01-05      YIP                   3\n39472  2022-01-04      YIP                   4\n39473  2022-01-03      YIP                   5\n\n[39474 rows x 3 columns]",
      "text/html": "<div>\n<style scoped>\n    .dataframe tbody tr th:only-of-type {\n        vertical-align: middle;\n    }\n\n    .dataframe tbody tr th {\n        vertical-align: top;\n    }\n\n    .dataframe thead th {\n        text-align: right;\n    }\n</style>\n<table border=\"1\" class=\"dataframe\">\n  <thead>\n    <tr style=\"text-align: right;\">\n      <th></th>\n      <th>tanggal</th>\n      <th>supplier</th>\n      <th>days_to_next_visit</th>\n    </tr>\n  </thead>\n  <tbody>\n    <tr>\n      <th>0</th>\n      <td>2023-04-01</td>\n      <td>ABA</td>\n      <td>-1</td>\n    </tr>\n    <tr>\n      <th>1</th>\n      <td>2023-03-31</td>\n      <td>ABA</td>\n      <td>-1</td>\n    </tr>\n    <tr>\n      <th>2</th>\n      <td>2023-03-30</td>\n      <td>ABA</td>\n      <td>0</td>\n    </tr>\n    <tr>\n      <th>3</th>\n      <td>2023-03-29</td>\n      <td>ABA</td>\n      <td>1</td>\n    </tr>\n    <tr>\n      <th>4</th>\n      <td>2023-03-28</td>\n      <td>ABA</td>\n      <td>2</td>\n    </tr>\n    <tr>\n      <th>...</th>\n      <td>...</td>\n      <td>...</td>\n      <td>...</td>\n    </tr>\n    <tr>\n      <th>39469</th>\n      <td>2022-01-07</td>\n      <td>YIP</td>\n      <td>1</td>\n    </tr>\n    <tr>\n      <th>39470</th>\n      <td>2022-01-06</td>\n      <td>YIP</td>\n      <td>2</td>\n    </tr>\n    <tr>\n      <th>39471</th>\n      <td>2022-01-05</td>\n      <td>YIP</td>\n      <td>3</td>\n    </tr>\n    <tr>\n      <th>39472</th>\n      <td>2022-01-04</td>\n      <td>YIP</td>\n      <td>4</td>\n    </tr>\n    <tr>\n      <th>39473</th>\n      <td>2022-01-03</td>\n      <td>YIP</td>\n      <td>5</td>\n    </tr>\n  </tbody>\n</table>\n<p>39474 rows × 3 columns</p>\n</div>"
     },
     "execution_count": 9,
     "metadata": {},
     "output_type": "execute_result"
    }
   ],
   "source": [
    "#turn dataframe from wide to long\n",
    "def wide_to_long(dataframe):\n",
    "  \"\"\"\n",
    "  Turns the dataframe from wide to long\n",
    "  Args:\n",
    "    dataframe (dataframe): dataframe containing the dates\n",
    "\n",
    "  Returns:\n",
    "    df (dataframe): dataframe containing the dates in long form\n",
    "  \"\"\"\n",
    "  dataframe = dataframe.copy()\n",
    "  dataframe = dataframe.melt(id_vars = ['tanggal'], var_name = 'supplier', value_name = 'days_to_next_visit')\n",
    "  return dataframe\n",
    "long_data = wide_to_long(days_diff)\n",
    "long_data"
   ],
   "metadata": {
    "collapsed": false,
    "ExecuteTime": {
     "end_time": "2023-06-14T06:43:16.233533100Z",
     "start_time": "2023-06-14T06:43:16.118773300Z"
    }
   }
  },
  {
   "cell_type": "code",
   "execution_count": 10,
   "outputs": [
    {
     "data": {
      "text/plain": "      tanggal supplier  days_to_next_visit\n2  2023-03-30      ABA                   0\n3  2023-03-29      ABA                   1\n4  2023-03-28      ABA                   2\n5  2023-03-27      ABA                   3\n6  2023-03-25      ABA                   0",
      "text/html": "<div>\n<style scoped>\n    .dataframe tbody tr th:only-of-type {\n        vertical-align: middle;\n    }\n\n    .dataframe tbody tr th {\n        vertical-align: top;\n    }\n\n    .dataframe thead th {\n        text-align: right;\n    }\n</style>\n<table border=\"1\" class=\"dataframe\">\n  <thead>\n    <tr style=\"text-align: right;\">\n      <th></th>\n      <th>tanggal</th>\n      <th>supplier</th>\n      <th>days_to_next_visit</th>\n    </tr>\n  </thead>\n  <tbody>\n    <tr>\n      <th>2</th>\n      <td>2023-03-30</td>\n      <td>ABA</td>\n      <td>0</td>\n    </tr>\n    <tr>\n      <th>3</th>\n      <td>2023-03-29</td>\n      <td>ABA</td>\n      <td>1</td>\n    </tr>\n    <tr>\n      <th>4</th>\n      <td>2023-03-28</td>\n      <td>ABA</td>\n      <td>2</td>\n    </tr>\n    <tr>\n      <th>5</th>\n      <td>2023-03-27</td>\n      <td>ABA</td>\n      <td>3</td>\n    </tr>\n    <tr>\n      <th>6</th>\n      <td>2023-03-25</td>\n      <td>ABA</td>\n      <td>0</td>\n    </tr>\n  </tbody>\n</table>\n</div>"
     },
     "execution_count": 10,
     "metadata": {},
     "output_type": "execute_result"
    }
   ],
   "source": [
    "#remove all rows with -1 as the value for days_to_next_visit\n",
    "def remove_neg(dataframe):\n",
    "  \"\"\"\n",
    "  Removes all rows with -1 as the value for days_to_next_visit\n",
    "  Args:\n",
    "    dataframe (dataframe): dataframe containing the dates\n",
    "\n",
    "  Returns:\n",
    "    df (dataframe): dataframe containing the dates with no -1 values\n",
    "  \"\"\"\n",
    "  dataframe = dataframe.copy()\n",
    "  dataframe = dataframe[dataframe['days_to_next_visit'] != -1]\n",
    "  return dataframe\n",
    "long_data = remove_neg(long_data)\n",
    "long_data.head()"
   ],
   "metadata": {
    "collapsed": false,
    "ExecuteTime": {
     "end_time": "2023-06-14T06:43:16.234528100Z",
     "start_time": "2023-06-14T06:43:16.163496800Z"
    }
   }
  },
  {
   "cell_type": "code",
   "execution_count": 11,
   "outputs": [
    {
     "data": {
      "text/plain": "  supplier  days_to_next_visit       date  year  month  day_of_month  \\\n2      ABA                   0 2023-03-30  2023      3            30   \n3      ABA                   1 2023-03-29  2023      3            29   \n4      ABA                   2 2023-03-28  2023      3            28   \n5      ABA                   3 2023-03-27  2023      3            27   \n6      ABA                   0 2023-03-25  2023      3            25   \n\n   day_of_week  week_of_year  day_of_year  \n2            3            13           89  \n3            2            13           88  \n4            1            13           87  \n5            0            13           86  \n6            5            12           84  ",
      "text/html": "<div>\n<style scoped>\n    .dataframe tbody tr th:only-of-type {\n        vertical-align: middle;\n    }\n\n    .dataframe tbody tr th {\n        vertical-align: top;\n    }\n\n    .dataframe thead th {\n        text-align: right;\n    }\n</style>\n<table border=\"1\" class=\"dataframe\">\n  <thead>\n    <tr style=\"text-align: right;\">\n      <th></th>\n      <th>supplier</th>\n      <th>days_to_next_visit</th>\n      <th>date</th>\n      <th>year</th>\n      <th>month</th>\n      <th>day_of_month</th>\n      <th>day_of_week</th>\n      <th>week_of_year</th>\n      <th>day_of_year</th>\n    </tr>\n  </thead>\n  <tbody>\n    <tr>\n      <th>2</th>\n      <td>ABA</td>\n      <td>0</td>\n      <td>2023-03-30</td>\n      <td>2023</td>\n      <td>3</td>\n      <td>30</td>\n      <td>3</td>\n      <td>13</td>\n      <td>89</td>\n    </tr>\n    <tr>\n      <th>3</th>\n      <td>ABA</td>\n      <td>1</td>\n      <td>2023-03-29</td>\n      <td>2023</td>\n      <td>3</td>\n      <td>29</td>\n      <td>2</td>\n      <td>13</td>\n      <td>88</td>\n    </tr>\n    <tr>\n      <th>4</th>\n      <td>ABA</td>\n      <td>2</td>\n      <td>2023-03-28</td>\n      <td>2023</td>\n      <td>3</td>\n      <td>28</td>\n      <td>1</td>\n      <td>13</td>\n      <td>87</td>\n    </tr>\n    <tr>\n      <th>5</th>\n      <td>ABA</td>\n      <td>3</td>\n      <td>2023-03-27</td>\n      <td>2023</td>\n      <td>3</td>\n      <td>27</td>\n      <td>0</td>\n      <td>13</td>\n      <td>86</td>\n    </tr>\n    <tr>\n      <th>6</th>\n      <td>ABA</td>\n      <td>0</td>\n      <td>2023-03-25</td>\n      <td>2023</td>\n      <td>3</td>\n      <td>25</td>\n      <td>5</td>\n      <td>12</td>\n      <td>84</td>\n    </tr>\n  </tbody>\n</table>\n</div>"
     },
     "execution_count": 11,
     "metadata": {},
     "output_type": "execute_result"
    }
   ],
   "source": [
    "#add a columns to extract the day of month, month, year, day of week, week of year and day of year\n",
    "def add_date(dataframe):\n",
    "  \"\"\"\n",
    "  Adds columns to extract the date, month, year, day of week, week of year and day of year\n",
    "  Args:\n",
    "    dataframe (dataframe): dataframe containing the dates\n",
    "\n",
    "  Returns:\n",
    "    df (dataframe): dataframe containing the dates with the added columns\n",
    "  \"\"\"\n",
    "  dataframe = dataframe.copy()\n",
    "  dataframe['date'] = pd.to_datetime(dataframe['tanggal'])\n",
    "  dataframe['year'] = dataframe['date'].dt.year\n",
    "  dataframe['month'] = dataframe['date'].dt.month\n",
    "  dataframe['day_of_month'] = dataframe['date'].dt.day\n",
    "  dataframe['day_of_week'] = dataframe['date'].dt.dayofweek\n",
    "  dataframe['week_of_year'] = dataframe['date'].dt.isocalendar().week\n",
    "  dataframe['day_of_year'] = dataframe['date'].dt.dayofyear\n",
    "  return dataframe\n",
    "day_features_extracted = add_date(long_data)\n",
    "day_features_extracted.pop('tanggal')\n",
    "day_features_extracted.head()"
   ],
   "metadata": {
    "id": "rEKwU-F_9Zlv",
    "ExecuteTime": {
     "end_time": "2023-06-14T06:43:16.302902400Z",
     "start_time": "2023-06-14T06:43:16.163496800Z"
    }
   }
  },
  {
   "cell_type": "code",
   "execution_count": 12,
   "outputs": [
    {
     "data": {
      "text/plain": "  supplier  days_to_next_visit    date  year  month  day_of_month  \\\n2      ABA                   0  738609  2023      3            30   \n3      ABA                   1  738608  2023      3            29   \n4      ABA                   2  738607  2023      3            28   \n5      ABA                   3  738606  2023      3            27   \n6      ABA                   0  738604  2023      3            25   \n\n   day_of_week  week_of_year  day_of_year  \n2            3            13           89  \n3            2            13           88  \n4            1            13           87  \n5            0            13           86  \n6            5            12           84  ",
      "text/html": "<div>\n<style scoped>\n    .dataframe tbody tr th:only-of-type {\n        vertical-align: middle;\n    }\n\n    .dataframe tbody tr th {\n        vertical-align: top;\n    }\n\n    .dataframe thead th {\n        text-align: right;\n    }\n</style>\n<table border=\"1\" class=\"dataframe\">\n  <thead>\n    <tr style=\"text-align: right;\">\n      <th></th>\n      <th>supplier</th>\n      <th>days_to_next_visit</th>\n      <th>date</th>\n      <th>year</th>\n      <th>month</th>\n      <th>day_of_month</th>\n      <th>day_of_week</th>\n      <th>week_of_year</th>\n      <th>day_of_year</th>\n    </tr>\n  </thead>\n  <tbody>\n    <tr>\n      <th>2</th>\n      <td>ABA</td>\n      <td>0</td>\n      <td>738609</td>\n      <td>2023</td>\n      <td>3</td>\n      <td>30</td>\n      <td>3</td>\n      <td>13</td>\n      <td>89</td>\n    </tr>\n    <tr>\n      <th>3</th>\n      <td>ABA</td>\n      <td>1</td>\n      <td>738608</td>\n      <td>2023</td>\n      <td>3</td>\n      <td>29</td>\n      <td>2</td>\n      <td>13</td>\n      <td>88</td>\n    </tr>\n    <tr>\n      <th>4</th>\n      <td>ABA</td>\n      <td>2</td>\n      <td>738607</td>\n      <td>2023</td>\n      <td>3</td>\n      <td>28</td>\n      <td>1</td>\n      <td>13</td>\n      <td>87</td>\n    </tr>\n    <tr>\n      <th>5</th>\n      <td>ABA</td>\n      <td>3</td>\n      <td>738606</td>\n      <td>2023</td>\n      <td>3</td>\n      <td>27</td>\n      <td>0</td>\n      <td>13</td>\n      <td>86</td>\n    </tr>\n    <tr>\n      <th>6</th>\n      <td>ABA</td>\n      <td>0</td>\n      <td>738604</td>\n      <td>2023</td>\n      <td>3</td>\n      <td>25</td>\n      <td>5</td>\n      <td>12</td>\n      <td>84</td>\n    </tr>\n  </tbody>\n</table>\n</div>"
     },
     "execution_count": 12,
     "metadata": {},
     "output_type": "execute_result"
    }
   ],
   "source": [
    "#turn date into days since epoch\n",
    "def days_since_epoch(dataframe):\n",
    "  \"\"\"\n",
    "  Turns the date into days since epoch\n",
    "  Args:\n",
    "    dataframe (dataframe): dataframe containing the dates\n",
    "\n",
    "  Returns:\n",
    "    df (dataframe): dataframe containing the dates with the date column converted to days since epoch\n",
    "  \"\"\"\n",
    "  dataframe = dataframe.copy()\n",
    "  dataframe['date'] = pd.to_datetime(dataframe['date'])\n",
    "  dataframe['date'] = dataframe['date'].map(dt.datetime.toordinal)\n",
    "  return dataframe\n",
    "day_features_extracted = days_since_epoch(day_features_extracted)\n",
    "day_features_extracted.head()"
   ],
   "metadata": {
    "collapsed": false,
    "ExecuteTime": {
     "end_time": "2023-06-14T06:43:16.656772800Z",
     "start_time": "2023-06-14T06:43:16.210195100Z"
    }
   }
  },
  {
   "cell_type": "code",
   "execution_count": 13,
   "outputs": [
    {
     "data": {
      "text/plain": "  supplier  days_to_next_visit    date  year     month  day_of_month  \\\n2      ABA                   0  738609  2023 -0.848872     -0.833780   \n3      ABA                   1  738608  2023 -0.848872     -1.411691   \n4      ABA                   2  738607  2023 -0.848872     -0.691700   \n5      ABA                   3  738606  2023 -0.848872      0.664237   \n6      ABA                   0  738604  2023 -0.848872      0.858851   \n\n   day_of_week  week_of_year  day_of_year  \n2    -0.848872      1.327614     1.370246  \n3     0.493151      1.327614     1.034772  \n4     1.381773      1.327614    -0.252068  \n5     1.000000      1.327614    -1.307157  \n6    -0.675262      0.307281     0.053167  ",
      "text/html": "<div>\n<style scoped>\n    .dataframe tbody tr th:only-of-type {\n        vertical-align: middle;\n    }\n\n    .dataframe tbody tr th {\n        vertical-align: top;\n    }\n\n    .dataframe thead th {\n        text-align: right;\n    }\n</style>\n<table border=\"1\" class=\"dataframe\">\n  <thead>\n    <tr style=\"text-align: right;\">\n      <th></th>\n      <th>supplier</th>\n      <th>days_to_next_visit</th>\n      <th>date</th>\n      <th>year</th>\n      <th>month</th>\n      <th>day_of_month</th>\n      <th>day_of_week</th>\n      <th>week_of_year</th>\n      <th>day_of_year</th>\n    </tr>\n  </thead>\n  <tbody>\n    <tr>\n      <th>2</th>\n      <td>ABA</td>\n      <td>0</td>\n      <td>738609</td>\n      <td>2023</td>\n      <td>-0.848872</td>\n      <td>-0.833780</td>\n      <td>-0.848872</td>\n      <td>1.327614</td>\n      <td>1.370246</td>\n    </tr>\n    <tr>\n      <th>3</th>\n      <td>ABA</td>\n      <td>1</td>\n      <td>738608</td>\n      <td>2023</td>\n      <td>-0.848872</td>\n      <td>-1.411691</td>\n      <td>0.493151</td>\n      <td>1.327614</td>\n      <td>1.034772</td>\n    </tr>\n    <tr>\n      <th>4</th>\n      <td>ABA</td>\n      <td>2</td>\n      <td>738607</td>\n      <td>2023</td>\n      <td>-0.848872</td>\n      <td>-0.691700</td>\n      <td>1.381773</td>\n      <td>1.327614</td>\n      <td>-0.252068</td>\n    </tr>\n    <tr>\n      <th>5</th>\n      <td>ABA</td>\n      <td>3</td>\n      <td>738606</td>\n      <td>2023</td>\n      <td>-0.848872</td>\n      <td>0.664237</td>\n      <td>1.000000</td>\n      <td>1.327614</td>\n      <td>-1.307157</td>\n    </tr>\n    <tr>\n      <th>6</th>\n      <td>ABA</td>\n      <td>0</td>\n      <td>738604</td>\n      <td>2023</td>\n      <td>-0.848872</td>\n      <td>0.858851</td>\n      <td>-0.675262</td>\n      <td>0.307281</td>\n      <td>0.053167</td>\n    </tr>\n  </tbody>\n</table>\n</div>"
     },
     "execution_count": 13,
     "metadata": {},
     "output_type": "execute_result"
    }
   ],
   "source": [
    "#cyclically encode the day, month, day of week, week of year and day of year\n",
    "day_columns = ['month', 'day_of_month', 'day_of_week', 'week_of_year', 'day_of_year']\n",
    "\n",
    "cyclic_features = np.array(day_features_extracted[day_columns], dtype=np.float32)\n",
    "cyclic_features = np.sin(cyclic_features) + np.cos(cyclic_features)\n",
    "\n",
    "#replace the columns with the cyclically encoded columns\n",
    "for i, col in enumerate(day_columns):\n",
    "  day_features_extracted[col] = cyclic_features[:, i]\n",
    "\n",
    "day_features_extracted.head()"
   ],
   "metadata": {
    "collapsed": false,
    "ExecuteTime": {
     "end_time": "2023-06-14T06:43:16.756847Z",
     "start_time": "2023-06-14T06:43:16.409608200Z"
    }
   }
  },
  {
   "cell_type": "code",
   "execution_count": 14,
   "outputs": [
    {
     "data": {
      "text/plain": "  supplier    date  year     month  day_of_month  day_of_week  week_of_year  \\\n2      ABA  738609  2023 -0.848872     -0.833780    -0.848872      1.327614   \n3      ABA  738608  2023 -0.848872     -1.411691     0.493151      1.327614   \n4      ABA  738607  2023 -0.848872     -0.691700     1.381773      1.327614   \n5      ABA  738606  2023 -0.848872      0.664237     1.000000      1.327614   \n6      ABA  738604  2023 -0.848872      0.858851    -0.675262      0.307281   \n\n   day_of_year  days_to_next_visit  \n2     1.370246                   0  \n3     1.034772                   1  \n4    -0.252068                   2  \n5    -1.307157                   3  \n6     0.053167                   0  ",
      "text/html": "<div>\n<style scoped>\n    .dataframe tbody tr th:only-of-type {\n        vertical-align: middle;\n    }\n\n    .dataframe tbody tr th {\n        vertical-align: top;\n    }\n\n    .dataframe thead th {\n        text-align: right;\n    }\n</style>\n<table border=\"1\" class=\"dataframe\">\n  <thead>\n    <tr style=\"text-align: right;\">\n      <th></th>\n      <th>supplier</th>\n      <th>date</th>\n      <th>year</th>\n      <th>month</th>\n      <th>day_of_month</th>\n      <th>day_of_week</th>\n      <th>week_of_year</th>\n      <th>day_of_year</th>\n      <th>days_to_next_visit</th>\n    </tr>\n  </thead>\n  <tbody>\n    <tr>\n      <th>2</th>\n      <td>ABA</td>\n      <td>738609</td>\n      <td>2023</td>\n      <td>-0.848872</td>\n      <td>-0.833780</td>\n      <td>-0.848872</td>\n      <td>1.327614</td>\n      <td>1.370246</td>\n      <td>0</td>\n    </tr>\n    <tr>\n      <th>3</th>\n      <td>ABA</td>\n      <td>738608</td>\n      <td>2023</td>\n      <td>-0.848872</td>\n      <td>-1.411691</td>\n      <td>0.493151</td>\n      <td>1.327614</td>\n      <td>1.034772</td>\n      <td>1</td>\n    </tr>\n    <tr>\n      <th>4</th>\n      <td>ABA</td>\n      <td>738607</td>\n      <td>2023</td>\n      <td>-0.848872</td>\n      <td>-0.691700</td>\n      <td>1.381773</td>\n      <td>1.327614</td>\n      <td>-0.252068</td>\n      <td>2</td>\n    </tr>\n    <tr>\n      <th>5</th>\n      <td>ABA</td>\n      <td>738606</td>\n      <td>2023</td>\n      <td>-0.848872</td>\n      <td>0.664237</td>\n      <td>1.000000</td>\n      <td>1.327614</td>\n      <td>-1.307157</td>\n      <td>3</td>\n    </tr>\n    <tr>\n      <th>6</th>\n      <td>ABA</td>\n      <td>738604</td>\n      <td>2023</td>\n      <td>-0.848872</td>\n      <td>0.858851</td>\n      <td>-0.675262</td>\n      <td>0.307281</td>\n      <td>0.053167</td>\n      <td>0</td>\n    </tr>\n  </tbody>\n</table>\n</div>"
     },
     "execution_count": 14,
     "metadata": {},
     "output_type": "execute_result"
    }
   ],
   "source": [
    "#move the days_to_next_visit column to the end\n",
    "def move_days_to_next_visit(dataframe):\n",
    "  \"\"\"\n",
    "  Moves the days_to_next_visit column to the end\n",
    "  Args:\n",
    "    dataframe (dataframe): dataframe containing the dates\n",
    "\n",
    "  Returns:\n",
    "    df (dataframe): dataframe containing the dates with the days_to_next_visit column moved to the end\n",
    "  \"\"\"\n",
    "  dataframe = dataframe.copy()\n",
    "  dataframe['days_to_next_visit'] = dataframe.pop('days_to_next_visit')\n",
    "  return dataframe\n",
    "day_features_extracted = move_days_to_next_visit(day_features_extracted)\n",
    "day_features_extracted.head()"
   ],
   "metadata": {
    "collapsed": false,
    "ExecuteTime": {
     "end_time": "2023-06-14T06:43:16.757843600Z",
     "start_time": "2023-06-14T06:43:16.448292200Z"
    }
   }
  },
  {
   "cell_type": "code",
   "execution_count": 15,
   "outputs": [
    {
     "name": "stderr",
     "output_type": "stream",
     "text": [
      "2023-06-14 06:43:17.596587: I tensorflow/compiler/xla/stream_executor/cuda/cuda_gpu_executor.cc:981] successful NUMA node read from SysFS had negative value (-1), but there must be at least one NUMA node, so returning NUMA node zero\n",
      "2023-06-14 06:43:17.608424: I tensorflow/compiler/xla/stream_executor/cuda/cuda_gpu_executor.cc:981] successful NUMA node read from SysFS had negative value (-1), but there must be at least one NUMA node, so returning NUMA node zero\n",
      "2023-06-14 06:43:17.610121: I tensorflow/compiler/xla/stream_executor/cuda/cuda_gpu_executor.cc:981] successful NUMA node read from SysFS had negative value (-1), but there must be at least one NUMA node, so returning NUMA node zero\n",
      "2023-06-14 06:43:17.612750: I tensorflow/core/platform/cpu_feature_guard.cc:193] This TensorFlow binary is optimized with oneAPI Deep Neural Network Library (oneDNN) to use the following CPU instructions in performance-critical operations:  AVX2 AVX512F FMA\n",
      "To enable them in other operations, rebuild TensorFlow with the appropriate compiler flags.\n",
      "2023-06-14 06:43:17.614396: I tensorflow/compiler/xla/stream_executor/cuda/cuda_gpu_executor.cc:981] successful NUMA node read from SysFS had negative value (-1), but there must be at least one NUMA node, so returning NUMA node zero\n",
      "2023-06-14 06:43:17.616342: I tensorflow/compiler/xla/stream_executor/cuda/cuda_gpu_executor.cc:981] successful NUMA node read from SysFS had negative value (-1), but there must be at least one NUMA node, so returning NUMA node zero\n",
      "2023-06-14 06:43:17.618074: I tensorflow/compiler/xla/stream_executor/cuda/cuda_gpu_executor.cc:981] successful NUMA node read from SysFS had negative value (-1), but there must be at least one NUMA node, so returning NUMA node zero\n",
      "2023-06-14 06:43:18.442228: I tensorflow/compiler/xla/stream_executor/cuda/cuda_gpu_executor.cc:981] successful NUMA node read from SysFS had negative value (-1), but there must be at least one NUMA node, so returning NUMA node zero\n",
      "2023-06-14 06:43:18.444203: I tensorflow/compiler/xla/stream_executor/cuda/cuda_gpu_executor.cc:981] successful NUMA node read from SysFS had negative value (-1), but there must be at least one NUMA node, so returning NUMA node zero\n",
      "2023-06-14 06:43:18.445930: I tensorflow/compiler/xla/stream_executor/cuda/cuda_gpu_executor.cc:981] successful NUMA node read from SysFS had negative value (-1), but there must be at least one NUMA node, so returning NUMA node zero\n",
      "2023-06-14 06:43:18.447577: I tensorflow/core/common_runtime/gpu/gpu_device.cc:1613] Created device /job:localhost/replica:0/task:0/device:GPU:0 with 65 MB memory:  -> device: 0, name: Tesla T4, pci bus id: 0000:00:04.0, compute capability: 7.5\n",
      "2023-06-14 06:43:18.471367: I tensorflow/compiler/xla/stream_executor/cuda/cuda_driver.cc:735] failed to allocate 65.50M (68681728 bytes) from device: CUDA_ERROR_OUT_OF_MEMORY: out of memory\n"
     ]
    },
    {
     "data": {
      "text/plain": "32676"
     },
     "execution_count": 15,
     "metadata": {},
     "output_type": "execute_result"
    }
   ],
   "source": [
    "# turn to dataset\n",
    "string_feature = day_features_extracted['supplier']\n",
    "numeric_feature = day_features_extracted[['date', 'year', 'month', 'day_of_month', 'day_of_week', 'week_of_year', 'day_of_year']].values\n",
    "target = day_features_extracted['days_to_next_visit']\n",
    "dataset = tf.data.Dataset.from_tensor_slices(((string_feature,numeric_feature),target)).shuffle(len(day_features_extracted))\n",
    "\n",
    "len(day_features_extracted)"
   ],
   "metadata": {
    "collapsed": false,
    "ExecuteTime": {
     "end_time": "2023-06-14T06:43:17.389558700Z",
     "start_time": "2023-06-14T06:43:16.449299200Z"
    }
   }
  },
  {
   "cell_type": "code",
   "execution_count": 16,
   "outputs": [],
   "source": [
    "#split the dataset into train and test\n",
    "BATCH_SIZE = 256\n",
    "BUFFER = len(day_features_extracted)\n",
    "\n",
    "train_split = int(BUFFER*0.8)\n",
    "val_split = int(BUFFER*0.1)\n",
    "\n",
    "train_dataset = dataset.take(train_split)\n",
    "test_dataset = dataset.skip(train_split)\n",
    "val_dataset = test_dataset.skip(val_split)\n",
    "test_dataset = test_dataset.take(val_split)\n",
    "\n",
    "train_dataset = train_dataset.shuffle(BUFFER).batch(BATCH_SIZE).prefetch(1)\n",
    "val_dataset = val_dataset.batch(BATCH_SIZE).prefetch(1)\n",
    "test_dataset = test_dataset.batch(BATCH_SIZE).prefetch(1)"
   ],
   "metadata": {
    "collapsed": false,
    "ExecuteTime": {
     "end_time": "2023-06-14T06:43:17.472735500Z",
     "start_time": "2023-06-14T06:43:17.378876600Z"
    }
   }
  },
  {
   "cell_type": "markdown",
   "source": [
    "# Model Architecture"
   ],
   "metadata": {
    "collapsed": false,
    "id": "Fw-ddRqF9Zlw"
   }
  },
  {
   "cell_type": "code",
   "execution_count": 17,
   "outputs": [],
   "source": [
    "#create stringlookup layer\n",
    "def create_string_lookup_layer(dataframe, column_name):\n",
    "  \"\"\"\n",
    "  Creates a string lookup layer\n",
    "  Args:\n",
    "    dataframe (dataframe): dataframe containing the dates\n",
    "    column_name (string): name of the column to be encoded\n",
    "\n",
    "  Returns:\n",
    "    string_lookup (object): an instance of the StringLookup class\n",
    "  \"\"\"\n",
    "  dataframe = dataframe.copy()\n",
    "  string_lookup = tf.keras.layers.StringLookup(vocabulary=dataframe[column_name].unique(), mask_token=None)\n",
    "  return string_lookup\n",
    "\n",
    "vectorizer = create_string_lookup_layer(day_features_extracted, 'supplier')"
   ],
   "metadata": {
    "collapsed": false,
    "ExecuteTime": {
     "end_time": "2023-06-14T06:43:17.472735500Z",
     "start_time": "2023-06-14T06:43:17.421165600Z"
    }
   }
  },
  {
   "cell_type": "code",
   "execution_count": 18,
   "outputs": [],
   "source": [
    "#create a model\n",
    "def create_model(vectorization_layer):\n",
    "    \"\"\"\n",
    "    Creates a model\n",
    "    Args:\n",
    "        vectorization_layer (object): an instance of the StringLookup class\n",
    "\n",
    "    Returns:\n",
    "        model (object): an instance of the Sequential class\n",
    "    \"\"\"\n",
    "    string_input = tf.keras.Input(shape=(1,), dtype=tf.string)\n",
    "    numeric_input = tf.keras.Input(shape=(7,), dtype=tf.float32)\n",
    "\n",
    "    #create an embedding layer for the string input\n",
    "    emb = vectorization_layer(string_input)\n",
    "    emb = tf.keras.layers.Embedding(vectorization_layer.vocabulary_size(), output_dim=10)(emb)\n",
    "    emb = tf.keras.layers.Flatten()(emb)\n",
    "\n",
    "    #concatenate the embedding layer with the numeric input\n",
    "    x = tf.keras.layers.Concatenate()([emb, numeric_input])\n",
    "    x = tf.keras.layers.Dense(64, activation='relu')(x)\n",
    "    x = tf.keras.layers.Dense(32, activation='relu')(x)\n",
    "    #create the output layer\n",
    "    output = tf.keras.layers.Dense(1)(x)\n",
    "\n",
    "    #create the model\n",
    "    model = tf.keras.Model(inputs=[string_input, numeric_input], outputs=output)\n",
    "\n",
    "    return model"
   ],
   "metadata": {
    "collapsed": false,
    "ExecuteTime": {
     "end_time": "2023-06-14T06:43:17.472735500Z",
     "start_time": "2023-06-14T06:43:17.421165600Z"
    }
   }
  },
  {
   "cell_type": "code",
   "execution_count": 19,
   "outputs": [
    {
     "name": "stdout",
     "output_type": "stream",
     "text": [
      "Model: \"model\"\n",
      "__________________________________________________________________________________________________\n",
      " Layer (type)                   Output Shape         Param #     Connected to                     \n",
      "==================================================================================================\n",
      " input_1 (InputLayer)           [(None, 1)]          0           []                               \n",
      "                                                                                                  \n",
      " string_lookup (StringLookup)   (None, 1)            0           ['input_1[0][0]']                \n",
      "                                                                                                  \n",
      " embedding (Embedding)          (None, 1, 10)        1030        ['string_lookup[0][0]']          \n",
      "                                                                                                  \n",
      " flatten (Flatten)              (None, 10)           0           ['embedding[0][0]']              \n",
      "                                                                                                  \n",
      " input_2 (InputLayer)           [(None, 7)]          0           []                               \n",
      "                                                                                                  \n",
      " concatenate (Concatenate)      (None, 17)           0           ['flatten[0][0]',                \n",
      "                                                                  'input_2[0][0]']                \n",
      "                                                                                                  \n",
      " dense (Dense)                  (None, 64)           1152        ['concatenate[0][0]']            \n",
      "                                                                                                  \n",
      " dense_1 (Dense)                (None, 32)           2080        ['dense[0][0]']                  \n",
      "                                                                                                  \n",
      " dense_2 (Dense)                (None, 1)            33          ['dense_1[0][0]']                \n",
      "                                                                                                  \n",
      "==================================================================================================\n",
      "Total params: 4,295\n",
      "Trainable params: 4,295\n",
      "Non-trainable params: 0\n",
      "__________________________________________________________________________________________________\n"
     ]
    }
   ],
   "source": [
    "#create a model\n",
    "model = create_model(vectorizer)\n",
    "model.summary()"
   ],
   "metadata": {
    "collapsed": false,
    "ExecuteTime": {
     "end_time": "2023-06-14T06:43:17.649526400Z",
     "start_time": "2023-06-14T06:43:17.421165600Z"
    }
   }
  },
  {
   "cell_type": "code",
   "execution_count": 20,
   "outputs": [
    {
     "name": "stderr",
     "output_type": "stream",
     "text": [
      "WARNING:absl:`lr` is deprecated, please use `learning_rate` instead, or use the legacy optimizer, e.g.,tf.keras.optimizers.legacy.Adam.\n",
      "2023-06-14 06:43:19.449531: E tensorflow/compiler/xla/stream_executor/cuda/cuda_blas.cc:219] failed to create cublas handle: cublas error\n",
      "2023-06-14 06:43:19.449583: E tensorflow/compiler/xla/stream_executor/cuda/cuda_blas.cc:221] Failure to initialize cublas may be due to OOM (cublas needs some free memory when you initialize it, and your deep-learning framework may have preallocated more than its fair share), or may be because this binary was not built with support for the GPU in your machine.\n",
      "2023-06-14 06:43:19.449604: W tensorflow/core/framework/op_kernel.cc:1830] OP_REQUIRES failed at matmul_op_impl.h:622 : INTERNAL: Attempting to perform BLAS operation using StreamExecutor without BLAS support\n"
     ]
    },
    {
     "ename": "InternalError",
     "evalue": "Graph execution error:\n\nDetected at node 'model/dense/MatMul' defined at (most recent call last):\n    File \"/opt/conda/lib/python3.10/runpy.py\", line 196, in _run_module_as_main\n      return _run_code(code, main_globals, None,\n    File \"/opt/conda/lib/python3.10/runpy.py\", line 86, in _run_code\n      exec(code, run_globals)\n    File \"/opt/conda/lib/python3.10/site-packages/ipykernel_launcher.py\", line 17, in <module>\n      app.launch_new_instance()\n    File \"/opt/conda/lib/python3.10/site-packages/traitlets/config/application.py\", line 1043, in launch_instance\n      app.start()\n    File \"/opt/conda/lib/python3.10/site-packages/ipykernel/kernelapp.py\", line 725, in start\n      self.io_loop.start()\n    File \"/opt/conda/lib/python3.10/site-packages/tornado/platform/asyncio.py\", line 195, in start\n      self.asyncio_loop.run_forever()\n    File \"/opt/conda/lib/python3.10/asyncio/base_events.py\", line 603, in run_forever\n      self._run_once()\n    File \"/opt/conda/lib/python3.10/asyncio/base_events.py\", line 1909, in _run_once\n      handle._run()\n    File \"/opt/conda/lib/python3.10/asyncio/events.py\", line 80, in _run\n      self._context.run(self._callback, *self._args)\n    File \"/opt/conda/lib/python3.10/site-packages/ipykernel/kernelbase.py\", line 513, in dispatch_queue\n      await self.process_one()\n    File \"/opt/conda/lib/python3.10/site-packages/ipykernel/kernelbase.py\", line 502, in process_one\n      await dispatch(*args)\n    File \"/opt/conda/lib/python3.10/site-packages/ipykernel/kernelbase.py\", line 409, in dispatch_shell\n      await result\n    File \"/opt/conda/lib/python3.10/site-packages/ipykernel/kernelbase.py\", line 729, in execute_request\n      reply_content = await reply_content\n    File \"/opt/conda/lib/python3.10/site-packages/ipykernel/ipkernel.py\", line 422, in do_execute\n      res = shell.run_cell(\n    File \"/opt/conda/lib/python3.10/site-packages/ipykernel/zmqshell.py\", line 540, in run_cell\n      return super().run_cell(*args, **kwargs)\n    File \"/opt/conda/lib/python3.10/site-packages/IPython/core/interactiveshell.py\", line 3009, in run_cell\n      result = self._run_cell(\n    File \"/opt/conda/lib/python3.10/site-packages/IPython/core/interactiveshell.py\", line 3064, in _run_cell\n      result = runner(coro)\n    File \"/opt/conda/lib/python3.10/site-packages/IPython/core/async_helpers.py\", line 129, in _pseudo_sync_runner\n      coro.send(None)\n    File \"/opt/conda/lib/python3.10/site-packages/IPython/core/interactiveshell.py\", line 3269, in run_cell_async\n      has_raised = await self.run_ast_nodes(code_ast.body, cell_name,\n    File \"/opt/conda/lib/python3.10/site-packages/IPython/core/interactiveshell.py\", line 3448, in run_ast_nodes\n      if await self.run_code(code, result, async_=asy):\n    File \"/opt/conda/lib/python3.10/site-packages/IPython/core/interactiveshell.py\", line 3508, in run_code\n      exec(code_obj, self.user_global_ns, self.user_ns)\n    File \"/var/tmp/ipykernel_429171/1504393562.py\", line 8, in <module>\n      history = model.fit(train_dataset, epochs=100, callbacks=[lr_schedule], verbose=0)\n    File \"/opt/conda/lib/python3.10/site-packages/keras/utils/traceback_utils.py\", line 65, in error_handler\n      return fn(*args, **kwargs)\n    File \"/opt/conda/lib/python3.10/site-packages/keras/engine/training.py\", line 1650, in fit\n      tmp_logs = self.train_function(iterator)\n    File \"/opt/conda/lib/python3.10/site-packages/keras/engine/training.py\", line 1249, in train_function\n      return step_function(self, iterator)\n    File \"/opt/conda/lib/python3.10/site-packages/keras/engine/training.py\", line 1233, in step_function\n      outputs = model.distribute_strategy.run(run_step, args=(data,))\n    File \"/opt/conda/lib/python3.10/site-packages/keras/engine/training.py\", line 1222, in run_step\n      outputs = model.train_step(data)\n    File \"/opt/conda/lib/python3.10/site-packages/keras/engine/training.py\", line 1023, in train_step\n      y_pred = self(x, training=True)\n    File \"/opt/conda/lib/python3.10/site-packages/keras/utils/traceback_utils.py\", line 65, in error_handler\n      return fn(*args, **kwargs)\n    File \"/opt/conda/lib/python3.10/site-packages/keras/engine/training.py\", line 561, in __call__\n      return super().__call__(*args, **kwargs)\n    File \"/opt/conda/lib/python3.10/site-packages/keras/utils/traceback_utils.py\", line 65, in error_handler\n      return fn(*args, **kwargs)\n    File \"/opt/conda/lib/python3.10/site-packages/keras/engine/base_layer.py\", line 1132, in __call__\n      outputs = call_fn(inputs, *args, **kwargs)\n    File \"/opt/conda/lib/python3.10/site-packages/keras/utils/traceback_utils.py\", line 96, in error_handler\n      return fn(*args, **kwargs)\n    File \"/opt/conda/lib/python3.10/site-packages/keras/engine/functional.py\", line 511, in call\n      return self._run_internal_graph(inputs, training=training, mask=mask)\n    File \"/opt/conda/lib/python3.10/site-packages/keras/engine/functional.py\", line 668, in _run_internal_graph\n      outputs = node.layer(*args, **kwargs)\n    File \"/opt/conda/lib/python3.10/site-packages/keras/utils/traceback_utils.py\", line 65, in error_handler\n      return fn(*args, **kwargs)\n    File \"/opt/conda/lib/python3.10/site-packages/keras/engine/base_layer.py\", line 1132, in __call__\n      outputs = call_fn(inputs, *args, **kwargs)\n    File \"/opt/conda/lib/python3.10/site-packages/keras/utils/traceback_utils.py\", line 96, in error_handler\n      return fn(*args, **kwargs)\n    File \"/opt/conda/lib/python3.10/site-packages/keras/layers/core/dense.py\", line 241, in call\n      outputs = tf.matmul(a=inputs, b=self.kernel)\nNode: 'model/dense/MatMul'\nAttempting to perform BLAS operation using StreamExecutor without BLAS support\n\t [[{{node model/dense/MatMul}}]] [Op:__inference_train_function_1144]",
     "output_type": "error",
     "traceback": [
      "\u001B[0;31m---------------------------------------------------------------------------\u001B[0m",
      "\u001B[0;31mInternalError\u001B[0m                             Traceback (most recent call last)",
      "Cell \u001B[0;32mIn[20], line 8\u001B[0m\n\u001B[1;32m      2\u001B[0m lr_schedule \u001B[38;5;241m=\u001B[39m tf\u001B[38;5;241m.\u001B[39mkeras\u001B[38;5;241m.\u001B[39mcallbacks\u001B[38;5;241m.\u001B[39mLearningRateScheduler(\u001B[38;5;28;01mlambda\u001B[39;00m epoch: \u001B[38;5;241m1e-8\u001B[39m \u001B[38;5;241m*\u001B[39m \u001B[38;5;241m10\u001B[39m\u001B[38;5;241m*\u001B[39m\u001B[38;5;241m*\u001B[39m(epoch \u001B[38;5;241m/\u001B[39m \u001B[38;5;241m20\u001B[39m))\n\u001B[1;32m      4\u001B[0m model\u001B[38;5;241m.\u001B[39mcompile(loss\u001B[38;5;241m=\u001B[39mtf\u001B[38;5;241m.\u001B[39mkeras\u001B[38;5;241m.\u001B[39mlosses\u001B[38;5;241m.\u001B[39mMeanSquaredError(),\n\u001B[1;32m      5\u001B[0m               optimizer\u001B[38;5;241m=\u001B[39mtf\u001B[38;5;241m.\u001B[39mkeras\u001B[38;5;241m.\u001B[39moptimizers\u001B[38;5;241m.\u001B[39mAdam(lr\u001B[38;5;241m=\u001B[39m\u001B[38;5;241m1e-8\u001B[39m),\n\u001B[1;32m      6\u001B[0m               metrics\u001B[38;5;241m=\u001B[39m[\u001B[38;5;124m'\u001B[39m\u001B[38;5;124mmae\u001B[39m\u001B[38;5;124m'\u001B[39m, \u001B[38;5;124m'\u001B[39m\u001B[38;5;124mmse\u001B[39m\u001B[38;5;124m'\u001B[39m])\n\u001B[0;32m----> 8\u001B[0m history \u001B[38;5;241m=\u001B[39m \u001B[43mmodel\u001B[49m\u001B[38;5;241;43m.\u001B[39;49m\u001B[43mfit\u001B[49m\u001B[43m(\u001B[49m\u001B[43mtrain_dataset\u001B[49m\u001B[43m,\u001B[49m\u001B[43m \u001B[49m\u001B[43mepochs\u001B[49m\u001B[38;5;241;43m=\u001B[39;49m\u001B[38;5;241;43m100\u001B[39;49m\u001B[43m,\u001B[49m\u001B[43m \u001B[49m\u001B[43mcallbacks\u001B[49m\u001B[38;5;241;43m=\u001B[39;49m\u001B[43m[\u001B[49m\u001B[43mlr_schedule\u001B[49m\u001B[43m]\u001B[49m\u001B[43m,\u001B[49m\u001B[43m \u001B[49m\u001B[43mverbose\u001B[49m\u001B[38;5;241;43m=\u001B[39;49m\u001B[38;5;241;43m0\u001B[39;49m\u001B[43m)\u001B[49m\n",
      "File \u001B[0;32m/opt/conda/lib/python3.10/site-packages/keras/utils/traceback_utils.py:70\u001B[0m, in \u001B[0;36mfilter_traceback.<locals>.error_handler\u001B[0;34m(*args, **kwargs)\u001B[0m\n\u001B[1;32m     67\u001B[0m     filtered_tb \u001B[38;5;241m=\u001B[39m _process_traceback_frames(e\u001B[38;5;241m.\u001B[39m__traceback__)\n\u001B[1;32m     68\u001B[0m     \u001B[38;5;66;03m# To get the full stack trace, call:\u001B[39;00m\n\u001B[1;32m     69\u001B[0m     \u001B[38;5;66;03m# `tf.debugging.disable_traceback_filtering()`\u001B[39;00m\n\u001B[0;32m---> 70\u001B[0m     \u001B[38;5;28;01mraise\u001B[39;00m e\u001B[38;5;241m.\u001B[39mwith_traceback(filtered_tb) \u001B[38;5;28;01mfrom\u001B[39;00m \u001B[38;5;28;01mNone\u001B[39;00m\n\u001B[1;32m     71\u001B[0m \u001B[38;5;28;01mfinally\u001B[39;00m:\n\u001B[1;32m     72\u001B[0m     \u001B[38;5;28;01mdel\u001B[39;00m filtered_tb\n",
      "File \u001B[0;32m/opt/conda/lib/python3.10/site-packages/tensorflow/python/eager/execute.py:52\u001B[0m, in \u001B[0;36mquick_execute\u001B[0;34m(op_name, num_outputs, inputs, attrs, ctx, name)\u001B[0m\n\u001B[1;32m     50\u001B[0m \u001B[38;5;28;01mtry\u001B[39;00m:\n\u001B[1;32m     51\u001B[0m   ctx\u001B[38;5;241m.\u001B[39mensure_initialized()\n\u001B[0;32m---> 52\u001B[0m   tensors \u001B[38;5;241m=\u001B[39m pywrap_tfe\u001B[38;5;241m.\u001B[39mTFE_Py_Execute(ctx\u001B[38;5;241m.\u001B[39m_handle, device_name, op_name,\n\u001B[1;32m     53\u001B[0m                                       inputs, attrs, num_outputs)\n\u001B[1;32m     54\u001B[0m \u001B[38;5;28;01mexcept\u001B[39;00m core\u001B[38;5;241m.\u001B[39m_NotOkStatusException \u001B[38;5;28;01mas\u001B[39;00m e:\n\u001B[1;32m     55\u001B[0m   \u001B[38;5;28;01mif\u001B[39;00m name \u001B[38;5;129;01mis\u001B[39;00m \u001B[38;5;129;01mnot\u001B[39;00m \u001B[38;5;28;01mNone\u001B[39;00m:\n",
      "\u001B[0;31mInternalError\u001B[0m: Graph execution error:\n\nDetected at node 'model/dense/MatMul' defined at (most recent call last):\n    File \"/opt/conda/lib/python3.10/runpy.py\", line 196, in _run_module_as_main\n      return _run_code(code, main_globals, None,\n    File \"/opt/conda/lib/python3.10/runpy.py\", line 86, in _run_code\n      exec(code, run_globals)\n    File \"/opt/conda/lib/python3.10/site-packages/ipykernel_launcher.py\", line 17, in <module>\n      app.launch_new_instance()\n    File \"/opt/conda/lib/python3.10/site-packages/traitlets/config/application.py\", line 1043, in launch_instance\n      app.start()\n    File \"/opt/conda/lib/python3.10/site-packages/ipykernel/kernelapp.py\", line 725, in start\n      self.io_loop.start()\n    File \"/opt/conda/lib/python3.10/site-packages/tornado/platform/asyncio.py\", line 195, in start\n      self.asyncio_loop.run_forever()\n    File \"/opt/conda/lib/python3.10/asyncio/base_events.py\", line 603, in run_forever\n      self._run_once()\n    File \"/opt/conda/lib/python3.10/asyncio/base_events.py\", line 1909, in _run_once\n      handle._run()\n    File \"/opt/conda/lib/python3.10/asyncio/events.py\", line 80, in _run\n      self._context.run(self._callback, *self._args)\n    File \"/opt/conda/lib/python3.10/site-packages/ipykernel/kernelbase.py\", line 513, in dispatch_queue\n      await self.process_one()\n    File \"/opt/conda/lib/python3.10/site-packages/ipykernel/kernelbase.py\", line 502, in process_one\n      await dispatch(*args)\n    File \"/opt/conda/lib/python3.10/site-packages/ipykernel/kernelbase.py\", line 409, in dispatch_shell\n      await result\n    File \"/opt/conda/lib/python3.10/site-packages/ipykernel/kernelbase.py\", line 729, in execute_request\n      reply_content = await reply_content\n    File \"/opt/conda/lib/python3.10/site-packages/ipykernel/ipkernel.py\", line 422, in do_execute\n      res = shell.run_cell(\n    File \"/opt/conda/lib/python3.10/site-packages/ipykernel/zmqshell.py\", line 540, in run_cell\n      return super().run_cell(*args, **kwargs)\n    File \"/opt/conda/lib/python3.10/site-packages/IPython/core/interactiveshell.py\", line 3009, in run_cell\n      result = self._run_cell(\n    File \"/opt/conda/lib/python3.10/site-packages/IPython/core/interactiveshell.py\", line 3064, in _run_cell\n      result = runner(coro)\n    File \"/opt/conda/lib/python3.10/site-packages/IPython/core/async_helpers.py\", line 129, in _pseudo_sync_runner\n      coro.send(None)\n    File \"/opt/conda/lib/python3.10/site-packages/IPython/core/interactiveshell.py\", line 3269, in run_cell_async\n      has_raised = await self.run_ast_nodes(code_ast.body, cell_name,\n    File \"/opt/conda/lib/python3.10/site-packages/IPython/core/interactiveshell.py\", line 3448, in run_ast_nodes\n      if await self.run_code(code, result, async_=asy):\n    File \"/opt/conda/lib/python3.10/site-packages/IPython/core/interactiveshell.py\", line 3508, in run_code\n      exec(code_obj, self.user_global_ns, self.user_ns)\n    File \"/var/tmp/ipykernel_429171/1504393562.py\", line 8, in <module>\n      history = model.fit(train_dataset, epochs=100, callbacks=[lr_schedule], verbose=0)\n    File \"/opt/conda/lib/python3.10/site-packages/keras/utils/traceback_utils.py\", line 65, in error_handler\n      return fn(*args, **kwargs)\n    File \"/opt/conda/lib/python3.10/site-packages/keras/engine/training.py\", line 1650, in fit\n      tmp_logs = self.train_function(iterator)\n    File \"/opt/conda/lib/python3.10/site-packages/keras/engine/training.py\", line 1249, in train_function\n      return step_function(self, iterator)\n    File \"/opt/conda/lib/python3.10/site-packages/keras/engine/training.py\", line 1233, in step_function\n      outputs = model.distribute_strategy.run(run_step, args=(data,))\n    File \"/opt/conda/lib/python3.10/site-packages/keras/engine/training.py\", line 1222, in run_step\n      outputs = model.train_step(data)\n    File \"/opt/conda/lib/python3.10/site-packages/keras/engine/training.py\", line 1023, in train_step\n      y_pred = self(x, training=True)\n    File \"/opt/conda/lib/python3.10/site-packages/keras/utils/traceback_utils.py\", line 65, in error_handler\n      return fn(*args, **kwargs)\n    File \"/opt/conda/lib/python3.10/site-packages/keras/engine/training.py\", line 561, in __call__\n      return super().__call__(*args, **kwargs)\n    File \"/opt/conda/lib/python3.10/site-packages/keras/utils/traceback_utils.py\", line 65, in error_handler\n      return fn(*args, **kwargs)\n    File \"/opt/conda/lib/python3.10/site-packages/keras/engine/base_layer.py\", line 1132, in __call__\n      outputs = call_fn(inputs, *args, **kwargs)\n    File \"/opt/conda/lib/python3.10/site-packages/keras/utils/traceback_utils.py\", line 96, in error_handler\n      return fn(*args, **kwargs)\n    File \"/opt/conda/lib/python3.10/site-packages/keras/engine/functional.py\", line 511, in call\n      return self._run_internal_graph(inputs, training=training, mask=mask)\n    File \"/opt/conda/lib/python3.10/site-packages/keras/engine/functional.py\", line 668, in _run_internal_graph\n      outputs = node.layer(*args, **kwargs)\n    File \"/opt/conda/lib/python3.10/site-packages/keras/utils/traceback_utils.py\", line 65, in error_handler\n      return fn(*args, **kwargs)\n    File \"/opt/conda/lib/python3.10/site-packages/keras/engine/base_layer.py\", line 1132, in __call__\n      outputs = call_fn(inputs, *args, **kwargs)\n    File \"/opt/conda/lib/python3.10/site-packages/keras/utils/traceback_utils.py\", line 96, in error_handler\n      return fn(*args, **kwargs)\n    File \"/opt/conda/lib/python3.10/site-packages/keras/layers/core/dense.py\", line 241, in call\n      outputs = tf.matmul(a=inputs, b=self.kernel)\nNode: 'model/dense/MatMul'\nAttempting to perform BLAS operation using StreamExecutor without BLAS support\n\t [[{{node model/dense/MatMul}}]] [Op:__inference_train_function_1144]"
     ]
    }
   ],
   "source": [
    "#tune the learning rate\n",
    "lr_schedule = tf.keras.callbacks.LearningRateScheduler(lambda epoch: 1e-8 * 10**(epoch / 20))\n",
    "\n",
    "model.compile(loss=tf.keras.losses.MeanSquaredError(),\n",
    "              optimizer=tf.keras.optimizers.Adam(learning_rate=1e-8),\n",
    "              metrics=['mae', 'mse'])\n",
    "\n",
    "history = model.fit(train_dataset, epochs=100, callbacks=[lr_schedule], verbose=0)\n"
   ],
   "metadata": {
    "collapsed": false,
    "ExecuteTime": {
     "end_time": "2023-06-14T06:43:18.879300900Z",
     "start_time": "2023-06-14T06:43:17.539343Z"
    }
   }
  },
  {
   "cell_type": "markdown",
   "source": [
    "# Analysis"
   ],
   "metadata": {
    "id": "2_6PguF7Kuzf"
   }
  },
  {
   "cell_type": "code",
   "execution_count": null,
   "outputs": [],
   "source": [
    "#plot the loss and accuracy for each learning rate\n",
    "def plot_loss(history):\n",
    "  \"\"\"\n",
    "  Plots the loss and accuracy for each learning rate\n",
    "  Args:\n",
    "    history (object): an instance of the History class\n",
    "\n",
    "  Returns:\n",
    "    None\n",
    "  \"\"\"\n",
    "  plt.plot(history.history['loss'], label='loss')\n",
    "  plt.plot(history.history['val_loss'], label='val_loss')\n",
    "  plt.xlabel('Epoch')\n",
    "  plt.ylabel('Error [MPG]')\n",
    "  plt.ylim([0, 10])\n",
    "  plt.legend()\n",
    "  plt.grid(True)\n",
    "\n",
    "for i in range(len(histories)):\n",
    "    plot_loss(histories[i])\n",
    "    plt.title('Learning Rate: ' + str(learning_rates[i]))\n",
    "    plt.show()\n",
    "\n"
   ],
   "metadata": {
    "ExecuteTime": {
     "end_time": "2023-06-05T03:18:25.679483200Z",
     "start_time": "2023-06-05T03:18:24.747755900Z"
    },
    "id": "5xh3le3c9Zlx"
   }
  },
  {
   "cell_type": "code",
   "execution_count": null,
   "outputs": [],
   "source": [
    "#choose the best learning rate\n",
    "best_learning_rate = 0.001\n",
    "best_model = create_model(best_learning_rate)\n",
    "best_model.fit(train_dataset.batch(1), epochs=100, validation_data=val_dataset.batch(1), verbose=1)\n"
   ],
   "metadata": {
    "ExecuteTime": {
     "end_time": "2023-06-05T03:20:44.504543900Z",
     "start_time": "2023-06-05T03:19:35.477378600Z"
    },
    "id": "SFCWEwrP9Zlx"
   }
  },
  {
   "cell_type": "code",
   "execution_count": null,
   "outputs": [],
   "source": [
    "#plot the loss and accuracy for the best model\n",
    "plot_loss(best_model.history)\n",
    "plt.title('Best Model')\n",
    "plt.show()"
   ],
   "metadata": {
    "ExecuteTime": {
     "end_time": "2023-06-05T03:20:44.700945500Z",
     "start_time": "2023-06-05T03:20:44.511059700Z"
    },
    "id": "1YwYYrrb9Zly"
   }
  },
  {
   "cell_type": "code",
   "execution_count": null,
   "outputs": [],
   "source": [
    "#evaluate the best model on the test dataset\n",
    "loss, accuracy = best_model.evaluate(test_dataset.batch(1), verbose=1)\n",
    "print(\"Accuracy\", accuracy)\n"
   ],
   "metadata": {
    "ExecuteTime": {
     "end_time": "2023-06-05T03:20:53.047780500Z",
     "start_time": "2023-06-05T03:20:52.907042900Z"
    },
    "id": "q6ak7xGm9Zly"
   }
  },
  {
   "cell_type": "code",
   "execution_count": null,
   "outputs": [],
   "source": [
    "#predict the next visit for each supplier\n",
    "def predict_next_visit(dataframe):\n",
    "  \"\"\"\n",
    "  Predicts the next visit for each supplier\n",
    "  Args:\n",
    "    dataframe (dataframe): dataframe containing the dates\n",
    "\n",
    "  Returns:\n",
    "    df (dataframe): dataframe containing the predicted next visit for each supplier\n",
    "  \"\"\"\n",
    "  dataframe = dataframe.copy()\n",
    "  for i in range(1, len(dataframe.columns)):\n",
    "    dataframe.iloc[-1,i] = best_model.predict(dataframe.iloc[-1,0])\n",
    "  return dataframe\n",
    "predicted = predict_next_visit(renamed)\n",
    "predicted\n"
   ],
   "metadata": {
    "ExecuteTime": {
     "end_time": "2023-06-05T03:21:17.504763700Z",
     "start_time": "2023-06-05T03:21:15.593813800Z"
    },
    "id": "ZvP_zCNT9Zlz"
   }
  },
  {
   "cell_type": "code",
   "execution_count": null,
   "outputs": [],
   "source": [],
   "metadata": {
    "id": "1NGin3__9Zlz"
   }
  }
 ]
}
