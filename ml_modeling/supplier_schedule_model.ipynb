{
 "nbformat": 4,
 "nbformat_minor": 0,
 "metadata": {
  "colab": {
   "provenance": [
    {
     "file_id": "18_WXz7ac6EQsRs05TyZz3aFA4OCAKKpu",
     "timestamp": 1685810472026
    }
   ],
   "mount_file_id": "1mboE-nPCye91mYkTkbvbbfrVRNYJhB1l",
   "authorship_tag": "ABX9TyPGD3RVprNkZ3rie5ko5HPI"
  },
  "kernelspec": {
   "name": "capstone_wawasan",
   "language": "python",
   "display_name": "capstone_wawasan"
  },
  "language_info": {
   "name": "python"
  }
 },
 "cells": [
  {
   "cell_type": "markdown",
   "source": [
    "# Introduction\n",
    "This is a notebook using machine learning to output the schedule of suppliers.\n",
    "First import the data in the form of a csv file. The input of the model will be a date and the output will be a list of days corresponding to the schedule of the suppliers and when they will arrive next."
   ],
   "metadata": {
    "id": "tRUuzt7aKWSV"
   }
  },
  {
   "cell_type": "markdown",
   "source": [
    "# Imports"
   ],
   "metadata": {
    "id": "8bxo4TufKhGv"
   }
  },
  {
   "cell_type": "code",
   "source": [
    "import pandas as pd\n",
    "import tensorflow as tf\n",
    "from tensorflow.keras.preprocessing.text import Tokenizer\n",
    "import numpy as np\n",
    "import datetime"
   ],
   "metadata": {
    "id": "WmUC3rAWK2oY",
    "executionInfo": {
     "status": "ok",
     "timestamp": 1685897003285,
     "user_tz": -420,
     "elapsed": 4451,
     "user": {
      "displayName": "Muhammad Arief",
      "userId": "01585842397766244027"
     }
    },
    "ExecuteTime": {
     "end_time": "2023-06-04T20:29:38.483279900Z",
     "start_time": "2023-06-04T20:29:32.512328500Z"
    }
   },
   "execution_count": 1,
   "outputs": []
  },
  {
   "cell_type": "markdown",
   "source": [
    "# Load Dataset"
   ],
   "metadata": {
    "id": "8pGoEnoHKjxP"
   }
  },
  {
   "cell_type": "code",
   "source": [
    "filepath = 'supplier_schedule.csv'#supplier schedule on local drive\n",
    "#filepath = '/content/drive/MyDrive/Documents/uni_work/Bangkit2023/capstone/supplier_schedule.csv'\n",
    "df = pd.read_csv(filepath, dtype = {'supplier':str,'tanggal':str})\n",
    "df['supplier'] = df['supplier'].str.replace(' ','')\n"
   ],
   "metadata": {
    "id": "P6VvZzoWLhFS",
    "executionInfo": {
     "status": "ok",
     "timestamp": 1685897003893,
     "user_tz": -420,
     "elapsed": 612,
     "user": {
      "displayName": "Muhammad Arief",
      "userId": "01585842397766244027"
     }
    },
    "ExecuteTime": {
     "end_time": "2023-06-04T20:29:38.501264600Z",
     "start_time": "2023-06-04T20:29:38.488253700Z"
    }
   },
   "execution_count": 2,
   "outputs": []
  },
  {
   "cell_type": "markdown",
   "source": [
    "\n",
    "# Data Transformation"
   ],
   "metadata": {
    "id": "1nXJDI2NKlzt"
   }
  },
  {
   "cell_type": "markdown",
   "source": [
    "Transform the code of suppliers into their tokenized forms using the tokenizer."
   ],
   "metadata": {
    "id": "BH9V6V7GOxti"
   }
  },
  {
   "cell_type": "code",
   "source": [
    "def supplier_tokenizer(supplier):\n",
    "  \"\"\"\n",
    "  Instantiates the tokenizer for the supplier kodes\n",
    "  Args:\n",
    "    supplier (list): upper case list of supplier codes\n",
    "  \n",
    "  Returns:\n",
    "    tokenizer (object): an instance of the Tokenizer class containing the dict\n",
    "  \"\"\"\n",
    "\n",
    "  tokenizer = Tokenizer()\n",
    "  tokenizer.fit_on_texts(supplier)\n",
    "\n",
    "  index = tokenizer.word_index\n",
    "  sequence = tokenizer.texts_to_sequences(supplier)\n",
    "\n",
    "  return index, sequence\n",
    "\n",
    "supplier_index, supplier_sequence = supplier_tokenizer(df['supplier'])\n",
    "\n",
    "print(supplier_index)\n",
    "\n",
    "\n",
    "\n"
   ],
   "metadata": {
    "colab": {
     "base_uri": "https://localhost:8080/"
    },
    "id": "LBd_7IR5NMRZ",
    "executionInfo": {
     "status": "ok",
     "timestamp": 1685897003894,
     "user_tz": -420,
     "elapsed": 7,
     "user": {
      "displayName": "Muhammad Arief",
      "userId": "01585842397766244027"
     }
    },
    "outputId": "f89562da-ec9d-4877-ee8d-a035545269c9",
    "ExecuteTime": {
     "end_time": "2023-06-04T20:29:38.591147400Z",
     "start_time": "2023-06-04T20:29:38.538288600Z"
    }
   },
   "execution_count": 3,
   "outputs": [
    {
     "name": "stdout",
     "output_type": "stream",
     "text": [
      "{'mount': 1, 'inn': 2, 'sm': 3, 'kbj': 4, 'vg': 5, 'nv': 6, 'retur': 7, 'cd': 8, 'fajar': 9, 'aba': 10, 'ajw': 11, 'sk': 12, 'mara': 13, 'kampas': 14, 'okhl': 15, 'gmp': 16, 'asih': 17, 'kr': 18, 'adr': 19, 'cola': 20, 'yip': 21, 'ngetop': 22, 'pr': 23, 'mitra': 24, 'sampoerna': 25, 'cr': 26, 'uti': 27, 'bm': 28, 'enseval': 29, 'elsie': 30, 'umj': 31, 'suryam': 32, 'ds': 33, 'makdah': 34, 'ub': 35, 'esse': 36, 'dbt': 37, 'pp': 38, 'tuah': 39, 'bhk': 40, 'yusra': 41, 'wt': 42, 'tempo': 43, 'ina': 44, 'pt': 45, 'iap': 46, 'eb': 47, 'bukwati': 48, 'jakarta': 49, 'db': 50, 'tiara': 51, 'dba': 52, 'mja': 53, 'lina': 54, 'utj': 55, 'permata': 56, 'mas': 57, 'ppl': 58, 'sb': 59, 'herman': 60, 'sjma': 61, 'pgi': 62, 'ys': 63, 'jailolo': 64, 'bcrs': 65, 'aps': 66, 'lg': 67, 'elka': 68, 'bml': 69, 'mbs': 70, 'ida': 71, 'elyana': 72, 'bsp': 73, 'mutiara': 74, 'srb': 75, 'fd': 76, 'iub': 77, 'abs': 78, 'sab': 79, 'heri': 80, 'abd': 81, 'ip': 82, 'woi': 83, 'bsm': 84, 'scm': 85, 'rahmat': 86, 'kgak': 87, 'albacar': 88, 'arta': 89, 'sjs': 90, 'gb': 91, 'sa': 92, 'gjp': 93, 'jb': 94, 'nirmala': 95, 'mnj': 96, 'kka': 97, 'cmpg': 98, 'sma': 99, 'susi': 100, 'asniahk': 101, 'gpd': 102, 'bunda': 103, 'dma': 104, 'ai': 105, 'ms': 106, 'asi': 107, 'apl': 108, 'pmm': 109, 'awm': 110, 'haj': 111, 'tg': 112, 'ani': 113, 'surya': 114, 'fwi': 115, 'ag': 116, 'aqilla': 117, 'ajsb': 118, 'kk': 119, 'lamlo': 120, 'rr': 121, 'kkl': 122, 'alfa': 123, 'anis': 124, 'sba': 125, 'ap': 126, 'dbbp': 127, 'elbiruni': 128, 'kga': 129, 'fortuna': 130, 'hilal': 131, 'erna': 132, 'gerai': 133, 'maju': 134, 'ba': 135, 'nurul': 136, 'mws': 137, 'kakria': 138, 'mapr': 139, 'kobe': 140, 'jsnack': 141, 'zulfaini': 142, 'mc': 143, 'abk': 144, 'mp': 145, 'mn': 146, 'cado': 147, 'bmc': 148, 'jra': 149, 'ngt': 150, 'bentol': 151, 'ck': 152, 'hasanah': 153, 'rani': 154, 'salfix': 155, 'ila': 156, 'nna': 157, 'mjpp': 158, 'fikri': 159, 'mulia': 160, 'pap': 161, 'sc': 162, 'maya': 163, 'mh': 164, 'sultan': 165, 'afdhal': 166, 'maryam': 167, 'ecn': 168, 'sdi': 169, 'lm': 170, 'razaq': 171, 'pas': 172, 'seranting': 173, 'ga': 174, 'samsul': 175, 'ns': 176, 'ab': 177, 'ayu': 178, 'taufiqah': 179, 'js': 180, 'urb': 181, 'berkah': 182, 'arb': 183, 'kbs': 184, 'klinik': 185, 'tangse': 186, 'yeni': 187, 'tarmizi': 188, 'sinar': 189, 'dp': 190, 'ig': 191, 'fja': 192, 'gbk': 193, 'jay': 194, 'zaimar': 195, 'ajl': 196, 'rahma': 197, 'msj': 198, 'ica': 199}\n"
     ]
    }
   ]
  },
  {
   "cell_type": "code",
   "execution_count": 4,
   "outputs": [
    {
     "data": {
      "text/plain": "        tanggal  1  2  3  4  5  6  7  8  9  ...  190  191  192  193  194  195  \\\n0    2022-01-03  0  1  0  1  1  0  0  0  0  ...    0    0    0    0    0    0   \n1    2022-01-04  0  0  1  0  0  1  0  1  1  ...    0    0    0    0    0    0   \n2    2022-01-05  0  1  1  0  1  0  0  0  0  ...    0    0    0    0    0    0   \n3    2022-01-06  0  0  1  1  0  1  0  0  0  ...    0    0    0    0    0    0   \n4    2022-01-07  0  0  0  0  0  0  0  0  0  ...    0    0    0    0    0    0   \n..          ... .. .. .. .. .. .. .. .. ..  ...  ...  ...  ...  ...  ...  ...   \n385  2023-03-28  0  0  1  1  1  0  0  0  1  ...    0    0    0    0    0    0   \n386  2023-03-29  0  1  1  0  1  0  0  0  0  ...    0    0    0    0    0    0   \n387  2023-03-30  0  0  0  1  0  0  0  0  0  ...    0    0    0    0    0    0   \n388  2023-03-31  0  0  0  0  0  0  0  0  0  ...    0    0    0    0    0    0   \n389  2023-04-01  0  1  1  0  0  1  0  0  1  ...    0    0    0    0    0    0   \n\n     196  197  198  199  \n0      0    0    0    0  \n1      0    0    0    0  \n2      0    0    0    0  \n3      0    0    0    0  \n4      0    0    0    0  \n..   ...  ...  ...  ...  \n385    0    0    0    0  \n386    0    0    0    0  \n387    0    0    0    0  \n388    0    0    0    0  \n389    0    0    0    0  \n\n[390 rows x 200 columns]",
      "text/html": "<div>\n<style scoped>\n    .dataframe tbody tr th:only-of-type {\n        vertical-align: middle;\n    }\n\n    .dataframe tbody tr th {\n        vertical-align: top;\n    }\n\n    .dataframe thead th {\n        text-align: right;\n    }\n</style>\n<table border=\"1\" class=\"dataframe\">\n  <thead>\n    <tr style=\"text-align: right;\">\n      <th></th>\n      <th>tanggal</th>\n      <th>1</th>\n      <th>2</th>\n      <th>3</th>\n      <th>4</th>\n      <th>5</th>\n      <th>6</th>\n      <th>7</th>\n      <th>8</th>\n      <th>9</th>\n      <th>...</th>\n      <th>190</th>\n      <th>191</th>\n      <th>192</th>\n      <th>193</th>\n      <th>194</th>\n      <th>195</th>\n      <th>196</th>\n      <th>197</th>\n      <th>198</th>\n      <th>199</th>\n    </tr>\n  </thead>\n  <tbody>\n    <tr>\n      <th>0</th>\n      <td>2022-01-03</td>\n      <td>0</td>\n      <td>1</td>\n      <td>0</td>\n      <td>1</td>\n      <td>1</td>\n      <td>0</td>\n      <td>0</td>\n      <td>0</td>\n      <td>0</td>\n      <td>...</td>\n      <td>0</td>\n      <td>0</td>\n      <td>0</td>\n      <td>0</td>\n      <td>0</td>\n      <td>0</td>\n      <td>0</td>\n      <td>0</td>\n      <td>0</td>\n      <td>0</td>\n    </tr>\n    <tr>\n      <th>1</th>\n      <td>2022-01-04</td>\n      <td>0</td>\n      <td>0</td>\n      <td>1</td>\n      <td>0</td>\n      <td>0</td>\n      <td>1</td>\n      <td>0</td>\n      <td>1</td>\n      <td>1</td>\n      <td>...</td>\n      <td>0</td>\n      <td>0</td>\n      <td>0</td>\n      <td>0</td>\n      <td>0</td>\n      <td>0</td>\n      <td>0</td>\n      <td>0</td>\n      <td>0</td>\n      <td>0</td>\n    </tr>\n    <tr>\n      <th>2</th>\n      <td>2022-01-05</td>\n      <td>0</td>\n      <td>1</td>\n      <td>1</td>\n      <td>0</td>\n      <td>1</td>\n      <td>0</td>\n      <td>0</td>\n      <td>0</td>\n      <td>0</td>\n      <td>...</td>\n      <td>0</td>\n      <td>0</td>\n      <td>0</td>\n      <td>0</td>\n      <td>0</td>\n      <td>0</td>\n      <td>0</td>\n      <td>0</td>\n      <td>0</td>\n      <td>0</td>\n    </tr>\n    <tr>\n      <th>3</th>\n      <td>2022-01-06</td>\n      <td>0</td>\n      <td>0</td>\n      <td>1</td>\n      <td>1</td>\n      <td>0</td>\n      <td>1</td>\n      <td>0</td>\n      <td>0</td>\n      <td>0</td>\n      <td>...</td>\n      <td>0</td>\n      <td>0</td>\n      <td>0</td>\n      <td>0</td>\n      <td>0</td>\n      <td>0</td>\n      <td>0</td>\n      <td>0</td>\n      <td>0</td>\n      <td>0</td>\n    </tr>\n    <tr>\n      <th>4</th>\n      <td>2022-01-07</td>\n      <td>0</td>\n      <td>0</td>\n      <td>0</td>\n      <td>0</td>\n      <td>0</td>\n      <td>0</td>\n      <td>0</td>\n      <td>0</td>\n      <td>0</td>\n      <td>...</td>\n      <td>0</td>\n      <td>0</td>\n      <td>0</td>\n      <td>0</td>\n      <td>0</td>\n      <td>0</td>\n      <td>0</td>\n      <td>0</td>\n      <td>0</td>\n      <td>0</td>\n    </tr>\n    <tr>\n      <th>...</th>\n      <td>...</td>\n      <td>...</td>\n      <td>...</td>\n      <td>...</td>\n      <td>...</td>\n      <td>...</td>\n      <td>...</td>\n      <td>...</td>\n      <td>...</td>\n      <td>...</td>\n      <td>...</td>\n      <td>...</td>\n      <td>...</td>\n      <td>...</td>\n      <td>...</td>\n      <td>...</td>\n      <td>...</td>\n      <td>...</td>\n      <td>...</td>\n      <td>...</td>\n      <td>...</td>\n    </tr>\n    <tr>\n      <th>385</th>\n      <td>2023-03-28</td>\n      <td>0</td>\n      <td>0</td>\n      <td>1</td>\n      <td>1</td>\n      <td>1</td>\n      <td>0</td>\n      <td>0</td>\n      <td>0</td>\n      <td>1</td>\n      <td>...</td>\n      <td>0</td>\n      <td>0</td>\n      <td>0</td>\n      <td>0</td>\n      <td>0</td>\n      <td>0</td>\n      <td>0</td>\n      <td>0</td>\n      <td>0</td>\n      <td>0</td>\n    </tr>\n    <tr>\n      <th>386</th>\n      <td>2023-03-29</td>\n      <td>0</td>\n      <td>1</td>\n      <td>1</td>\n      <td>0</td>\n      <td>1</td>\n      <td>0</td>\n      <td>0</td>\n      <td>0</td>\n      <td>0</td>\n      <td>...</td>\n      <td>0</td>\n      <td>0</td>\n      <td>0</td>\n      <td>0</td>\n      <td>0</td>\n      <td>0</td>\n      <td>0</td>\n      <td>0</td>\n      <td>0</td>\n      <td>0</td>\n    </tr>\n    <tr>\n      <th>387</th>\n      <td>2023-03-30</td>\n      <td>0</td>\n      <td>0</td>\n      <td>0</td>\n      <td>1</td>\n      <td>0</td>\n      <td>0</td>\n      <td>0</td>\n      <td>0</td>\n      <td>0</td>\n      <td>...</td>\n      <td>0</td>\n      <td>0</td>\n      <td>0</td>\n      <td>0</td>\n      <td>0</td>\n      <td>0</td>\n      <td>0</td>\n      <td>0</td>\n      <td>0</td>\n      <td>0</td>\n    </tr>\n    <tr>\n      <th>388</th>\n      <td>2023-03-31</td>\n      <td>0</td>\n      <td>0</td>\n      <td>0</td>\n      <td>0</td>\n      <td>0</td>\n      <td>0</td>\n      <td>0</td>\n      <td>0</td>\n      <td>0</td>\n      <td>...</td>\n      <td>0</td>\n      <td>0</td>\n      <td>0</td>\n      <td>0</td>\n      <td>0</td>\n      <td>0</td>\n      <td>0</td>\n      <td>0</td>\n      <td>0</td>\n      <td>0</td>\n    </tr>\n    <tr>\n      <th>389</th>\n      <td>2023-04-01</td>\n      <td>0</td>\n      <td>1</td>\n      <td>1</td>\n      <td>0</td>\n      <td>0</td>\n      <td>1</td>\n      <td>0</td>\n      <td>0</td>\n      <td>1</td>\n      <td>...</td>\n      <td>0</td>\n      <td>0</td>\n      <td>0</td>\n      <td>0</td>\n      <td>0</td>\n      <td>0</td>\n      <td>0</td>\n      <td>0</td>\n      <td>0</td>\n      <td>0</td>\n    </tr>\n  </tbody>\n</table>\n<p>390 rows × 200 columns</p>\n</div>"
     },
     "execution_count": 4,
     "metadata": {},
     "output_type": "execute_result"
    }
   ],
   "source": [
    "#multi_hot encode the suppliers based of the date and if they visited on that date or not\n",
    "df['supplier'] = np.array([i[0] for i in supplier_sequence],dtype = np.int64)\n",
    "\n",
    "multi_hot = pd.get_dummies(df, columns = ['supplier'],prefix = '', prefix_sep = '')\n",
    "multi_hot = multi_hot.groupby('tanggal').sum()\n",
    "multi_hot['1'] = [0 for i in range(len(multi_hot['2']))]\n",
    "multi_hot.insert(0,'1',multi_hot.pop('1'))\n",
    "multi_hot = multi_hot.reset_index()\n",
    "multi_hot"
   ],
   "metadata": {
    "collapsed": false,
    "ExecuteTime": {
     "end_time": "2023-06-04T20:29:38.709139200Z",
     "start_time": "2023-06-04T20:29:38.599136700Z"
    }
   }
  },
  {
   "cell_type": "code",
   "source": [
    "#convert date to epoch\n",
    "epoch = pd.to_datetime(multi_hot['tanggal'], format = \"%Y-%m-%d\")\n",
    "epoch = (epoch - datetime.datetime(1970,1,1))\n",
    "epoch = epoch.map(lambda x: x.total_seconds())\n",
    "multi_hot['tanggal'] = epoch\n",
    "multi_hot\n"
   ],
   "metadata": {
    "id": "Ixl5vte4wBGH",
    "executionInfo": {
     "status": "ok",
     "timestamp": 1685897063892,
     "user_tz": -420,
     "elapsed": 3,
     "user": {
      "displayName": "Muhammad Arief",
      "userId": "01585842397766244027"
     }
    },
    "ExecuteTime": {
     "end_time": "2023-06-04T20:29:38.779600300Z",
     "start_time": "2023-06-04T20:29:38.676567500Z"
    }
   },
   "execution_count": 5,
   "outputs": [
    {
     "data": {
      "text/plain": "          tanggal  1  2  3  4  5  6  7  8  9  ...  190  191  192  193  194  \\\n0    1.641168e+09  0  1  0  1  1  0  0  0  0  ...    0    0    0    0    0   \n1    1.641254e+09  0  0  1  0  0  1  0  1  1  ...    0    0    0    0    0   \n2    1.641341e+09  0  1  1  0  1  0  0  0  0  ...    0    0    0    0    0   \n3    1.641427e+09  0  0  1  1  0  1  0  0  0  ...    0    0    0    0    0   \n4    1.641514e+09  0  0  0  0  0  0  0  0  0  ...    0    0    0    0    0   \n..            ... .. .. .. .. .. .. .. .. ..  ...  ...  ...  ...  ...  ...   \n385  1.679962e+09  0  0  1  1  1  0  0  0  1  ...    0    0    0    0    0   \n386  1.680048e+09  0  1  1  0  1  0  0  0  0  ...    0    0    0    0    0   \n387  1.680134e+09  0  0  0  1  0  0  0  0  0  ...    0    0    0    0    0   \n388  1.680221e+09  0  0  0  0  0  0  0  0  0  ...    0    0    0    0    0   \n389  1.680307e+09  0  1  1  0  0  1  0  0  1  ...    0    0    0    0    0   \n\n     195  196  197  198  199  \n0      0    0    0    0    0  \n1      0    0    0    0    0  \n2      0    0    0    0    0  \n3      0    0    0    0    0  \n4      0    0    0    0    0  \n..   ...  ...  ...  ...  ...  \n385    0    0    0    0    0  \n386    0    0    0    0    0  \n387    0    0    0    0    0  \n388    0    0    0    0    0  \n389    0    0    0    0    0  \n\n[390 rows x 200 columns]",
      "text/html": "<div>\n<style scoped>\n    .dataframe tbody tr th:only-of-type {\n        vertical-align: middle;\n    }\n\n    .dataframe tbody tr th {\n        vertical-align: top;\n    }\n\n    .dataframe thead th {\n        text-align: right;\n    }\n</style>\n<table border=\"1\" class=\"dataframe\">\n  <thead>\n    <tr style=\"text-align: right;\">\n      <th></th>\n      <th>tanggal</th>\n      <th>1</th>\n      <th>2</th>\n      <th>3</th>\n      <th>4</th>\n      <th>5</th>\n      <th>6</th>\n      <th>7</th>\n      <th>8</th>\n      <th>9</th>\n      <th>...</th>\n      <th>190</th>\n      <th>191</th>\n      <th>192</th>\n      <th>193</th>\n      <th>194</th>\n      <th>195</th>\n      <th>196</th>\n      <th>197</th>\n      <th>198</th>\n      <th>199</th>\n    </tr>\n  </thead>\n  <tbody>\n    <tr>\n      <th>0</th>\n      <td>1.641168e+09</td>\n      <td>0</td>\n      <td>1</td>\n      <td>0</td>\n      <td>1</td>\n      <td>1</td>\n      <td>0</td>\n      <td>0</td>\n      <td>0</td>\n      <td>0</td>\n      <td>...</td>\n      <td>0</td>\n      <td>0</td>\n      <td>0</td>\n      <td>0</td>\n      <td>0</td>\n      <td>0</td>\n      <td>0</td>\n      <td>0</td>\n      <td>0</td>\n      <td>0</td>\n    </tr>\n    <tr>\n      <th>1</th>\n      <td>1.641254e+09</td>\n      <td>0</td>\n      <td>0</td>\n      <td>1</td>\n      <td>0</td>\n      <td>0</td>\n      <td>1</td>\n      <td>0</td>\n      <td>1</td>\n      <td>1</td>\n      <td>...</td>\n      <td>0</td>\n      <td>0</td>\n      <td>0</td>\n      <td>0</td>\n      <td>0</td>\n      <td>0</td>\n      <td>0</td>\n      <td>0</td>\n      <td>0</td>\n      <td>0</td>\n    </tr>\n    <tr>\n      <th>2</th>\n      <td>1.641341e+09</td>\n      <td>0</td>\n      <td>1</td>\n      <td>1</td>\n      <td>0</td>\n      <td>1</td>\n      <td>0</td>\n      <td>0</td>\n      <td>0</td>\n      <td>0</td>\n      <td>...</td>\n      <td>0</td>\n      <td>0</td>\n      <td>0</td>\n      <td>0</td>\n      <td>0</td>\n      <td>0</td>\n      <td>0</td>\n      <td>0</td>\n      <td>0</td>\n      <td>0</td>\n    </tr>\n    <tr>\n      <th>3</th>\n      <td>1.641427e+09</td>\n      <td>0</td>\n      <td>0</td>\n      <td>1</td>\n      <td>1</td>\n      <td>0</td>\n      <td>1</td>\n      <td>0</td>\n      <td>0</td>\n      <td>0</td>\n      <td>...</td>\n      <td>0</td>\n      <td>0</td>\n      <td>0</td>\n      <td>0</td>\n      <td>0</td>\n      <td>0</td>\n      <td>0</td>\n      <td>0</td>\n      <td>0</td>\n      <td>0</td>\n    </tr>\n    <tr>\n      <th>4</th>\n      <td>1.641514e+09</td>\n      <td>0</td>\n      <td>0</td>\n      <td>0</td>\n      <td>0</td>\n      <td>0</td>\n      <td>0</td>\n      <td>0</td>\n      <td>0</td>\n      <td>0</td>\n      <td>...</td>\n      <td>0</td>\n      <td>0</td>\n      <td>0</td>\n      <td>0</td>\n      <td>0</td>\n      <td>0</td>\n      <td>0</td>\n      <td>0</td>\n      <td>0</td>\n      <td>0</td>\n    </tr>\n    <tr>\n      <th>...</th>\n      <td>...</td>\n      <td>...</td>\n      <td>...</td>\n      <td>...</td>\n      <td>...</td>\n      <td>...</td>\n      <td>...</td>\n      <td>...</td>\n      <td>...</td>\n      <td>...</td>\n      <td>...</td>\n      <td>...</td>\n      <td>...</td>\n      <td>...</td>\n      <td>...</td>\n      <td>...</td>\n      <td>...</td>\n      <td>...</td>\n      <td>...</td>\n      <td>...</td>\n      <td>...</td>\n    </tr>\n    <tr>\n      <th>385</th>\n      <td>1.679962e+09</td>\n      <td>0</td>\n      <td>0</td>\n      <td>1</td>\n      <td>1</td>\n      <td>1</td>\n      <td>0</td>\n      <td>0</td>\n      <td>0</td>\n      <td>1</td>\n      <td>...</td>\n      <td>0</td>\n      <td>0</td>\n      <td>0</td>\n      <td>0</td>\n      <td>0</td>\n      <td>0</td>\n      <td>0</td>\n      <td>0</td>\n      <td>0</td>\n      <td>0</td>\n    </tr>\n    <tr>\n      <th>386</th>\n      <td>1.680048e+09</td>\n      <td>0</td>\n      <td>1</td>\n      <td>1</td>\n      <td>0</td>\n      <td>1</td>\n      <td>0</td>\n      <td>0</td>\n      <td>0</td>\n      <td>0</td>\n      <td>...</td>\n      <td>0</td>\n      <td>0</td>\n      <td>0</td>\n      <td>0</td>\n      <td>0</td>\n      <td>0</td>\n      <td>0</td>\n      <td>0</td>\n      <td>0</td>\n      <td>0</td>\n    </tr>\n    <tr>\n      <th>387</th>\n      <td>1.680134e+09</td>\n      <td>0</td>\n      <td>0</td>\n      <td>0</td>\n      <td>1</td>\n      <td>0</td>\n      <td>0</td>\n      <td>0</td>\n      <td>0</td>\n      <td>0</td>\n      <td>...</td>\n      <td>0</td>\n      <td>0</td>\n      <td>0</td>\n      <td>0</td>\n      <td>0</td>\n      <td>0</td>\n      <td>0</td>\n      <td>0</td>\n      <td>0</td>\n      <td>0</td>\n    </tr>\n    <tr>\n      <th>388</th>\n      <td>1.680221e+09</td>\n      <td>0</td>\n      <td>0</td>\n      <td>0</td>\n      <td>0</td>\n      <td>0</td>\n      <td>0</td>\n      <td>0</td>\n      <td>0</td>\n      <td>0</td>\n      <td>...</td>\n      <td>0</td>\n      <td>0</td>\n      <td>0</td>\n      <td>0</td>\n      <td>0</td>\n      <td>0</td>\n      <td>0</td>\n      <td>0</td>\n      <td>0</td>\n      <td>0</td>\n    </tr>\n    <tr>\n      <th>389</th>\n      <td>1.680307e+09</td>\n      <td>0</td>\n      <td>1</td>\n      <td>1</td>\n      <td>0</td>\n      <td>0</td>\n      <td>1</td>\n      <td>0</td>\n      <td>0</td>\n      <td>1</td>\n      <td>...</td>\n      <td>0</td>\n      <td>0</td>\n      <td>0</td>\n      <td>0</td>\n      <td>0</td>\n      <td>0</td>\n      <td>0</td>\n      <td>0</td>\n      <td>0</td>\n      <td>0</td>\n    </tr>\n  </tbody>\n</table>\n<p>390 rows × 200 columns</p>\n</div>"
     },
     "execution_count": 5,
     "metadata": {},
     "output_type": "execute_result"
    }
   ]
  },
  {
   "cell_type": "code",
   "source": [
    "#sort from multi_hot date\n",
    "multi_hot = multi_hot.sort_values('tanggal')#, ascending= False)\n",
    "multi_hot = multi_hot.reset_index()\n",
    "multi_hot.pop('index')\n",
    "multi_hot"
   ],
   "metadata": {
    "colab": {
     "base_uri": "https://localhost:8080/",
     "height": 424
    },
    "id": "lPBOAdjvQuFT",
    "executionInfo": {
     "status": "ok",
     "timestamp": 1685897066575,
     "user_tz": -420,
     "elapsed": 351,
     "user": {
      "displayName": "Muhammad Arief",
      "userId": "01585842397766244027"
     }
    },
    "outputId": "9039fb34-5f24-4c0c-81eb-98e1a8f3f392",
    "ExecuteTime": {
     "end_time": "2023-06-04T20:29:38.864243600Z",
     "start_time": "2023-06-04T20:29:38.714161200Z"
    }
   },
   "execution_count": 6,
   "outputs": [
    {
     "data": {
      "text/plain": "          tanggal  1  2  3  4  5  6  7  8  9  ...  190  191  192  193  194  \\\n0    1.641168e+09  0  1  0  1  1  0  0  0  0  ...    0    0    0    0    0   \n1    1.641254e+09  0  0  1  0  0  1  0  1  1  ...    0    0    0    0    0   \n2    1.641341e+09  0  1  1  0  1  0  0  0  0  ...    0    0    0    0    0   \n3    1.641427e+09  0  0  1  1  0  1  0  0  0  ...    0    0    0    0    0   \n4    1.641514e+09  0  0  0  0  0  0  0  0  0  ...    0    0    0    0    0   \n..            ... .. .. .. .. .. .. .. .. ..  ...  ...  ...  ...  ...  ...   \n385  1.679962e+09  0  0  1  1  1  0  0  0  1  ...    0    0    0    0    0   \n386  1.680048e+09  0  1  1  0  1  0  0  0  0  ...    0    0    0    0    0   \n387  1.680134e+09  0  0  0  1  0  0  0  0  0  ...    0    0    0    0    0   \n388  1.680221e+09  0  0  0  0  0  0  0  0  0  ...    0    0    0    0    0   \n389  1.680307e+09  0  1  1  0  0  1  0  0  1  ...    0    0    0    0    0   \n\n     195  196  197  198  199  \n0      0    0    0    0    0  \n1      0    0    0    0    0  \n2      0    0    0    0    0  \n3      0    0    0    0    0  \n4      0    0    0    0    0  \n..   ...  ...  ...  ...  ...  \n385    0    0    0    0    0  \n386    0    0    0    0    0  \n387    0    0    0    0    0  \n388    0    0    0    0    0  \n389    0    0    0    0    0  \n\n[390 rows x 200 columns]",
      "text/html": "<div>\n<style scoped>\n    .dataframe tbody tr th:only-of-type {\n        vertical-align: middle;\n    }\n\n    .dataframe tbody tr th {\n        vertical-align: top;\n    }\n\n    .dataframe thead th {\n        text-align: right;\n    }\n</style>\n<table border=\"1\" class=\"dataframe\">\n  <thead>\n    <tr style=\"text-align: right;\">\n      <th></th>\n      <th>tanggal</th>\n      <th>1</th>\n      <th>2</th>\n      <th>3</th>\n      <th>4</th>\n      <th>5</th>\n      <th>6</th>\n      <th>7</th>\n      <th>8</th>\n      <th>9</th>\n      <th>...</th>\n      <th>190</th>\n      <th>191</th>\n      <th>192</th>\n      <th>193</th>\n      <th>194</th>\n      <th>195</th>\n      <th>196</th>\n      <th>197</th>\n      <th>198</th>\n      <th>199</th>\n    </tr>\n  </thead>\n  <tbody>\n    <tr>\n      <th>0</th>\n      <td>1.641168e+09</td>\n      <td>0</td>\n      <td>1</td>\n      <td>0</td>\n      <td>1</td>\n      <td>1</td>\n      <td>0</td>\n      <td>0</td>\n      <td>0</td>\n      <td>0</td>\n      <td>...</td>\n      <td>0</td>\n      <td>0</td>\n      <td>0</td>\n      <td>0</td>\n      <td>0</td>\n      <td>0</td>\n      <td>0</td>\n      <td>0</td>\n      <td>0</td>\n      <td>0</td>\n    </tr>\n    <tr>\n      <th>1</th>\n      <td>1.641254e+09</td>\n      <td>0</td>\n      <td>0</td>\n      <td>1</td>\n      <td>0</td>\n      <td>0</td>\n      <td>1</td>\n      <td>0</td>\n      <td>1</td>\n      <td>1</td>\n      <td>...</td>\n      <td>0</td>\n      <td>0</td>\n      <td>0</td>\n      <td>0</td>\n      <td>0</td>\n      <td>0</td>\n      <td>0</td>\n      <td>0</td>\n      <td>0</td>\n      <td>0</td>\n    </tr>\n    <tr>\n      <th>2</th>\n      <td>1.641341e+09</td>\n      <td>0</td>\n      <td>1</td>\n      <td>1</td>\n      <td>0</td>\n      <td>1</td>\n      <td>0</td>\n      <td>0</td>\n      <td>0</td>\n      <td>0</td>\n      <td>...</td>\n      <td>0</td>\n      <td>0</td>\n      <td>0</td>\n      <td>0</td>\n      <td>0</td>\n      <td>0</td>\n      <td>0</td>\n      <td>0</td>\n      <td>0</td>\n      <td>0</td>\n    </tr>\n    <tr>\n      <th>3</th>\n      <td>1.641427e+09</td>\n      <td>0</td>\n      <td>0</td>\n      <td>1</td>\n      <td>1</td>\n      <td>0</td>\n      <td>1</td>\n      <td>0</td>\n      <td>0</td>\n      <td>0</td>\n      <td>...</td>\n      <td>0</td>\n      <td>0</td>\n      <td>0</td>\n      <td>0</td>\n      <td>0</td>\n      <td>0</td>\n      <td>0</td>\n      <td>0</td>\n      <td>0</td>\n      <td>0</td>\n    </tr>\n    <tr>\n      <th>4</th>\n      <td>1.641514e+09</td>\n      <td>0</td>\n      <td>0</td>\n      <td>0</td>\n      <td>0</td>\n      <td>0</td>\n      <td>0</td>\n      <td>0</td>\n      <td>0</td>\n      <td>0</td>\n      <td>...</td>\n      <td>0</td>\n      <td>0</td>\n      <td>0</td>\n      <td>0</td>\n      <td>0</td>\n      <td>0</td>\n      <td>0</td>\n      <td>0</td>\n      <td>0</td>\n      <td>0</td>\n    </tr>\n    <tr>\n      <th>...</th>\n      <td>...</td>\n      <td>...</td>\n      <td>...</td>\n      <td>...</td>\n      <td>...</td>\n      <td>...</td>\n      <td>...</td>\n      <td>...</td>\n      <td>...</td>\n      <td>...</td>\n      <td>...</td>\n      <td>...</td>\n      <td>...</td>\n      <td>...</td>\n      <td>...</td>\n      <td>...</td>\n      <td>...</td>\n      <td>...</td>\n      <td>...</td>\n      <td>...</td>\n      <td>...</td>\n    </tr>\n    <tr>\n      <th>385</th>\n      <td>1.679962e+09</td>\n      <td>0</td>\n      <td>0</td>\n      <td>1</td>\n      <td>1</td>\n      <td>1</td>\n      <td>0</td>\n      <td>0</td>\n      <td>0</td>\n      <td>1</td>\n      <td>...</td>\n      <td>0</td>\n      <td>0</td>\n      <td>0</td>\n      <td>0</td>\n      <td>0</td>\n      <td>0</td>\n      <td>0</td>\n      <td>0</td>\n      <td>0</td>\n      <td>0</td>\n    </tr>\n    <tr>\n      <th>386</th>\n      <td>1.680048e+09</td>\n      <td>0</td>\n      <td>1</td>\n      <td>1</td>\n      <td>0</td>\n      <td>1</td>\n      <td>0</td>\n      <td>0</td>\n      <td>0</td>\n      <td>0</td>\n      <td>...</td>\n      <td>0</td>\n      <td>0</td>\n      <td>0</td>\n      <td>0</td>\n      <td>0</td>\n      <td>0</td>\n      <td>0</td>\n      <td>0</td>\n      <td>0</td>\n      <td>0</td>\n    </tr>\n    <tr>\n      <th>387</th>\n      <td>1.680134e+09</td>\n      <td>0</td>\n      <td>0</td>\n      <td>0</td>\n      <td>1</td>\n      <td>0</td>\n      <td>0</td>\n      <td>0</td>\n      <td>0</td>\n      <td>0</td>\n      <td>...</td>\n      <td>0</td>\n      <td>0</td>\n      <td>0</td>\n      <td>0</td>\n      <td>0</td>\n      <td>0</td>\n      <td>0</td>\n      <td>0</td>\n      <td>0</td>\n      <td>0</td>\n    </tr>\n    <tr>\n      <th>388</th>\n      <td>1.680221e+09</td>\n      <td>0</td>\n      <td>0</td>\n      <td>0</td>\n      <td>0</td>\n      <td>0</td>\n      <td>0</td>\n      <td>0</td>\n      <td>0</td>\n      <td>0</td>\n      <td>...</td>\n      <td>0</td>\n      <td>0</td>\n      <td>0</td>\n      <td>0</td>\n      <td>0</td>\n      <td>0</td>\n      <td>0</td>\n      <td>0</td>\n      <td>0</td>\n      <td>0</td>\n    </tr>\n    <tr>\n      <th>389</th>\n      <td>1.680307e+09</td>\n      <td>0</td>\n      <td>1</td>\n      <td>1</td>\n      <td>0</td>\n      <td>0</td>\n      <td>1</td>\n      <td>0</td>\n      <td>0</td>\n      <td>1</td>\n      <td>...</td>\n      <td>0</td>\n      <td>0</td>\n      <td>0</td>\n      <td>0</td>\n      <td>0</td>\n      <td>0</td>\n      <td>0</td>\n      <td>0</td>\n      <td>0</td>\n      <td>0</td>\n    </tr>\n  </tbody>\n</table>\n<p>390 rows × 200 columns</p>\n</div>"
     },
     "execution_count": 6,
     "metadata": {},
     "output_type": "execute_result"
    }
   ]
  },
  {
   "cell_type": "code",
   "source": [
    "#add previous date column\n",
    "def previous_date(dataframe):\n",
    "  \"\"\"\n",
    "  Adds a column containing the previous date\n",
    "  Args:\n",
    "    dataframe (dataframe): dataframe containing the dates\n",
    "\n",
    "  Returns:\n",
    "    df (dataframe): dataframe containing the previous date\n",
    "  \"\"\"\n",
    "  dataframe['previous_tanggal'] = dataframe['tanggal'].shift(1)\n",
    "  return dataframe\n",
    "multi_hot = previous_date(multi_hot)\n",
    "multi_hot"
   ],
   "metadata": {
    "id": "WGJmAG69iIxn",
    "executionInfo": {
     "status": "ok",
     "timestamp": 1685897149886,
     "user_tz": -420,
     "elapsed": 423,
     "user": {
      "displayName": "Muhammad Arief",
      "userId": "01585842397766244027"
     }
    },
    "colab": {
     "base_uri": "https://localhost:8080/",
     "height": 424
    },
    "outputId": "33257bc7-032c-4571-d104-c9d190c6a4cf",
    "ExecuteTime": {
     "end_time": "2023-06-04T20:29:38.975781800Z",
     "start_time": "2023-06-04T20:29:38.780598900Z"
    }
   },
   "execution_count": 7,
   "outputs": [
    {
     "data": {
      "text/plain": "          tanggal  1  2  3  4  5  6  7  8  9  ...  191  192  193  194  195  \\\n0    1.641168e+09  0  1  0  1  1  0  0  0  0  ...    0    0    0    0    0   \n1    1.641254e+09  0  0  1  0  0  1  0  1  1  ...    0    0    0    0    0   \n2    1.641341e+09  0  1  1  0  1  0  0  0  0  ...    0    0    0    0    0   \n3    1.641427e+09  0  0  1  1  0  1  0  0  0  ...    0    0    0    0    0   \n4    1.641514e+09  0  0  0  0  0  0  0  0  0  ...    0    0    0    0    0   \n..            ... .. .. .. .. .. .. .. .. ..  ...  ...  ...  ...  ...  ...   \n385  1.679962e+09  0  0  1  1  1  0  0  0  1  ...    0    0    0    0    0   \n386  1.680048e+09  0  1  1  0  1  0  0  0  0  ...    0    0    0    0    0   \n387  1.680134e+09  0  0  0  1  0  0  0  0  0  ...    0    0    0    0    0   \n388  1.680221e+09  0  0  0  0  0  0  0  0  0  ...    0    0    0    0    0   \n389  1.680307e+09  0  1  1  0  0  1  0  0  1  ...    0    0    0    0    0   \n\n     196  197  198  199  previous_tanggal  \n0      0    0    0    0               NaN  \n1      0    0    0    0      1.641168e+09  \n2      0    0    0    0      1.641254e+09  \n3      0    0    0    0      1.641341e+09  \n4      0    0    0    0      1.641427e+09  \n..   ...  ...  ...  ...               ...  \n385    0    0    0    0      1.679875e+09  \n386    0    0    0    0      1.679962e+09  \n387    0    0    0    0      1.680048e+09  \n388    0    0    0    0      1.680134e+09  \n389    0    0    0    0      1.680221e+09  \n\n[390 rows x 201 columns]",
      "text/html": "<div>\n<style scoped>\n    .dataframe tbody tr th:only-of-type {\n        vertical-align: middle;\n    }\n\n    .dataframe tbody tr th {\n        vertical-align: top;\n    }\n\n    .dataframe thead th {\n        text-align: right;\n    }\n</style>\n<table border=\"1\" class=\"dataframe\">\n  <thead>\n    <tr style=\"text-align: right;\">\n      <th></th>\n      <th>tanggal</th>\n      <th>1</th>\n      <th>2</th>\n      <th>3</th>\n      <th>4</th>\n      <th>5</th>\n      <th>6</th>\n      <th>7</th>\n      <th>8</th>\n      <th>9</th>\n      <th>...</th>\n      <th>191</th>\n      <th>192</th>\n      <th>193</th>\n      <th>194</th>\n      <th>195</th>\n      <th>196</th>\n      <th>197</th>\n      <th>198</th>\n      <th>199</th>\n      <th>previous_tanggal</th>\n    </tr>\n  </thead>\n  <tbody>\n    <tr>\n      <th>0</th>\n      <td>1.641168e+09</td>\n      <td>0</td>\n      <td>1</td>\n      <td>0</td>\n      <td>1</td>\n      <td>1</td>\n      <td>0</td>\n      <td>0</td>\n      <td>0</td>\n      <td>0</td>\n      <td>...</td>\n      <td>0</td>\n      <td>0</td>\n      <td>0</td>\n      <td>0</td>\n      <td>0</td>\n      <td>0</td>\n      <td>0</td>\n      <td>0</td>\n      <td>0</td>\n      <td>NaN</td>\n    </tr>\n    <tr>\n      <th>1</th>\n      <td>1.641254e+09</td>\n      <td>0</td>\n      <td>0</td>\n      <td>1</td>\n      <td>0</td>\n      <td>0</td>\n      <td>1</td>\n      <td>0</td>\n      <td>1</td>\n      <td>1</td>\n      <td>...</td>\n      <td>0</td>\n      <td>0</td>\n      <td>0</td>\n      <td>0</td>\n      <td>0</td>\n      <td>0</td>\n      <td>0</td>\n      <td>0</td>\n      <td>0</td>\n      <td>1.641168e+09</td>\n    </tr>\n    <tr>\n      <th>2</th>\n      <td>1.641341e+09</td>\n      <td>0</td>\n      <td>1</td>\n      <td>1</td>\n      <td>0</td>\n      <td>1</td>\n      <td>0</td>\n      <td>0</td>\n      <td>0</td>\n      <td>0</td>\n      <td>...</td>\n      <td>0</td>\n      <td>0</td>\n      <td>0</td>\n      <td>0</td>\n      <td>0</td>\n      <td>0</td>\n      <td>0</td>\n      <td>0</td>\n      <td>0</td>\n      <td>1.641254e+09</td>\n    </tr>\n    <tr>\n      <th>3</th>\n      <td>1.641427e+09</td>\n      <td>0</td>\n      <td>0</td>\n      <td>1</td>\n      <td>1</td>\n      <td>0</td>\n      <td>1</td>\n      <td>0</td>\n      <td>0</td>\n      <td>0</td>\n      <td>...</td>\n      <td>0</td>\n      <td>0</td>\n      <td>0</td>\n      <td>0</td>\n      <td>0</td>\n      <td>0</td>\n      <td>0</td>\n      <td>0</td>\n      <td>0</td>\n      <td>1.641341e+09</td>\n    </tr>\n    <tr>\n      <th>4</th>\n      <td>1.641514e+09</td>\n      <td>0</td>\n      <td>0</td>\n      <td>0</td>\n      <td>0</td>\n      <td>0</td>\n      <td>0</td>\n      <td>0</td>\n      <td>0</td>\n      <td>0</td>\n      <td>...</td>\n      <td>0</td>\n      <td>0</td>\n      <td>0</td>\n      <td>0</td>\n      <td>0</td>\n      <td>0</td>\n      <td>0</td>\n      <td>0</td>\n      <td>0</td>\n      <td>1.641427e+09</td>\n    </tr>\n    <tr>\n      <th>...</th>\n      <td>...</td>\n      <td>...</td>\n      <td>...</td>\n      <td>...</td>\n      <td>...</td>\n      <td>...</td>\n      <td>...</td>\n      <td>...</td>\n      <td>...</td>\n      <td>...</td>\n      <td>...</td>\n      <td>...</td>\n      <td>...</td>\n      <td>...</td>\n      <td>...</td>\n      <td>...</td>\n      <td>...</td>\n      <td>...</td>\n      <td>...</td>\n      <td>...</td>\n      <td>...</td>\n    </tr>\n    <tr>\n      <th>385</th>\n      <td>1.679962e+09</td>\n      <td>0</td>\n      <td>0</td>\n      <td>1</td>\n      <td>1</td>\n      <td>1</td>\n      <td>0</td>\n      <td>0</td>\n      <td>0</td>\n      <td>1</td>\n      <td>...</td>\n      <td>0</td>\n      <td>0</td>\n      <td>0</td>\n      <td>0</td>\n      <td>0</td>\n      <td>0</td>\n      <td>0</td>\n      <td>0</td>\n      <td>0</td>\n      <td>1.679875e+09</td>\n    </tr>\n    <tr>\n      <th>386</th>\n      <td>1.680048e+09</td>\n      <td>0</td>\n      <td>1</td>\n      <td>1</td>\n      <td>0</td>\n      <td>1</td>\n      <td>0</td>\n      <td>0</td>\n      <td>0</td>\n      <td>0</td>\n      <td>...</td>\n      <td>0</td>\n      <td>0</td>\n      <td>0</td>\n      <td>0</td>\n      <td>0</td>\n      <td>0</td>\n      <td>0</td>\n      <td>0</td>\n      <td>0</td>\n      <td>1.679962e+09</td>\n    </tr>\n    <tr>\n      <th>387</th>\n      <td>1.680134e+09</td>\n      <td>0</td>\n      <td>0</td>\n      <td>0</td>\n      <td>1</td>\n      <td>0</td>\n      <td>0</td>\n      <td>0</td>\n      <td>0</td>\n      <td>0</td>\n      <td>...</td>\n      <td>0</td>\n      <td>0</td>\n      <td>0</td>\n      <td>0</td>\n      <td>0</td>\n      <td>0</td>\n      <td>0</td>\n      <td>0</td>\n      <td>0</td>\n      <td>1.680048e+09</td>\n    </tr>\n    <tr>\n      <th>388</th>\n      <td>1.680221e+09</td>\n      <td>0</td>\n      <td>0</td>\n      <td>0</td>\n      <td>0</td>\n      <td>0</td>\n      <td>0</td>\n      <td>0</td>\n      <td>0</td>\n      <td>0</td>\n      <td>...</td>\n      <td>0</td>\n      <td>0</td>\n      <td>0</td>\n      <td>0</td>\n      <td>0</td>\n      <td>0</td>\n      <td>0</td>\n      <td>0</td>\n      <td>0</td>\n      <td>1.680134e+09</td>\n    </tr>\n    <tr>\n      <th>389</th>\n      <td>1.680307e+09</td>\n      <td>0</td>\n      <td>1</td>\n      <td>1</td>\n      <td>0</td>\n      <td>0</td>\n      <td>1</td>\n      <td>0</td>\n      <td>0</td>\n      <td>1</td>\n      <td>...</td>\n      <td>0</td>\n      <td>0</td>\n      <td>0</td>\n      <td>0</td>\n      <td>0</td>\n      <td>0</td>\n      <td>0</td>\n      <td>0</td>\n      <td>0</td>\n      <td>1.680221e+09</td>\n    </tr>\n  </tbody>\n</table>\n<p>390 rows × 201 columns</p>\n</div>"
     },
     "execution_count": 7,
     "metadata": {},
     "output_type": "execute_result"
    }
   ]
  },
  {
   "cell_type": "code",
   "source": [
    "#Get the time difference between the current date and the previous date and convert it to days, keep the first row as 0\n",
    "def time_diff(dataframe):\n",
    "  \"\"\"\n",
    "  Adds a column containing the time difference between the current date and the previous date\n",
    "  Args:\n",
    "    dataframe (dataframe): dataframe containing the dates\n",
    "\n",
    "  Returns:\n",
    "    df (dataframe): dataframe containing the time difference between the current date and the previous date\n",
    "  \"\"\"\n",
    "  dataframe['time_diff'] = dataframe['tanggal'] - dataframe['previous_tanggal']\n",
    "  dataframe['time_diff'] = dataframe['time_diff'].map(lambda x: x / 86400)\n",
    "  dataframe['time_diff'] = dataframe['time_diff'].fillna(1)\n",
    "  return dataframe\n",
    "multi_hot = time_diff(multi_hot)\n",
    "multi_hot\n"
   ],
   "metadata": {
    "id": "K5pCrYeM2JbG",
    "executionInfo": {
     "status": "aborted",
     "timestamp": 1685897004888,
     "user_tz": -420,
     "elapsed": 19,
     "user": {
      "displayName": "Muhammad Arief",
      "userId": "01585842397766244027"
     }
    },
    "ExecuteTime": {
     "end_time": "2023-06-04T20:29:39.199711800Z",
     "start_time": "2023-06-04T20:29:38.812697500Z"
    }
   },
   "execution_count": 8,
   "outputs": [
    {
     "data": {
      "text/plain": "          tanggal  1  2  3  4  5  6  7  8  9  ...  192  193  194  195  196  \\\n0    1.641168e+09  0  1  0  1  1  0  0  0  0  ...    0    0    0    0    0   \n1    1.641254e+09  0  0  1  0  0  1  0  1  1  ...    0    0    0    0    0   \n2    1.641341e+09  0  1  1  0  1  0  0  0  0  ...    0    0    0    0    0   \n3    1.641427e+09  0  0  1  1  0  1  0  0  0  ...    0    0    0    0    0   \n4    1.641514e+09  0  0  0  0  0  0  0  0  0  ...    0    0    0    0    0   \n..            ... .. .. .. .. .. .. .. .. ..  ...  ...  ...  ...  ...  ...   \n385  1.679962e+09  0  0  1  1  1  0  0  0  1  ...    0    0    0    0    0   \n386  1.680048e+09  0  1  1  0  1  0  0  0  0  ...    0    0    0    0    0   \n387  1.680134e+09  0  0  0  1  0  0  0  0  0  ...    0    0    0    0    0   \n388  1.680221e+09  0  0  0  0  0  0  0  0  0  ...    0    0    0    0    0   \n389  1.680307e+09  0  1  1  0  0  1  0  0  1  ...    0    0    0    0    0   \n\n     197  198  199  previous_tanggal  time_diff  \n0      0    0    0               NaN        1.0  \n1      0    0    0      1.641168e+09        1.0  \n2      0    0    0      1.641254e+09        1.0  \n3      0    0    0      1.641341e+09        1.0  \n4      0    0    0      1.641427e+09        1.0  \n..   ...  ...  ...               ...        ...  \n385    0    0    0      1.679875e+09        1.0  \n386    0    0    0      1.679962e+09        1.0  \n387    0    0    0      1.680048e+09        1.0  \n388    0    0    0      1.680134e+09        1.0  \n389    0    0    0      1.680221e+09        1.0  \n\n[390 rows x 202 columns]",
      "text/html": "<div>\n<style scoped>\n    .dataframe tbody tr th:only-of-type {\n        vertical-align: middle;\n    }\n\n    .dataframe tbody tr th {\n        vertical-align: top;\n    }\n\n    .dataframe thead th {\n        text-align: right;\n    }\n</style>\n<table border=\"1\" class=\"dataframe\">\n  <thead>\n    <tr style=\"text-align: right;\">\n      <th></th>\n      <th>tanggal</th>\n      <th>1</th>\n      <th>2</th>\n      <th>3</th>\n      <th>4</th>\n      <th>5</th>\n      <th>6</th>\n      <th>7</th>\n      <th>8</th>\n      <th>9</th>\n      <th>...</th>\n      <th>192</th>\n      <th>193</th>\n      <th>194</th>\n      <th>195</th>\n      <th>196</th>\n      <th>197</th>\n      <th>198</th>\n      <th>199</th>\n      <th>previous_tanggal</th>\n      <th>time_diff</th>\n    </tr>\n  </thead>\n  <tbody>\n    <tr>\n      <th>0</th>\n      <td>1.641168e+09</td>\n      <td>0</td>\n      <td>1</td>\n      <td>0</td>\n      <td>1</td>\n      <td>1</td>\n      <td>0</td>\n      <td>0</td>\n      <td>0</td>\n      <td>0</td>\n      <td>...</td>\n      <td>0</td>\n      <td>0</td>\n      <td>0</td>\n      <td>0</td>\n      <td>0</td>\n      <td>0</td>\n      <td>0</td>\n      <td>0</td>\n      <td>NaN</td>\n      <td>1.0</td>\n    </tr>\n    <tr>\n      <th>1</th>\n      <td>1.641254e+09</td>\n      <td>0</td>\n      <td>0</td>\n      <td>1</td>\n      <td>0</td>\n      <td>0</td>\n      <td>1</td>\n      <td>0</td>\n      <td>1</td>\n      <td>1</td>\n      <td>...</td>\n      <td>0</td>\n      <td>0</td>\n      <td>0</td>\n      <td>0</td>\n      <td>0</td>\n      <td>0</td>\n      <td>0</td>\n      <td>0</td>\n      <td>1.641168e+09</td>\n      <td>1.0</td>\n    </tr>\n    <tr>\n      <th>2</th>\n      <td>1.641341e+09</td>\n      <td>0</td>\n      <td>1</td>\n      <td>1</td>\n      <td>0</td>\n      <td>1</td>\n      <td>0</td>\n      <td>0</td>\n      <td>0</td>\n      <td>0</td>\n      <td>...</td>\n      <td>0</td>\n      <td>0</td>\n      <td>0</td>\n      <td>0</td>\n      <td>0</td>\n      <td>0</td>\n      <td>0</td>\n      <td>0</td>\n      <td>1.641254e+09</td>\n      <td>1.0</td>\n    </tr>\n    <tr>\n      <th>3</th>\n      <td>1.641427e+09</td>\n      <td>0</td>\n      <td>0</td>\n      <td>1</td>\n      <td>1</td>\n      <td>0</td>\n      <td>1</td>\n      <td>0</td>\n      <td>0</td>\n      <td>0</td>\n      <td>...</td>\n      <td>0</td>\n      <td>0</td>\n      <td>0</td>\n      <td>0</td>\n      <td>0</td>\n      <td>0</td>\n      <td>0</td>\n      <td>0</td>\n      <td>1.641341e+09</td>\n      <td>1.0</td>\n    </tr>\n    <tr>\n      <th>4</th>\n      <td>1.641514e+09</td>\n      <td>0</td>\n      <td>0</td>\n      <td>0</td>\n      <td>0</td>\n      <td>0</td>\n      <td>0</td>\n      <td>0</td>\n      <td>0</td>\n      <td>0</td>\n      <td>...</td>\n      <td>0</td>\n      <td>0</td>\n      <td>0</td>\n      <td>0</td>\n      <td>0</td>\n      <td>0</td>\n      <td>0</td>\n      <td>0</td>\n      <td>1.641427e+09</td>\n      <td>1.0</td>\n    </tr>\n    <tr>\n      <th>...</th>\n      <td>...</td>\n      <td>...</td>\n      <td>...</td>\n      <td>...</td>\n      <td>...</td>\n      <td>...</td>\n      <td>...</td>\n      <td>...</td>\n      <td>...</td>\n      <td>...</td>\n      <td>...</td>\n      <td>...</td>\n      <td>...</td>\n      <td>...</td>\n      <td>...</td>\n      <td>...</td>\n      <td>...</td>\n      <td>...</td>\n      <td>...</td>\n      <td>...</td>\n      <td>...</td>\n    </tr>\n    <tr>\n      <th>385</th>\n      <td>1.679962e+09</td>\n      <td>0</td>\n      <td>0</td>\n      <td>1</td>\n      <td>1</td>\n      <td>1</td>\n      <td>0</td>\n      <td>0</td>\n      <td>0</td>\n      <td>1</td>\n      <td>...</td>\n      <td>0</td>\n      <td>0</td>\n      <td>0</td>\n      <td>0</td>\n      <td>0</td>\n      <td>0</td>\n      <td>0</td>\n      <td>0</td>\n      <td>1.679875e+09</td>\n      <td>1.0</td>\n    </tr>\n    <tr>\n      <th>386</th>\n      <td>1.680048e+09</td>\n      <td>0</td>\n      <td>1</td>\n      <td>1</td>\n      <td>0</td>\n      <td>1</td>\n      <td>0</td>\n      <td>0</td>\n      <td>0</td>\n      <td>0</td>\n      <td>...</td>\n      <td>0</td>\n      <td>0</td>\n      <td>0</td>\n      <td>0</td>\n      <td>0</td>\n      <td>0</td>\n      <td>0</td>\n      <td>0</td>\n      <td>1.679962e+09</td>\n      <td>1.0</td>\n    </tr>\n    <tr>\n      <th>387</th>\n      <td>1.680134e+09</td>\n      <td>0</td>\n      <td>0</td>\n      <td>0</td>\n      <td>1</td>\n      <td>0</td>\n      <td>0</td>\n      <td>0</td>\n      <td>0</td>\n      <td>0</td>\n      <td>...</td>\n      <td>0</td>\n      <td>0</td>\n      <td>0</td>\n      <td>0</td>\n      <td>0</td>\n      <td>0</td>\n      <td>0</td>\n      <td>0</td>\n      <td>1.680048e+09</td>\n      <td>1.0</td>\n    </tr>\n    <tr>\n      <th>388</th>\n      <td>1.680221e+09</td>\n      <td>0</td>\n      <td>0</td>\n      <td>0</td>\n      <td>0</td>\n      <td>0</td>\n      <td>0</td>\n      <td>0</td>\n      <td>0</td>\n      <td>0</td>\n      <td>...</td>\n      <td>0</td>\n      <td>0</td>\n      <td>0</td>\n      <td>0</td>\n      <td>0</td>\n      <td>0</td>\n      <td>0</td>\n      <td>0</td>\n      <td>1.680134e+09</td>\n      <td>1.0</td>\n    </tr>\n    <tr>\n      <th>389</th>\n      <td>1.680307e+09</td>\n      <td>0</td>\n      <td>1</td>\n      <td>1</td>\n      <td>0</td>\n      <td>0</td>\n      <td>1</td>\n      <td>0</td>\n      <td>0</td>\n      <td>1</td>\n      <td>...</td>\n      <td>0</td>\n      <td>0</td>\n      <td>0</td>\n      <td>0</td>\n      <td>0</td>\n      <td>0</td>\n      <td>0</td>\n      <td>0</td>\n      <td>1.680221e+09</td>\n      <td>1.0</td>\n    </tr>\n  </tbody>\n</table>\n<p>390 rows × 202 columns</p>\n</div>"
     },
     "execution_count": 8,
     "metadata": {},
     "output_type": "execute_result"
    }
   ]
  },
  {
   "cell_type": "code",
   "execution_count": 9,
   "outputs": [
    {
     "data": {
      "text/plain": "          tanggal  1  2  3  4  5  6  7  8  9  ...  192  193  194  195  196  \\\n0    1.641168e+09  1  0  1  0  0  1  1  1  1  ...    1    1    1    1    1   \n1    1.641254e+09  0  0  1  0  0  1  0  1  1  ...    0    0    0    0    0   \n2    1.641341e+09  0  1  1  0  1  0  0  0  0  ...    0    0    0    0    0   \n3    1.641427e+09  0  0  1  1  0  1  0  0  0  ...    0    0    0    0    0   \n4    1.641514e+09  0  0  0  0  0  0  0  0  0  ...    0    0    0    0    0   \n..            ... .. .. .. .. .. .. .. .. ..  ...  ...  ...  ...  ...  ...   \n385  1.679962e+09  0  0  1  1  1  0  0  0  1  ...    0    0    0    0    0   \n386  1.680048e+09  0  1  1  0  1  0  0  0  0  ...    0    0    0    0    0   \n387  1.680134e+09  0  0  0  1  0  0  0  0  0  ...    0    0    0    0    0   \n388  1.680221e+09  0  0  0  0  0  0  0  0  0  ...    0    0    0    0    0   \n389  1.680307e+09  0  1  1  0  0  1  0  0  1  ...    0    0    0    0    0   \n\n     197  198  199  previous_tanggal  time_diff  \n0      1    1    1      0.000000e+00        0.0  \n1      0    0    0      1.641168e+09        1.0  \n2      0    0    0      1.641254e+09        1.0  \n3      0    0    0      1.641341e+09        1.0  \n4      0    0    0      1.641427e+09        1.0  \n..   ...  ...  ...               ...        ...  \n385    0    0    0      1.679875e+09        1.0  \n386    0    0    0      1.679962e+09        1.0  \n387    0    0    0      1.680048e+09        1.0  \n388    0    0    0      1.680134e+09        1.0  \n389    0    0    0      1.680221e+09        1.0  \n\n[390 rows x 202 columns]",
      "text/html": "<div>\n<style scoped>\n    .dataframe tbody tr th:only-of-type {\n        vertical-align: middle;\n    }\n\n    .dataframe tbody tr th {\n        vertical-align: top;\n    }\n\n    .dataframe thead th {\n        text-align: right;\n    }\n</style>\n<table border=\"1\" class=\"dataframe\">\n  <thead>\n    <tr style=\"text-align: right;\">\n      <th></th>\n      <th>tanggal</th>\n      <th>1</th>\n      <th>2</th>\n      <th>3</th>\n      <th>4</th>\n      <th>5</th>\n      <th>6</th>\n      <th>7</th>\n      <th>8</th>\n      <th>9</th>\n      <th>...</th>\n      <th>192</th>\n      <th>193</th>\n      <th>194</th>\n      <th>195</th>\n      <th>196</th>\n      <th>197</th>\n      <th>198</th>\n      <th>199</th>\n      <th>previous_tanggal</th>\n      <th>time_diff</th>\n    </tr>\n  </thead>\n  <tbody>\n    <tr>\n      <th>0</th>\n      <td>1.641168e+09</td>\n      <td>1</td>\n      <td>0</td>\n      <td>1</td>\n      <td>0</td>\n      <td>0</td>\n      <td>1</td>\n      <td>1</td>\n      <td>1</td>\n      <td>1</td>\n      <td>...</td>\n      <td>1</td>\n      <td>1</td>\n      <td>1</td>\n      <td>1</td>\n      <td>1</td>\n      <td>1</td>\n      <td>1</td>\n      <td>1</td>\n      <td>0.000000e+00</td>\n      <td>0.0</td>\n    </tr>\n    <tr>\n      <th>1</th>\n      <td>1.641254e+09</td>\n      <td>0</td>\n      <td>0</td>\n      <td>1</td>\n      <td>0</td>\n      <td>0</td>\n      <td>1</td>\n      <td>0</td>\n      <td>1</td>\n      <td>1</td>\n      <td>...</td>\n      <td>0</td>\n      <td>0</td>\n      <td>0</td>\n      <td>0</td>\n      <td>0</td>\n      <td>0</td>\n      <td>0</td>\n      <td>0</td>\n      <td>1.641168e+09</td>\n      <td>1.0</td>\n    </tr>\n    <tr>\n      <th>2</th>\n      <td>1.641341e+09</td>\n      <td>0</td>\n      <td>1</td>\n      <td>1</td>\n      <td>0</td>\n      <td>1</td>\n      <td>0</td>\n      <td>0</td>\n      <td>0</td>\n      <td>0</td>\n      <td>...</td>\n      <td>0</td>\n      <td>0</td>\n      <td>0</td>\n      <td>0</td>\n      <td>0</td>\n      <td>0</td>\n      <td>0</td>\n      <td>0</td>\n      <td>1.641254e+09</td>\n      <td>1.0</td>\n    </tr>\n    <tr>\n      <th>3</th>\n      <td>1.641427e+09</td>\n      <td>0</td>\n      <td>0</td>\n      <td>1</td>\n      <td>1</td>\n      <td>0</td>\n      <td>1</td>\n      <td>0</td>\n      <td>0</td>\n      <td>0</td>\n      <td>...</td>\n      <td>0</td>\n      <td>0</td>\n      <td>0</td>\n      <td>0</td>\n      <td>0</td>\n      <td>0</td>\n      <td>0</td>\n      <td>0</td>\n      <td>1.641341e+09</td>\n      <td>1.0</td>\n    </tr>\n    <tr>\n      <th>4</th>\n      <td>1.641514e+09</td>\n      <td>0</td>\n      <td>0</td>\n      <td>0</td>\n      <td>0</td>\n      <td>0</td>\n      <td>0</td>\n      <td>0</td>\n      <td>0</td>\n      <td>0</td>\n      <td>...</td>\n      <td>0</td>\n      <td>0</td>\n      <td>0</td>\n      <td>0</td>\n      <td>0</td>\n      <td>0</td>\n      <td>0</td>\n      <td>0</td>\n      <td>1.641427e+09</td>\n      <td>1.0</td>\n    </tr>\n    <tr>\n      <th>...</th>\n      <td>...</td>\n      <td>...</td>\n      <td>...</td>\n      <td>...</td>\n      <td>...</td>\n      <td>...</td>\n      <td>...</td>\n      <td>...</td>\n      <td>...</td>\n      <td>...</td>\n      <td>...</td>\n      <td>...</td>\n      <td>...</td>\n      <td>...</td>\n      <td>...</td>\n      <td>...</td>\n      <td>...</td>\n      <td>...</td>\n      <td>...</td>\n      <td>...</td>\n      <td>...</td>\n    </tr>\n    <tr>\n      <th>385</th>\n      <td>1.679962e+09</td>\n      <td>0</td>\n      <td>0</td>\n      <td>1</td>\n      <td>1</td>\n      <td>1</td>\n      <td>0</td>\n      <td>0</td>\n      <td>0</td>\n      <td>1</td>\n      <td>...</td>\n      <td>0</td>\n      <td>0</td>\n      <td>0</td>\n      <td>0</td>\n      <td>0</td>\n      <td>0</td>\n      <td>0</td>\n      <td>0</td>\n      <td>1.679875e+09</td>\n      <td>1.0</td>\n    </tr>\n    <tr>\n      <th>386</th>\n      <td>1.680048e+09</td>\n      <td>0</td>\n      <td>1</td>\n      <td>1</td>\n      <td>0</td>\n      <td>1</td>\n      <td>0</td>\n      <td>0</td>\n      <td>0</td>\n      <td>0</td>\n      <td>...</td>\n      <td>0</td>\n      <td>0</td>\n      <td>0</td>\n      <td>0</td>\n      <td>0</td>\n      <td>0</td>\n      <td>0</td>\n      <td>0</td>\n      <td>1.679962e+09</td>\n      <td>1.0</td>\n    </tr>\n    <tr>\n      <th>387</th>\n      <td>1.680134e+09</td>\n      <td>0</td>\n      <td>0</td>\n      <td>0</td>\n      <td>1</td>\n      <td>0</td>\n      <td>0</td>\n      <td>0</td>\n      <td>0</td>\n      <td>0</td>\n      <td>...</td>\n      <td>0</td>\n      <td>0</td>\n      <td>0</td>\n      <td>0</td>\n      <td>0</td>\n      <td>0</td>\n      <td>0</td>\n      <td>0</td>\n      <td>1.680048e+09</td>\n      <td>1.0</td>\n    </tr>\n    <tr>\n      <th>388</th>\n      <td>1.680221e+09</td>\n      <td>0</td>\n      <td>0</td>\n      <td>0</td>\n      <td>0</td>\n      <td>0</td>\n      <td>0</td>\n      <td>0</td>\n      <td>0</td>\n      <td>0</td>\n      <td>...</td>\n      <td>0</td>\n      <td>0</td>\n      <td>0</td>\n      <td>0</td>\n      <td>0</td>\n      <td>0</td>\n      <td>0</td>\n      <td>0</td>\n      <td>1.680134e+09</td>\n      <td>1.0</td>\n    </tr>\n    <tr>\n      <th>389</th>\n      <td>1.680307e+09</td>\n      <td>0</td>\n      <td>1</td>\n      <td>1</td>\n      <td>0</td>\n      <td>0</td>\n      <td>1</td>\n      <td>0</td>\n      <td>0</td>\n      <td>1</td>\n      <td>...</td>\n      <td>0</td>\n      <td>0</td>\n      <td>0</td>\n      <td>0</td>\n      <td>0</td>\n      <td>0</td>\n      <td>0</td>\n      <td>0</td>\n      <td>1.680221e+09</td>\n      <td>1.0</td>\n    </tr>\n  </tbody>\n</table>\n<p>390 rows × 202 columns</p>\n</div>"
     },
     "execution_count": 9,
     "metadata": {},
     "output_type": "execute_result"
    }
   ],
   "source": [
    "#swap values of 0 and 1 in the first row of the dataframe (because the first row is the lamultihot date for supplier visits)\n",
    "def swap_0_1(dataframe):\n",
    "  \"\"\"\n",
    "  Swaps the values of 0 and 1 in the first row of the dataframe\n",
    "  Args:\n",
    "    dataframe (dataframe): dataframe containing the dates\n",
    "\n",
    "  Returns:\n",
    "    df (dataframe): dataframe containing the swapped values of 0 and 1 in the first row of the dataframe\n",
    "  \"\"\"\n",
    "  for i in range(1, len(dataframe.columns)):\n",
    "    if dataframe.iloc[0,i] == 0:\n",
    "      dataframe.iloc[0,i] = 1\n",
    "    else:\n",
    "      dataframe.iloc[0,i] = 0\n",
    "  return dataframe\n",
    "multi_hot = swap_0_1(multi_hot)\n",
    "multi_hot"
   ],
   "metadata": {
    "collapsed": false,
    "ExecuteTime": {
     "end_time": "2023-06-04T20:29:39.273257600Z",
     "start_time": "2023-06-04T20:29:39.044998400Z"
    }
   }
  },
  {
   "cell_type": "code",
   "execution_count": 11,
   "outputs": [
    {
     "data": {
      "text/plain": "          tanggal    1  2  3  4  5  6    7  8  9  ...  192  193  194  195  \\\n0    1.641168e+09    1  0  1  0  0  1    1  1  1  ...    1    1    1    1   \n1    1.641254e+09    2  1  0  1  1  0    2  0  0  ...    2    2    2    2   \n2    1.641341e+09    3  0  0  2  0  1    3  1  1  ...    3    3    3    3   \n3    1.641427e+09    4  1  0  0  1  0    4  2  2  ...    4    4    4    4   \n4    1.641514e+09    5  2  1  1  2  1    5  3  3  ...    5    5    5    5   \n..            ...  ... .. .. .. .. ..  ... .. ..  ...  ...  ...  ...  ...   \n385  1.679962e+09  450  1  0  0  0  4  203  4  0  ...  332  314  225  223   \n386  1.680048e+09  451  0  0  1  0  5  204  5  1  ...  333  315  226  224   \n387  1.680134e+09  452  1  1  0  1  6  205  6  2  ...  334  316  227  225   \n388  1.680221e+09  453  2  2  1  2  7  206  7  3  ...  335  317  228  226   \n389  1.680307e+09  454  0  0  2  3  0  207  8  0  ...  336  318  229  227   \n\n     196  197  198  199  previous_tanggal  time_diff  \n0      1    1    1    1               0.0        0.0  \n1      2    2    2    2               0.0        1.0  \n2      3    3    3    3               0.0        1.0  \n3      4    4    4    4               0.0        1.0  \n4      5    5    5    5               0.0        1.0  \n..   ...  ...  ...  ...               ...        ...  \n385  197  171  113   11               0.0        1.0  \n386  198  172  114   12               0.0        1.0  \n387  199  173  115   13               0.0        1.0  \n388  200  174  116   14               0.0        1.0  \n389  201  175  117   15               0.0        1.0  \n\n[390 rows x 202 columns]",
      "text/html": "<div>\n<style scoped>\n    .dataframe tbody tr th:only-of-type {\n        vertical-align: middle;\n    }\n\n    .dataframe tbody tr th {\n        vertical-align: top;\n    }\n\n    .dataframe thead th {\n        text-align: right;\n    }\n</style>\n<table border=\"1\" class=\"dataframe\">\n  <thead>\n    <tr style=\"text-align: right;\">\n      <th></th>\n      <th>tanggal</th>\n      <th>1</th>\n      <th>2</th>\n      <th>3</th>\n      <th>4</th>\n      <th>5</th>\n      <th>6</th>\n      <th>7</th>\n      <th>8</th>\n      <th>9</th>\n      <th>...</th>\n      <th>192</th>\n      <th>193</th>\n      <th>194</th>\n      <th>195</th>\n      <th>196</th>\n      <th>197</th>\n      <th>198</th>\n      <th>199</th>\n      <th>previous_tanggal</th>\n      <th>time_diff</th>\n    </tr>\n  </thead>\n  <tbody>\n    <tr>\n      <th>0</th>\n      <td>1.641168e+09</td>\n      <td>1</td>\n      <td>0</td>\n      <td>1</td>\n      <td>0</td>\n      <td>0</td>\n      <td>1</td>\n      <td>1</td>\n      <td>1</td>\n      <td>1</td>\n      <td>...</td>\n      <td>1</td>\n      <td>1</td>\n      <td>1</td>\n      <td>1</td>\n      <td>1</td>\n      <td>1</td>\n      <td>1</td>\n      <td>1</td>\n      <td>0.0</td>\n      <td>0.0</td>\n    </tr>\n    <tr>\n      <th>1</th>\n      <td>1.641254e+09</td>\n      <td>2</td>\n      <td>1</td>\n      <td>0</td>\n      <td>1</td>\n      <td>1</td>\n      <td>0</td>\n      <td>2</td>\n      <td>0</td>\n      <td>0</td>\n      <td>...</td>\n      <td>2</td>\n      <td>2</td>\n      <td>2</td>\n      <td>2</td>\n      <td>2</td>\n      <td>2</td>\n      <td>2</td>\n      <td>2</td>\n      <td>0.0</td>\n      <td>1.0</td>\n    </tr>\n    <tr>\n      <th>2</th>\n      <td>1.641341e+09</td>\n      <td>3</td>\n      <td>0</td>\n      <td>0</td>\n      <td>2</td>\n      <td>0</td>\n      <td>1</td>\n      <td>3</td>\n      <td>1</td>\n      <td>1</td>\n      <td>...</td>\n      <td>3</td>\n      <td>3</td>\n      <td>3</td>\n      <td>3</td>\n      <td>3</td>\n      <td>3</td>\n      <td>3</td>\n      <td>3</td>\n      <td>0.0</td>\n      <td>1.0</td>\n    </tr>\n    <tr>\n      <th>3</th>\n      <td>1.641427e+09</td>\n      <td>4</td>\n      <td>1</td>\n      <td>0</td>\n      <td>0</td>\n      <td>1</td>\n      <td>0</td>\n      <td>4</td>\n      <td>2</td>\n      <td>2</td>\n      <td>...</td>\n      <td>4</td>\n      <td>4</td>\n      <td>4</td>\n      <td>4</td>\n      <td>4</td>\n      <td>4</td>\n      <td>4</td>\n      <td>4</td>\n      <td>0.0</td>\n      <td>1.0</td>\n    </tr>\n    <tr>\n      <th>4</th>\n      <td>1.641514e+09</td>\n      <td>5</td>\n      <td>2</td>\n      <td>1</td>\n      <td>1</td>\n      <td>2</td>\n      <td>1</td>\n      <td>5</td>\n      <td>3</td>\n      <td>3</td>\n      <td>...</td>\n      <td>5</td>\n      <td>5</td>\n      <td>5</td>\n      <td>5</td>\n      <td>5</td>\n      <td>5</td>\n      <td>5</td>\n      <td>5</td>\n      <td>0.0</td>\n      <td>1.0</td>\n    </tr>\n    <tr>\n      <th>...</th>\n      <td>...</td>\n      <td>...</td>\n      <td>...</td>\n      <td>...</td>\n      <td>...</td>\n      <td>...</td>\n      <td>...</td>\n      <td>...</td>\n      <td>...</td>\n      <td>...</td>\n      <td>...</td>\n      <td>...</td>\n      <td>...</td>\n      <td>...</td>\n      <td>...</td>\n      <td>...</td>\n      <td>...</td>\n      <td>...</td>\n      <td>...</td>\n      <td>...</td>\n      <td>...</td>\n    </tr>\n    <tr>\n      <th>385</th>\n      <td>1.679962e+09</td>\n      <td>450</td>\n      <td>1</td>\n      <td>0</td>\n      <td>0</td>\n      <td>0</td>\n      <td>4</td>\n      <td>203</td>\n      <td>4</td>\n      <td>0</td>\n      <td>...</td>\n      <td>332</td>\n      <td>314</td>\n      <td>225</td>\n      <td>223</td>\n      <td>197</td>\n      <td>171</td>\n      <td>113</td>\n      <td>11</td>\n      <td>0.0</td>\n      <td>1.0</td>\n    </tr>\n    <tr>\n      <th>386</th>\n      <td>1.680048e+09</td>\n      <td>451</td>\n      <td>0</td>\n      <td>0</td>\n      <td>1</td>\n      <td>0</td>\n      <td>5</td>\n      <td>204</td>\n      <td>5</td>\n      <td>1</td>\n      <td>...</td>\n      <td>333</td>\n      <td>315</td>\n      <td>226</td>\n      <td>224</td>\n      <td>198</td>\n      <td>172</td>\n      <td>114</td>\n      <td>12</td>\n      <td>0.0</td>\n      <td>1.0</td>\n    </tr>\n    <tr>\n      <th>387</th>\n      <td>1.680134e+09</td>\n      <td>452</td>\n      <td>1</td>\n      <td>1</td>\n      <td>0</td>\n      <td>1</td>\n      <td>6</td>\n      <td>205</td>\n      <td>6</td>\n      <td>2</td>\n      <td>...</td>\n      <td>334</td>\n      <td>316</td>\n      <td>227</td>\n      <td>225</td>\n      <td>199</td>\n      <td>173</td>\n      <td>115</td>\n      <td>13</td>\n      <td>0.0</td>\n      <td>1.0</td>\n    </tr>\n    <tr>\n      <th>388</th>\n      <td>1.680221e+09</td>\n      <td>453</td>\n      <td>2</td>\n      <td>2</td>\n      <td>1</td>\n      <td>2</td>\n      <td>7</td>\n      <td>206</td>\n      <td>7</td>\n      <td>3</td>\n      <td>...</td>\n      <td>335</td>\n      <td>317</td>\n      <td>228</td>\n      <td>226</td>\n      <td>200</td>\n      <td>174</td>\n      <td>116</td>\n      <td>14</td>\n      <td>0.0</td>\n      <td>1.0</td>\n    </tr>\n    <tr>\n      <th>389</th>\n      <td>1.680307e+09</td>\n      <td>454</td>\n      <td>0</td>\n      <td>0</td>\n      <td>2</td>\n      <td>3</td>\n      <td>0</td>\n      <td>207</td>\n      <td>8</td>\n      <td>0</td>\n      <td>...</td>\n      <td>336</td>\n      <td>318</td>\n      <td>229</td>\n      <td>227</td>\n      <td>201</td>\n      <td>175</td>\n      <td>117</td>\n      <td>15</td>\n      <td>0.0</td>\n      <td>1.0</td>\n    </tr>\n  </tbody>\n</table>\n<p>390 rows × 202 columns</p>\n</div>"
     },
     "execution_count": 11,
     "metadata": {},
     "output_type": "execute_result"
    }
   ],
   "source": [
    "#in order to determine days till next visit, we need to set the rows of each column that has 0 to time_diff + previous value, if value is 1, then set it to 0 (because suppier visited on that day)\n",
    "def days_till_next_visit(dataframe):\n",
    "  \"\"\"\n",
    "  Adds a column containing the days till the next visit\n",
    "  Args:\n",
    "    dataframe (dataframe): dataframe containing the dates\n",
    "\n",
    "  Returns:\n",
    "    df (dataframe): dataframe containing the days till the next visit\n",
    "  \"\"\"\n",
    "  dataframe = dataframe.copy()\n",
    "  for i in range(1, len(dataframe.columns)-1):\n",
    "    for j in range(1, len(dataframe)):\n",
    "      if dataframe.iloc[j,i] == 0:\n",
    "        dataframe.iloc[j,i] = dataframe.iloc[j - 1,i] + dataframe.iloc[j,dataframe.columns.get_loc('time_diff')]\n",
    "      else:\n",
    "        dataframe.iloc[j,i] = 0\n",
    "  return dataframe\n",
    "multi_hot = days_till_next_visit(multi_hot)\n",
    "multi_hot"
   ],
   "metadata": {
    "collapsed": false,
    "ExecuteTime": {
     "end_time": "2023-06-04T20:30:37.882569Z",
     "start_time": "2023-06-04T20:30:22.940057800Z"
    }
   }
  },
  {
   "cell_type": "markdown",
   "source": [
    "# Model Architecture"
   ],
   "metadata": {
    "id": "vxzmyVLCKrzT"
   }
  },
  {
   "cell_type": "markdown",
   "source": [
    "# Analysis"
   ],
   "metadata": {
    "id": "2_6PguF7Kuzf"
   }
  }
 ]
}
