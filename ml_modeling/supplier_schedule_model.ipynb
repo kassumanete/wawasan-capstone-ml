{
 "nbformat": 4,
 "nbformat_minor": 0,
 "metadata": {
  "colab": {
   "provenance": [
    {
     "file_id": "18_WXz7ac6EQsRs05TyZz3aFA4OCAKKpu",
     "timestamp": 1685810472026
    }
   ],
   "mount_file_id": "1mboE-nPCye91mYkTkbvbbfrVRNYJhB1l",
   "authorship_tag": "ABX9TyPGD3RVprNkZ3rie5ko5HPI"
  },
  "kernelspec": {
   "name": "capstone_wawasan",
   "language": "python",
   "display_name": "capstone_wawasan"
  },
  "language_info": {
   "name": "python"
  }
 },
 "cells": [
  {
   "cell_type": "markdown",
   "source": [
    "# Introduction\n",
    "This is a notebook using machine learning to output the schedule of suppliers.\n",
    "First import the data in the form of a csv file. The input of the model will be a date and the output will be a list of days corresponding to the schedule of the suppliers and when they will arrive next."
   ],
   "metadata": {
    "id": "tRUuzt7aKWSV"
   }
  },
  {
   "cell_type": "markdown",
   "source": [
    "# Imports"
   ],
   "metadata": {
    "id": "8bxo4TufKhGv"
   }
  },
  {
   "cell_type": "code",
   "source": [
    "import pandas as pd\n",
    "import tensorflow as tf\n",
    "from tensorflow.keras.preprocessing.text import Tokenizer\n",
    "import matplotlib.pyplot as plt\n",
    "import datetime"
   ],
   "metadata": {
    "id": "WmUC3rAWK2oY",
    "executionInfo": {
     "status": "ok",
     "timestamp": 1685897003285,
     "user_tz": -420,
     "elapsed": 4451,
     "user": {
      "displayName": "Muhammad Arief",
      "userId": "01585842397766244027"
     }
    },
    "ExecuteTime": {
     "end_time": "2023-06-05T03:17:21.078840600Z",
     "start_time": "2023-06-05T03:17:14.003616100Z"
    }
   },
   "execution_count": 1,
   "outputs": []
  },
  {
   "cell_type": "markdown",
   "source": [
    "# Load Dataset"
   ],
   "metadata": {
    "id": "8pGoEnoHKjxP"
   }
  },
  {
   "cell_type": "code",
   "source": [
    "filepath = 'supplier_schedule.csv'#supplier schedule on local drive\n",
    "#filepath = '/content/drive/MyDrive/Documents/uni_work/Bangkit2023/capstone/supplier_schedule.csv'\n",
    "df = pd.read_csv(filepath, dtype = {'supplier':str,'tanggal':str})\n",
    "df['supplier'] = df['supplier'].str.replace(' ','')\n",
    "#remove all punctuation from the supplier names\n",
    "df['supplier'] = df['supplier'].str.replace('.','')\n"
   ],
   "metadata": {
    "id": "P6VvZzoWLhFS",
    "executionInfo": {
     "status": "ok",
     "timestamp": 1685897003893,
     "user_tz": -420,
     "elapsed": 612,
     "user": {
      "displayName": "Muhammad Arief",
      "userId": "01585842397766244027"
     }
    },
    "ExecuteTime": {
     "end_time": "2023-06-05T03:17:21.099962200Z",
     "start_time": "2023-06-05T03:17:21.078840600Z"
    }
   },
   "execution_count": 2,
   "outputs": []
  },
  {
   "cell_type": "markdown",
   "source": [
    "\n",
    "# Data Transformation"
   ],
   "metadata": {
    "id": "1nXJDI2NKlzt"
   }
  },
  {
   "cell_type": "markdown",
   "source": [
    "Transform the code of suppliers into their tokenized forms using the tokenizer."
   ],
   "metadata": {
    "id": "BH9V6V7GOxti"
   }
  },
  {
   "cell_type": "code",
   "execution_count": 3,
   "outputs": [
    {
     "data": {
      "text/plain": "        tanggal  AB  ABA  ABD  ABK  ABS  ADR  AFDHAL  AG  AI  ...  UTJ  VG  \\\n0    2022-01-03   0    0    0    0    0    0       0   0   1  ...    0   1   \n1    2022-01-04   0    0    0    0    0    0       0   0   0  ...    0   0   \n2    2022-01-05   0    0    0    0    0    0       0   0   0  ...    0   1   \n3    2022-01-06   0    1    0    0    0    1       0   1   0  ...    0   0   \n4    2022-01-07   0    0    1    0    0    0       0   0   0  ...    0   0   \n..          ...  ..  ...  ...  ...  ...  ...     ...  ..  ..  ...  ...  ..   \n385  2023-03-28   0    1    0    0    0    0       0   0   0  ...    0   1   \n386  2023-03-29   0    0    0    0    0    0       0   0   0  ...    0   1   \n387  2023-03-30   0    1    0    0    0    0       0   0   0  ...    0   0   \n388  2023-03-31   0    0    0    0    0    0       0   0   0  ...    0   0   \n389  2023-04-01   0    0    0    0    0    0       0   0   0  ...    0   0   \n\n     WOI  WT  YENI  YIP  YS  YUSRA  ZAIMAR  ZULFAINI  \n0      0   0     0    0   0      0       0         0  \n1      0   0     0    0   0      0       0         0  \n2      0   0     0    0   0      0       0         0  \n3      0   0     0    0   0      0       0         0  \n4      0   1     0    0   0      0       0         0  \n..   ...  ..   ...  ...  ..    ...     ...       ...  \n385    0   0     0    0   0      0       0         0  \n386    0   0     0    0   0      0       0         0  \n387    1   0     0    0   1      0       0         0  \n388    0   0     0    0   0      0       0         0  \n389    0   1     0    1   0      0       0         0  \n\n[390 rows x 200 columns]",
      "text/html": "<div>\n<style scoped>\n    .dataframe tbody tr th:only-of-type {\n        vertical-align: middle;\n    }\n\n    .dataframe tbody tr th {\n        vertical-align: top;\n    }\n\n    .dataframe thead th {\n        text-align: right;\n    }\n</style>\n<table border=\"1\" class=\"dataframe\">\n  <thead>\n    <tr style=\"text-align: right;\">\n      <th></th>\n      <th>tanggal</th>\n      <th>AB</th>\n      <th>ABA</th>\n      <th>ABD</th>\n      <th>ABK</th>\n      <th>ABS</th>\n      <th>ADR</th>\n      <th>AFDHAL</th>\n      <th>AG</th>\n      <th>AI</th>\n      <th>...</th>\n      <th>UTJ</th>\n      <th>VG</th>\n      <th>WOI</th>\n      <th>WT</th>\n      <th>YENI</th>\n      <th>YIP</th>\n      <th>YS</th>\n      <th>YUSRA</th>\n      <th>ZAIMAR</th>\n      <th>ZULFAINI</th>\n    </tr>\n  </thead>\n  <tbody>\n    <tr>\n      <th>0</th>\n      <td>2022-01-03</td>\n      <td>0</td>\n      <td>0</td>\n      <td>0</td>\n      <td>0</td>\n      <td>0</td>\n      <td>0</td>\n      <td>0</td>\n      <td>0</td>\n      <td>1</td>\n      <td>...</td>\n      <td>0</td>\n      <td>1</td>\n      <td>0</td>\n      <td>0</td>\n      <td>0</td>\n      <td>0</td>\n      <td>0</td>\n      <td>0</td>\n      <td>0</td>\n      <td>0</td>\n    </tr>\n    <tr>\n      <th>1</th>\n      <td>2022-01-04</td>\n      <td>0</td>\n      <td>0</td>\n      <td>0</td>\n      <td>0</td>\n      <td>0</td>\n      <td>0</td>\n      <td>0</td>\n      <td>0</td>\n      <td>0</td>\n      <td>...</td>\n      <td>0</td>\n      <td>0</td>\n      <td>0</td>\n      <td>0</td>\n      <td>0</td>\n      <td>0</td>\n      <td>0</td>\n      <td>0</td>\n      <td>0</td>\n      <td>0</td>\n    </tr>\n    <tr>\n      <th>2</th>\n      <td>2022-01-05</td>\n      <td>0</td>\n      <td>0</td>\n      <td>0</td>\n      <td>0</td>\n      <td>0</td>\n      <td>0</td>\n      <td>0</td>\n      <td>0</td>\n      <td>0</td>\n      <td>...</td>\n      <td>0</td>\n      <td>1</td>\n      <td>0</td>\n      <td>0</td>\n      <td>0</td>\n      <td>0</td>\n      <td>0</td>\n      <td>0</td>\n      <td>0</td>\n      <td>0</td>\n    </tr>\n    <tr>\n      <th>3</th>\n      <td>2022-01-06</td>\n      <td>0</td>\n      <td>1</td>\n      <td>0</td>\n      <td>0</td>\n      <td>0</td>\n      <td>1</td>\n      <td>0</td>\n      <td>1</td>\n      <td>0</td>\n      <td>...</td>\n      <td>0</td>\n      <td>0</td>\n      <td>0</td>\n      <td>0</td>\n      <td>0</td>\n      <td>0</td>\n      <td>0</td>\n      <td>0</td>\n      <td>0</td>\n      <td>0</td>\n    </tr>\n    <tr>\n      <th>4</th>\n      <td>2022-01-07</td>\n      <td>0</td>\n      <td>0</td>\n      <td>1</td>\n      <td>0</td>\n      <td>0</td>\n      <td>0</td>\n      <td>0</td>\n      <td>0</td>\n      <td>0</td>\n      <td>...</td>\n      <td>0</td>\n      <td>0</td>\n      <td>0</td>\n      <td>1</td>\n      <td>0</td>\n      <td>0</td>\n      <td>0</td>\n      <td>0</td>\n      <td>0</td>\n      <td>0</td>\n    </tr>\n    <tr>\n      <th>...</th>\n      <td>...</td>\n      <td>...</td>\n      <td>...</td>\n      <td>...</td>\n      <td>...</td>\n      <td>...</td>\n      <td>...</td>\n      <td>...</td>\n      <td>...</td>\n      <td>...</td>\n      <td>...</td>\n      <td>...</td>\n      <td>...</td>\n      <td>...</td>\n      <td>...</td>\n      <td>...</td>\n      <td>...</td>\n      <td>...</td>\n      <td>...</td>\n      <td>...</td>\n      <td>...</td>\n    </tr>\n    <tr>\n      <th>385</th>\n      <td>2023-03-28</td>\n      <td>0</td>\n      <td>1</td>\n      <td>0</td>\n      <td>0</td>\n      <td>0</td>\n      <td>0</td>\n      <td>0</td>\n      <td>0</td>\n      <td>0</td>\n      <td>...</td>\n      <td>0</td>\n      <td>1</td>\n      <td>0</td>\n      <td>0</td>\n      <td>0</td>\n      <td>0</td>\n      <td>0</td>\n      <td>0</td>\n      <td>0</td>\n      <td>0</td>\n    </tr>\n    <tr>\n      <th>386</th>\n      <td>2023-03-29</td>\n      <td>0</td>\n      <td>0</td>\n      <td>0</td>\n      <td>0</td>\n      <td>0</td>\n      <td>0</td>\n      <td>0</td>\n      <td>0</td>\n      <td>0</td>\n      <td>...</td>\n      <td>0</td>\n      <td>1</td>\n      <td>0</td>\n      <td>0</td>\n      <td>0</td>\n      <td>0</td>\n      <td>0</td>\n      <td>0</td>\n      <td>0</td>\n      <td>0</td>\n    </tr>\n    <tr>\n      <th>387</th>\n      <td>2023-03-30</td>\n      <td>0</td>\n      <td>1</td>\n      <td>0</td>\n      <td>0</td>\n      <td>0</td>\n      <td>0</td>\n      <td>0</td>\n      <td>0</td>\n      <td>0</td>\n      <td>...</td>\n      <td>0</td>\n      <td>0</td>\n      <td>1</td>\n      <td>0</td>\n      <td>0</td>\n      <td>0</td>\n      <td>1</td>\n      <td>0</td>\n      <td>0</td>\n      <td>0</td>\n    </tr>\n    <tr>\n      <th>388</th>\n      <td>2023-03-31</td>\n      <td>0</td>\n      <td>0</td>\n      <td>0</td>\n      <td>0</td>\n      <td>0</td>\n      <td>0</td>\n      <td>0</td>\n      <td>0</td>\n      <td>0</td>\n      <td>...</td>\n      <td>0</td>\n      <td>0</td>\n      <td>0</td>\n      <td>0</td>\n      <td>0</td>\n      <td>0</td>\n      <td>0</td>\n      <td>0</td>\n      <td>0</td>\n      <td>0</td>\n    </tr>\n    <tr>\n      <th>389</th>\n      <td>2023-04-01</td>\n      <td>0</td>\n      <td>0</td>\n      <td>0</td>\n      <td>0</td>\n      <td>0</td>\n      <td>0</td>\n      <td>0</td>\n      <td>0</td>\n      <td>0</td>\n      <td>...</td>\n      <td>0</td>\n      <td>0</td>\n      <td>0</td>\n      <td>1</td>\n      <td>0</td>\n      <td>1</td>\n      <td>0</td>\n      <td>0</td>\n      <td>0</td>\n      <td>0</td>\n    </tr>\n  </tbody>\n</table>\n<p>390 rows × 200 columns</p>\n</div>"
     },
     "execution_count": 3,
     "metadata": {},
     "output_type": "execute_result"
    }
   ],
   "source": [
    "#multi_hot encode the suppliers based of the date and if they visited on that date or not\n",
    "#df['supplier'] = np.array([i[0] for i in supplier_sequence],dtype = np.int64)\n",
    "\n",
    "multi_hot = pd.get_dummies(df, columns = ['supplier'],prefix = '', prefix_sep = '')\n",
    "multi_hot = multi_hot.groupby('tanggal').sum()\n",
    "multi_hot = multi_hot.reset_index()\n",
    "multi_hot"
   ],
   "metadata": {
    "collapsed": false,
    "ExecuteTime": {
     "end_time": "2023-06-05T03:17:21.151884100Z",
     "start_time": "2023-06-05T03:17:21.099962200Z"
    }
   }
  },
  {
   "cell_type": "code",
   "execution_count": 4,
   "outputs": [
    {
     "data": {
      "text/plain": "          tanggal  AB  ABA  ABD  ABK  ABS  ADR  AFDHAL  AG  AI  ...  UTJ  VG  \\\n0    1.641168e+09   0    0    0    0    0    0       0   0   1  ...    0   1   \n1    1.641254e+09   0    0    0    0    0    0       0   0   0  ...    0   0   \n2    1.641341e+09   0    0    0    0    0    0       0   0   0  ...    0   1   \n3    1.641427e+09   0    1    0    0    0    1       0   1   0  ...    0   0   \n4    1.641514e+09   0    0    1    0    0    0       0   0   0  ...    0   0   \n..            ...  ..  ...  ...  ...  ...  ...     ...  ..  ..  ...  ...  ..   \n385  1.679962e+09   0    1    0    0    0    0       0   0   0  ...    0   1   \n386  1.680048e+09   0    0    0    0    0    0       0   0   0  ...    0   1   \n387  1.680134e+09   0    1    0    0    0    0       0   0   0  ...    0   0   \n388  1.680221e+09   0    0    0    0    0    0       0   0   0  ...    0   0   \n389  1.680307e+09   0    0    0    0    0    0       0   0   0  ...    0   0   \n\n     WOI  WT  YENI  YIP  YS  YUSRA  ZAIMAR  ZULFAINI  \n0      0   0     0    0   0      0       0         0  \n1      0   0     0    0   0      0       0         0  \n2      0   0     0    0   0      0       0         0  \n3      0   0     0    0   0      0       0         0  \n4      0   1     0    0   0      0       0         0  \n..   ...  ..   ...  ...  ..    ...     ...       ...  \n385    0   0     0    0   0      0       0         0  \n386    0   0     0    0   0      0       0         0  \n387    1   0     0    0   1      0       0         0  \n388    0   0     0    0   0      0       0         0  \n389    0   1     0    1   0      0       0         0  \n\n[390 rows x 200 columns]",
      "text/html": "<div>\n<style scoped>\n    .dataframe tbody tr th:only-of-type {\n        vertical-align: middle;\n    }\n\n    .dataframe tbody tr th {\n        vertical-align: top;\n    }\n\n    .dataframe thead th {\n        text-align: right;\n    }\n</style>\n<table border=\"1\" class=\"dataframe\">\n  <thead>\n    <tr style=\"text-align: right;\">\n      <th></th>\n      <th>tanggal</th>\n      <th>AB</th>\n      <th>ABA</th>\n      <th>ABD</th>\n      <th>ABK</th>\n      <th>ABS</th>\n      <th>ADR</th>\n      <th>AFDHAL</th>\n      <th>AG</th>\n      <th>AI</th>\n      <th>...</th>\n      <th>UTJ</th>\n      <th>VG</th>\n      <th>WOI</th>\n      <th>WT</th>\n      <th>YENI</th>\n      <th>YIP</th>\n      <th>YS</th>\n      <th>YUSRA</th>\n      <th>ZAIMAR</th>\n      <th>ZULFAINI</th>\n    </tr>\n  </thead>\n  <tbody>\n    <tr>\n      <th>0</th>\n      <td>1.641168e+09</td>\n      <td>0</td>\n      <td>0</td>\n      <td>0</td>\n      <td>0</td>\n      <td>0</td>\n      <td>0</td>\n      <td>0</td>\n      <td>0</td>\n      <td>1</td>\n      <td>...</td>\n      <td>0</td>\n      <td>1</td>\n      <td>0</td>\n      <td>0</td>\n      <td>0</td>\n      <td>0</td>\n      <td>0</td>\n      <td>0</td>\n      <td>0</td>\n      <td>0</td>\n    </tr>\n    <tr>\n      <th>1</th>\n      <td>1.641254e+09</td>\n      <td>0</td>\n      <td>0</td>\n      <td>0</td>\n      <td>0</td>\n      <td>0</td>\n      <td>0</td>\n      <td>0</td>\n      <td>0</td>\n      <td>0</td>\n      <td>...</td>\n      <td>0</td>\n      <td>0</td>\n      <td>0</td>\n      <td>0</td>\n      <td>0</td>\n      <td>0</td>\n      <td>0</td>\n      <td>0</td>\n      <td>0</td>\n      <td>0</td>\n    </tr>\n    <tr>\n      <th>2</th>\n      <td>1.641341e+09</td>\n      <td>0</td>\n      <td>0</td>\n      <td>0</td>\n      <td>0</td>\n      <td>0</td>\n      <td>0</td>\n      <td>0</td>\n      <td>0</td>\n      <td>0</td>\n      <td>...</td>\n      <td>0</td>\n      <td>1</td>\n      <td>0</td>\n      <td>0</td>\n      <td>0</td>\n      <td>0</td>\n      <td>0</td>\n      <td>0</td>\n      <td>0</td>\n      <td>0</td>\n    </tr>\n    <tr>\n      <th>3</th>\n      <td>1.641427e+09</td>\n      <td>0</td>\n      <td>1</td>\n      <td>0</td>\n      <td>0</td>\n      <td>0</td>\n      <td>1</td>\n      <td>0</td>\n      <td>1</td>\n      <td>0</td>\n      <td>...</td>\n      <td>0</td>\n      <td>0</td>\n      <td>0</td>\n      <td>0</td>\n      <td>0</td>\n      <td>0</td>\n      <td>0</td>\n      <td>0</td>\n      <td>0</td>\n      <td>0</td>\n    </tr>\n    <tr>\n      <th>4</th>\n      <td>1.641514e+09</td>\n      <td>0</td>\n      <td>0</td>\n      <td>1</td>\n      <td>0</td>\n      <td>0</td>\n      <td>0</td>\n      <td>0</td>\n      <td>0</td>\n      <td>0</td>\n      <td>...</td>\n      <td>0</td>\n      <td>0</td>\n      <td>0</td>\n      <td>1</td>\n      <td>0</td>\n      <td>0</td>\n      <td>0</td>\n      <td>0</td>\n      <td>0</td>\n      <td>0</td>\n    </tr>\n    <tr>\n      <th>...</th>\n      <td>...</td>\n      <td>...</td>\n      <td>...</td>\n      <td>...</td>\n      <td>...</td>\n      <td>...</td>\n      <td>...</td>\n      <td>...</td>\n      <td>...</td>\n      <td>...</td>\n      <td>...</td>\n      <td>...</td>\n      <td>...</td>\n      <td>...</td>\n      <td>...</td>\n      <td>...</td>\n      <td>...</td>\n      <td>...</td>\n      <td>...</td>\n      <td>...</td>\n      <td>...</td>\n    </tr>\n    <tr>\n      <th>385</th>\n      <td>1.679962e+09</td>\n      <td>0</td>\n      <td>1</td>\n      <td>0</td>\n      <td>0</td>\n      <td>0</td>\n      <td>0</td>\n      <td>0</td>\n      <td>0</td>\n      <td>0</td>\n      <td>...</td>\n      <td>0</td>\n      <td>1</td>\n      <td>0</td>\n      <td>0</td>\n      <td>0</td>\n      <td>0</td>\n      <td>0</td>\n      <td>0</td>\n      <td>0</td>\n      <td>0</td>\n    </tr>\n    <tr>\n      <th>386</th>\n      <td>1.680048e+09</td>\n      <td>0</td>\n      <td>0</td>\n      <td>0</td>\n      <td>0</td>\n      <td>0</td>\n      <td>0</td>\n      <td>0</td>\n      <td>0</td>\n      <td>0</td>\n      <td>...</td>\n      <td>0</td>\n      <td>1</td>\n      <td>0</td>\n      <td>0</td>\n      <td>0</td>\n      <td>0</td>\n      <td>0</td>\n      <td>0</td>\n      <td>0</td>\n      <td>0</td>\n    </tr>\n    <tr>\n      <th>387</th>\n      <td>1.680134e+09</td>\n      <td>0</td>\n      <td>1</td>\n      <td>0</td>\n      <td>0</td>\n      <td>0</td>\n      <td>0</td>\n      <td>0</td>\n      <td>0</td>\n      <td>0</td>\n      <td>...</td>\n      <td>0</td>\n      <td>0</td>\n      <td>1</td>\n      <td>0</td>\n      <td>0</td>\n      <td>0</td>\n      <td>1</td>\n      <td>0</td>\n      <td>0</td>\n      <td>0</td>\n    </tr>\n    <tr>\n      <th>388</th>\n      <td>1.680221e+09</td>\n      <td>0</td>\n      <td>0</td>\n      <td>0</td>\n      <td>0</td>\n      <td>0</td>\n      <td>0</td>\n      <td>0</td>\n      <td>0</td>\n      <td>0</td>\n      <td>...</td>\n      <td>0</td>\n      <td>0</td>\n      <td>0</td>\n      <td>0</td>\n      <td>0</td>\n      <td>0</td>\n      <td>0</td>\n      <td>0</td>\n      <td>0</td>\n      <td>0</td>\n    </tr>\n    <tr>\n      <th>389</th>\n      <td>1.680307e+09</td>\n      <td>0</td>\n      <td>0</td>\n      <td>0</td>\n      <td>0</td>\n      <td>0</td>\n      <td>0</td>\n      <td>0</td>\n      <td>0</td>\n      <td>0</td>\n      <td>...</td>\n      <td>0</td>\n      <td>0</td>\n      <td>0</td>\n      <td>1</td>\n      <td>0</td>\n      <td>1</td>\n      <td>0</td>\n      <td>0</td>\n      <td>0</td>\n      <td>0</td>\n    </tr>\n  </tbody>\n</table>\n<p>390 rows × 200 columns</p>\n</div>"
     },
     "execution_count": 4,
     "metadata": {},
     "output_type": "execute_result"
    }
   ],
   "source": [
    "#convert date to epoch\n",
    "epoch = pd.to_datetime(multi_hot['tanggal'], format = \"%Y-%m-%d\")\n",
    "epoch = (epoch - datetime.datetime(1970,1,1))\n",
    "epoch = epoch.map(lambda x: x.total_seconds())\n",
    "multi_hot['tanggal'] = epoch\n",
    "multi_hot\n"
   ],
   "metadata": {
    "collapsed": false,
    "ExecuteTime": {
     "end_time": "2023-06-05T03:17:21.189795600Z",
     "start_time": "2023-06-05T03:17:21.174105Z"
    }
   }
  },
  {
   "cell_type": "code",
   "execution_count": 5,
   "outputs": [
    {
     "data": {
      "text/plain": "          tanggal  AB  ABA  ABD  ABK  ABS  ADR  AFDHAL  AG  AI  ...  UTJ  VG  \\\n0    1.641168e+09   0    0    0    0    0    0       0   0   1  ...    0   1   \n1    1.641254e+09   0    0    0    0    0    0       0   0   0  ...    0   0   \n2    1.641341e+09   0    0    0    0    0    0       0   0   0  ...    0   1   \n3    1.641427e+09   0    1    0    0    0    1       0   1   0  ...    0   0   \n4    1.641514e+09   0    0    1    0    0    0       0   0   0  ...    0   0   \n..            ...  ..  ...  ...  ...  ...  ...     ...  ..  ..  ...  ...  ..   \n385  1.679962e+09   0    1    0    0    0    0       0   0   0  ...    0   1   \n386  1.680048e+09   0    0    0    0    0    0       0   0   0  ...    0   1   \n387  1.680134e+09   0    1    0    0    0    0       0   0   0  ...    0   0   \n388  1.680221e+09   0    0    0    0    0    0       0   0   0  ...    0   0   \n389  1.680307e+09   0    0    0    0    0    0       0   0   0  ...    0   0   \n\n     WOI  WT  YENI  YIP  YS  YUSRA  ZAIMAR  ZULFAINI  \n0      0   0     0    0   0      0       0         0  \n1      0   0     0    0   0      0       0         0  \n2      0   0     0    0   0      0       0         0  \n3      0   0     0    0   0      0       0         0  \n4      0   1     0    0   0      0       0         0  \n..   ...  ..   ...  ...  ..    ...     ...       ...  \n385    0   0     0    0   0      0       0         0  \n386    0   0     0    0   0      0       0         0  \n387    1   0     0    0   1      0       0         0  \n388    0   0     0    0   0      0       0         0  \n389    0   1     0    1   0      0       0         0  \n\n[390 rows x 200 columns]",
      "text/html": "<div>\n<style scoped>\n    .dataframe tbody tr th:only-of-type {\n        vertical-align: middle;\n    }\n\n    .dataframe tbody tr th {\n        vertical-align: top;\n    }\n\n    .dataframe thead th {\n        text-align: right;\n    }\n</style>\n<table border=\"1\" class=\"dataframe\">\n  <thead>\n    <tr style=\"text-align: right;\">\n      <th></th>\n      <th>tanggal</th>\n      <th>AB</th>\n      <th>ABA</th>\n      <th>ABD</th>\n      <th>ABK</th>\n      <th>ABS</th>\n      <th>ADR</th>\n      <th>AFDHAL</th>\n      <th>AG</th>\n      <th>AI</th>\n      <th>...</th>\n      <th>UTJ</th>\n      <th>VG</th>\n      <th>WOI</th>\n      <th>WT</th>\n      <th>YENI</th>\n      <th>YIP</th>\n      <th>YS</th>\n      <th>YUSRA</th>\n      <th>ZAIMAR</th>\n      <th>ZULFAINI</th>\n    </tr>\n  </thead>\n  <tbody>\n    <tr>\n      <th>0</th>\n      <td>1.641168e+09</td>\n      <td>0</td>\n      <td>0</td>\n      <td>0</td>\n      <td>0</td>\n      <td>0</td>\n      <td>0</td>\n      <td>0</td>\n      <td>0</td>\n      <td>1</td>\n      <td>...</td>\n      <td>0</td>\n      <td>1</td>\n      <td>0</td>\n      <td>0</td>\n      <td>0</td>\n      <td>0</td>\n      <td>0</td>\n      <td>0</td>\n      <td>0</td>\n      <td>0</td>\n    </tr>\n    <tr>\n      <th>1</th>\n      <td>1.641254e+09</td>\n      <td>0</td>\n      <td>0</td>\n      <td>0</td>\n      <td>0</td>\n      <td>0</td>\n      <td>0</td>\n      <td>0</td>\n      <td>0</td>\n      <td>0</td>\n      <td>...</td>\n      <td>0</td>\n      <td>0</td>\n      <td>0</td>\n      <td>0</td>\n      <td>0</td>\n      <td>0</td>\n      <td>0</td>\n      <td>0</td>\n      <td>0</td>\n      <td>0</td>\n    </tr>\n    <tr>\n      <th>2</th>\n      <td>1.641341e+09</td>\n      <td>0</td>\n      <td>0</td>\n      <td>0</td>\n      <td>0</td>\n      <td>0</td>\n      <td>0</td>\n      <td>0</td>\n      <td>0</td>\n      <td>0</td>\n      <td>...</td>\n      <td>0</td>\n      <td>1</td>\n      <td>0</td>\n      <td>0</td>\n      <td>0</td>\n      <td>0</td>\n      <td>0</td>\n      <td>0</td>\n      <td>0</td>\n      <td>0</td>\n    </tr>\n    <tr>\n      <th>3</th>\n      <td>1.641427e+09</td>\n      <td>0</td>\n      <td>1</td>\n      <td>0</td>\n      <td>0</td>\n      <td>0</td>\n      <td>1</td>\n      <td>0</td>\n      <td>1</td>\n      <td>0</td>\n      <td>...</td>\n      <td>0</td>\n      <td>0</td>\n      <td>0</td>\n      <td>0</td>\n      <td>0</td>\n      <td>0</td>\n      <td>0</td>\n      <td>0</td>\n      <td>0</td>\n      <td>0</td>\n    </tr>\n    <tr>\n      <th>4</th>\n      <td>1.641514e+09</td>\n      <td>0</td>\n      <td>0</td>\n      <td>1</td>\n      <td>0</td>\n      <td>0</td>\n      <td>0</td>\n      <td>0</td>\n      <td>0</td>\n      <td>0</td>\n      <td>...</td>\n      <td>0</td>\n      <td>0</td>\n      <td>0</td>\n      <td>1</td>\n      <td>0</td>\n      <td>0</td>\n      <td>0</td>\n      <td>0</td>\n      <td>0</td>\n      <td>0</td>\n    </tr>\n    <tr>\n      <th>...</th>\n      <td>...</td>\n      <td>...</td>\n      <td>...</td>\n      <td>...</td>\n      <td>...</td>\n      <td>...</td>\n      <td>...</td>\n      <td>...</td>\n      <td>...</td>\n      <td>...</td>\n      <td>...</td>\n      <td>...</td>\n      <td>...</td>\n      <td>...</td>\n      <td>...</td>\n      <td>...</td>\n      <td>...</td>\n      <td>...</td>\n      <td>...</td>\n      <td>...</td>\n      <td>...</td>\n    </tr>\n    <tr>\n      <th>385</th>\n      <td>1.679962e+09</td>\n      <td>0</td>\n      <td>1</td>\n      <td>0</td>\n      <td>0</td>\n      <td>0</td>\n      <td>0</td>\n      <td>0</td>\n      <td>0</td>\n      <td>0</td>\n      <td>...</td>\n      <td>0</td>\n      <td>1</td>\n      <td>0</td>\n      <td>0</td>\n      <td>0</td>\n      <td>0</td>\n      <td>0</td>\n      <td>0</td>\n      <td>0</td>\n      <td>0</td>\n    </tr>\n    <tr>\n      <th>386</th>\n      <td>1.680048e+09</td>\n      <td>0</td>\n      <td>0</td>\n      <td>0</td>\n      <td>0</td>\n      <td>0</td>\n      <td>0</td>\n      <td>0</td>\n      <td>0</td>\n      <td>0</td>\n      <td>...</td>\n      <td>0</td>\n      <td>1</td>\n      <td>0</td>\n      <td>0</td>\n      <td>0</td>\n      <td>0</td>\n      <td>0</td>\n      <td>0</td>\n      <td>0</td>\n      <td>0</td>\n    </tr>\n    <tr>\n      <th>387</th>\n      <td>1.680134e+09</td>\n      <td>0</td>\n      <td>1</td>\n      <td>0</td>\n      <td>0</td>\n      <td>0</td>\n      <td>0</td>\n      <td>0</td>\n      <td>0</td>\n      <td>0</td>\n      <td>...</td>\n      <td>0</td>\n      <td>0</td>\n      <td>1</td>\n      <td>0</td>\n      <td>0</td>\n      <td>0</td>\n      <td>1</td>\n      <td>0</td>\n      <td>0</td>\n      <td>0</td>\n    </tr>\n    <tr>\n      <th>388</th>\n      <td>1.680221e+09</td>\n      <td>0</td>\n      <td>0</td>\n      <td>0</td>\n      <td>0</td>\n      <td>0</td>\n      <td>0</td>\n      <td>0</td>\n      <td>0</td>\n      <td>0</td>\n      <td>...</td>\n      <td>0</td>\n      <td>0</td>\n      <td>0</td>\n      <td>0</td>\n      <td>0</td>\n      <td>0</td>\n      <td>0</td>\n      <td>0</td>\n      <td>0</td>\n      <td>0</td>\n    </tr>\n    <tr>\n      <th>389</th>\n      <td>1.680307e+09</td>\n      <td>0</td>\n      <td>0</td>\n      <td>0</td>\n      <td>0</td>\n      <td>0</td>\n      <td>0</td>\n      <td>0</td>\n      <td>0</td>\n      <td>0</td>\n      <td>...</td>\n      <td>0</td>\n      <td>0</td>\n      <td>0</td>\n      <td>1</td>\n      <td>0</td>\n      <td>1</td>\n      <td>0</td>\n      <td>0</td>\n      <td>0</td>\n      <td>0</td>\n    </tr>\n  </tbody>\n</table>\n<p>390 rows × 200 columns</p>\n</div>"
     },
     "execution_count": 5,
     "metadata": {},
     "output_type": "execute_result"
    }
   ],
   "source": [
    "#sort from multi_hot date\n",
    "multi_hot = multi_hot.sort_values('tanggal', ascending= True)\n",
    "multi_hot = multi_hot.reset_index()\n",
    "multi_hot.pop('index')\n",
    "multi_hot"
   ],
   "metadata": {
    "collapsed": false,
    "ExecuteTime": {
     "end_time": "2023-06-05T03:17:21.284465200Z",
     "start_time": "2023-06-05T03:17:21.189795600Z"
    }
   }
  },
  {
   "cell_type": "code",
   "execution_count": 6,
   "outputs": [],
   "source": [
    "#add previous date column\n",
    "def previous_date(dataframe):\n",
    "  \"\"\"\n",
    "  Adds a column containing the previous date\n",
    "  Args:\n",
    "    dataframe (dataframe): dataframe containing the dates\n",
    "\n",
    "  Returns:\n",
    "    df (dataframe): dataframe containing the previous date\n",
    "  \"\"\"\n",
    "  dataframe['previous_tanggal'] = dataframe['tanggal'].shift(1)\n",
    "  return dataframe\n",
    "multi_hot = previous_date(multi_hot)\n"
   ],
   "metadata": {
    "collapsed": false,
    "ExecuteTime": {
     "end_time": "2023-06-05T03:17:21.363395700Z",
     "start_time": "2023-06-05T03:17:21.224041800Z"
    }
   }
  },
  {
   "cell_type": "code",
   "execution_count": 7,
   "outputs": [
    {
     "data": {
      "text/plain": "0               NaN\n1      1.641168e+09\n2      1.641254e+09\n3      1.641341e+09\n4      1.641427e+09\n           ...     \n385    1.679875e+09\n386    1.679962e+09\n387    1.680048e+09\n388    1.680134e+09\n389    1.680221e+09\nName: previous_tanggal, Length: 390, dtype: float64"
     },
     "execution_count": 7,
     "metadata": {},
     "output_type": "execute_result"
    }
   ],
   "source": [
    "#Get the time difference between the current date and the previous date and convert it to days, keep the first row as 0\n",
    "def time_diff(dataframe):\n",
    "  \"\"\"\n",
    "  Adds a column containing the time difference between the current date and the previous date\n",
    "  Args:\n",
    "    dataframe (dataframe): dataframe containing the dates\n",
    "\n",
    "  Returns:\n",
    "    df (dataframe): dataframe containing the time difference between the current date and the previous date\n",
    "  \"\"\"\n",
    "  dataframe['time_diff'] = abs(dataframe['tanggal'] - dataframe['previous_tanggal'])\n",
    "  dataframe['time_diff'] = dataframe['time_diff'].map(lambda x: x / 86400)\n",
    "  dataframe['time_diff'] = dataframe['time_diff'].fillna(1)\n",
    "  return dataframe\n",
    "multi_hot = time_diff(multi_hot)\n",
    "multi_hot.pop('previous_tanggal')\n"
   ],
   "metadata": {
    "collapsed": false,
    "ExecuteTime": {
     "end_time": "2023-06-05T03:17:21.363395700Z",
     "start_time": "2023-06-05T03:17:21.224041800Z"
    }
   }
  },
  {
   "cell_type": "code",
   "execution_count": 8,
   "outputs": [
    {
     "data": {
      "text/plain": "{'AB': 2,\n 'ABA': 102,\n 'ABD': 22,\n 'ABK': 5,\n 'ABS': 23,\n 'ADR': 69,\n 'AFDHAL': 3,\n 'AG': 10,\n 'AI': 13,\n 'AJL': 1,\n 'AJSB': 10,\n 'AJW': 95,\n 'ALBACAR': 21,\n 'ALFA': 9,\n 'ANI': 11,\n 'ANIS': 9,\n 'AP': 8,\n 'APL': 12,\n 'APS': 28,\n 'AQILLA': 10,\n 'ARB': 1,\n 'ARTA': 21,\n 'ASI': 13,\n 'ASIH': 76,\n 'ASNIAHK': 15,\n 'AWM': 12,\n 'AYU': 2,\n 'BA': 7,\n 'BCRS': 28,\n 'BENTOL': 4,\n 'BERKAH': 2,\n 'BHK': 40,\n 'BM': 52,\n 'BMC': 5,\n 'BML': 27,\n 'BSM': 22,\n 'BSP': 26,\n 'BUKWATI': 35,\n 'BUNDA': 14,\n 'CADO': 5,\n 'CD': 124,\n 'CK': 4,\n 'CMPG': 17,\n 'COLA': 64,\n 'CR': 54,\n 'DB': 34,\n 'DBA': 33,\n 'DBBP': 8,\n 'DBT': 45,\n 'DMA': 14,\n 'DP': 1,\n 'DS': 48,\n 'EB': 36,\n 'ECN': 3,\n 'ELBIRUNI': 8,\n 'ELKA': 28,\n 'ELSIE': 51,\n 'ELYANA': 26,\n 'ENSEVAL': 52,\n 'ERNA': 7,\n 'ESSE': 46,\n 'FAJAR': 123,\n 'FD': 24,\n 'FIKRI': 4,\n 'FJA': 1,\n 'FORTUNA': 7,\n 'FWI': 11,\n 'GA': 2,\n 'GB': 20,\n 'GBK': 1,\n 'GERAI': 7,\n 'GJP': 19,\n 'GMP': 87,\n 'GPD': 15,\n 'HAJ': 12,\n 'HASANAH': 4,\n 'HERI': 22,\n 'HERMAN': 29,\n 'HILAL': 7,\n 'IAP': 37,\n 'ICA': 1,\n 'IDA': 26,\n 'IG': 1,\n 'ILA': 4,\n 'INA': 38,\n 'INN': 179,\n 'IP': 22,\n 'IUB': 24,\n 'JAILOLO': 29,\n 'JAKARTA': 34,\n 'JAY': 1,\n 'JB': 18,\n 'JRA': 4,\n 'JS': 2,\n 'JSNACK': 6,\n 'KAKRIA': 6,\n 'KAMPAS': 90,\n 'KBJ': 163,\n 'KBS': 1,\n 'KGA': 7,\n 'KGAK': 21,\n 'KK': 10,\n 'KKA': 17,\n 'KKL': 10,\n 'KLINIK': 1,\n 'KOBE': 6,\n 'KR': 75,\n 'LAMLO': 10,\n 'LG': 28,\n 'LINA': 31,\n 'LM': 2,\n 'MAJU': 7,\n 'MAKDAH': 48,\n 'MAPR': 6,\n 'MARA': 91,\n 'MARYAM': 3,\n 'MAS': 31,\n 'MAYA': 3,\n 'MBS': 27,\n 'MC': 6,\n 'MH': 3,\n 'MITRA': 58,\n 'MJA': 31,\n 'MJPP': 4,\n 'MN': 5,\n 'MNJ': 17,\n 'MOUNT': 233,\n 'MP': 5,\n 'MS': 13,\n 'MSJ': 1,\n 'MULIA': 3,\n 'MUTIARA': 25,\n 'MWS': 6,\n 'NGETOP': 59,\n 'NGT': 4,\n 'NIRMALA': 18,\n 'NNA': 4,\n 'NS': 2,\n 'NURUL': 7,\n 'NV': 136,\n 'OKHL': 88,\n 'PAP': 3,\n 'PAS': 2,\n 'PERMATA': 31,\n 'PGI': 29,\n 'PMM': 12,\n 'PP': 43,\n 'PPL': 31,\n 'PR': 59,\n 'PTTEMPO': 38,\n 'RAHMA': 1,\n 'RAHMAT': 21,\n 'RANI': 4,\n 'RAZAQ': 2,\n 'RETUR': 125,\n 'RR': 10,\n 'SA': 20,\n 'SAB': 23,\n 'SALFIX': 4,\n 'SAMPOERNA': 55,\n 'SAMSUL': 2,\n 'SB': 30,\n 'SBA': 9,\n 'SC': 3,\n 'SCM': 22,\n 'SDI': 2,\n 'SERANTING': 2,\n 'SINAR': 1,\n 'SJMA': 29,\n 'SJS': 20,\n 'SK': 95,\n 'SM': 178,\n 'SMA': 17,\n 'SRB': 24,\n 'SULTAN': 3,\n 'SURYA': 11,\n 'SURYAM': 51,\n 'SUSI': 16,\n 'TANGSE': 1,\n 'TARMIZI': 1,\n 'TAUFIQAH': 2,\n 'TEMPO': 1,\n 'TG': 11,\n 'TIARA': 34,\n 'TUAH': 43,\n 'UB': 47,\n 'UMJ': 51,\n 'URB': 2,\n 'UTI': 53,\n 'UTJ': 31,\n 'VG': 137,\n 'WOI': 22,\n 'WT': 39,\n 'YENI': 1,\n 'YIP': 63,\n 'YS': 29,\n 'YUSRA': 40,\n 'ZAIMAR': 1,\n 'ZULFAINI': 6,\n 'time_diff': 454.0}"
     },
     "execution_count": 8,
     "metadata": {},
     "output_type": "execute_result"
    }
   ],
   "source": [
    "#dictionary of sum of 1s for each supplier\n",
    "def supplier_dict(dataframe):\n",
    "  \"\"\"\n",
    "  Creates a dictionary containing the sum of 1s for each supplier\n",
    "  Args:\n",
    "    dataframe (dataframe): dataframe containing the dates\n",
    "\n",
    "  Returns:\n",
    "    supplier_dict (dict): dictionary containing the sum of 1s for each supplier\n",
    "  \"\"\"\n",
    "  supplier_dict = {}\n",
    "  for i in range(1, len(dataframe.columns)):\n",
    "    supplier_dict[dataframe.columns[i]] = dataframe[dataframe.columns[i]].sum()\n",
    "  return supplier_dict\n",
    "supplier_dict = supplier_dict(multi_hot)\n",
    "supplier_dict"
   ],
   "metadata": {
    "collapsed": false,
    "ExecuteTime": {
     "end_time": "2023-06-05T03:17:21.363395700Z",
     "start_time": "2023-06-05T03:17:21.273936900Z"
    }
   }
  },
  {
   "cell_type": "code",
   "execution_count": 9,
   "outputs": [
    {
     "data": {
      "text/plain": "          tanggal  AB  ABA  ABD  ABK  ABS  ADR  AFDHAL  AG  AI  ...  VG  WOI  \\\n0    1.641168e+09  -1   -1   -1   -1   -1   -1      -1  -1   0  ...   0   -1   \n1    1.641254e+09   0    0    0    0    0    0       0   0   0  ...   0    0   \n2    1.641341e+09   0    0    0    0    0    0       0   0   0  ...   1    0   \n3    1.641427e+09   0    1    0    0    0    1       0   1   0  ...   0    0   \n4    1.641514e+09   0    0    1    0    0    0       0   0   0  ...   0    0   \n..            ...  ..  ...  ...  ...  ...  ...     ...  ..  ..  ...  ..  ...   \n385  1.679962e+09   0    1    0    0    0    0       0   0   0  ...   1    0   \n386  1.680048e+09   0    0    0    0    0    0       0   0   0  ...   1    0   \n387  1.680134e+09   0    1    0    0    0    0       0   0   0  ...   0    1   \n388  1.680221e+09   0    0    0    0    0    0       0   0   0  ...   0    0   \n389  1.680307e+09   0    0    0    0    0    0       0   0   0  ...   0    0   \n\n     WT  YENI  YIP  YS  YUSRA  ZAIMAR  ZULFAINI  time_diff  \n0    -1    -1   -1  -1     -1      -1        -1        0.0  \n1     0     0    0   0      0       0         0        1.0  \n2     0     0    0   0      0       0         0        1.0  \n3     0     0    0   0      0       0         0        1.0  \n4     1     0    0   0      0       0         0        1.0  \n..   ..   ...  ...  ..    ...     ...       ...        ...  \n385   0     0    0   0      0       0         0        1.0  \n386   0     0    0   0      0       0         0        1.0  \n387   0     0    0   1      0       0         0        1.0  \n388   0     0    0   0      0       0         0        1.0  \n389   1     0    1   0      0       0         0        1.0  \n\n[390 rows x 201 columns]",
      "text/html": "<div>\n<style scoped>\n    .dataframe tbody tr th:only-of-type {\n        vertical-align: middle;\n    }\n\n    .dataframe tbody tr th {\n        vertical-align: top;\n    }\n\n    .dataframe thead th {\n        text-align: right;\n    }\n</style>\n<table border=\"1\" class=\"dataframe\">\n  <thead>\n    <tr style=\"text-align: right;\">\n      <th></th>\n      <th>tanggal</th>\n      <th>AB</th>\n      <th>ABA</th>\n      <th>ABD</th>\n      <th>ABK</th>\n      <th>ABS</th>\n      <th>ADR</th>\n      <th>AFDHAL</th>\n      <th>AG</th>\n      <th>AI</th>\n      <th>...</th>\n      <th>VG</th>\n      <th>WOI</th>\n      <th>WT</th>\n      <th>YENI</th>\n      <th>YIP</th>\n      <th>YS</th>\n      <th>YUSRA</th>\n      <th>ZAIMAR</th>\n      <th>ZULFAINI</th>\n      <th>time_diff</th>\n    </tr>\n  </thead>\n  <tbody>\n    <tr>\n      <th>0</th>\n      <td>1.641168e+09</td>\n      <td>-1</td>\n      <td>-1</td>\n      <td>-1</td>\n      <td>-1</td>\n      <td>-1</td>\n      <td>-1</td>\n      <td>-1</td>\n      <td>-1</td>\n      <td>0</td>\n      <td>...</td>\n      <td>0</td>\n      <td>-1</td>\n      <td>-1</td>\n      <td>-1</td>\n      <td>-1</td>\n      <td>-1</td>\n      <td>-1</td>\n      <td>-1</td>\n      <td>-1</td>\n      <td>0.0</td>\n    </tr>\n    <tr>\n      <th>1</th>\n      <td>1.641254e+09</td>\n      <td>0</td>\n      <td>0</td>\n      <td>0</td>\n      <td>0</td>\n      <td>0</td>\n      <td>0</td>\n      <td>0</td>\n      <td>0</td>\n      <td>0</td>\n      <td>...</td>\n      <td>0</td>\n      <td>0</td>\n      <td>0</td>\n      <td>0</td>\n      <td>0</td>\n      <td>0</td>\n      <td>0</td>\n      <td>0</td>\n      <td>0</td>\n      <td>1.0</td>\n    </tr>\n    <tr>\n      <th>2</th>\n      <td>1.641341e+09</td>\n      <td>0</td>\n      <td>0</td>\n      <td>0</td>\n      <td>0</td>\n      <td>0</td>\n      <td>0</td>\n      <td>0</td>\n      <td>0</td>\n      <td>0</td>\n      <td>...</td>\n      <td>1</td>\n      <td>0</td>\n      <td>0</td>\n      <td>0</td>\n      <td>0</td>\n      <td>0</td>\n      <td>0</td>\n      <td>0</td>\n      <td>0</td>\n      <td>1.0</td>\n    </tr>\n    <tr>\n      <th>3</th>\n      <td>1.641427e+09</td>\n      <td>0</td>\n      <td>1</td>\n      <td>0</td>\n      <td>0</td>\n      <td>0</td>\n      <td>1</td>\n      <td>0</td>\n      <td>1</td>\n      <td>0</td>\n      <td>...</td>\n      <td>0</td>\n      <td>0</td>\n      <td>0</td>\n      <td>0</td>\n      <td>0</td>\n      <td>0</td>\n      <td>0</td>\n      <td>0</td>\n      <td>0</td>\n      <td>1.0</td>\n    </tr>\n    <tr>\n      <th>4</th>\n      <td>1.641514e+09</td>\n      <td>0</td>\n      <td>0</td>\n      <td>1</td>\n      <td>0</td>\n      <td>0</td>\n      <td>0</td>\n      <td>0</td>\n      <td>0</td>\n      <td>0</td>\n      <td>...</td>\n      <td>0</td>\n      <td>0</td>\n      <td>1</td>\n      <td>0</td>\n      <td>0</td>\n      <td>0</td>\n      <td>0</td>\n      <td>0</td>\n      <td>0</td>\n      <td>1.0</td>\n    </tr>\n    <tr>\n      <th>...</th>\n      <td>...</td>\n      <td>...</td>\n      <td>...</td>\n      <td>...</td>\n      <td>...</td>\n      <td>...</td>\n      <td>...</td>\n      <td>...</td>\n      <td>...</td>\n      <td>...</td>\n      <td>...</td>\n      <td>...</td>\n      <td>...</td>\n      <td>...</td>\n      <td>...</td>\n      <td>...</td>\n      <td>...</td>\n      <td>...</td>\n      <td>...</td>\n      <td>...</td>\n      <td>...</td>\n    </tr>\n    <tr>\n      <th>385</th>\n      <td>1.679962e+09</td>\n      <td>0</td>\n      <td>1</td>\n      <td>0</td>\n      <td>0</td>\n      <td>0</td>\n      <td>0</td>\n      <td>0</td>\n      <td>0</td>\n      <td>0</td>\n      <td>...</td>\n      <td>1</td>\n      <td>0</td>\n      <td>0</td>\n      <td>0</td>\n      <td>0</td>\n      <td>0</td>\n      <td>0</td>\n      <td>0</td>\n      <td>0</td>\n      <td>1.0</td>\n    </tr>\n    <tr>\n      <th>386</th>\n      <td>1.680048e+09</td>\n      <td>0</td>\n      <td>0</td>\n      <td>0</td>\n      <td>0</td>\n      <td>0</td>\n      <td>0</td>\n      <td>0</td>\n      <td>0</td>\n      <td>0</td>\n      <td>...</td>\n      <td>1</td>\n      <td>0</td>\n      <td>0</td>\n      <td>0</td>\n      <td>0</td>\n      <td>0</td>\n      <td>0</td>\n      <td>0</td>\n      <td>0</td>\n      <td>1.0</td>\n    </tr>\n    <tr>\n      <th>387</th>\n      <td>1.680134e+09</td>\n      <td>0</td>\n      <td>1</td>\n      <td>0</td>\n      <td>0</td>\n      <td>0</td>\n      <td>0</td>\n      <td>0</td>\n      <td>0</td>\n      <td>0</td>\n      <td>...</td>\n      <td>0</td>\n      <td>1</td>\n      <td>0</td>\n      <td>0</td>\n      <td>0</td>\n      <td>1</td>\n      <td>0</td>\n      <td>0</td>\n      <td>0</td>\n      <td>1.0</td>\n    </tr>\n    <tr>\n      <th>388</th>\n      <td>1.680221e+09</td>\n      <td>0</td>\n      <td>0</td>\n      <td>0</td>\n      <td>0</td>\n      <td>0</td>\n      <td>0</td>\n      <td>0</td>\n      <td>0</td>\n      <td>0</td>\n      <td>...</td>\n      <td>0</td>\n      <td>0</td>\n      <td>0</td>\n      <td>0</td>\n      <td>0</td>\n      <td>0</td>\n      <td>0</td>\n      <td>0</td>\n      <td>0</td>\n      <td>1.0</td>\n    </tr>\n    <tr>\n      <th>389</th>\n      <td>1.680307e+09</td>\n      <td>0</td>\n      <td>0</td>\n      <td>0</td>\n      <td>0</td>\n      <td>0</td>\n      <td>0</td>\n      <td>0</td>\n      <td>0</td>\n      <td>0</td>\n      <td>...</td>\n      <td>0</td>\n      <td>0</td>\n      <td>1</td>\n      <td>0</td>\n      <td>1</td>\n      <td>0</td>\n      <td>0</td>\n      <td>0</td>\n      <td>0</td>\n      <td>1.0</td>\n    </tr>\n  </tbody>\n</table>\n<p>390 rows × 201 columns</p>\n</div>"
     },
     "execution_count": 9,
     "metadata": {},
     "output_type": "execute_result"
    }
   ],
   "source": [
    "#swap values of 0 and 1 in the first row of the dataframe (because the first row is the lamultihot date for supplier visits)\n",
    "def swap_0_1(dataframe):\n",
    "  \"\"\"\n",
    "  Swaps the values of 0 and 1 in the first row of the dataframe\n",
    "  Args:\n",
    "    dataframe (dataframe): dataframe containing the dates\n",
    "\n",
    "  Returns:\n",
    "    df (dataframe): dataframe containing the swapped values of 0 and 1 in the first row of the dataframe\n",
    "  \"\"\"\n",
    "  for i in range(1, len(dataframe.columns)):\n",
    "    if dataframe.iloc[0,i] == 0:\n",
    "      dataframe.iloc[0,i] = -1\n",
    "    else:\n",
    "      dataframe.iloc[0,i] = 0\n",
    "  return dataframe\n",
    "multi_hot = swap_0_1(multi_hot)\n",
    "multi_hot"
   ],
   "metadata": {
    "collapsed": false,
    "ExecuteTime": {
     "end_time": "2023-06-05T03:17:21.457666400Z",
     "start_time": "2023-06-05T03:17:21.274453200Z"
    }
   }
  },
  {
   "cell_type": "code",
   "execution_count": 10,
   "outputs": [
    {
     "data": {
      "text/plain": "          tanggal  AB  ABA  ABD  ABK  ABS  ADR  AFDHAL  AG   AI  ...  VG  WOI  \\\n0    1.641168e+09  -1   -1   -1   -1   -1   -1      -1  -1    0  ...   0   -1   \n1    1.641254e+09  -1   -1   -1   -1   -1   -1      -1  -1    1  ...   1   -1   \n2    1.641341e+09  -1   -1   -1   -1   -1   -1      -1  -1    2  ...   0   -1   \n3    1.641427e+09  -1    0   -1   -1   -1    0      -1   0    3  ...   1   -1   \n4    1.641514e+09  -1    1    0   -1   -1    1      -1   1    4  ...   2   -1   \n..            ...  ..  ...  ...  ...  ...  ...     ...  ..  ...  ...  ..  ...   \n385  1.679962e+09  91    0    7   99   43    3       7  14  133  ...   0   13   \n386  1.680048e+09  92    1    8  100   44    4       8  15  134  ...   0   14   \n387  1.680134e+09  93    0    9  101   45    5       9  16  135  ...   1    0   \n388  1.680221e+09  94    1   10  102   46    6      10  17  136  ...   2    1   \n389  1.680307e+09  95    2   11  103   47    7      11  18  137  ...   3    2   \n\n     WT  YENI  YIP  YS  YUSRA  ZAIMAR  ZULFAINI  time_diff  \n0    -1    -1   -1  -1     -1      -1        -1        0.0  \n1    -1    -1   -1  -1     -1      -1        -1        1.0  \n2    -1    -1   -1  -1     -1      -1        -1        1.0  \n3    -1    -1   -1  -1     -1      -1        -1        1.0  \n4     0    -1   -1  -1     -1      -1        -1        1.0  \n..   ..   ...  ...  ..    ...     ...       ...        ...  \n385   5   382    3  18     13     223        29        1.0  \n386   6   383    4  19     14     224        30        1.0  \n387   7   384    5   0     15     225        31        1.0  \n388   8   385    6   1     16     226        32        1.0  \n389   0   386    0   2     17     227        33        1.0  \n\n[390 rows x 201 columns]",
      "text/html": "<div>\n<style scoped>\n    .dataframe tbody tr th:only-of-type {\n        vertical-align: middle;\n    }\n\n    .dataframe tbody tr th {\n        vertical-align: top;\n    }\n\n    .dataframe thead th {\n        text-align: right;\n    }\n</style>\n<table border=\"1\" class=\"dataframe\">\n  <thead>\n    <tr style=\"text-align: right;\">\n      <th></th>\n      <th>tanggal</th>\n      <th>AB</th>\n      <th>ABA</th>\n      <th>ABD</th>\n      <th>ABK</th>\n      <th>ABS</th>\n      <th>ADR</th>\n      <th>AFDHAL</th>\n      <th>AG</th>\n      <th>AI</th>\n      <th>...</th>\n      <th>VG</th>\n      <th>WOI</th>\n      <th>WT</th>\n      <th>YENI</th>\n      <th>YIP</th>\n      <th>YS</th>\n      <th>YUSRA</th>\n      <th>ZAIMAR</th>\n      <th>ZULFAINI</th>\n      <th>time_diff</th>\n    </tr>\n  </thead>\n  <tbody>\n    <tr>\n      <th>0</th>\n      <td>1.641168e+09</td>\n      <td>-1</td>\n      <td>-1</td>\n      <td>-1</td>\n      <td>-1</td>\n      <td>-1</td>\n      <td>-1</td>\n      <td>-1</td>\n      <td>-1</td>\n      <td>0</td>\n      <td>...</td>\n      <td>0</td>\n      <td>-1</td>\n      <td>-1</td>\n      <td>-1</td>\n      <td>-1</td>\n      <td>-1</td>\n      <td>-1</td>\n      <td>-1</td>\n      <td>-1</td>\n      <td>0.0</td>\n    </tr>\n    <tr>\n      <th>1</th>\n      <td>1.641254e+09</td>\n      <td>-1</td>\n      <td>-1</td>\n      <td>-1</td>\n      <td>-1</td>\n      <td>-1</td>\n      <td>-1</td>\n      <td>-1</td>\n      <td>-1</td>\n      <td>1</td>\n      <td>...</td>\n      <td>1</td>\n      <td>-1</td>\n      <td>-1</td>\n      <td>-1</td>\n      <td>-1</td>\n      <td>-1</td>\n      <td>-1</td>\n      <td>-1</td>\n      <td>-1</td>\n      <td>1.0</td>\n    </tr>\n    <tr>\n      <th>2</th>\n      <td>1.641341e+09</td>\n      <td>-1</td>\n      <td>-1</td>\n      <td>-1</td>\n      <td>-1</td>\n      <td>-1</td>\n      <td>-1</td>\n      <td>-1</td>\n      <td>-1</td>\n      <td>2</td>\n      <td>...</td>\n      <td>0</td>\n      <td>-1</td>\n      <td>-1</td>\n      <td>-1</td>\n      <td>-1</td>\n      <td>-1</td>\n      <td>-1</td>\n      <td>-1</td>\n      <td>-1</td>\n      <td>1.0</td>\n    </tr>\n    <tr>\n      <th>3</th>\n      <td>1.641427e+09</td>\n      <td>-1</td>\n      <td>0</td>\n      <td>-1</td>\n      <td>-1</td>\n      <td>-1</td>\n      <td>0</td>\n      <td>-1</td>\n      <td>0</td>\n      <td>3</td>\n      <td>...</td>\n      <td>1</td>\n      <td>-1</td>\n      <td>-1</td>\n      <td>-1</td>\n      <td>-1</td>\n      <td>-1</td>\n      <td>-1</td>\n      <td>-1</td>\n      <td>-1</td>\n      <td>1.0</td>\n    </tr>\n    <tr>\n      <th>4</th>\n      <td>1.641514e+09</td>\n      <td>-1</td>\n      <td>1</td>\n      <td>0</td>\n      <td>-1</td>\n      <td>-1</td>\n      <td>1</td>\n      <td>-1</td>\n      <td>1</td>\n      <td>4</td>\n      <td>...</td>\n      <td>2</td>\n      <td>-1</td>\n      <td>0</td>\n      <td>-1</td>\n      <td>-1</td>\n      <td>-1</td>\n      <td>-1</td>\n      <td>-1</td>\n      <td>-1</td>\n      <td>1.0</td>\n    </tr>\n    <tr>\n      <th>...</th>\n      <td>...</td>\n      <td>...</td>\n      <td>...</td>\n      <td>...</td>\n      <td>...</td>\n      <td>...</td>\n      <td>...</td>\n      <td>...</td>\n      <td>...</td>\n      <td>...</td>\n      <td>...</td>\n      <td>...</td>\n      <td>...</td>\n      <td>...</td>\n      <td>...</td>\n      <td>...</td>\n      <td>...</td>\n      <td>...</td>\n      <td>...</td>\n      <td>...</td>\n      <td>...</td>\n    </tr>\n    <tr>\n      <th>385</th>\n      <td>1.679962e+09</td>\n      <td>91</td>\n      <td>0</td>\n      <td>7</td>\n      <td>99</td>\n      <td>43</td>\n      <td>3</td>\n      <td>7</td>\n      <td>14</td>\n      <td>133</td>\n      <td>...</td>\n      <td>0</td>\n      <td>13</td>\n      <td>5</td>\n      <td>382</td>\n      <td>3</td>\n      <td>18</td>\n      <td>13</td>\n      <td>223</td>\n      <td>29</td>\n      <td>1.0</td>\n    </tr>\n    <tr>\n      <th>386</th>\n      <td>1.680048e+09</td>\n      <td>92</td>\n      <td>1</td>\n      <td>8</td>\n      <td>100</td>\n      <td>44</td>\n      <td>4</td>\n      <td>8</td>\n      <td>15</td>\n      <td>134</td>\n      <td>...</td>\n      <td>0</td>\n      <td>14</td>\n      <td>6</td>\n      <td>383</td>\n      <td>4</td>\n      <td>19</td>\n      <td>14</td>\n      <td>224</td>\n      <td>30</td>\n      <td>1.0</td>\n    </tr>\n    <tr>\n      <th>387</th>\n      <td>1.680134e+09</td>\n      <td>93</td>\n      <td>0</td>\n      <td>9</td>\n      <td>101</td>\n      <td>45</td>\n      <td>5</td>\n      <td>9</td>\n      <td>16</td>\n      <td>135</td>\n      <td>...</td>\n      <td>1</td>\n      <td>0</td>\n      <td>7</td>\n      <td>384</td>\n      <td>5</td>\n      <td>0</td>\n      <td>15</td>\n      <td>225</td>\n      <td>31</td>\n      <td>1.0</td>\n    </tr>\n    <tr>\n      <th>388</th>\n      <td>1.680221e+09</td>\n      <td>94</td>\n      <td>1</td>\n      <td>10</td>\n      <td>102</td>\n      <td>46</td>\n      <td>6</td>\n      <td>10</td>\n      <td>17</td>\n      <td>136</td>\n      <td>...</td>\n      <td>2</td>\n      <td>1</td>\n      <td>8</td>\n      <td>385</td>\n      <td>6</td>\n      <td>1</td>\n      <td>16</td>\n      <td>226</td>\n      <td>32</td>\n      <td>1.0</td>\n    </tr>\n    <tr>\n      <th>389</th>\n      <td>1.680307e+09</td>\n      <td>95</td>\n      <td>2</td>\n      <td>11</td>\n      <td>103</td>\n      <td>47</td>\n      <td>7</td>\n      <td>11</td>\n      <td>18</td>\n      <td>137</td>\n      <td>...</td>\n      <td>3</td>\n      <td>2</td>\n      <td>0</td>\n      <td>386</td>\n      <td>0</td>\n      <td>2</td>\n      <td>17</td>\n      <td>227</td>\n      <td>33</td>\n      <td>1.0</td>\n    </tr>\n  </tbody>\n</table>\n<p>390 rows × 201 columns</p>\n</div>"
     },
     "execution_count": 10,
     "metadata": {},
     "output_type": "execute_result"
    }
   ],
   "source": [
    "#update each column\n",
    "def days_since_last_visit(dataframe):\n",
    "  \"\"\"\n",
    "  Adds a column containing the days till the next visit\n",
    "  Args:\n",
    "    dataframe (dataframe): dataframe containing the dates\n",
    "\n",
    "  Returns:\n",
    "    df (dataframe): dataframe containing the since last visit limited to a max of 365\n",
    "  \"\"\"\n",
    "  dataframe = dataframe.copy()\n",
    "  for i in range(1, len(dataframe.columns)-1):\n",
    "    for j in range(1, len(dataframe)):\n",
    "      if dataframe.iloc[j,i] == 0 and dataframe.iloc[j - 1,i] == -1:\n",
    "        dataframe.iloc[j,i] = -1\n",
    "      elif dataframe.iloc[j,i] == 0:\n",
    "        dataframe.iloc[j,i] = dataframe.iloc[j - 1,i] + dataframe.iloc[j,dataframe.columns.get_loc('time_diff')]\n",
    "      else:\n",
    "        dataframe.iloc[j,i] = 0\n",
    "  return dataframe\n",
    "days_diff = days_since_last_visit(multi_hot)\n",
    "days_diff"
   ],
   "metadata": {
    "collapsed": false,
    "ExecuteTime": {
     "end_time": "2023-06-05T03:17:40.887937100Z",
     "start_time": "2023-06-05T03:17:21.347752800Z"
    }
   }
  },
  {
   "cell_type": "code",
   "execution_count": 11,
   "outputs": [
    {
     "data": {
      "text/plain": "0      0.0\n1      1.0\n2      1.0\n3      1.0\n4      1.0\n      ... \n385    1.0\n386    1.0\n387    1.0\n388    1.0\n389    1.0\nName: time_diff, Length: 390, dtype: float64"
     },
     "execution_count": 11,
     "metadata": {},
     "output_type": "execute_result"
    }
   ],
   "source": [
    "#Remove any columns of suppliers that have not visited in the last 186 days or if all the rows are -1\n",
    "def remove_unvisited(dataframe):\n",
    "  \"\"\"\n",
    "  Removes any columns of suppliers that have not visited in the last 186 days or if all the rows are -1\n",
    "  Args:\n",
    "    dataframe (dataframe): dataframe containing the dates\n",
    "\n",
    "  Returns:\n",
    "    df (dataframe): dataframe containing the suppliers that have visited in the last 186 days\n",
    "  \"\"\"\n",
    "  changed = dataframe.copy()\n",
    "  for i in range(1, len(dataframe.columns)-1):\n",
    "    if dataframe.iloc[-1,i] == -1:\n",
    "      dataframe.pop(dataframe.columns[i])\n",
    "  return dataframe\n",
    "days_diff = remove_unvisited(days_diff)\n",
    "days_diff.pop('time_diff')\n",
    "multi_hot.pop('time_diff')"
   ],
   "metadata": {
    "collapsed": false,
    "ExecuteTime": {
     "end_time": "2023-06-05T03:17:40.909600800Z",
     "start_time": "2023-06-05T03:17:40.893445200Z"
    }
   }
  },
  {
   "cell_type": "code",
   "execution_count": 12,
   "outputs": [
    {
     "name": "stdout",
     "output_type": "stream",
     "text": [
      "{'ab': 1, 'aba': 2, 'abd': 3, 'abk': 4, 'abs': 5, 'adr': 6, 'afdhal': 7, 'ag': 8, 'ai': 9, 'ajl': 10, 'ajsb': 11, 'ajw': 12, 'albacar': 13, 'alfa': 14, 'ani': 15, 'anis': 16, 'ap': 17, 'apl': 18, 'aps': 19, 'aqilla': 20, 'arb': 21, 'arta': 22, 'asi': 23, 'asih': 24, 'asniahk': 25, 'awm': 26, 'ayu': 27, 'ba': 28, 'bcrs': 29, 'bentol': 30, 'berkah': 31, 'bhk': 32, 'bm': 33, 'bmc': 34, 'bml': 35, 'bsm': 36, 'bsp': 37, 'bukwati': 38, 'bunda': 39, 'cado': 40, 'cd': 41, 'ck': 42, 'cmpg': 43, 'cola': 44, 'cr': 45, 'db': 46, 'dba': 47, 'dbbp': 48, 'dbt': 49, 'dma': 50, 'dp': 51, 'ds': 52, 'eb': 53, 'ecn': 54, 'elbiruni': 55, 'elka': 56, 'elsie': 57, 'elyana': 58, 'enseval': 59, 'erna': 60, 'esse': 61, 'fajar': 62, 'fd': 63, 'fikri': 64, 'fja': 65, 'fortuna': 66, 'fwi': 67, 'ga': 68, 'gb': 69, 'gbk': 70, 'gerai': 71, 'gjp': 72, 'gmp': 73, 'gpd': 74, 'haj': 75, 'hasanah': 76, 'heri': 77, 'herman': 78, 'hilal': 79, 'iap': 80, 'ica': 81, 'ida': 82, 'ig': 83, 'ila': 84, 'ina': 85, 'inn': 86, 'ip': 87, 'iub': 88, 'jailolo': 89, 'jakarta': 90, 'jay': 91, 'jb': 92, 'jra': 93, 'js': 94, 'jsnack': 95, 'kakria': 96, 'kampas': 97, 'kbj': 98, 'kbs': 99, 'kga': 100, 'kgak': 101, 'kk': 102, 'kka': 103, 'kkl': 104, 'klinik': 105, 'kobe': 106, 'kr': 107, 'lamlo': 108, 'lg': 109, 'lina': 110, 'lm': 111, 'maju': 112, 'makdah': 113, 'mapr': 114, 'mara': 115, 'maryam': 116, 'mas': 117, 'maya': 118, 'mbs': 119, 'mc': 120, 'mh': 121, 'mitra': 122, 'mja': 123, 'mjpp': 124, 'mn': 125, 'mnj': 126, 'mount': 127, 'mp': 128, 'ms': 129, 'msj': 130, 'mulia': 131, 'mutiara': 132, 'mws': 133, 'ngetop': 134, 'ngt': 135, 'nirmala': 136, 'nna': 137, 'ns': 138, 'nurul': 139, 'nv': 140, 'okhl': 141, 'pap': 142, 'pas': 143, 'permata': 144, 'pgi': 145, 'pmm': 146, 'pp': 147, 'ppl': 148, 'pr': 149, 'pttempo': 150, 'rahma': 151, 'rahmat': 152, 'rani': 153, 'razaq': 154, 'retur': 155, 'rr': 156, 'sa': 157, 'sab': 158, 'salfix': 159, 'sampoerna': 160, 'samsul': 161, 'sb': 162, 'sba': 163, 'sc': 164, 'scm': 165, 'sdi': 166, 'seranting': 167, 'sinar': 168, 'sjma': 169, 'sjs': 170, 'sk': 171, 'sm': 172, 'sma': 173, 'srb': 174, 'sultan': 175, 'surya': 176, 'suryam': 177, 'susi': 178, 'tangse': 179, 'tarmizi': 180, 'taufiqah': 181, 'tempo': 182, 'tg': 183, 'tiara': 184, 'tuah': 185, 'ub': 186, 'umj': 187, 'urb': 188, 'uti': 189, 'utj': 190, 'vg': 191, 'woi': 192, 'wt': 193, 'yeni': 194, 'yip': 195, 'ys': 196, 'yusra': 197, 'zaimar': 198, 'zulfaini': 199}\n"
     ]
    }
   ],
   "source": [
    "def supplier_tokenizer(supplier):\n",
    "  \"\"\"\n",
    "  Instantiates the tokenizer for the supplier codes\n",
    "  Args:\n",
    "    supplier (list): upper case list of supplier codes\n",
    "\n",
    "  Returns:\n",
    "    tokenizer (object): an instance of the Tokenizer class containing the dict\n",
    "  \"\"\"\n",
    "\n",
    "  tokenizer = Tokenizer()\n",
    "  tokenizer.fit_on_texts(supplier)\n",
    "\n",
    "  index = tokenizer.word_index\n",
    "  sequence = tokenizer.texts_to_sequences(supplier)\n",
    "\n",
    "  return index, sequence\n",
    "\n",
    "supplier_index, supplier_sequence = supplier_tokenizer(multi_hot.columns[1:])\n",
    "\n",
    "print(supplier_index)\n",
    "\n",
    "\n",
    "\n"
   ],
   "metadata": {
    "collapsed": false,
    "ExecuteTime": {
     "end_time": "2023-06-05T03:17:40.963253700Z",
     "start_time": "2023-06-05T03:17:40.909600800Z"
    }
   }
  },
  {
   "cell_type": "code",
   "execution_count": 13,
   "outputs": [
    {
     "data": {
      "text/plain": "          tanggal  1  2  3  4  5  6  7  8  9  ...  190  191  192  193  194  \\\n0    1.641168e+09 -1 -1 -1 -1 -1 -1 -1 -1  0  ...   -1    0   -1   -1   -1   \n1    1.641254e+09  0  0  0  0  0  0  0  0  0  ...    0    0    0    0    0   \n2    1.641341e+09  0  0  0  0  0  0  0  0  0  ...    0    1    0    0    0   \n3    1.641427e+09  0  1  0  0  0  1  0  1  0  ...    0    0    0    0    0   \n4    1.641514e+09  0  0  1  0  0  0  0  0  0  ...    0    0    0    1    0   \n..            ... .. .. .. .. .. .. .. .. ..  ...  ...  ...  ...  ...  ...   \n385  1.679962e+09  0  1  0  0  0  0  0  0  0  ...    0    1    0    0    0   \n386  1.680048e+09  0  0  0  0  0  0  0  0  0  ...    0    1    0    0    0   \n387  1.680134e+09  0  1  0  0  0  0  0  0  0  ...    0    0    1    0    0   \n388  1.680221e+09  0  0  0  0  0  0  0  0  0  ...    0    0    0    0    0   \n389  1.680307e+09  0  0  0  0  0  0  0  0  0  ...    0    0    0    1    0   \n\n     195  196  197  198  199  \n0     -1   -1   -1   -1   -1  \n1      0    0    0    0    0  \n2      0    0    0    0    0  \n3      0    0    0    0    0  \n4      0    0    0    0    0  \n..   ...  ...  ...  ...  ...  \n385    0    0    0    0    0  \n386    0    0    0    0    0  \n387    0    1    0    0    0  \n388    0    0    0    0    0  \n389    1    0    0    0    0  \n\n[390 rows x 200 columns]",
      "text/html": "<div>\n<style scoped>\n    .dataframe tbody tr th:only-of-type {\n        vertical-align: middle;\n    }\n\n    .dataframe tbody tr th {\n        vertical-align: top;\n    }\n\n    .dataframe thead th {\n        text-align: right;\n    }\n</style>\n<table border=\"1\" class=\"dataframe\">\n  <thead>\n    <tr style=\"text-align: right;\">\n      <th></th>\n      <th>tanggal</th>\n      <th>1</th>\n      <th>2</th>\n      <th>3</th>\n      <th>4</th>\n      <th>5</th>\n      <th>6</th>\n      <th>7</th>\n      <th>8</th>\n      <th>9</th>\n      <th>...</th>\n      <th>190</th>\n      <th>191</th>\n      <th>192</th>\n      <th>193</th>\n      <th>194</th>\n      <th>195</th>\n      <th>196</th>\n      <th>197</th>\n      <th>198</th>\n      <th>199</th>\n    </tr>\n  </thead>\n  <tbody>\n    <tr>\n      <th>0</th>\n      <td>1.641168e+09</td>\n      <td>-1</td>\n      <td>-1</td>\n      <td>-1</td>\n      <td>-1</td>\n      <td>-1</td>\n      <td>-1</td>\n      <td>-1</td>\n      <td>-1</td>\n      <td>0</td>\n      <td>...</td>\n      <td>-1</td>\n      <td>0</td>\n      <td>-1</td>\n      <td>-1</td>\n      <td>-1</td>\n      <td>-1</td>\n      <td>-1</td>\n      <td>-1</td>\n      <td>-1</td>\n      <td>-1</td>\n    </tr>\n    <tr>\n      <th>1</th>\n      <td>1.641254e+09</td>\n      <td>0</td>\n      <td>0</td>\n      <td>0</td>\n      <td>0</td>\n      <td>0</td>\n      <td>0</td>\n      <td>0</td>\n      <td>0</td>\n      <td>0</td>\n      <td>...</td>\n      <td>0</td>\n      <td>0</td>\n      <td>0</td>\n      <td>0</td>\n      <td>0</td>\n      <td>0</td>\n      <td>0</td>\n      <td>0</td>\n      <td>0</td>\n      <td>0</td>\n    </tr>\n    <tr>\n      <th>2</th>\n      <td>1.641341e+09</td>\n      <td>0</td>\n      <td>0</td>\n      <td>0</td>\n      <td>0</td>\n      <td>0</td>\n      <td>0</td>\n      <td>0</td>\n      <td>0</td>\n      <td>0</td>\n      <td>...</td>\n      <td>0</td>\n      <td>1</td>\n      <td>0</td>\n      <td>0</td>\n      <td>0</td>\n      <td>0</td>\n      <td>0</td>\n      <td>0</td>\n      <td>0</td>\n      <td>0</td>\n    </tr>\n    <tr>\n      <th>3</th>\n      <td>1.641427e+09</td>\n      <td>0</td>\n      <td>1</td>\n      <td>0</td>\n      <td>0</td>\n      <td>0</td>\n      <td>1</td>\n      <td>0</td>\n      <td>1</td>\n      <td>0</td>\n      <td>...</td>\n      <td>0</td>\n      <td>0</td>\n      <td>0</td>\n      <td>0</td>\n      <td>0</td>\n      <td>0</td>\n      <td>0</td>\n      <td>0</td>\n      <td>0</td>\n      <td>0</td>\n    </tr>\n    <tr>\n      <th>4</th>\n      <td>1.641514e+09</td>\n      <td>0</td>\n      <td>0</td>\n      <td>1</td>\n      <td>0</td>\n      <td>0</td>\n      <td>0</td>\n      <td>0</td>\n      <td>0</td>\n      <td>0</td>\n      <td>...</td>\n      <td>0</td>\n      <td>0</td>\n      <td>0</td>\n      <td>1</td>\n      <td>0</td>\n      <td>0</td>\n      <td>0</td>\n      <td>0</td>\n      <td>0</td>\n      <td>0</td>\n    </tr>\n    <tr>\n      <th>...</th>\n      <td>...</td>\n      <td>...</td>\n      <td>...</td>\n      <td>...</td>\n      <td>...</td>\n      <td>...</td>\n      <td>...</td>\n      <td>...</td>\n      <td>...</td>\n      <td>...</td>\n      <td>...</td>\n      <td>...</td>\n      <td>...</td>\n      <td>...</td>\n      <td>...</td>\n      <td>...</td>\n      <td>...</td>\n      <td>...</td>\n      <td>...</td>\n      <td>...</td>\n      <td>...</td>\n    </tr>\n    <tr>\n      <th>385</th>\n      <td>1.679962e+09</td>\n      <td>0</td>\n      <td>1</td>\n      <td>0</td>\n      <td>0</td>\n      <td>0</td>\n      <td>0</td>\n      <td>0</td>\n      <td>0</td>\n      <td>0</td>\n      <td>...</td>\n      <td>0</td>\n      <td>1</td>\n      <td>0</td>\n      <td>0</td>\n      <td>0</td>\n      <td>0</td>\n      <td>0</td>\n      <td>0</td>\n      <td>0</td>\n      <td>0</td>\n    </tr>\n    <tr>\n      <th>386</th>\n      <td>1.680048e+09</td>\n      <td>0</td>\n      <td>0</td>\n      <td>0</td>\n      <td>0</td>\n      <td>0</td>\n      <td>0</td>\n      <td>0</td>\n      <td>0</td>\n      <td>0</td>\n      <td>...</td>\n      <td>0</td>\n      <td>1</td>\n      <td>0</td>\n      <td>0</td>\n      <td>0</td>\n      <td>0</td>\n      <td>0</td>\n      <td>0</td>\n      <td>0</td>\n      <td>0</td>\n    </tr>\n    <tr>\n      <th>387</th>\n      <td>1.680134e+09</td>\n      <td>0</td>\n      <td>1</td>\n      <td>0</td>\n      <td>0</td>\n      <td>0</td>\n      <td>0</td>\n      <td>0</td>\n      <td>0</td>\n      <td>0</td>\n      <td>...</td>\n      <td>0</td>\n      <td>0</td>\n      <td>1</td>\n      <td>0</td>\n      <td>0</td>\n      <td>0</td>\n      <td>1</td>\n      <td>0</td>\n      <td>0</td>\n      <td>0</td>\n    </tr>\n    <tr>\n      <th>388</th>\n      <td>1.680221e+09</td>\n      <td>0</td>\n      <td>0</td>\n      <td>0</td>\n      <td>0</td>\n      <td>0</td>\n      <td>0</td>\n      <td>0</td>\n      <td>0</td>\n      <td>0</td>\n      <td>...</td>\n      <td>0</td>\n      <td>0</td>\n      <td>0</td>\n      <td>0</td>\n      <td>0</td>\n      <td>0</td>\n      <td>0</td>\n      <td>0</td>\n      <td>0</td>\n      <td>0</td>\n    </tr>\n    <tr>\n      <th>389</th>\n      <td>1.680307e+09</td>\n      <td>0</td>\n      <td>0</td>\n      <td>0</td>\n      <td>0</td>\n      <td>0</td>\n      <td>0</td>\n      <td>0</td>\n      <td>0</td>\n      <td>0</td>\n      <td>...</td>\n      <td>0</td>\n      <td>0</td>\n      <td>0</td>\n      <td>1</td>\n      <td>0</td>\n      <td>1</td>\n      <td>0</td>\n      <td>0</td>\n      <td>0</td>\n      <td>0</td>\n    </tr>\n  </tbody>\n</table>\n<p>390 rows × 200 columns</p>\n</div>"
     },
     "execution_count": 13,
     "metadata": {},
     "output_type": "execute_result"
    }
   ],
   "source": [
    "#rename columns to supplier codes from supplier index\n",
    "def rename_columns(dataframe):\n",
    "  \"\"\"\n",
    "  Renames the columns to supplier codes from supplier index\n",
    "  Args:\n",
    "    dataframe (dataframe): dataframe containing the dates\n",
    "\n",
    "  Returns:\n",
    "    df (dataframe): dataframe containing the renamed columns\n",
    "  \"\"\"\n",
    "  dataframe = dataframe.copy()\n",
    "  for i in range(1, len(dataframe.columns)):\n",
    "    dataframe = dataframe.rename(columns = {dataframe.columns[i]: supplier_index[dataframe.columns[i].lower()]})\n",
    "  return dataframe\n",
    "renamed = rename_columns(multi_hot)\n",
    "renamed"
   ],
   "metadata": {
    "collapsed": false,
    "ExecuteTime": {
     "end_time": "2023-06-05T03:17:41.183346300Z",
     "start_time": "2023-06-05T03:17:40.926786300Z"
    }
   }
  },
  {
   "cell_type": "code",
   "execution_count": 22,
   "outputs": [
    {
     "data": {
      "text/plain": "<tf.Tensor: shape=(390, 200), dtype=float64, numpy=\narray([[ 1.6411680e+09, -1.0000000e+00, -1.0000000e+00, ...,\n        -1.0000000e+00, -1.0000000e+00, -1.0000000e+00],\n       [ 1.6412544e+09,  0.0000000e+00,  0.0000000e+00, ...,\n         0.0000000e+00,  0.0000000e+00,  0.0000000e+00],\n       [ 1.6413408e+09,  0.0000000e+00,  0.0000000e+00, ...,\n         0.0000000e+00,  0.0000000e+00,  0.0000000e+00],\n       ...,\n       [ 1.6801344e+09,  0.0000000e+00,  1.0000000e+00, ...,\n         0.0000000e+00,  0.0000000e+00,  0.0000000e+00],\n       [ 1.6802208e+09,  0.0000000e+00,  0.0000000e+00, ...,\n         0.0000000e+00,  0.0000000e+00,  0.0000000e+00],\n       [ 1.6803072e+09,  0.0000000e+00,  0.0000000e+00, ...,\n         0.0000000e+00,  0.0000000e+00,  0.0000000e+00]])>"
     },
     "execution_count": 22,
     "metadata": {},
     "output_type": "execute_result"
    }
   ],
   "source": [
    "#convert dataframe to tensor\n",
    "def convert_to_tensor(dataframe):\n",
    "  \"\"\"\n",
    "  Converts the dataframe to a tensor\n",
    "  Args:\n",
    "    dataframe (dataframe): dataframe containing the dates\n",
    "\n",
    "  Returns:\n",
    "    df (tensor): tensor containing the dataframe\n",
    "  \"\"\"\n",
    "  tensor = tf.convert_to_tensor(dataframe)\n",
    "  return tensor\n",
    "renamed = convert_to_tensor(renamed)\n",
    "renamed"
   ],
   "metadata": {
    "collapsed": false,
    "ExecuteTime": {
     "end_time": "2023-06-05T03:23:44.212893300Z",
     "start_time": "2023-06-05T03:23:44.181153100Z"
    }
   }
  },
  {
   "cell_type": "code",
   "execution_count": 23,
   "outputs": [
    {
     "data": {
      "text/plain": "<tf.Tensor: shape=(390,), dtype=float64, numpy=\narray([1.6411680e+09, 1.6412544e+09, 1.6413408e+09, 1.6414272e+09,\n       1.6415136e+09, 1.6416000e+09, 1.6417728e+09, 1.6418592e+09,\n       1.6419456e+09, 1.6420320e+09, 1.6421184e+09, 1.6422048e+09,\n       1.6423776e+09, 1.6424640e+09, 1.6425504e+09, 1.6426368e+09,\n       1.6427232e+09, 1.6428096e+09, 1.6429824e+09, 1.6430688e+09,\n       1.6431552e+09, 1.6432416e+09, 1.6433280e+09, 1.6434144e+09,\n       1.6435872e+09, 1.6436736e+09, 1.6437600e+09, 1.6438464e+09,\n       1.6439328e+09, 1.6440192e+09, 1.6441920e+09, 1.6442784e+09,\n       1.6443648e+09, 1.6444512e+09, 1.6445376e+09, 1.6446240e+09,\n       1.6447968e+09, 1.6448832e+09, 1.6449696e+09, 1.6450560e+09,\n       1.6451424e+09, 1.6452288e+09, 1.6453152e+09, 1.6454016e+09,\n       1.6454880e+09, 1.6455744e+09, 1.6456608e+09, 1.6457472e+09,\n       1.6458336e+09, 1.6460064e+09, 1.6460928e+09, 1.6461792e+09,\n       1.6462656e+09, 1.6463520e+09, 1.6464384e+09, 1.6466112e+09,\n       1.6466976e+09, 1.6467840e+09, 1.6468704e+09, 1.6469568e+09,\n       1.6470432e+09, 1.6472160e+09, 1.6473024e+09, 1.6473888e+09,\n       1.6474752e+09, 1.6475616e+09, 1.6476480e+09, 1.6478208e+09,\n       1.6479072e+09, 1.6479936e+09, 1.6480800e+09, 1.6481664e+09,\n       1.6482528e+09, 1.6484256e+09, 1.6485120e+09, 1.6485984e+09,\n       1.6486848e+09, 1.6487712e+09, 1.6488576e+09, 1.6489440e+09,\n       1.6490304e+09, 1.6491168e+09, 1.6492032e+09, 1.6492896e+09,\n       1.6493760e+09, 1.6494624e+09, 1.6495488e+09, 1.6496352e+09,\n       1.6497216e+09, 1.6498080e+09, 1.6498944e+09, 1.6499808e+09,\n       1.6500672e+09, 1.6502400e+09, 1.6503264e+09, 1.6504128e+09,\n       1.6504992e+09, 1.6505856e+09, 1.6506720e+09, 1.6508448e+09,\n       1.6509312e+09, 1.6510176e+09, 1.6511040e+09, 1.6511904e+09,\n       1.6512768e+09, 1.6517088e+09, 1.6517952e+09, 1.6518816e+09,\n       1.6520544e+09, 1.6521408e+09, 1.6522272e+09, 1.6523136e+09,\n       1.6524000e+09, 1.6524864e+09, 1.6526592e+09, 1.6527456e+09,\n       1.6528320e+09, 1.6529184e+09, 1.6530048e+09, 1.6530912e+09,\n       1.6532640e+09, 1.6533504e+09, 1.6534368e+09, 1.6535232e+09,\n       1.6536096e+09, 1.6536960e+09, 1.6538688e+09, 1.6539552e+09,\n       1.6540416e+09, 1.6541280e+09, 1.6542144e+09, 1.6543008e+09,\n       1.6544736e+09, 1.6545600e+09, 1.6546464e+09, 1.6547328e+09,\n       1.6548192e+09, 1.6549056e+09, 1.6550784e+09, 1.6551648e+09,\n       1.6552512e+09, 1.6553376e+09, 1.6554240e+09, 1.6555104e+09,\n       1.6556832e+09, 1.6557696e+09, 1.6558560e+09, 1.6559424e+09,\n       1.6560288e+09, 1.6561152e+09, 1.6562880e+09, 1.6563744e+09,\n       1.6564608e+09, 1.6565472e+09, 1.6566336e+09, 1.6567200e+09,\n       1.6568928e+09, 1.6569792e+09, 1.6570656e+09, 1.6571520e+09,\n       1.6572384e+09, 1.6573248e+09, 1.6574976e+09, 1.6575840e+09,\n       1.6576704e+09, 1.6577568e+09, 1.6578432e+09, 1.6579296e+09,\n       1.6581024e+09, 1.6581888e+09, 1.6582752e+09, 1.6583616e+09,\n       1.6584480e+09, 1.6585344e+09, 1.6587072e+09, 1.6587936e+09,\n       1.6588800e+09, 1.6589664e+09, 1.6590528e+09, 1.6591392e+09,\n       1.6593120e+09, 1.6593984e+09, 1.6594848e+09, 1.6595712e+09,\n       1.6596576e+09, 1.6597440e+09, 1.6599168e+09, 1.6600032e+09,\n       1.6600896e+09, 1.6601760e+09, 1.6602624e+09, 1.6603488e+09,\n       1.6605216e+09, 1.6606080e+09, 1.6606944e+09, 1.6607808e+09,\n       1.6608672e+09, 1.6609536e+09, 1.6611264e+09, 1.6612128e+09,\n       1.6612992e+09, 1.6613856e+09, 1.6614720e+09, 1.6615584e+09,\n       1.6617312e+09, 1.6618176e+09, 1.6619040e+09, 1.6619904e+09,\n       1.6620768e+09, 1.6621632e+09, 1.6623360e+09, 1.6624224e+09,\n       1.6625088e+09, 1.6625952e+09, 1.6626816e+09, 1.6627680e+09,\n       1.6629408e+09, 1.6630272e+09, 1.6631136e+09, 1.6632000e+09,\n       1.6632864e+09, 1.6633728e+09, 1.6635456e+09, 1.6636320e+09,\n       1.6637184e+09, 1.6638048e+09, 1.6638912e+09, 1.6639776e+09,\n       1.6641504e+09, 1.6642368e+09, 1.6643232e+09, 1.6644096e+09,\n       1.6644960e+09, 1.6645824e+09, 1.6647552e+09, 1.6648416e+09,\n       1.6649280e+09, 1.6650144e+09, 1.6651008e+09, 1.6651872e+09,\n       1.6653600e+09, 1.6654464e+09, 1.6655328e+09, 1.6656192e+09,\n       1.6657056e+09, 1.6657920e+09, 1.6659648e+09, 1.6660512e+09,\n       1.6661376e+09, 1.6662240e+09, 1.6663104e+09, 1.6663968e+09,\n       1.6665696e+09, 1.6666560e+09, 1.6667424e+09, 1.6668288e+09,\n       1.6669152e+09, 1.6670016e+09, 1.6671744e+09, 1.6672608e+09,\n       1.6673472e+09, 1.6674336e+09, 1.6675200e+09, 1.6676064e+09,\n       1.6677792e+09, 1.6678656e+09, 1.6679520e+09, 1.6680384e+09,\n       1.6681248e+09, 1.6682112e+09, 1.6683840e+09, 1.6684704e+09,\n       1.6685568e+09, 1.6686432e+09, 1.6687296e+09, 1.6688160e+09,\n       1.6689888e+09, 1.6690752e+09, 1.6691616e+09, 1.6692480e+09,\n       1.6693344e+09, 1.6694208e+09, 1.6695936e+09, 1.6696800e+09,\n       1.6697664e+09, 1.6698528e+09, 1.6699392e+09, 1.6700256e+09,\n       1.6701984e+09, 1.6702848e+09, 1.6703712e+09, 1.6704576e+09,\n       1.6705440e+09, 1.6706304e+09, 1.6708032e+09, 1.6708896e+09,\n       1.6709760e+09, 1.6710624e+09, 1.6711488e+09, 1.6712352e+09,\n       1.6714080e+09, 1.6714944e+09, 1.6715808e+09, 1.6716672e+09,\n       1.6717536e+09, 1.6718400e+09, 1.6720128e+09, 1.6720992e+09,\n       1.6721856e+09, 1.6722720e+09, 1.6723584e+09, 1.6724448e+09,\n       1.6726176e+09, 1.6727040e+09, 1.6727904e+09, 1.6728768e+09,\n       1.6729632e+09, 1.6730496e+09, 1.6732224e+09, 1.6733088e+09,\n       1.6733952e+09, 1.6734816e+09, 1.6735680e+09, 1.6736544e+09,\n       1.6738272e+09, 1.6739136e+09, 1.6740000e+09, 1.6740864e+09,\n       1.6741728e+09, 1.6742592e+09, 1.6744320e+09, 1.6745184e+09,\n       1.6746048e+09, 1.6746912e+09, 1.6747776e+09, 1.6748640e+09,\n       1.6750368e+09, 1.6751232e+09, 1.6752096e+09, 1.6752960e+09,\n       1.6753824e+09, 1.6754688e+09, 1.6756416e+09, 1.6757280e+09,\n       1.6758144e+09, 1.6759008e+09, 1.6759872e+09, 1.6760736e+09,\n       1.6762464e+09, 1.6763328e+09, 1.6764192e+09, 1.6765056e+09,\n       1.6765920e+09, 1.6766784e+09, 1.6768512e+09, 1.6769376e+09,\n       1.6770240e+09, 1.6771104e+09, 1.6771968e+09, 1.6772832e+09,\n       1.6774560e+09, 1.6775424e+09, 1.6776288e+09, 1.6777152e+09,\n       1.6778016e+09, 1.6778880e+09, 1.6780608e+09, 1.6781472e+09,\n       1.6782336e+09, 1.6783200e+09, 1.6784064e+09, 1.6784928e+09,\n       1.6786656e+09, 1.6787520e+09, 1.6788384e+09, 1.6789248e+09,\n       1.6790112e+09, 1.6790976e+09, 1.6792704e+09, 1.6793568e+09,\n       1.6794432e+09, 1.6795296e+09, 1.6796160e+09, 1.6797024e+09,\n       1.6798752e+09, 1.6799616e+09, 1.6800480e+09, 1.6801344e+09,\n       1.6802208e+09, 1.6803072e+09])>"
     },
     "execution_count": 23,
     "metadata": {},
     "output_type": "execute_result"
    }
   ],
   "source": [
    "#split first column of tensor into features and rest into labels\n",
    "def split_tensor(dataframe):\n",
    "  \"\"\"\n",
    "  Splits the first column of the tensor into features and rest into labels\n",
    "  Args:\n",
    "    dataframe (dataframe): dataframe containing the dates\n",
    "\n",
    "  Returns:\n",
    "    df (tensor): tensor containing the features and labels\n",
    "  \"\"\"\n",
    "  features = dataframe[:,0]\n",
    "  labels = dataframe[:,1:]\n",
    "  return features, labels\n",
    "features, labels = split_tensor(renamed)\n",
    "features\n"
   ],
   "metadata": {
    "collapsed": false,
    "ExecuteTime": {
     "end_time": "2023-06-05T03:24:57.715750300Z",
     "start_time": "2023-06-05T03:24:57.684028Z"
    }
   }
  },
  {
   "cell_type": "code",
   "execution_count": 25,
   "outputs": [
    {
     "data": {
      "text/plain": "<_TensorSliceDataset element_spec=(TensorSpec(shape=(), dtype=tf.float64, name=None), TensorSpec(shape=(199,), dtype=tf.float64, name=None))>"
     },
     "execution_count": 25,
     "metadata": {},
     "output_type": "execute_result"
    }
   ],
   "source": [
    "#create tensor dataset\n",
    "def create_dataset(features, labels):\n",
    "  \"\"\"\n",
    "  Creates a tensor dataset\n",
    "  Args:\n",
    "    features (tensor): tensor containing the features\n",
    "    labels (tensor): tensor containing the labels\n",
    "\n",
    "  Returns:\n",
    "    dataset (object): an instance of the TensorSliceDataset class\n",
    "  \"\"\"\n",
    "  dataset = tf.data.Dataset.from_tensor_slices((features, labels))\n",
    "  return dataset\n",
    "dataset = create_dataset(features, labels)\n",
    "dataset\n"
   ],
   "metadata": {
    "collapsed": false,
    "ExecuteTime": {
     "end_time": "2023-06-05T03:30:01.145998700Z",
     "start_time": "2023-06-05T03:30:01.098660200Z"
    }
   }
  },
  {
   "cell_type": "code",
   "execution_count": null,
   "outputs": [],
   "source": [],
   "metadata": {
    "collapsed": false
   }
  },
  {
   "cell_type": "markdown",
   "source": [
    "# Model Architecture"
   ],
   "metadata": {
    "collapsed": false
   }
  },
  {
   "cell_type": "code",
   "execution_count": 15,
   "outputs": [],
   "source": [
    "#create a model with variable learning rate\n",
    "def create_model(learning_rate):\n",
    "  \"\"\"\n",
    "  Creates a model with variable learning rate\n",
    "  Args:\n",
    "    learning_rate (float): learning rate for the model\n",
    "\n",
    "  Returns:\n",
    "    model (object): an instance of the Sequential class\n",
    "  \"\"\"\n",
    "  model = tf.keras.Sequential([\n",
    "    tf.keras.layers.Dense(64, activation='relu', input_shape=(1,)),\n",
    "    tf.keras.layers.Dense(64, activation='relu'),\n",
    "    tf.keras.layers.Dense(64, activation='relu'),\n",
    "    tf.keras.layers.Dense(len(supplier_index), activation='sigmoid')\n",
    "  ])\n",
    "\n",
    "  model.compile(optimizer=tf.keras.optimizers.Adam(learning_rate=learning_rate),\n",
    "                loss='BinaryCrossentropy',\n",
    "                metrics=['accuracy'])\n",
    "  return model\n"
   ],
   "metadata": {
    "collapsed": false,
    "ExecuteTime": {
     "end_time": "2023-06-05T03:17:41.183346300Z",
     "start_time": "2023-06-05T03:17:41.120470600Z"
    }
   }
  },
  {
   "cell_type": "code",
   "execution_count": 16,
   "outputs": [
    {
     "name": "stdout",
     "output_type": "stream",
     "text": [
      "Epoch 1/10\n",
      "312/312 [==============================] - 3s 3ms/step - loss: 768911.3125 - accuracy: 0.0032 - val_loss: 0.6371 - val_accuracy: 0.0000e+00\n",
      "Epoch 2/10\n",
      "312/312 [==============================] - 1s 2ms/step - loss: 0.5848 - accuracy: 0.0032 - val_loss: 0.5391 - val_accuracy: 0.0000e+00\n",
      "Epoch 3/10\n",
      "312/312 [==============================] - 1s 3ms/step - loss: 0.4978 - accuracy: 0.0000e+00 - val_loss: 0.4649 - val_accuracy: 0.0000e+00\n",
      "Epoch 4/10\n",
      "312/312 [==============================] - 1s 2ms/step - loss: 0.4339 - accuracy: 0.0032 - val_loss: 0.4104 - val_accuracy: 0.0000e+00\n",
      "Epoch 5/10\n",
      "312/312 [==============================] - 1s 2ms/step - loss: 0.3853 - accuracy: 0.0000e+00 - val_loss: 0.3671 - val_accuracy: 0.0000e+00\n",
      "Epoch 6/10\n",
      "312/312 [==============================] - 1s 2ms/step - loss: 0.3511 - accuracy: 0.0000e+00 - val_loss: 0.3408 - val_accuracy: 0.0000e+00\n",
      "Epoch 7/10\n",
      "312/312 [==============================] - 1s 2ms/step - loss: 0.3221 - accuracy: 0.0032 - val_loss: 0.3123 - val_accuracy: 0.0000e+00\n",
      "Epoch 8/10\n",
      "312/312 [==============================] - 1s 2ms/step - loss: 0.2949 - accuracy: 0.0032 - val_loss: 0.2859 - val_accuracy: 0.0000e+00\n",
      "Epoch 9/10\n",
      "312/312 [==============================] - 1s 2ms/step - loss: 0.2758 - accuracy: 0.0032 - val_loss: 0.2821 - val_accuracy: 0.0000e+00\n",
      "Epoch 10/10\n",
      "312/312 [==============================] - 1s 2ms/step - loss: 0.2630 - accuracy: 0.0032 - val_loss: 0.2658 - val_accuracy: 0.0000e+00\n",
      "Epoch 1/10\n",
      "312/312 [==============================] - 3s 3ms/step - loss: 204396.7031 - accuracy: 0.0000e+00 - val_loss: 0.2702 - val_accuracy: 0.0000e+00\n",
      "Epoch 2/10\n",
      "312/312 [==============================] - 1s 2ms/step - loss: 0.2340 - accuracy: 0.0000e+00 - val_loss: 0.1622 - val_accuracy: 0.0000e+00\n",
      "Epoch 3/10\n",
      "312/312 [==============================] - 1s 2ms/step - loss: 0.2076 - accuracy: 0.0032 - val_loss: 0.2029 - val_accuracy: 0.0000e+00\n",
      "Epoch 4/10\n",
      "312/312 [==============================] - 1s 2ms/step - loss: 0.2020 - accuracy: 0.0032 - val_loss: 0.2000 - val_accuracy: 0.0000e+00\n",
      "Epoch 5/10\n",
      "312/312 [==============================] - 1s 2ms/step - loss: 0.1992 - accuracy: 0.0032 - val_loss: 0.2090 - val_accuracy: 0.0000e+00\n",
      "Epoch 6/10\n",
      "312/312 [==============================] - 1s 2ms/step - loss: 0.1966 - accuracy: 0.0032 - val_loss: 0.1965 - val_accuracy: 0.0000e+00\n",
      "Epoch 7/10\n",
      "312/312 [==============================] - 1s 2ms/step - loss: 0.1979 - accuracy: 0.0032 - val_loss: 0.1962 - val_accuracy: 0.0000e+00\n",
      "Epoch 8/10\n",
      "312/312 [==============================] - 1s 2ms/step - loss: 0.2075 - accuracy: 0.0032 - val_loss: 0.2087 - val_accuracy: 0.0000e+00\n",
      "Epoch 9/10\n",
      "312/312 [==============================] - 1s 2ms/step - loss: 0.1964 - accuracy: 0.0032 - val_loss: 0.2101 - val_accuracy: 0.0000e+00\n",
      "Epoch 10/10\n",
      "312/312 [==============================] - 1s 2ms/step - loss: 0.1957 - accuracy: 0.0032 - val_loss: 0.1979 - val_accuracy: 0.0000e+00\n",
      "Epoch 1/10\n",
      "312/312 [==============================] - 3s 3ms/step - loss: 362750.5000 - accuracy: 0.0000e+00 - val_loss: 0.2155 - val_accuracy: 0.0000e+00\n",
      "Epoch 2/10\n",
      "312/312 [==============================] - 1s 2ms/step - loss: 0.2136 - accuracy: 0.0000e+00 - val_loss: 0.2014 - val_accuracy: 0.0000e+00\n",
      "Epoch 3/10\n",
      "312/312 [==============================] - 1s 2ms/step - loss: 0.2038 - accuracy: 0.0032 - val_loss: 0.2018 - val_accuracy: 0.0000e+00\n",
      "Epoch 4/10\n",
      "312/312 [==============================] - 1s 2ms/step - loss: 0.2111 - accuracy: 0.0000e+00 - val_loss: 0.2187 - val_accuracy: 0.0000e+00\n",
      "Epoch 5/10\n",
      "312/312 [==============================] - 1s 2ms/step - loss: 0.2033 - accuracy: 0.0032 - val_loss: 0.1206 - val_accuracy: 0.0000e+00\n",
      "Epoch 6/10\n",
      "312/312 [==============================] - 1s 2ms/step - loss: 0.2000 - accuracy: 0.0064 - val_loss: 0.2013 - val_accuracy: 0.0000e+00\n",
      "Epoch 7/10\n",
      "312/312 [==============================] - 1s 2ms/step - loss: 0.2036 - accuracy: 0.0000e+00 - val_loss: 0.2050 - val_accuracy: 0.0000e+00\n",
      "Epoch 8/10\n",
      "312/312 [==============================] - 1s 2ms/step - loss: 0.2139 - accuracy: 0.0032 - val_loss: 0.2063 - val_accuracy: 0.0000e+00\n",
      "Epoch 9/10\n",
      "312/312 [==============================] - 1s 2ms/step - loss: 0.2021 - accuracy: 0.0000e+00 - val_loss: 0.2062 - val_accuracy: 0.0000e+00\n",
      "Epoch 10/10\n",
      "312/312 [==============================] - 1s 2ms/step - loss: 0.2014 - accuracy: 0.0032 - val_loss: 0.2089 - val_accuracy: 0.0000e+00\n",
      "Epoch 1/10\n",
      "312/312 [==============================] - 2s 3ms/step - loss: 1295466.0000 - accuracy: 0.0128 - val_loss: 0.2115 - val_accuracy: 0.0000e+00\n",
      "Epoch 2/10\n",
      "312/312 [==============================] - 1s 2ms/step - loss: 0.2103 - accuracy: 0.0160 - val_loss: 0.2220 - val_accuracy: 0.0000e+00\n",
      "Epoch 3/10\n",
      "312/312 [==============================] - 1s 2ms/step - loss: 0.2078 - accuracy: 0.0064 - val_loss: 0.2191 - val_accuracy: 0.0000e+00\n",
      "Epoch 4/10\n",
      "312/312 [==============================] - 1s 2ms/step - loss: 0.2063 - accuracy: 0.0000e+00 - val_loss: 0.2156 - val_accuracy: 0.0000e+00\n",
      "Epoch 5/10\n",
      "312/312 [==============================] - 1s 2ms/step - loss: 0.2176 - accuracy: 0.0064 - val_loss: 0.2174 - val_accuracy: 0.0000e+00\n",
      "Epoch 6/10\n",
      "312/312 [==============================] - 1s 2ms/step - loss: 0.2068 - accuracy: 0.0192 - val_loss: 0.2227 - val_accuracy: 0.0256\n",
      "Epoch 7/10\n",
      "312/312 [==============================] - 1s 2ms/step - loss: 0.2076 - accuracy: 0.0000e+00 - val_loss: 0.2128 - val_accuracy: 0.0000e+00\n",
      "Epoch 8/10\n",
      "312/312 [==============================] - 1s 2ms/step - loss: 0.2147 - accuracy: 0.0000e+00 - val_loss: 0.2283 - val_accuracy: 0.0000e+00\n",
      "Epoch 9/10\n",
      "312/312 [==============================] - 1s 2ms/step - loss: 0.2071 - accuracy: 0.0000e+00 - val_loss: 0.1252 - val_accuracy: 0.0000e+00\n",
      "Epoch 10/10\n",
      "312/312 [==============================] - 1s 2ms/step - loss: 0.2057 - accuracy: 0.0032 - val_loss: 0.0973 - val_accuracy: 0.0000e+00\n",
      "Epoch 1/10\n",
      "312/312 [==============================] - 2s 3ms/step - loss: 4499955.5000 - accuracy: 0.0000e+00 - val_loss: 0.2048 - val_accuracy: 0.0256\n",
      "Epoch 2/10\n",
      "312/312 [==============================] - 1s 2ms/step - loss: 0.2113 - accuracy: 0.0160 - val_loss: 0.2174 - val_accuracy: 0.0000e+00\n",
      "Epoch 3/10\n",
      "312/312 [==============================] - 1s 2ms/step - loss: 0.2134 - accuracy: 0.0032 - val_loss: 0.2289 - val_accuracy: 0.0000e+00\n",
      "Epoch 4/10\n",
      "312/312 [==============================] - 1s 2ms/step - loss: 0.2131 - accuracy: 0.0032 - val_loss: 0.2315 - val_accuracy: 0.0000e+00\n",
      "Epoch 5/10\n",
      "312/312 [==============================] - 1s 2ms/step - loss: 0.2130 - accuracy: 0.0064 - val_loss: 0.2291 - val_accuracy: 0.0000e+00\n",
      "Epoch 6/10\n",
      "312/312 [==============================] - 1s 2ms/step - loss: 0.2235 - accuracy: 0.0032 - val_loss: 0.2174 - val_accuracy: 0.0000e+00\n",
      "Epoch 7/10\n",
      "312/312 [==============================] - 1s 2ms/step - loss: 0.2223 - accuracy: 0.0064 - val_loss: 0.2070 - val_accuracy: 0.0000e+00\n",
      "Epoch 8/10\n",
      "312/312 [==============================] - 1s 2ms/step - loss: 0.2254 - accuracy: 0.0064 - val_loss: 0.2135 - val_accuracy: 0.0000e+00\n",
      "Epoch 9/10\n",
      "312/312 [==============================] - 1s 2ms/step - loss: 0.2093 - accuracy: 0.0064 - val_loss: 0.2365 - val_accuracy: 0.0000e+00\n",
      "Epoch 10/10\n",
      "312/312 [==============================] - 1s 2ms/step - loss: 0.2131 - accuracy: 0.0032 - val_loss: 0.2237 - val_accuracy: 0.0000e+00\n"
     ]
    }
   ],
   "source": [
    "#compile models with different learning rates\n",
    "learning_rates = [0.001, 0.01, 0.1, 0.2, 0.3]\n",
    "models = []\n",
    "for learning_rate in learning_rates:\n",
    "  models.append(create_model(learning_rate))\n",
    "\n",
    "#determine the best learning rate\n",
    "histories = []\n",
    "for model in models:\n",
    "  history = model.fit(train_dataset.batch(1), epochs=10, validation_data=val_dataset.batch(1), verbose=1)\n",
    "  histories.append(history)\n"
   ],
   "metadata": {
    "collapsed": false,
    "ExecuteTime": {
     "end_time": "2023-06-05T03:18:24.747755900Z",
     "start_time": "2023-06-05T03:17:41.153646900Z"
    }
   }
  },
  {
   "cell_type": "markdown",
   "source": [
    "# Analysis"
   ],
   "metadata": {
    "id": "2_6PguF7Kuzf"
   }
  },
  {
   "cell_type": "code",
   "execution_count": 17,
   "outputs": [
    {
     "data": {
      "text/plain": "<Figure size 640x480 with 1 Axes>",
      "image/png": "[encoded data removed]"
     },
     "metadata": {},
     "output_type": "display_data"
    },
    {
     "data": {
      "text/plain": "<Figure size 640x480 with 1 Axes>",
      "image/png": "[encoded data removed]"
     },
     "metadata": {},
     "output_type": "display_data"
    },
    {
     "data": {
      "text/plain": "<Figure size 640x480 with 1 Axes>",
      "image/png": "[encoded data removed]"
     },
     "metadata": {},
     "output_type": "display_data"
    },
    {
     "data": {
      "text/plain": "<Figure size 640x480 with 1 Axes>",
      "image/png": "[encoded data removed]"
     },
     "metadata": {},
     "output_type": "display_data"
    },
    {
     "data": {
      "text/plain": "<Figure size 640x480 with 1 Axes>",
      "image/png": "[encoded data removed]"
     },
     "metadata": {},
     "output_type": "display_data"
    }
   ],
   "source": [
    "#plot the loss and accuracy for each learning rate\n",
    "def plot_loss(history):\n",
    "  \"\"\"\n",
    "  Plots the loss and accuracy for each learning rate\n",
    "  Args:\n",
    "    history (object): an instance of the History class\n",
    "\n",
    "  Returns:\n",
    "    None\n",
    "  \"\"\"\n",
    "  plt.plot(history.history['loss'], label='loss')\n",
    "  plt.plot(history.history['val_loss'], label='val_loss')\n",
    "  plt.xlabel('Epoch')\n",
    "  plt.ylabel('Error [MPG]')\n",
    "  plt.ylim([0, 10])\n",
    "  plt.legend()\n",
    "  plt.grid(True)\n",
    "\n",
    "for i in range(len(histories)):\n",
    "    plot_loss(histories[i])\n",
    "    plt.title('Learning Rate: ' + str(learning_rates[i]))\n",
    "    plt.show()\n",
    "\n"
   ],
   "metadata": {
    "collapsed": false,
    "ExecuteTime": {
     "end_time": "2023-06-05T03:18:25.679483200Z",
     "start_time": "2023-06-05T03:18:24.747755900Z"
    }
   }
  },
  {
   "cell_type": "code",
   "execution_count": 18,
   "outputs": [
    {
     "name": "stdout",
     "output_type": "stream",
     "text": [
      "Epoch 1/100\n",
      "312/312 [==============================] - 2s 3ms/step - loss: 705407.0000 - accuracy: 0.0064 - val_loss: 46493.2773 - val_accuracy: 0.0000e+00\n",
      "Epoch 2/100\n",
      "312/312 [==============================] - 1s 2ms/step - loss: 6616.2686 - accuracy: 0.0032 - val_loss: 0.5702 - val_accuracy: 0.0000e+00\n",
      "Epoch 3/100\n",
      "312/312 [==============================] - 1s 2ms/step - loss: 0.5233 - accuracy: 0.0000e+00 - val_loss: 0.4861 - val_accuracy: 0.0000e+00\n",
      "Epoch 4/100\n",
      "312/312 [==============================] - 1s 2ms/step - loss: 0.4528 - accuracy: 0.0032 - val_loss: 0.4223 - val_accuracy: 0.0000e+00\n",
      "Epoch 5/100\n",
      "312/312 [==============================] - 1s 2ms/step - loss: 0.3999 - accuracy: 0.0032 - val_loss: 0.3825 - val_accuracy: 0.0000e+00\n",
      "Epoch 6/100\n",
      "312/312 [==============================] - 1s 3ms/step - loss: 0.3562 - accuracy: 0.0032 - val_loss: 0.3422 - val_accuracy: 0.0000e+00\n",
      "Epoch 7/100\n",
      "312/312 [==============================] - 1s 2ms/step - loss: 0.3246 - accuracy: 0.0000e+00 - val_loss: 0.2798 - val_accuracy: 0.0000e+00\n",
      "Epoch 8/100\n",
      "312/312 [==============================] - 1s 2ms/step - loss: 0.2987 - accuracy: 0.0032 - val_loss: 0.2903 - val_accuracy: 0.0256\n",
      "Epoch 9/100\n",
      "312/312 [==============================] - 1s 2ms/step - loss: 0.2791 - accuracy: 0.0032 - val_loss: 0.2773 - val_accuracy: 0.0000e+00\n",
      "Epoch 10/100\n",
      "312/312 [==============================] - 1s 2ms/step - loss: 0.2656 - accuracy: 0.0000e+00 - val_loss: 0.2674 - val_accuracy: 0.0000e+00\n",
      "Epoch 11/100\n",
      "312/312 [==============================] - 1s 2ms/step - loss: 0.2522 - accuracy: 0.0000e+00 - val_loss: 0.2500 - val_accuracy: 0.0000e+00\n",
      "Epoch 12/100\n",
      "312/312 [==============================] - 1s 2ms/step - loss: 0.2421 - accuracy: 0.0032 - val_loss: 0.2420 - val_accuracy: 0.0000e+00\n",
      "Epoch 13/100\n",
      "312/312 [==============================] - 1s 2ms/step - loss: 0.2352 - accuracy: 0.0032 - val_loss: 0.1977 - val_accuracy: 0.0000e+00\n",
      "Epoch 14/100\n",
      "312/312 [==============================] - 1s 2ms/step - loss: 0.2292 - accuracy: 0.0032 - val_loss: 0.2396 - val_accuracy: 0.0000e+00\n",
      "Epoch 15/100\n",
      "312/312 [==============================] - 1s 2ms/step - loss: 0.2235 - accuracy: 0.0032 - val_loss: 0.2387 - val_accuracy: 0.0000e+00\n",
      "Epoch 16/100\n",
      "312/312 [==============================] - 1s 2ms/step - loss: 0.2195 - accuracy: 0.0032 - val_loss: 0.2440 - val_accuracy: 0.0000e+00\n",
      "Epoch 17/100\n",
      "312/312 [==============================] - 1s 2ms/step - loss: 0.2154 - accuracy: 0.0032 - val_loss: 0.2171 - val_accuracy: 0.0000e+00\n",
      "Epoch 18/100\n",
      "312/312 [==============================] - 1s 2ms/step - loss: 0.2111 - accuracy: 0.0032 - val_loss: 0.2134 - val_accuracy: 0.0256\n",
      "Epoch 19/100\n",
      "312/312 [==============================] - 1s 2ms/step - loss: 0.2101 - accuracy: 0.0032 - val_loss: 0.2159 - val_accuracy: 0.0000e+00\n",
      "Epoch 20/100\n",
      "312/312 [==============================] - 1s 2ms/step - loss: 0.2078 - accuracy: 0.0032 - val_loss: 0.1427 - val_accuracy: 0.0000e+00\n",
      "Epoch 21/100\n",
      "312/312 [==============================] - 1s 2ms/step - loss: 0.2089 - accuracy: 0.0000e+00 - val_loss: 0.2110 - val_accuracy: 0.0256\n",
      "Epoch 22/100\n",
      "312/312 [==============================] - 1s 2ms/step - loss: 0.2046 - accuracy: 0.0032 - val_loss: 0.1521 - val_accuracy: 0.0000e+00\n",
      "Epoch 23/100\n",
      "312/312 [==============================] - 1s 2ms/step - loss: 0.2017 - accuracy: 0.0032 - val_loss: 0.2102 - val_accuracy: 0.0000e+00\n",
      "Epoch 24/100\n",
      "312/312 [==============================] - 1s 2ms/step - loss: 0.2039 - accuracy: 0.0032 - val_loss: 0.2157 - val_accuracy: 0.0000e+00\n",
      "Epoch 25/100\n",
      "312/312 [==============================] - 1s 2ms/step - loss: 0.2034 - accuracy: 0.0032 - val_loss: 0.2059 - val_accuracy: 0.0256\n",
      "Epoch 26/100\n",
      "312/312 [==============================] - 1s 2ms/step - loss: 0.2006 - accuracy: 0.0000e+00 - val_loss: 0.2069 - val_accuracy: 0.0000e+00\n",
      "Epoch 27/100\n",
      "312/312 [==============================] - 1s 2ms/step - loss: 0.2017 - accuracy: 0.0032 - val_loss: 0.1978 - val_accuracy: 0.0000e+00\n",
      "Epoch 28/100\n",
      "312/312 [==============================] - 1s 2ms/step - loss: 0.2106 - accuracy: 0.0032 - val_loss: 0.2082 - val_accuracy: 0.0000e+00\n",
      "Epoch 29/100\n",
      "312/312 [==============================] - 1s 2ms/step - loss: 0.2002 - accuracy: 0.0032 - val_loss: 0.2027 - val_accuracy: 0.0000e+00\n",
      "Epoch 30/100\n",
      "312/312 [==============================] - 1s 2ms/step - loss: 0.2091 - accuracy: 0.0032 - val_loss: 0.2241 - val_accuracy: 0.0000e+00\n",
      "Epoch 31/100\n",
      "312/312 [==============================] - 1s 2ms/step - loss: 0.1998 - accuracy: 0.0032 - val_loss: 0.1983 - val_accuracy: 0.0000e+00\n",
      "Epoch 32/100\n",
      "312/312 [==============================] - 1s 2ms/step - loss: 0.1982 - accuracy: 0.0032 - val_loss: 0.1988 - val_accuracy: 0.0000e+00\n",
      "Epoch 33/100\n",
      "312/312 [==============================] - 1s 2ms/step - loss: 0.1992 - accuracy: 0.0032 - val_loss: 0.2171 - val_accuracy: 0.0000e+00\n",
      "Epoch 34/100\n",
      "312/312 [==============================] - 1s 3ms/step - loss: 0.1991 - accuracy: 0.0000e+00 - val_loss: 0.2052 - val_accuracy: 0.0000e+00\n",
      "Epoch 35/100\n",
      "312/312 [==============================] - 1s 2ms/step - loss: 0.1985 - accuracy: 0.0000e+00 - val_loss: 0.1963 - val_accuracy: 0.0256\n",
      "Epoch 36/100\n",
      "312/312 [==============================] - 1s 2ms/step - loss: 0.2060 - accuracy: 0.0032 - val_loss: 0.1313 - val_accuracy: 0.0000e+00\n",
      "Epoch 37/100\n",
      "312/312 [==============================] - 1s 2ms/step - loss: 0.1974 - accuracy: 0.0032 - val_loss: 0.2074 - val_accuracy: 0.0000e+00\n",
      "Epoch 38/100\n",
      "312/312 [==============================] - 1s 2ms/step - loss: 0.1980 - accuracy: 0.0000e+00 - val_loss: 0.2155 - val_accuracy: 0.0000e+00\n",
      "Epoch 39/100\n",
      "312/312 [==============================] - 1s 2ms/step - loss: 0.2045 - accuracy: 0.0032 - val_loss: 0.2040 - val_accuracy: 0.0000e+00\n",
      "Epoch 40/100\n",
      "312/312 [==============================] - 1s 2ms/step - loss: 0.1966 - accuracy: 0.0000e+00 - val_loss: 0.2062 - val_accuracy: 0.0000e+00\n",
      "Epoch 41/100\n",
      "312/312 [==============================] - 1s 2ms/step - loss: 0.1950 - accuracy: 0.0032 - val_loss: 0.2104 - val_accuracy: 0.0000e+00\n",
      "Epoch 42/100\n",
      "312/312 [==============================] - 1s 2ms/step - loss: 0.1986 - accuracy: 0.0000e+00 - val_loss: 0.2050 - val_accuracy: 0.0000e+00\n",
      "Epoch 43/100\n",
      "312/312 [==============================] - 1s 2ms/step - loss: 0.1961 - accuracy: 0.0032 - val_loss: 0.1170 - val_accuracy: 0.0000e+00\n",
      "Epoch 44/100\n",
      "312/312 [==============================] - 1s 2ms/step - loss: 0.1953 - accuracy: 0.0032 - val_loss: 0.2025 - val_accuracy: 0.0000e+00\n",
      "Epoch 45/100\n",
      "312/312 [==============================] - 1s 2ms/step - loss: 0.1957 - accuracy: 0.0032 - val_loss: 0.2197 - val_accuracy: 0.0000e+00\n",
      "Epoch 46/100\n",
      "312/312 [==============================] - 1s 2ms/step - loss: 0.1946 - accuracy: 0.0032 - val_loss: 0.2056 - val_accuracy: 0.0000e+00\n",
      "Epoch 47/100\n",
      "312/312 [==============================] - 1s 2ms/step - loss: 0.1982 - accuracy: 0.0000e+00 - val_loss: 0.1270 - val_accuracy: 0.0000e+00\n",
      "Epoch 48/100\n",
      "312/312 [==============================] - 1s 2ms/step - loss: 0.1939 - accuracy: 0.0032 - val_loss: 0.1305 - val_accuracy: 0.0000e+00\n",
      "Epoch 49/100\n",
      "312/312 [==============================] - 1s 2ms/step - loss: 0.1961 - accuracy: 0.0032 - val_loss: 0.1927 - val_accuracy: 0.0000e+00\n",
      "Epoch 50/100\n",
      "312/312 [==============================] - 1s 2ms/step - loss: 0.1937 - accuracy: 0.0032 - val_loss: 0.1972 - val_accuracy: 0.0000e+00\n",
      "Epoch 51/100\n",
      "312/312 [==============================] - 1s 2ms/step - loss: 0.1965 - accuracy: 0.0032 - val_loss: 0.2052 - val_accuracy: 0.0000e+00\n",
      "Epoch 52/100\n",
      "312/312 [==============================] - 1s 2ms/step - loss: 0.2042 - accuracy: 0.0000e+00 - val_loss: 0.1924 - val_accuracy: 0.0000e+00\n",
      "Epoch 53/100\n",
      "312/312 [==============================] - 1s 2ms/step - loss: 0.1945 - accuracy: 0.0032 - val_loss: 0.2106 - val_accuracy: 0.0000e+00\n",
      "Epoch 54/100\n",
      "312/312 [==============================] - 1s 2ms/step - loss: 0.1984 - accuracy: 0.0032 - val_loss: 0.2108 - val_accuracy: 0.0000e+00\n",
      "Epoch 55/100\n",
      "312/312 [==============================] - 1s 2ms/step - loss: 0.1963 - accuracy: 0.0032 - val_loss: 0.2104 - val_accuracy: 0.0000e+00\n",
      "Epoch 56/100\n",
      "312/312 [==============================] - 1s 2ms/step - loss: 0.1947 - accuracy: 0.0000e+00 - val_loss: 0.2017 - val_accuracy: 0.0000e+00\n",
      "Epoch 57/100\n",
      "312/312 [==============================] - 1s 2ms/step - loss: 0.1951 - accuracy: 0.0000e+00 - val_loss: 0.2054 - val_accuracy: 0.0000e+00\n",
      "Epoch 58/100\n",
      "312/312 [==============================] - 1s 2ms/step - loss: 0.1941 - accuracy: 0.0032 - val_loss: 0.2101 - val_accuracy: 0.0000e+00\n",
      "Epoch 59/100\n",
      "312/312 [==============================] - 1s 2ms/step - loss: 0.2048 - accuracy: 0.0032 - val_loss: 0.2137 - val_accuracy: 0.0000e+00\n",
      "Epoch 60/100\n",
      "312/312 [==============================] - 1s 2ms/step - loss: 0.2052 - accuracy: 0.0032 - val_loss: 0.2025 - val_accuracy: 0.0000e+00\n",
      "Epoch 61/100\n",
      "312/312 [==============================] - 1s 2ms/step - loss: 0.1944 - accuracy: 0.0032 - val_loss: 0.2111 - val_accuracy: 0.0000e+00\n",
      "Epoch 62/100\n",
      "312/312 [==============================] - 1s 2ms/step - loss: 0.1944 - accuracy: 0.0000e+00 - val_loss: 0.1989 - val_accuracy: 0.0000e+00\n",
      "Epoch 63/100\n",
      "312/312 [==============================] - 1s 2ms/step - loss: 0.1959 - accuracy: 0.0032 - val_loss: 0.2019 - val_accuracy: 0.0000e+00\n",
      "Epoch 64/100\n",
      "312/312 [==============================] - 1s 2ms/step - loss: 0.1972 - accuracy: 0.0000e+00 - val_loss: 0.1995 - val_accuracy: 0.0000e+00\n",
      "Epoch 65/100\n",
      "312/312 [==============================] - 1s 2ms/step - loss: 0.2059 - accuracy: 0.0032 - val_loss: 0.2087 - val_accuracy: 0.0000e+00\n",
      "Epoch 66/100\n",
      "312/312 [==============================] - 1s 2ms/step - loss: 0.1961 - accuracy: 0.0000e+00 - val_loss: 0.1993 - val_accuracy: 0.0000e+00\n",
      "Epoch 67/100\n",
      "312/312 [==============================] - 1s 2ms/step - loss: 0.1949 - accuracy: 0.0032 - val_loss: 0.1990 - val_accuracy: 0.0000e+00\n",
      "Epoch 68/100\n",
      "312/312 [==============================] - 1s 2ms/step - loss: 0.1944 - accuracy: 0.0032 - val_loss: 0.2086 - val_accuracy: 0.0000e+00\n",
      "Epoch 69/100\n",
      "312/312 [==============================] - 1s 2ms/step - loss: 0.1948 - accuracy: 0.0032 - val_loss: 0.2007 - val_accuracy: 0.0000e+00\n",
      "Epoch 70/100\n",
      "312/312 [==============================] - 1s 2ms/step - loss: 0.1972 - accuracy: 0.0032 - val_loss: 0.2180 - val_accuracy: 0.0000e+00\n",
      "Epoch 71/100\n",
      "312/312 [==============================] - 1s 2ms/step - loss: 0.1945 - accuracy: 0.0000e+00 - val_loss: 0.1243 - val_accuracy: 0.0000e+00\n",
      "Epoch 72/100\n",
      "312/312 [==============================] - 1s 2ms/step - loss: 0.2053 - accuracy: 0.0032 - val_loss: 0.2116 - val_accuracy: 0.0000e+00\n",
      "Epoch 73/100\n",
      "312/312 [==============================] - 1s 2ms/step - loss: 0.1961 - accuracy: 0.0032 - val_loss: 0.2083 - val_accuracy: 0.0000e+00\n",
      "Epoch 74/100\n",
      "312/312 [==============================] - 1s 2ms/step - loss: 0.1961 - accuracy: 0.0032 - val_loss: 0.2106 - val_accuracy: 0.0000e+00\n",
      "Epoch 75/100\n",
      "312/312 [==============================] - 1s 2ms/step - loss: 0.1946 - accuracy: 0.0000e+00 - val_loss: 0.1983 - val_accuracy: 0.0000e+00\n",
      "Epoch 76/100\n",
      "312/312 [==============================] - 1s 2ms/step - loss: 0.1951 - accuracy: 0.0000e+00 - val_loss: 0.2075 - val_accuracy: 0.0000e+00\n",
      "Epoch 77/100\n",
      "312/312 [==============================] - 1s 2ms/step - loss: 0.1929 - accuracy: 0.0032 - val_loss: 0.2025 - val_accuracy: 0.0000e+00\n",
      "Epoch 78/100\n",
      "312/312 [==============================] - 1s 2ms/step - loss: 0.1942 - accuracy: 0.0032 - val_loss: 0.2052 - val_accuracy: 0.0000e+00\n",
      "Epoch 79/100\n",
      "312/312 [==============================] - 1s 2ms/step - loss: 0.1938 - accuracy: 0.0032 - val_loss: 0.2141 - val_accuracy: 0.0000e+00\n",
      "Epoch 80/100\n",
      "312/312 [==============================] - 1s 2ms/step - loss: 0.1954 - accuracy: 0.0000e+00 - val_loss: 0.1986 - val_accuracy: 0.0256\n",
      "Epoch 81/100\n",
      "312/312 [==============================] - 1s 2ms/step - loss: 0.1968 - accuracy: 0.0032 - val_loss: 0.1953 - val_accuracy: 0.0000e+00\n",
      "Epoch 82/100\n",
      "312/312 [==============================] - 1s 2ms/step - loss: 0.1950 - accuracy: 0.0032 - val_loss: 0.2089 - val_accuracy: 0.0000e+00\n",
      "Epoch 83/100\n",
      "312/312 [==============================] - 1s 2ms/step - loss: 0.2062 - accuracy: 0.0032 - val_loss: 0.1169 - val_accuracy: 0.0000e+00\n",
      "Epoch 84/100\n",
      "312/312 [==============================] - 1s 2ms/step - loss: 0.2043 - accuracy: 0.0032 - val_loss: 0.2022 - val_accuracy: 0.0000e+00\n",
      "Epoch 85/100\n",
      "312/312 [==============================] - 1s 2ms/step - loss: 0.2058 - accuracy: 0.0032 - val_loss: 0.1954 - val_accuracy: 0.0000e+00\n",
      "Epoch 86/100\n",
      "312/312 [==============================] - 1s 2ms/step - loss: 0.1961 - accuracy: 0.0000e+00 - val_loss: 0.2050 - val_accuracy: 0.0000e+00\n",
      "Epoch 87/100\n",
      "312/312 [==============================] - 1s 2ms/step - loss: 0.1952 - accuracy: 0.0000e+00 - val_loss: 0.1961 - val_accuracy: 0.0000e+00\n",
      "Epoch 88/100\n",
      "312/312 [==============================] - 1s 2ms/step - loss: 0.1950 - accuracy: 0.0032 - val_loss: 0.1974 - val_accuracy: 0.0000e+00\n",
      "Epoch 89/100\n",
      "312/312 [==============================] - 1s 2ms/step - loss: 0.1930 - accuracy: 0.0032 - val_loss: 0.2017 - val_accuracy: 0.0000e+00\n",
      "Epoch 90/100\n",
      "312/312 [==============================] - 1s 2ms/step - loss: 0.1943 - accuracy: 0.0032 - val_loss: 0.2095 - val_accuracy: 0.0256\n",
      "Epoch 91/100\n",
      "312/312 [==============================] - 1s 2ms/step - loss: 0.2072 - accuracy: 0.0032 - val_loss: 0.2037 - val_accuracy: 0.0000e+00\n",
      "Epoch 92/100\n",
      "312/312 [==============================] - 1s 2ms/step - loss: 0.1968 - accuracy: 0.0032 - val_loss: 0.1932 - val_accuracy: 0.0256\n",
      "Epoch 93/100\n",
      "312/312 [==============================] - 1s 2ms/step - loss: 0.2050 - accuracy: 0.0032 - val_loss: 0.1987 - val_accuracy: 0.0000e+00\n",
      "Epoch 94/100\n",
      "312/312 [==============================] - 1s 2ms/step - loss: 0.1957 - accuracy: 0.0000e+00 - val_loss: 0.2124 - val_accuracy: 0.0000e+00\n",
      "Epoch 95/100\n",
      "312/312 [==============================] - 1s 2ms/step - loss: 0.2066 - accuracy: 0.0000e+00 - val_loss: 0.1921 - val_accuracy: 0.0000e+00\n",
      "Epoch 96/100\n",
      "312/312 [==============================] - 1s 2ms/step - loss: 0.2056 - accuracy: 0.0032 - val_loss: 0.1951 - val_accuracy: 0.0000e+00\n",
      "Epoch 97/100\n",
      "312/312 [==============================] - 1s 2ms/step - loss: 0.1946 - accuracy: 0.0032 - val_loss: 0.2002 - val_accuracy: 0.0000e+00\n",
      "Epoch 98/100\n",
      "312/312 [==============================] - 1s 2ms/step - loss: 0.1960 - accuracy: 0.0000e+00 - val_loss: 0.2160 - val_accuracy: 0.0000e+00\n",
      "Epoch 99/100\n",
      "312/312 [==============================] - 1s 2ms/step - loss: 0.1951 - accuracy: 0.0032 - val_loss: 0.1893 - val_accuracy: 0.0000e+00\n",
      "Epoch 100/100\n",
      "312/312 [==============================] - 1s 2ms/step - loss: 0.1957 - accuracy: 0.0032 - val_loss: 0.1266 - val_accuracy: 0.0000e+00\n"
     ]
    },
    {
     "data": {
      "text/plain": "<keras.callbacks.History at 0x180b636a410>"
     },
     "execution_count": 18,
     "metadata": {},
     "output_type": "execute_result"
    }
   ],
   "source": [
    "#choose the best learning rate\n",
    "best_learning_rate = 0.001\n",
    "best_model = create_model(best_learning_rate)\n",
    "best_model.fit(train_dataset.batch(1), epochs=100, validation_data=val_dataset.batch(1), verbose=1)\n"
   ],
   "metadata": {
    "collapsed": false,
    "ExecuteTime": {
     "end_time": "2023-06-05T03:20:44.504543900Z",
     "start_time": "2023-06-05T03:19:35.477378600Z"
    }
   }
  },
  {
   "cell_type": "code",
   "execution_count": 19,
   "outputs": [
    {
     "data": {
      "text/plain": "<Figure size 640x480 with 1 Axes>",
      "image/png": "[encoded data removed]"
     },
     "metadata": {},
     "output_type": "display_data"
    }
   ],
   "source": [
    "#plot the loss and accuracy for the best model\n",
    "plot_loss(best_model.history)\n",
    "plt.title('Best Model')\n",
    "plt.show()"
   ],
   "metadata": {
    "collapsed": false,
    "ExecuteTime": {
     "end_time": "2023-06-05T03:20:44.700945500Z",
     "start_time": "2023-06-05T03:20:44.511059700Z"
    }
   }
  },
  {
   "cell_type": "code",
   "execution_count": 20,
   "outputs": [
    {
     "name": "stdout",
     "output_type": "stream",
     "text": [
      "39/39 [==============================] - 0s 2ms/step - loss: 0.2028 - accuracy: 0.0000e+00\n",
      "Accuracy 0.0\n"
     ]
    }
   ],
   "source": [
    "#evaluate the best model on the test dataset\n",
    "loss, accuracy = best_model.evaluate(test_dataset.batch(1), verbose=1)\n",
    "print(\"Accuracy\", accuracy)\n"
   ],
   "metadata": {
    "collapsed": false,
    "ExecuteTime": {
     "end_time": "2023-06-05T03:20:53.047780500Z",
     "start_time": "2023-06-05T03:20:52.907042900Z"
    }
   }
  },
  {
   "cell_type": "code",
   "execution_count": 21,
   "outputs": [
    {
     "ename": "IndexError",
     "evalue": "tuple index out of range",
     "output_type": "error",
     "traceback": [
      "\u001B[1;31m---------------------------------------------------------------------------\u001B[0m",
      "\u001B[1;31mIndexError\u001B[0m                                Traceback (most recent call last)",
      "Cell \u001B[1;32mIn[21], line 15\u001B[0m\n\u001B[0;32m     13\u001B[0m     dataframe\u001B[38;5;241m.\u001B[39miloc[\u001B[38;5;241m-\u001B[39m\u001B[38;5;241m1\u001B[39m,i] \u001B[38;5;241m=\u001B[39m best_model\u001B[38;5;241m.\u001B[39mpredict(dataframe\u001B[38;5;241m.\u001B[39miloc[\u001B[38;5;241m-\u001B[39m\u001B[38;5;241m1\u001B[39m,\u001B[38;5;241m0\u001B[39m])\n\u001B[0;32m     14\u001B[0m   \u001B[38;5;28;01mreturn\u001B[39;00m dataframe\n\u001B[1;32m---> 15\u001B[0m predicted \u001B[38;5;241m=\u001B[39m \u001B[43mpredict_next_visit\u001B[49m\u001B[43m(\u001B[49m\u001B[43mrenamed\u001B[49m\u001B[43m)\u001B[49m\n\u001B[0;32m     16\u001B[0m predicted\n",
      "Cell \u001B[1;32mIn[21], line 13\u001B[0m, in \u001B[0;36mpredict_next_visit\u001B[1;34m(dataframe)\u001B[0m\n\u001B[0;32m     11\u001B[0m dataframe \u001B[38;5;241m=\u001B[39m dataframe\u001B[38;5;241m.\u001B[39mcopy()\n\u001B[0;32m     12\u001B[0m \u001B[38;5;28;01mfor\u001B[39;00m i \u001B[38;5;129;01min\u001B[39;00m \u001B[38;5;28mrange\u001B[39m(\u001B[38;5;241m1\u001B[39m, \u001B[38;5;28mlen\u001B[39m(dataframe\u001B[38;5;241m.\u001B[39mcolumns)):\n\u001B[1;32m---> 13\u001B[0m   dataframe\u001B[38;5;241m.\u001B[39miloc[\u001B[38;5;241m-\u001B[39m\u001B[38;5;241m1\u001B[39m,i] \u001B[38;5;241m=\u001B[39m \u001B[43mbest_model\u001B[49m\u001B[38;5;241;43m.\u001B[39;49m\u001B[43mpredict\u001B[49m\u001B[43m(\u001B[49m\u001B[43mdataframe\u001B[49m\u001B[38;5;241;43m.\u001B[39;49m\u001B[43miloc\u001B[49m\u001B[43m[\u001B[49m\u001B[38;5;241;43m-\u001B[39;49m\u001B[38;5;241;43m1\u001B[39;49m\u001B[43m,\u001B[49m\u001B[38;5;241;43m0\u001B[39;49m\u001B[43m]\u001B[49m\u001B[43m)\u001B[49m\n\u001B[0;32m     14\u001B[0m \u001B[38;5;28;01mreturn\u001B[39;00m dataframe\n",
      "File \u001B[1;32m~\\AppData\\Local\\Packages\\PythonSoftwareFoundation.Python.3.11_qbz5n2kfra8p0\\LocalCache\\local-packages\\Python311\\site-packages\\keras\\utils\\traceback_utils.py:70\u001B[0m, in \u001B[0;36mfilter_traceback.<locals>.error_handler\u001B[1;34m(*args, **kwargs)\u001B[0m\n\u001B[0;32m     67\u001B[0m     filtered_tb \u001B[38;5;241m=\u001B[39m _process_traceback_frames(e\u001B[38;5;241m.\u001B[39m__traceback__)\n\u001B[0;32m     68\u001B[0m     \u001B[38;5;66;03m# To get the full stack trace, call:\u001B[39;00m\n\u001B[0;32m     69\u001B[0m     \u001B[38;5;66;03m# `tf.debugging.disable_traceback_filtering()`\u001B[39;00m\n\u001B[1;32m---> 70\u001B[0m     \u001B[38;5;28;01mraise\u001B[39;00m e\u001B[38;5;241m.\u001B[39mwith_traceback(filtered_tb) \u001B[38;5;28;01mfrom\u001B[39;00m \u001B[38;5;28;01mNone\u001B[39;00m\n\u001B[0;32m     71\u001B[0m \u001B[38;5;28;01mfinally\u001B[39;00m:\n\u001B[0;32m     72\u001B[0m     \u001B[38;5;28;01mdel\u001B[39;00m filtered_tb\n",
      "File \u001B[1;32m~\\AppData\\Local\\Packages\\PythonSoftwareFoundation.Python.3.11_qbz5n2kfra8p0\\LocalCache\\local-packages\\Python311\\site-packages\\tensorflow\\python\\framework\\tensor_shape.py:957\u001B[0m, in \u001B[0;36mTensorShape.__getitem__\u001B[1;34m(self, key)\u001B[0m\n\u001B[0;32m    955\u001B[0m \u001B[38;5;28;01melse\u001B[39;00m:\n\u001B[0;32m    956\u001B[0m   \u001B[38;5;28;01mif\u001B[39;00m \u001B[38;5;28mself\u001B[39m\u001B[38;5;241m.\u001B[39m_v2_behavior:\n\u001B[1;32m--> 957\u001B[0m     \u001B[38;5;28;01mreturn\u001B[39;00m \u001B[38;5;28;43mself\u001B[39;49m\u001B[38;5;241;43m.\u001B[39;49m\u001B[43m_dims\u001B[49m\u001B[43m[\u001B[49m\u001B[43mkey\u001B[49m\u001B[43m]\u001B[49m\n\u001B[0;32m    958\u001B[0m   \u001B[38;5;28;01melse\u001B[39;00m:\n\u001B[0;32m    959\u001B[0m     \u001B[38;5;28;01mreturn\u001B[39;00m \u001B[38;5;28mself\u001B[39m\u001B[38;5;241m.\u001B[39mdims[key]\n",
      "\u001B[1;31mIndexError\u001B[0m: tuple index out of range"
     ]
    }
   ],
   "source": [
    "#predict the next visit for each supplier\n",
    "def predict_next_visit(dataframe):\n",
    "  \"\"\"\n",
    "  Predicts the next visit for each supplier\n",
    "  Args:\n",
    "    dataframe (dataframe): dataframe containing the dates\n",
    "\n",
    "  Returns:\n",
    "    df (dataframe): dataframe containing the predicted next visit for each supplier\n",
    "  \"\"\"\n",
    "  dataframe = dataframe.copy()\n",
    "  for i in range(1, len(dataframe.columns)):\n",
    "    dataframe.iloc[-1,i] = best_model.predict(dataframe.iloc[-1,0])\n",
    "  return dataframe\n",
    "predicted = predict_next_visit(renamed)\n",
    "predicted\n"
   ],
   "metadata": {
    "collapsed": false,
    "ExecuteTime": {
     "end_time": "2023-06-05T03:21:17.504763700Z",
     "start_time": "2023-06-05T03:21:15.593813800Z"
    }
   }
  },
  {
   "cell_type": "code",
   "execution_count": null,
   "outputs": [],
   "source": [],
   "metadata": {
    "collapsed": false
   }
  }
 ]
}
