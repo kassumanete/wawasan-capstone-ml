{
 "nbformat": 4,
 "nbformat_minor": 0,
 "metadata": {
  "colab": {
   "provenance": [
    {
     "file_id": "18_WXz7ac6EQsRs05TyZz3aFA4OCAKKpu",
     "timestamp": 1685810472026
    }
   ],
   "mount_file_id": "1mboE-nPCye91mYkTkbvbbfrVRNYJhB1l",
   "authorship_tag": "ABX9TyPGD3RVprNkZ3rie5ko5HPI"
  },
  "kernelspec": {
   "name": "capstone_wawasan",
   "language": "python",
   "display_name": "capstone_wawasan"
  },
  "language_info": {
   "name": "python"
  }
 },
 "cells": [
  {
   "cell_type": "markdown",
   "source": [
    "# Introduction\n",
    "This is a notebook using machine learning to output the schedule of suppliers.\n",
    "First import the data in the form of a csv file. The input of the model will be a date and the output will be a list of days corresponding to the schedule of the suppliers and when they will arrive next."
   ],
   "metadata": {
    "id": "tRUuzt7aKWSV"
   }
  },
  {
   "cell_type": "markdown",
   "source": [
    "# Imports"
   ],
   "metadata": {
    "id": "8bxo4TufKhGv"
   }
  },
  {
   "cell_type": "code",
   "source": [
    "import pandas as pd\n",
    "import tensorflow as tf\n",
    "from tensorflow.keras.preprocessing.text import Tokenizer\n",
    "import numpy as np\n",
    "import datetime"
   ],
   "metadata": {
    "id": "WmUC3rAWK2oY",
    "executionInfo": {
     "status": "ok",
     "timestamp": 1685897003285,
     "user_tz": -420,
     "elapsed": 4451,
     "user": {
      "displayName": "Muhammad Arief",
      "userId": "01585842397766244027"
     }
    },
    "ExecuteTime": {
     "end_time": "2023-06-05T02:21:42.729323200Z",
     "start_time": "2023-06-05T02:21:28.966631500Z"
    }
   },
   "execution_count": 1,
   "outputs": []
  },
  {
   "cell_type": "markdown",
   "source": [
    "# Load Dataset"
   ],
   "metadata": {
    "id": "8pGoEnoHKjxP"
   }
  },
  {
   "cell_type": "code",
   "source": [
    "filepath = 'supplier_schedule.csv'#supplier schedule on local drive\n",
    "#filepath = '/content/drive/MyDrive/Documents/uni_work/Bangkit2023/capstone/supplier_schedule.csv'\n",
    "df = pd.read_csv(filepath, dtype = {'supplier':str,'tanggal':str})\n",
    "df['supplier'] = df['supplier'].str.replace(' ','')\n",
    "#remove all punctuation from the supplier names\n",
    "df['supplier'] = df['supplier'].str.replace('.','')\n"
   ],
   "metadata": {
    "id": "P6VvZzoWLhFS",
    "executionInfo": {
     "status": "ok",
     "timestamp": 1685897003893,
     "user_tz": -420,
     "elapsed": 612,
     "user": {
      "displayName": "Muhammad Arief",
      "userId": "01585842397766244027"
     }
    },
    "ExecuteTime": {
     "end_time": "2023-06-05T02:21:42.792358500Z",
     "start_time": "2023-06-05T02:21:42.729323200Z"
    }
   },
   "execution_count": 2,
   "outputs": []
  },
  {
   "cell_type": "markdown",
   "source": [
    "\n",
    "# Data Transformation"
   ],
   "metadata": {
    "id": "1nXJDI2NKlzt"
   }
  },
  {
   "cell_type": "markdown",
   "source": [
    "Transform the code of suppliers into their tokenized forms using the tokenizer."
   ],
   "metadata": {
    "id": "BH9V6V7GOxti"
   }
  },
  {
   "cell_type": "code",
   "execution_count": 3,
   "outputs": [
    {
     "data": {
      "text/plain": "        tanggal  AB  ABA  ABD  ABK  ABS  ADR  AFDHAL  AG  AI  ...  UTJ  VG  \\\n0    2022-01-03   0    0    0    0    0    0       0   0   1  ...    0   1   \n1    2022-01-04   0    0    0    0    0    0       0   0   0  ...    0   0   \n2    2022-01-05   0    0    0    0    0    0       0   0   0  ...    0   1   \n3    2022-01-06   0    1    0    0    0    1       0   1   0  ...    0   0   \n4    2022-01-07   0    0    1    0    0    0       0   0   0  ...    0   0   \n..          ...  ..  ...  ...  ...  ...  ...     ...  ..  ..  ...  ...  ..   \n385  2023-03-28   0    1    0    0    0    0       0   0   0  ...    0   1   \n386  2023-03-29   0    0    0    0    0    0       0   0   0  ...    0   1   \n387  2023-03-30   0    1    0    0    0    0       0   0   0  ...    0   0   \n388  2023-03-31   0    0    0    0    0    0       0   0   0  ...    0   0   \n389  2023-04-01   0    0    0    0    0    0       0   0   0  ...    0   0   \n\n     WOI  WT  YENI  YIP  YS  YUSRA  ZAIMAR  ZULFAINI  \n0      0   0     0    0   0      0       0         0  \n1      0   0     0    0   0      0       0         0  \n2      0   0     0    0   0      0       0         0  \n3      0   0     0    0   0      0       0         0  \n4      0   1     0    0   0      0       0         0  \n..   ...  ..   ...  ...  ..    ...     ...       ...  \n385    0   0     0    0   0      0       0         0  \n386    0   0     0    0   0      0       0         0  \n387    1   0     0    0   1      0       0         0  \n388    0   0     0    0   0      0       0         0  \n389    0   1     0    1   0      0       0         0  \n\n[390 rows x 200 columns]",
      "text/html": "<div>\n<style scoped>\n    .dataframe tbody tr th:only-of-type {\n        vertical-align: middle;\n    }\n\n    .dataframe tbody tr th {\n        vertical-align: top;\n    }\n\n    .dataframe thead th {\n        text-align: right;\n    }\n</style>\n<table border=\"1\" class=\"dataframe\">\n  <thead>\n    <tr style=\"text-align: right;\">\n      <th></th>\n      <th>tanggal</th>\n      <th>AB</th>\n      <th>ABA</th>\n      <th>ABD</th>\n      <th>ABK</th>\n      <th>ABS</th>\n      <th>ADR</th>\n      <th>AFDHAL</th>\n      <th>AG</th>\n      <th>AI</th>\n      <th>...</th>\n      <th>UTJ</th>\n      <th>VG</th>\n      <th>WOI</th>\n      <th>WT</th>\n      <th>YENI</th>\n      <th>YIP</th>\n      <th>YS</th>\n      <th>YUSRA</th>\n      <th>ZAIMAR</th>\n      <th>ZULFAINI</th>\n    </tr>\n  </thead>\n  <tbody>\n    <tr>\n      <th>0</th>\n      <td>2022-01-03</td>\n      <td>0</td>\n      <td>0</td>\n      <td>0</td>\n      <td>0</td>\n      <td>0</td>\n      <td>0</td>\n      <td>0</td>\n      <td>0</td>\n      <td>1</td>\n      <td>...</td>\n      <td>0</td>\n      <td>1</td>\n      <td>0</td>\n      <td>0</td>\n      <td>0</td>\n      <td>0</td>\n      <td>0</td>\n      <td>0</td>\n      <td>0</td>\n      <td>0</td>\n    </tr>\n    <tr>\n      <th>1</th>\n      <td>2022-01-04</td>\n      <td>0</td>\n      <td>0</td>\n      <td>0</td>\n      <td>0</td>\n      <td>0</td>\n      <td>0</td>\n      <td>0</td>\n      <td>0</td>\n      <td>0</td>\n      <td>...</td>\n      <td>0</td>\n      <td>0</td>\n      <td>0</td>\n      <td>0</td>\n      <td>0</td>\n      <td>0</td>\n      <td>0</td>\n      <td>0</td>\n      <td>0</td>\n      <td>0</td>\n    </tr>\n    <tr>\n      <th>2</th>\n      <td>2022-01-05</td>\n      <td>0</td>\n      <td>0</td>\n      <td>0</td>\n      <td>0</td>\n      <td>0</td>\n      <td>0</td>\n      <td>0</td>\n      <td>0</td>\n      <td>0</td>\n      <td>...</td>\n      <td>0</td>\n      <td>1</td>\n      <td>0</td>\n      <td>0</td>\n      <td>0</td>\n      <td>0</td>\n      <td>0</td>\n      <td>0</td>\n      <td>0</td>\n      <td>0</td>\n    </tr>\n    <tr>\n      <th>3</th>\n      <td>2022-01-06</td>\n      <td>0</td>\n      <td>1</td>\n      <td>0</td>\n      <td>0</td>\n      <td>0</td>\n      <td>1</td>\n      <td>0</td>\n      <td>1</td>\n      <td>0</td>\n      <td>...</td>\n      <td>0</td>\n      <td>0</td>\n      <td>0</td>\n      <td>0</td>\n      <td>0</td>\n      <td>0</td>\n      <td>0</td>\n      <td>0</td>\n      <td>0</td>\n      <td>0</td>\n    </tr>\n    <tr>\n      <th>4</th>\n      <td>2022-01-07</td>\n      <td>0</td>\n      <td>0</td>\n      <td>1</td>\n      <td>0</td>\n      <td>0</td>\n      <td>0</td>\n      <td>0</td>\n      <td>0</td>\n      <td>0</td>\n      <td>...</td>\n      <td>0</td>\n      <td>0</td>\n      <td>0</td>\n      <td>1</td>\n      <td>0</td>\n      <td>0</td>\n      <td>0</td>\n      <td>0</td>\n      <td>0</td>\n      <td>0</td>\n    </tr>\n    <tr>\n      <th>...</th>\n      <td>...</td>\n      <td>...</td>\n      <td>...</td>\n      <td>...</td>\n      <td>...</td>\n      <td>...</td>\n      <td>...</td>\n      <td>...</td>\n      <td>...</td>\n      <td>...</td>\n      <td>...</td>\n      <td>...</td>\n      <td>...</td>\n      <td>...</td>\n      <td>...</td>\n      <td>...</td>\n      <td>...</td>\n      <td>...</td>\n      <td>...</td>\n      <td>...</td>\n      <td>...</td>\n    </tr>\n    <tr>\n      <th>385</th>\n      <td>2023-03-28</td>\n      <td>0</td>\n      <td>1</td>\n      <td>0</td>\n      <td>0</td>\n      <td>0</td>\n      <td>0</td>\n      <td>0</td>\n      <td>0</td>\n      <td>0</td>\n      <td>...</td>\n      <td>0</td>\n      <td>1</td>\n      <td>0</td>\n      <td>0</td>\n      <td>0</td>\n      <td>0</td>\n      <td>0</td>\n      <td>0</td>\n      <td>0</td>\n      <td>0</td>\n    </tr>\n    <tr>\n      <th>386</th>\n      <td>2023-03-29</td>\n      <td>0</td>\n      <td>0</td>\n      <td>0</td>\n      <td>0</td>\n      <td>0</td>\n      <td>0</td>\n      <td>0</td>\n      <td>0</td>\n      <td>0</td>\n      <td>...</td>\n      <td>0</td>\n      <td>1</td>\n      <td>0</td>\n      <td>0</td>\n      <td>0</td>\n      <td>0</td>\n      <td>0</td>\n      <td>0</td>\n      <td>0</td>\n      <td>0</td>\n    </tr>\n    <tr>\n      <th>387</th>\n      <td>2023-03-30</td>\n      <td>0</td>\n      <td>1</td>\n      <td>0</td>\n      <td>0</td>\n      <td>0</td>\n      <td>0</td>\n      <td>0</td>\n      <td>0</td>\n      <td>0</td>\n      <td>...</td>\n      <td>0</td>\n      <td>0</td>\n      <td>1</td>\n      <td>0</td>\n      <td>0</td>\n      <td>0</td>\n      <td>1</td>\n      <td>0</td>\n      <td>0</td>\n      <td>0</td>\n    </tr>\n    <tr>\n      <th>388</th>\n      <td>2023-03-31</td>\n      <td>0</td>\n      <td>0</td>\n      <td>0</td>\n      <td>0</td>\n      <td>0</td>\n      <td>0</td>\n      <td>0</td>\n      <td>0</td>\n      <td>0</td>\n      <td>...</td>\n      <td>0</td>\n      <td>0</td>\n      <td>0</td>\n      <td>0</td>\n      <td>0</td>\n      <td>0</td>\n      <td>0</td>\n      <td>0</td>\n      <td>0</td>\n      <td>0</td>\n    </tr>\n    <tr>\n      <th>389</th>\n      <td>2023-04-01</td>\n      <td>0</td>\n      <td>0</td>\n      <td>0</td>\n      <td>0</td>\n      <td>0</td>\n      <td>0</td>\n      <td>0</td>\n      <td>0</td>\n      <td>0</td>\n      <td>...</td>\n      <td>0</td>\n      <td>0</td>\n      <td>0</td>\n      <td>1</td>\n      <td>0</td>\n      <td>1</td>\n      <td>0</td>\n      <td>0</td>\n      <td>0</td>\n      <td>0</td>\n    </tr>\n  </tbody>\n</table>\n<p>390 rows × 200 columns</p>\n</div>"
     },
     "execution_count": 3,
     "metadata": {},
     "output_type": "execute_result"
    }
   ],
   "source": [
    "#multi_hot encode the suppliers based of the date and if they visited on that date or not\n",
    "#df['supplier'] = np.array([i[0] for i in supplier_sequence],dtype = np.int64)\n",
    "\n",
    "multi_hot = pd.get_dummies(df, columns = ['supplier'],prefix = '', prefix_sep = '')\n",
    "multi_hot = multi_hot.groupby('tanggal').sum()\n",
    "multi_hot = multi_hot.reset_index()\n",
    "multi_hot"
   ],
   "metadata": {
    "collapsed": false,
    "ExecuteTime": {
     "end_time": "2023-06-05T02:21:42.862772900Z",
     "start_time": "2023-06-05T02:21:42.792358500Z"
    }
   }
  },
  {
   "cell_type": "code",
   "execution_count": 4,
   "outputs": [
    {
     "data": {
      "text/plain": "          tanggal  AB  ABA  ABD  ABK  ABS  ADR  AFDHAL  AG  AI  ...  UTJ  VG  \\\n0    1.641168e+09   0    0    0    0    0    0       0   0   1  ...    0   1   \n1    1.641254e+09   0    0    0    0    0    0       0   0   0  ...    0   0   \n2    1.641341e+09   0    0    0    0    0    0       0   0   0  ...    0   1   \n3    1.641427e+09   0    1    0    0    0    1       0   1   0  ...    0   0   \n4    1.641514e+09   0    0    1    0    0    0       0   0   0  ...    0   0   \n..            ...  ..  ...  ...  ...  ...  ...     ...  ..  ..  ...  ...  ..   \n385  1.679962e+09   0    1    0    0    0    0       0   0   0  ...    0   1   \n386  1.680048e+09   0    0    0    0    0    0       0   0   0  ...    0   1   \n387  1.680134e+09   0    1    0    0    0    0       0   0   0  ...    0   0   \n388  1.680221e+09   0    0    0    0    0    0       0   0   0  ...    0   0   \n389  1.680307e+09   0    0    0    0    0    0       0   0   0  ...    0   0   \n\n     WOI  WT  YENI  YIP  YS  YUSRA  ZAIMAR  ZULFAINI  \n0      0   0     0    0   0      0       0         0  \n1      0   0     0    0   0      0       0         0  \n2      0   0     0    0   0      0       0         0  \n3      0   0     0    0   0      0       0         0  \n4      0   1     0    0   0      0       0         0  \n..   ...  ..   ...  ...  ..    ...     ...       ...  \n385    0   0     0    0   0      0       0         0  \n386    0   0     0    0   0      0       0         0  \n387    1   0     0    0   1      0       0         0  \n388    0   0     0    0   0      0       0         0  \n389    0   1     0    1   0      0       0         0  \n\n[390 rows x 200 columns]",
      "text/html": "<div>\n<style scoped>\n    .dataframe tbody tr th:only-of-type {\n        vertical-align: middle;\n    }\n\n    .dataframe tbody tr th {\n        vertical-align: top;\n    }\n\n    .dataframe thead th {\n        text-align: right;\n    }\n</style>\n<table border=\"1\" class=\"dataframe\">\n  <thead>\n    <tr style=\"text-align: right;\">\n      <th></th>\n      <th>tanggal</th>\n      <th>AB</th>\n      <th>ABA</th>\n      <th>ABD</th>\n      <th>ABK</th>\n      <th>ABS</th>\n      <th>ADR</th>\n      <th>AFDHAL</th>\n      <th>AG</th>\n      <th>AI</th>\n      <th>...</th>\n      <th>UTJ</th>\n      <th>VG</th>\n      <th>WOI</th>\n      <th>WT</th>\n      <th>YENI</th>\n      <th>YIP</th>\n      <th>YS</th>\n      <th>YUSRA</th>\n      <th>ZAIMAR</th>\n      <th>ZULFAINI</th>\n    </tr>\n  </thead>\n  <tbody>\n    <tr>\n      <th>0</th>\n      <td>1.641168e+09</td>\n      <td>0</td>\n      <td>0</td>\n      <td>0</td>\n      <td>0</td>\n      <td>0</td>\n      <td>0</td>\n      <td>0</td>\n      <td>0</td>\n      <td>1</td>\n      <td>...</td>\n      <td>0</td>\n      <td>1</td>\n      <td>0</td>\n      <td>0</td>\n      <td>0</td>\n      <td>0</td>\n      <td>0</td>\n      <td>0</td>\n      <td>0</td>\n      <td>0</td>\n    </tr>\n    <tr>\n      <th>1</th>\n      <td>1.641254e+09</td>\n      <td>0</td>\n      <td>0</td>\n      <td>0</td>\n      <td>0</td>\n      <td>0</td>\n      <td>0</td>\n      <td>0</td>\n      <td>0</td>\n      <td>0</td>\n      <td>...</td>\n      <td>0</td>\n      <td>0</td>\n      <td>0</td>\n      <td>0</td>\n      <td>0</td>\n      <td>0</td>\n      <td>0</td>\n      <td>0</td>\n      <td>0</td>\n      <td>0</td>\n    </tr>\n    <tr>\n      <th>2</th>\n      <td>1.641341e+09</td>\n      <td>0</td>\n      <td>0</td>\n      <td>0</td>\n      <td>0</td>\n      <td>0</td>\n      <td>0</td>\n      <td>0</td>\n      <td>0</td>\n      <td>0</td>\n      <td>...</td>\n      <td>0</td>\n      <td>1</td>\n      <td>0</td>\n      <td>0</td>\n      <td>0</td>\n      <td>0</td>\n      <td>0</td>\n      <td>0</td>\n      <td>0</td>\n      <td>0</td>\n    </tr>\n    <tr>\n      <th>3</th>\n      <td>1.641427e+09</td>\n      <td>0</td>\n      <td>1</td>\n      <td>0</td>\n      <td>0</td>\n      <td>0</td>\n      <td>1</td>\n      <td>0</td>\n      <td>1</td>\n      <td>0</td>\n      <td>...</td>\n      <td>0</td>\n      <td>0</td>\n      <td>0</td>\n      <td>0</td>\n      <td>0</td>\n      <td>0</td>\n      <td>0</td>\n      <td>0</td>\n      <td>0</td>\n      <td>0</td>\n    </tr>\n    <tr>\n      <th>4</th>\n      <td>1.641514e+09</td>\n      <td>0</td>\n      <td>0</td>\n      <td>1</td>\n      <td>0</td>\n      <td>0</td>\n      <td>0</td>\n      <td>0</td>\n      <td>0</td>\n      <td>0</td>\n      <td>...</td>\n      <td>0</td>\n      <td>0</td>\n      <td>0</td>\n      <td>1</td>\n      <td>0</td>\n      <td>0</td>\n      <td>0</td>\n      <td>0</td>\n      <td>0</td>\n      <td>0</td>\n    </tr>\n    <tr>\n      <th>...</th>\n      <td>...</td>\n      <td>...</td>\n      <td>...</td>\n      <td>...</td>\n      <td>...</td>\n      <td>...</td>\n      <td>...</td>\n      <td>...</td>\n      <td>...</td>\n      <td>...</td>\n      <td>...</td>\n      <td>...</td>\n      <td>...</td>\n      <td>...</td>\n      <td>...</td>\n      <td>...</td>\n      <td>...</td>\n      <td>...</td>\n      <td>...</td>\n      <td>...</td>\n      <td>...</td>\n    </tr>\n    <tr>\n      <th>385</th>\n      <td>1.679962e+09</td>\n      <td>0</td>\n      <td>1</td>\n      <td>0</td>\n      <td>0</td>\n      <td>0</td>\n      <td>0</td>\n      <td>0</td>\n      <td>0</td>\n      <td>0</td>\n      <td>...</td>\n      <td>0</td>\n      <td>1</td>\n      <td>0</td>\n      <td>0</td>\n      <td>0</td>\n      <td>0</td>\n      <td>0</td>\n      <td>0</td>\n      <td>0</td>\n      <td>0</td>\n    </tr>\n    <tr>\n      <th>386</th>\n      <td>1.680048e+09</td>\n      <td>0</td>\n      <td>0</td>\n      <td>0</td>\n      <td>0</td>\n      <td>0</td>\n      <td>0</td>\n      <td>0</td>\n      <td>0</td>\n      <td>0</td>\n      <td>...</td>\n      <td>0</td>\n      <td>1</td>\n      <td>0</td>\n      <td>0</td>\n      <td>0</td>\n      <td>0</td>\n      <td>0</td>\n      <td>0</td>\n      <td>0</td>\n      <td>0</td>\n    </tr>\n    <tr>\n      <th>387</th>\n      <td>1.680134e+09</td>\n      <td>0</td>\n      <td>1</td>\n      <td>0</td>\n      <td>0</td>\n      <td>0</td>\n      <td>0</td>\n      <td>0</td>\n      <td>0</td>\n      <td>0</td>\n      <td>...</td>\n      <td>0</td>\n      <td>0</td>\n      <td>1</td>\n      <td>0</td>\n      <td>0</td>\n      <td>0</td>\n      <td>1</td>\n      <td>0</td>\n      <td>0</td>\n      <td>0</td>\n    </tr>\n    <tr>\n      <th>388</th>\n      <td>1.680221e+09</td>\n      <td>0</td>\n      <td>0</td>\n      <td>0</td>\n      <td>0</td>\n      <td>0</td>\n      <td>0</td>\n      <td>0</td>\n      <td>0</td>\n      <td>0</td>\n      <td>...</td>\n      <td>0</td>\n      <td>0</td>\n      <td>0</td>\n      <td>0</td>\n      <td>0</td>\n      <td>0</td>\n      <td>0</td>\n      <td>0</td>\n      <td>0</td>\n      <td>0</td>\n    </tr>\n    <tr>\n      <th>389</th>\n      <td>1.680307e+09</td>\n      <td>0</td>\n      <td>0</td>\n      <td>0</td>\n      <td>0</td>\n      <td>0</td>\n      <td>0</td>\n      <td>0</td>\n      <td>0</td>\n      <td>0</td>\n      <td>...</td>\n      <td>0</td>\n      <td>0</td>\n      <td>0</td>\n      <td>1</td>\n      <td>0</td>\n      <td>1</td>\n      <td>0</td>\n      <td>0</td>\n      <td>0</td>\n      <td>0</td>\n    </tr>\n  </tbody>\n</table>\n<p>390 rows × 200 columns</p>\n</div>"
     },
     "execution_count": 4,
     "metadata": {},
     "output_type": "execute_result"
    }
   ],
   "source": [
    "#convert date to epoch\n",
    "epoch = pd.to_datetime(multi_hot['tanggal'], format = \"%Y-%m-%d\")\n",
    "epoch = (epoch - datetime.datetime(1970,1,1))\n",
    "epoch = epoch.map(lambda x: x.total_seconds())\n",
    "multi_hot['tanggal'] = epoch\n",
    "multi_hot\n"
   ],
   "metadata": {
    "collapsed": false,
    "ExecuteTime": {
     "end_time": "2023-06-05T02:21:42.957483300Z",
     "start_time": "2023-06-05T02:21:42.878432800Z"
    }
   }
  },
  {
   "cell_type": "code",
   "execution_count": 5,
   "outputs": [
    {
     "data": {
      "text/plain": "          tanggal  AB  ABA  ABD  ABK  ABS  ADR  AFDHAL  AG  AI  ...  UTJ  VG  \\\n0    1.641168e+09   0    0    0    0    0    0       0   0   1  ...    0   1   \n1    1.641254e+09   0    0    0    0    0    0       0   0   0  ...    0   0   \n2    1.641341e+09   0    0    0    0    0    0       0   0   0  ...    0   1   \n3    1.641427e+09   0    1    0    0    0    1       0   1   0  ...    0   0   \n4    1.641514e+09   0    0    1    0    0    0       0   0   0  ...    0   0   \n..            ...  ..  ...  ...  ...  ...  ...     ...  ..  ..  ...  ...  ..   \n385  1.679962e+09   0    1    0    0    0    0       0   0   0  ...    0   1   \n386  1.680048e+09   0    0    0    0    0    0       0   0   0  ...    0   1   \n387  1.680134e+09   0    1    0    0    0    0       0   0   0  ...    0   0   \n388  1.680221e+09   0    0    0    0    0    0       0   0   0  ...    0   0   \n389  1.680307e+09   0    0    0    0    0    0       0   0   0  ...    0   0   \n\n     WOI  WT  YENI  YIP  YS  YUSRA  ZAIMAR  ZULFAINI  \n0      0   0     0    0   0      0       0         0  \n1      0   0     0    0   0      0       0         0  \n2      0   0     0    0   0      0       0         0  \n3      0   0     0    0   0      0       0         0  \n4      0   1     0    0   0      0       0         0  \n..   ...  ..   ...  ...  ..    ...     ...       ...  \n385    0   0     0    0   0      0       0         0  \n386    0   0     0    0   0      0       0         0  \n387    1   0     0    0   1      0       0         0  \n388    0   0     0    0   0      0       0         0  \n389    0   1     0    1   0      0       0         0  \n\n[390 rows x 200 columns]",
      "text/html": "<div>\n<style scoped>\n    .dataframe tbody tr th:only-of-type {\n        vertical-align: middle;\n    }\n\n    .dataframe tbody tr th {\n        vertical-align: top;\n    }\n\n    .dataframe thead th {\n        text-align: right;\n    }\n</style>\n<table border=\"1\" class=\"dataframe\">\n  <thead>\n    <tr style=\"text-align: right;\">\n      <th></th>\n      <th>tanggal</th>\n      <th>AB</th>\n      <th>ABA</th>\n      <th>ABD</th>\n      <th>ABK</th>\n      <th>ABS</th>\n      <th>ADR</th>\n      <th>AFDHAL</th>\n      <th>AG</th>\n      <th>AI</th>\n      <th>...</th>\n      <th>UTJ</th>\n      <th>VG</th>\n      <th>WOI</th>\n      <th>WT</th>\n      <th>YENI</th>\n      <th>YIP</th>\n      <th>YS</th>\n      <th>YUSRA</th>\n      <th>ZAIMAR</th>\n      <th>ZULFAINI</th>\n    </tr>\n  </thead>\n  <tbody>\n    <tr>\n      <th>0</th>\n      <td>1.641168e+09</td>\n      <td>0</td>\n      <td>0</td>\n      <td>0</td>\n      <td>0</td>\n      <td>0</td>\n      <td>0</td>\n      <td>0</td>\n      <td>0</td>\n      <td>1</td>\n      <td>...</td>\n      <td>0</td>\n      <td>1</td>\n      <td>0</td>\n      <td>0</td>\n      <td>0</td>\n      <td>0</td>\n      <td>0</td>\n      <td>0</td>\n      <td>0</td>\n      <td>0</td>\n    </tr>\n    <tr>\n      <th>1</th>\n      <td>1.641254e+09</td>\n      <td>0</td>\n      <td>0</td>\n      <td>0</td>\n      <td>0</td>\n      <td>0</td>\n      <td>0</td>\n      <td>0</td>\n      <td>0</td>\n      <td>0</td>\n      <td>...</td>\n      <td>0</td>\n      <td>0</td>\n      <td>0</td>\n      <td>0</td>\n      <td>0</td>\n      <td>0</td>\n      <td>0</td>\n      <td>0</td>\n      <td>0</td>\n      <td>0</td>\n    </tr>\n    <tr>\n      <th>2</th>\n      <td>1.641341e+09</td>\n      <td>0</td>\n      <td>0</td>\n      <td>0</td>\n      <td>0</td>\n      <td>0</td>\n      <td>0</td>\n      <td>0</td>\n      <td>0</td>\n      <td>0</td>\n      <td>...</td>\n      <td>0</td>\n      <td>1</td>\n      <td>0</td>\n      <td>0</td>\n      <td>0</td>\n      <td>0</td>\n      <td>0</td>\n      <td>0</td>\n      <td>0</td>\n      <td>0</td>\n    </tr>\n    <tr>\n      <th>3</th>\n      <td>1.641427e+09</td>\n      <td>0</td>\n      <td>1</td>\n      <td>0</td>\n      <td>0</td>\n      <td>0</td>\n      <td>1</td>\n      <td>0</td>\n      <td>1</td>\n      <td>0</td>\n      <td>...</td>\n      <td>0</td>\n      <td>0</td>\n      <td>0</td>\n      <td>0</td>\n      <td>0</td>\n      <td>0</td>\n      <td>0</td>\n      <td>0</td>\n      <td>0</td>\n      <td>0</td>\n    </tr>\n    <tr>\n      <th>4</th>\n      <td>1.641514e+09</td>\n      <td>0</td>\n      <td>0</td>\n      <td>1</td>\n      <td>0</td>\n      <td>0</td>\n      <td>0</td>\n      <td>0</td>\n      <td>0</td>\n      <td>0</td>\n      <td>...</td>\n      <td>0</td>\n      <td>0</td>\n      <td>0</td>\n      <td>1</td>\n      <td>0</td>\n      <td>0</td>\n      <td>0</td>\n      <td>0</td>\n      <td>0</td>\n      <td>0</td>\n    </tr>\n    <tr>\n      <th>...</th>\n      <td>...</td>\n      <td>...</td>\n      <td>...</td>\n      <td>...</td>\n      <td>...</td>\n      <td>...</td>\n      <td>...</td>\n      <td>...</td>\n      <td>...</td>\n      <td>...</td>\n      <td>...</td>\n      <td>...</td>\n      <td>...</td>\n      <td>...</td>\n      <td>...</td>\n      <td>...</td>\n      <td>...</td>\n      <td>...</td>\n      <td>...</td>\n      <td>...</td>\n      <td>...</td>\n    </tr>\n    <tr>\n      <th>385</th>\n      <td>1.679962e+09</td>\n      <td>0</td>\n      <td>1</td>\n      <td>0</td>\n      <td>0</td>\n      <td>0</td>\n      <td>0</td>\n      <td>0</td>\n      <td>0</td>\n      <td>0</td>\n      <td>...</td>\n      <td>0</td>\n      <td>1</td>\n      <td>0</td>\n      <td>0</td>\n      <td>0</td>\n      <td>0</td>\n      <td>0</td>\n      <td>0</td>\n      <td>0</td>\n      <td>0</td>\n    </tr>\n    <tr>\n      <th>386</th>\n      <td>1.680048e+09</td>\n      <td>0</td>\n      <td>0</td>\n      <td>0</td>\n      <td>0</td>\n      <td>0</td>\n      <td>0</td>\n      <td>0</td>\n      <td>0</td>\n      <td>0</td>\n      <td>...</td>\n      <td>0</td>\n      <td>1</td>\n      <td>0</td>\n      <td>0</td>\n      <td>0</td>\n      <td>0</td>\n      <td>0</td>\n      <td>0</td>\n      <td>0</td>\n      <td>0</td>\n    </tr>\n    <tr>\n      <th>387</th>\n      <td>1.680134e+09</td>\n      <td>0</td>\n      <td>1</td>\n      <td>0</td>\n      <td>0</td>\n      <td>0</td>\n      <td>0</td>\n      <td>0</td>\n      <td>0</td>\n      <td>0</td>\n      <td>...</td>\n      <td>0</td>\n      <td>0</td>\n      <td>1</td>\n      <td>0</td>\n      <td>0</td>\n      <td>0</td>\n      <td>1</td>\n      <td>0</td>\n      <td>0</td>\n      <td>0</td>\n    </tr>\n    <tr>\n      <th>388</th>\n      <td>1.680221e+09</td>\n      <td>0</td>\n      <td>0</td>\n      <td>0</td>\n      <td>0</td>\n      <td>0</td>\n      <td>0</td>\n      <td>0</td>\n      <td>0</td>\n      <td>0</td>\n      <td>...</td>\n      <td>0</td>\n      <td>0</td>\n      <td>0</td>\n      <td>0</td>\n      <td>0</td>\n      <td>0</td>\n      <td>0</td>\n      <td>0</td>\n      <td>0</td>\n      <td>0</td>\n    </tr>\n    <tr>\n      <th>389</th>\n      <td>1.680307e+09</td>\n      <td>0</td>\n      <td>0</td>\n      <td>0</td>\n      <td>0</td>\n      <td>0</td>\n      <td>0</td>\n      <td>0</td>\n      <td>0</td>\n      <td>0</td>\n      <td>...</td>\n      <td>0</td>\n      <td>0</td>\n      <td>0</td>\n      <td>1</td>\n      <td>0</td>\n      <td>1</td>\n      <td>0</td>\n      <td>0</td>\n      <td>0</td>\n      <td>0</td>\n    </tr>\n  </tbody>\n</table>\n<p>390 rows × 200 columns</p>\n</div>"
     },
     "execution_count": 5,
     "metadata": {},
     "output_type": "execute_result"
    }
   ],
   "source": [
    "#sort from multi_hot date\n",
    "multi_hot = multi_hot.sort_values('tanggal', ascending= True)\n",
    "multi_hot = multi_hot.reset_index()\n",
    "multi_hot.pop('index')\n",
    "multi_hot"
   ],
   "metadata": {
    "collapsed": false,
    "ExecuteTime": {
     "end_time": "2023-06-05T02:21:43.099021800Z",
     "start_time": "2023-06-05T02:21:42.910150400Z"
    }
   }
  },
  {
   "cell_type": "code",
   "execution_count": 6,
   "outputs": [],
   "source": [
    "#add previous date column\n",
    "def previous_date(dataframe):\n",
    "  \"\"\"\n",
    "  Adds a column containing the previous date\n",
    "  Args:\n",
    "    dataframe (dataframe): dataframe containing the dates\n",
    "\n",
    "  Returns:\n",
    "    df (dataframe): dataframe containing the previous date\n",
    "  \"\"\"\n",
    "  dataframe['previous_tanggal'] = dataframe['tanggal'].shift(1)\n",
    "  return dataframe\n",
    "multi_hot = previous_date(multi_hot)\n"
   ],
   "metadata": {
    "collapsed": false,
    "ExecuteTime": {
     "end_time": "2023-06-05T02:21:43.099021800Z",
     "start_time": "2023-06-05T02:21:42.962963800Z"
    }
   }
  },
  {
   "cell_type": "code",
   "execution_count": 7,
   "outputs": [
    {
     "data": {
      "text/plain": "0               NaN\n1      1.641168e+09\n2      1.641254e+09\n3      1.641341e+09\n4      1.641427e+09\n           ...     \n385    1.679875e+09\n386    1.679962e+09\n387    1.680048e+09\n388    1.680134e+09\n389    1.680221e+09\nName: previous_tanggal, Length: 390, dtype: float64"
     },
     "execution_count": 7,
     "metadata": {},
     "output_type": "execute_result"
    }
   ],
   "source": [
    "#Get the time difference between the current date and the previous date and convert it to days, keep the first row as 0\n",
    "def time_diff(dataframe):\n",
    "  \"\"\"\n",
    "  Adds a column containing the time difference between the current date and the previous date\n",
    "  Args:\n",
    "    dataframe (dataframe): dataframe containing the dates\n",
    "\n",
    "  Returns:\n",
    "    df (dataframe): dataframe containing the time difference between the current date and the previous date\n",
    "  \"\"\"\n",
    "  dataframe['time_diff'] = abs(dataframe['tanggal'] - dataframe['previous_tanggal'])\n",
    "  dataframe['time_diff'] = dataframe['time_diff'].map(lambda x: x / 86400)\n",
    "  dataframe['time_diff'] = dataframe['time_diff'].fillna(1)\n",
    "  return dataframe\n",
    "multi_hot = time_diff(multi_hot)\n",
    "multi_hot.pop('previous_tanggal')\n"
   ],
   "metadata": {
    "collapsed": false,
    "ExecuteTime": {
     "end_time": "2023-06-05T02:21:43.210167100Z",
     "start_time": "2023-06-05T02:21:42.962963800Z"
    }
   }
  },
  {
   "cell_type": "code",
   "execution_count": 8,
   "outputs": [
    {
     "data": {
      "text/plain": "{'AB': 2,\n 'ABA': 102,\n 'ABD': 22,\n 'ABK': 5,\n 'ABS': 23,\n 'ADR': 69,\n 'AFDHAL': 3,\n 'AG': 10,\n 'AI': 13,\n 'AJL': 1,\n 'AJSB': 10,\n 'AJW': 95,\n 'ALBACAR': 21,\n 'ALFA': 9,\n 'ANI': 11,\n 'ANIS': 9,\n 'AP': 8,\n 'APL': 12,\n 'APS': 28,\n 'AQILLA': 10,\n 'ARB': 1,\n 'ARTA': 21,\n 'ASI': 13,\n 'ASIH': 76,\n 'ASNIAHK': 15,\n 'AWM': 12,\n 'AYU': 2,\n 'BA': 7,\n 'BCRS': 28,\n 'BENTOL': 4,\n 'BERKAH': 2,\n 'BHK': 40,\n 'BM': 52,\n 'BMC': 5,\n 'BML': 27,\n 'BSM': 22,\n 'BSP': 26,\n 'BUKWATI': 35,\n 'BUNDA': 14,\n 'CADO': 5,\n 'CD': 124,\n 'CK': 4,\n 'CMPG': 17,\n 'COLA': 64,\n 'CR': 54,\n 'DB': 34,\n 'DBA': 33,\n 'DBBP': 8,\n 'DBT': 45,\n 'DMA': 14,\n 'DP': 1,\n 'DS': 48,\n 'EB': 36,\n 'ECN': 3,\n 'ELBIRUNI': 8,\n 'ELKA': 28,\n 'ELSIE': 51,\n 'ELYANA': 26,\n 'ENSEVAL': 52,\n 'ERNA': 7,\n 'ESSE': 46,\n 'FAJAR': 123,\n 'FD': 24,\n 'FIKRI': 4,\n 'FJA': 1,\n 'FORTUNA': 7,\n 'FWI': 11,\n 'GA': 2,\n 'GB': 20,\n 'GBK': 1,\n 'GERAI': 7,\n 'GJP': 19,\n 'GMP': 87,\n 'GPD': 15,\n 'HAJ': 12,\n 'HASANAH': 4,\n 'HERI': 22,\n 'HERMAN': 29,\n 'HILAL': 7,\n 'IAP': 37,\n 'ICA': 1,\n 'IDA': 26,\n 'IG': 1,\n 'ILA': 4,\n 'INA': 38,\n 'INN': 179,\n 'IP': 22,\n 'IUB': 24,\n 'JAILOLO': 29,\n 'JAKARTA': 34,\n 'JAY': 1,\n 'JB': 18,\n 'JRA': 4,\n 'JS': 2,\n 'JSNACK': 6,\n 'KAKRIA': 6,\n 'KAMPAS': 90,\n 'KBJ': 163,\n 'KBS': 1,\n 'KGA': 7,\n 'KGAK': 21,\n 'KK': 10,\n 'KKA': 17,\n 'KKL': 10,\n 'KLINIK': 1,\n 'KOBE': 6,\n 'KR': 75,\n 'LAMLO': 10,\n 'LG': 28,\n 'LINA': 31,\n 'LM': 2,\n 'MAJU': 7,\n 'MAKDAH': 48,\n 'MAPR': 6,\n 'MARA': 91,\n 'MARYAM': 3,\n 'MAS': 31,\n 'MAYA': 3,\n 'MBS': 27,\n 'MC': 6,\n 'MH': 3,\n 'MITRA': 58,\n 'MJA': 31,\n 'MJPP': 4,\n 'MN': 5,\n 'MNJ': 17,\n 'MOUNT': 233,\n 'MP': 5,\n 'MS': 13,\n 'MSJ': 1,\n 'MULIA': 3,\n 'MUTIARA': 25,\n 'MWS': 6,\n 'NGETOP': 59,\n 'NGT': 4,\n 'NIRMALA': 18,\n 'NNA': 4,\n 'NS': 2,\n 'NURUL': 7,\n 'NV': 136,\n 'OKHL': 88,\n 'PAP': 3,\n 'PAS': 2,\n 'PERMATA': 31,\n 'PGI': 29,\n 'PMM': 12,\n 'PP': 43,\n 'PPL': 31,\n 'PR': 59,\n 'PTTEMPO': 38,\n 'RAHMA': 1,\n 'RAHMAT': 21,\n 'RANI': 4,\n 'RAZAQ': 2,\n 'RETUR': 125,\n 'RR': 10,\n 'SA': 20,\n 'SAB': 23,\n 'SALFIX': 4,\n 'SAMPOERNA': 55,\n 'SAMSUL': 2,\n 'SB': 30,\n 'SBA': 9,\n 'SC': 3,\n 'SCM': 22,\n 'SDI': 2,\n 'SERANTING': 2,\n 'SINAR': 1,\n 'SJMA': 29,\n 'SJS': 20,\n 'SK': 95,\n 'SM': 178,\n 'SMA': 17,\n 'SRB': 24,\n 'SULTAN': 3,\n 'SURYA': 11,\n 'SURYAM': 51,\n 'SUSI': 16,\n 'TANGSE': 1,\n 'TARMIZI': 1,\n 'TAUFIQAH': 2,\n 'TEMPO': 1,\n 'TG': 11,\n 'TIARA': 34,\n 'TUAH': 43,\n 'UB': 47,\n 'UMJ': 51,\n 'URB': 2,\n 'UTI': 53,\n 'UTJ': 31,\n 'VG': 137,\n 'WOI': 22,\n 'WT': 39,\n 'YENI': 1,\n 'YIP': 63,\n 'YS': 29,\n 'YUSRA': 40,\n 'ZAIMAR': 1,\n 'ZULFAINI': 6,\n 'time_diff': 454.0}"
     },
     "execution_count": 8,
     "metadata": {},
     "output_type": "execute_result"
    }
   ],
   "source": [
    "#dictionary of sum of 1s for each supplier\n",
    "def supplier_dict(dataframe):\n",
    "  \"\"\"\n",
    "  Creates a dictionary containing the sum of 1s for each supplier\n",
    "  Args:\n",
    "    dataframe (dataframe): dataframe containing the dates\n",
    "\n",
    "  Returns:\n",
    "    supplier_dict (dict): dictionary containing the sum of 1s for each supplier\n",
    "  \"\"\"\n",
    "  supplier_dict = {}\n",
    "  for i in range(1, len(dataframe.columns)):\n",
    "    supplier_dict[dataframe.columns[i]] = dataframe[dataframe.columns[i]].sum()\n",
    "  return supplier_dict\n",
    "supplier_dict = supplier_dict(multi_hot)\n",
    "supplier_dict"
   ],
   "metadata": {
    "collapsed": false,
    "ExecuteTime": {
     "end_time": "2023-06-05T02:21:43.257040700Z",
     "start_time": "2023-06-05T02:21:43.005034500Z"
    }
   }
  },
  {
   "cell_type": "code",
   "execution_count": 9,
   "outputs": [
    {
     "data": {
      "text/plain": "          tanggal  AB  ABA  ABD  ABK  ABS  ADR  AFDHAL  AG  AI  ...  VG  WOI  \\\n0    1.641168e+09  -1   -1   -1   -1   -1   -1      -1  -1   0  ...   0   -1   \n1    1.641254e+09   0    0    0    0    0    0       0   0   0  ...   0    0   \n2    1.641341e+09   0    0    0    0    0    0       0   0   0  ...   1    0   \n3    1.641427e+09   0    1    0    0    0    1       0   1   0  ...   0    0   \n4    1.641514e+09   0    0    1    0    0    0       0   0   0  ...   0    0   \n..            ...  ..  ...  ...  ...  ...  ...     ...  ..  ..  ...  ..  ...   \n385  1.679962e+09   0    1    0    0    0    0       0   0   0  ...   1    0   \n386  1.680048e+09   0    0    0    0    0    0       0   0   0  ...   1    0   \n387  1.680134e+09   0    1    0    0    0    0       0   0   0  ...   0    1   \n388  1.680221e+09   0    0    0    0    0    0       0   0   0  ...   0    0   \n389  1.680307e+09   0    0    0    0    0    0       0   0   0  ...   0    0   \n\n     WT  YENI  YIP  YS  YUSRA  ZAIMAR  ZULFAINI  time_diff  \n0    -1    -1   -1  -1     -1      -1        -1        0.0  \n1     0     0    0   0      0       0         0        1.0  \n2     0     0    0   0      0       0         0        1.0  \n3     0     0    0   0      0       0         0        1.0  \n4     1     0    0   0      0       0         0        1.0  \n..   ..   ...  ...  ..    ...     ...       ...        ...  \n385   0     0    0   0      0       0         0        1.0  \n386   0     0    0   0      0       0         0        1.0  \n387   0     0    0   1      0       0         0        1.0  \n388   0     0    0   0      0       0         0        1.0  \n389   1     0    1   0      0       0         0        1.0  \n\n[390 rows x 201 columns]",
      "text/html": "<div>\n<style scoped>\n    .dataframe tbody tr th:only-of-type {\n        vertical-align: middle;\n    }\n\n    .dataframe tbody tr th {\n        vertical-align: top;\n    }\n\n    .dataframe thead th {\n        text-align: right;\n    }\n</style>\n<table border=\"1\" class=\"dataframe\">\n  <thead>\n    <tr style=\"text-align: right;\">\n      <th></th>\n      <th>tanggal</th>\n      <th>AB</th>\n      <th>ABA</th>\n      <th>ABD</th>\n      <th>ABK</th>\n      <th>ABS</th>\n      <th>ADR</th>\n      <th>AFDHAL</th>\n      <th>AG</th>\n      <th>AI</th>\n      <th>...</th>\n      <th>VG</th>\n      <th>WOI</th>\n      <th>WT</th>\n      <th>YENI</th>\n      <th>YIP</th>\n      <th>YS</th>\n      <th>YUSRA</th>\n      <th>ZAIMAR</th>\n      <th>ZULFAINI</th>\n      <th>time_diff</th>\n    </tr>\n  </thead>\n  <tbody>\n    <tr>\n      <th>0</th>\n      <td>1.641168e+09</td>\n      <td>-1</td>\n      <td>-1</td>\n      <td>-1</td>\n      <td>-1</td>\n      <td>-1</td>\n      <td>-1</td>\n      <td>-1</td>\n      <td>-1</td>\n      <td>0</td>\n      <td>...</td>\n      <td>0</td>\n      <td>-1</td>\n      <td>-1</td>\n      <td>-1</td>\n      <td>-1</td>\n      <td>-1</td>\n      <td>-1</td>\n      <td>-1</td>\n      <td>-1</td>\n      <td>0.0</td>\n    </tr>\n    <tr>\n      <th>1</th>\n      <td>1.641254e+09</td>\n      <td>0</td>\n      <td>0</td>\n      <td>0</td>\n      <td>0</td>\n      <td>0</td>\n      <td>0</td>\n      <td>0</td>\n      <td>0</td>\n      <td>0</td>\n      <td>...</td>\n      <td>0</td>\n      <td>0</td>\n      <td>0</td>\n      <td>0</td>\n      <td>0</td>\n      <td>0</td>\n      <td>0</td>\n      <td>0</td>\n      <td>0</td>\n      <td>1.0</td>\n    </tr>\n    <tr>\n      <th>2</th>\n      <td>1.641341e+09</td>\n      <td>0</td>\n      <td>0</td>\n      <td>0</td>\n      <td>0</td>\n      <td>0</td>\n      <td>0</td>\n      <td>0</td>\n      <td>0</td>\n      <td>0</td>\n      <td>...</td>\n      <td>1</td>\n      <td>0</td>\n      <td>0</td>\n      <td>0</td>\n      <td>0</td>\n      <td>0</td>\n      <td>0</td>\n      <td>0</td>\n      <td>0</td>\n      <td>1.0</td>\n    </tr>\n    <tr>\n      <th>3</th>\n      <td>1.641427e+09</td>\n      <td>0</td>\n      <td>1</td>\n      <td>0</td>\n      <td>0</td>\n      <td>0</td>\n      <td>1</td>\n      <td>0</td>\n      <td>1</td>\n      <td>0</td>\n      <td>...</td>\n      <td>0</td>\n      <td>0</td>\n      <td>0</td>\n      <td>0</td>\n      <td>0</td>\n      <td>0</td>\n      <td>0</td>\n      <td>0</td>\n      <td>0</td>\n      <td>1.0</td>\n    </tr>\n    <tr>\n      <th>4</th>\n      <td>1.641514e+09</td>\n      <td>0</td>\n      <td>0</td>\n      <td>1</td>\n      <td>0</td>\n      <td>0</td>\n      <td>0</td>\n      <td>0</td>\n      <td>0</td>\n      <td>0</td>\n      <td>...</td>\n      <td>0</td>\n      <td>0</td>\n      <td>1</td>\n      <td>0</td>\n      <td>0</td>\n      <td>0</td>\n      <td>0</td>\n      <td>0</td>\n      <td>0</td>\n      <td>1.0</td>\n    </tr>\n    <tr>\n      <th>...</th>\n      <td>...</td>\n      <td>...</td>\n      <td>...</td>\n      <td>...</td>\n      <td>...</td>\n      <td>...</td>\n      <td>...</td>\n      <td>...</td>\n      <td>...</td>\n      <td>...</td>\n      <td>...</td>\n      <td>...</td>\n      <td>...</td>\n      <td>...</td>\n      <td>...</td>\n      <td>...</td>\n      <td>...</td>\n      <td>...</td>\n      <td>...</td>\n      <td>...</td>\n      <td>...</td>\n    </tr>\n    <tr>\n      <th>385</th>\n      <td>1.679962e+09</td>\n      <td>0</td>\n      <td>1</td>\n      <td>0</td>\n      <td>0</td>\n      <td>0</td>\n      <td>0</td>\n      <td>0</td>\n      <td>0</td>\n      <td>0</td>\n      <td>...</td>\n      <td>1</td>\n      <td>0</td>\n      <td>0</td>\n      <td>0</td>\n      <td>0</td>\n      <td>0</td>\n      <td>0</td>\n      <td>0</td>\n      <td>0</td>\n      <td>1.0</td>\n    </tr>\n    <tr>\n      <th>386</th>\n      <td>1.680048e+09</td>\n      <td>0</td>\n      <td>0</td>\n      <td>0</td>\n      <td>0</td>\n      <td>0</td>\n      <td>0</td>\n      <td>0</td>\n      <td>0</td>\n      <td>0</td>\n      <td>...</td>\n      <td>1</td>\n      <td>0</td>\n      <td>0</td>\n      <td>0</td>\n      <td>0</td>\n      <td>0</td>\n      <td>0</td>\n      <td>0</td>\n      <td>0</td>\n      <td>1.0</td>\n    </tr>\n    <tr>\n      <th>387</th>\n      <td>1.680134e+09</td>\n      <td>0</td>\n      <td>1</td>\n      <td>0</td>\n      <td>0</td>\n      <td>0</td>\n      <td>0</td>\n      <td>0</td>\n      <td>0</td>\n      <td>0</td>\n      <td>...</td>\n      <td>0</td>\n      <td>1</td>\n      <td>0</td>\n      <td>0</td>\n      <td>0</td>\n      <td>1</td>\n      <td>0</td>\n      <td>0</td>\n      <td>0</td>\n      <td>1.0</td>\n    </tr>\n    <tr>\n      <th>388</th>\n      <td>1.680221e+09</td>\n      <td>0</td>\n      <td>0</td>\n      <td>0</td>\n      <td>0</td>\n      <td>0</td>\n      <td>0</td>\n      <td>0</td>\n      <td>0</td>\n      <td>0</td>\n      <td>...</td>\n      <td>0</td>\n      <td>0</td>\n      <td>0</td>\n      <td>0</td>\n      <td>0</td>\n      <td>0</td>\n      <td>0</td>\n      <td>0</td>\n      <td>0</td>\n      <td>1.0</td>\n    </tr>\n    <tr>\n      <th>389</th>\n      <td>1.680307e+09</td>\n      <td>0</td>\n      <td>0</td>\n      <td>0</td>\n      <td>0</td>\n      <td>0</td>\n      <td>0</td>\n      <td>0</td>\n      <td>0</td>\n      <td>0</td>\n      <td>...</td>\n      <td>0</td>\n      <td>0</td>\n      <td>1</td>\n      <td>0</td>\n      <td>1</td>\n      <td>0</td>\n      <td>0</td>\n      <td>0</td>\n      <td>0</td>\n      <td>1.0</td>\n    </tr>\n  </tbody>\n</table>\n<p>390 rows × 201 columns</p>\n</div>"
     },
     "execution_count": 9,
     "metadata": {},
     "output_type": "execute_result"
    }
   ],
   "source": [
    "#swap values of 0 and 1 in the first row of the dataframe (because the first row is the lamultihot date for supplier visits)\n",
    "def swap_0_1(dataframe):\n",
    "  \"\"\"\n",
    "  Swaps the values of 0 and 1 in the first row of the dataframe\n",
    "  Args:\n",
    "    dataframe (dataframe): dataframe containing the dates\n",
    "\n",
    "  Returns:\n",
    "    df (dataframe): dataframe containing the swapped values of 0 and 1 in the first row of the dataframe\n",
    "  \"\"\"\n",
    "  for i in range(1, len(dataframe.columns)):\n",
    "    if dataframe.iloc[0,i] == 0:\n",
    "      dataframe.iloc[0,i] = -1\n",
    "    else:\n",
    "      dataframe.iloc[0,i] = 0\n",
    "  return dataframe\n",
    "multi_hot = swap_0_1(multi_hot)\n",
    "multi_hot"
   ],
   "metadata": {
    "collapsed": false,
    "ExecuteTime": {
     "end_time": "2023-06-05T02:21:43.257040700Z",
     "start_time": "2023-06-05T02:21:43.052125200Z"
    }
   }
  },
  {
   "cell_type": "code",
   "execution_count": 10,
   "outputs": [
    {
     "data": {
      "text/plain": "          tanggal  AB  ABA  ABD  ABK  ABS  ADR  AFDHAL  AG   AI  ...  VG  WOI  \\\n0    1.641168e+09  -1   -1   -1   -1   -1   -1      -1  -1    0  ...   0   -1   \n1    1.641254e+09  -1   -1   -1   -1   -1   -1      -1  -1    1  ...   1   -1   \n2    1.641341e+09  -1   -1   -1   -1   -1   -1      -1  -1    2  ...   0   -1   \n3    1.641427e+09  -1    0   -1   -1   -1    0      -1   0    3  ...   1   -1   \n4    1.641514e+09  -1    1    0   -1   -1    1      -1   1    4  ...   2   -1   \n..            ...  ..  ...  ...  ...  ...  ...     ...  ..  ...  ...  ..  ...   \n385  1.679962e+09  91    0    7   99   43    3       7  14  133  ...   0   13   \n386  1.680048e+09  92    1    8  100   44    4       8  15  134  ...   0   14   \n387  1.680134e+09  93    0    9  101   45    5       9  16  135  ...   1    0   \n388  1.680221e+09  94    1   10  102   46    6      10  17  136  ...   2    1   \n389  1.680307e+09  95    2   11  103   47    7      11  18  137  ...   3    2   \n\n     WT  YENI  YIP  YS  YUSRA  ZAIMAR  ZULFAINI  time_diff  \n0    -1    -1   -1  -1     -1      -1        -1        0.0  \n1    -1    -1   -1  -1     -1      -1        -1        1.0  \n2    -1    -1   -1  -1     -1      -1        -1        1.0  \n3    -1    -1   -1  -1     -1      -1        -1        1.0  \n4     0    -1   -1  -1     -1      -1        -1        1.0  \n..   ..   ...  ...  ..    ...     ...       ...        ...  \n385   5   382    3  18     13     223        29        1.0  \n386   6   383    4  19     14     224        30        1.0  \n387   7   384    5   0     15     225        31        1.0  \n388   8   385    6   1     16     226        32        1.0  \n389   0   386    0   2     17     227        33        1.0  \n\n[390 rows x 201 columns]",
      "text/html": "<div>\n<style scoped>\n    .dataframe tbody tr th:only-of-type {\n        vertical-align: middle;\n    }\n\n    .dataframe tbody tr th {\n        vertical-align: top;\n    }\n\n    .dataframe thead th {\n        text-align: right;\n    }\n</style>\n<table border=\"1\" class=\"dataframe\">\n  <thead>\n    <tr style=\"text-align: right;\">\n      <th></th>\n      <th>tanggal</th>\n      <th>AB</th>\n      <th>ABA</th>\n      <th>ABD</th>\n      <th>ABK</th>\n      <th>ABS</th>\n      <th>ADR</th>\n      <th>AFDHAL</th>\n      <th>AG</th>\n      <th>AI</th>\n      <th>...</th>\n      <th>VG</th>\n      <th>WOI</th>\n      <th>WT</th>\n      <th>YENI</th>\n      <th>YIP</th>\n      <th>YS</th>\n      <th>YUSRA</th>\n      <th>ZAIMAR</th>\n      <th>ZULFAINI</th>\n      <th>time_diff</th>\n    </tr>\n  </thead>\n  <tbody>\n    <tr>\n      <th>0</th>\n      <td>1.641168e+09</td>\n      <td>-1</td>\n      <td>-1</td>\n      <td>-1</td>\n      <td>-1</td>\n      <td>-1</td>\n      <td>-1</td>\n      <td>-1</td>\n      <td>-1</td>\n      <td>0</td>\n      <td>...</td>\n      <td>0</td>\n      <td>-1</td>\n      <td>-1</td>\n      <td>-1</td>\n      <td>-1</td>\n      <td>-1</td>\n      <td>-1</td>\n      <td>-1</td>\n      <td>-1</td>\n      <td>0.0</td>\n    </tr>\n    <tr>\n      <th>1</th>\n      <td>1.641254e+09</td>\n      <td>-1</td>\n      <td>-1</td>\n      <td>-1</td>\n      <td>-1</td>\n      <td>-1</td>\n      <td>-1</td>\n      <td>-1</td>\n      <td>-1</td>\n      <td>1</td>\n      <td>...</td>\n      <td>1</td>\n      <td>-1</td>\n      <td>-1</td>\n      <td>-1</td>\n      <td>-1</td>\n      <td>-1</td>\n      <td>-1</td>\n      <td>-1</td>\n      <td>-1</td>\n      <td>1.0</td>\n    </tr>\n    <tr>\n      <th>2</th>\n      <td>1.641341e+09</td>\n      <td>-1</td>\n      <td>-1</td>\n      <td>-1</td>\n      <td>-1</td>\n      <td>-1</td>\n      <td>-1</td>\n      <td>-1</td>\n      <td>-1</td>\n      <td>2</td>\n      <td>...</td>\n      <td>0</td>\n      <td>-1</td>\n      <td>-1</td>\n      <td>-1</td>\n      <td>-1</td>\n      <td>-1</td>\n      <td>-1</td>\n      <td>-1</td>\n      <td>-1</td>\n      <td>1.0</td>\n    </tr>\n    <tr>\n      <th>3</th>\n      <td>1.641427e+09</td>\n      <td>-1</td>\n      <td>0</td>\n      <td>-1</td>\n      <td>-1</td>\n      <td>-1</td>\n      <td>0</td>\n      <td>-1</td>\n      <td>0</td>\n      <td>3</td>\n      <td>...</td>\n      <td>1</td>\n      <td>-1</td>\n      <td>-1</td>\n      <td>-1</td>\n      <td>-1</td>\n      <td>-1</td>\n      <td>-1</td>\n      <td>-1</td>\n      <td>-1</td>\n      <td>1.0</td>\n    </tr>\n    <tr>\n      <th>4</th>\n      <td>1.641514e+09</td>\n      <td>-1</td>\n      <td>1</td>\n      <td>0</td>\n      <td>-1</td>\n      <td>-1</td>\n      <td>1</td>\n      <td>-1</td>\n      <td>1</td>\n      <td>4</td>\n      <td>...</td>\n      <td>2</td>\n      <td>-1</td>\n      <td>0</td>\n      <td>-1</td>\n      <td>-1</td>\n      <td>-1</td>\n      <td>-1</td>\n      <td>-1</td>\n      <td>-1</td>\n      <td>1.0</td>\n    </tr>\n    <tr>\n      <th>...</th>\n      <td>...</td>\n      <td>...</td>\n      <td>...</td>\n      <td>...</td>\n      <td>...</td>\n      <td>...</td>\n      <td>...</td>\n      <td>...</td>\n      <td>...</td>\n      <td>...</td>\n      <td>...</td>\n      <td>...</td>\n      <td>...</td>\n      <td>...</td>\n      <td>...</td>\n      <td>...</td>\n      <td>...</td>\n      <td>...</td>\n      <td>...</td>\n      <td>...</td>\n      <td>...</td>\n    </tr>\n    <tr>\n      <th>385</th>\n      <td>1.679962e+09</td>\n      <td>91</td>\n      <td>0</td>\n      <td>7</td>\n      <td>99</td>\n      <td>43</td>\n      <td>3</td>\n      <td>7</td>\n      <td>14</td>\n      <td>133</td>\n      <td>...</td>\n      <td>0</td>\n      <td>13</td>\n      <td>5</td>\n      <td>382</td>\n      <td>3</td>\n      <td>18</td>\n      <td>13</td>\n      <td>223</td>\n      <td>29</td>\n      <td>1.0</td>\n    </tr>\n    <tr>\n      <th>386</th>\n      <td>1.680048e+09</td>\n      <td>92</td>\n      <td>1</td>\n      <td>8</td>\n      <td>100</td>\n      <td>44</td>\n      <td>4</td>\n      <td>8</td>\n      <td>15</td>\n      <td>134</td>\n      <td>...</td>\n      <td>0</td>\n      <td>14</td>\n      <td>6</td>\n      <td>383</td>\n      <td>4</td>\n      <td>19</td>\n      <td>14</td>\n      <td>224</td>\n      <td>30</td>\n      <td>1.0</td>\n    </tr>\n    <tr>\n      <th>387</th>\n      <td>1.680134e+09</td>\n      <td>93</td>\n      <td>0</td>\n      <td>9</td>\n      <td>101</td>\n      <td>45</td>\n      <td>5</td>\n      <td>9</td>\n      <td>16</td>\n      <td>135</td>\n      <td>...</td>\n      <td>1</td>\n      <td>0</td>\n      <td>7</td>\n      <td>384</td>\n      <td>5</td>\n      <td>0</td>\n      <td>15</td>\n      <td>225</td>\n      <td>31</td>\n      <td>1.0</td>\n    </tr>\n    <tr>\n      <th>388</th>\n      <td>1.680221e+09</td>\n      <td>94</td>\n      <td>1</td>\n      <td>10</td>\n      <td>102</td>\n      <td>46</td>\n      <td>6</td>\n      <td>10</td>\n      <td>17</td>\n      <td>136</td>\n      <td>...</td>\n      <td>2</td>\n      <td>1</td>\n      <td>8</td>\n      <td>385</td>\n      <td>6</td>\n      <td>1</td>\n      <td>16</td>\n      <td>226</td>\n      <td>32</td>\n      <td>1.0</td>\n    </tr>\n    <tr>\n      <th>389</th>\n      <td>1.680307e+09</td>\n      <td>95</td>\n      <td>2</td>\n      <td>11</td>\n      <td>103</td>\n      <td>47</td>\n      <td>7</td>\n      <td>11</td>\n      <td>18</td>\n      <td>137</td>\n      <td>...</td>\n      <td>3</td>\n      <td>2</td>\n      <td>0</td>\n      <td>386</td>\n      <td>0</td>\n      <td>2</td>\n      <td>17</td>\n      <td>227</td>\n      <td>33</td>\n      <td>1.0</td>\n    </tr>\n  </tbody>\n</table>\n<p>390 rows × 201 columns</p>\n</div>"
     },
     "execution_count": 10,
     "metadata": {},
     "output_type": "execute_result"
    }
   ],
   "source": [
    "#update each column\n",
    "def days_since_last_visit(dataframe):\n",
    "  \"\"\"\n",
    "  Adds a column containing the days till the next visit\n",
    "  Args:\n",
    "    dataframe (dataframe): dataframe containing the dates\n",
    "\n",
    "  Returns:\n",
    "    df (dataframe): dataframe containing the since last visit limited to a max of 365\n",
    "  \"\"\"\n",
    "  dataframe = dataframe.copy()\n",
    "  for i in range(1, len(dataframe.columns)-1):\n",
    "    for j in range(1, len(dataframe)):\n",
    "      if dataframe.iloc[j,i] == 0 and dataframe.iloc[j - 1,i] == -1:\n",
    "        dataframe.iloc[j,i] = -1\n",
    "      elif dataframe.iloc[j,i] == 0:\n",
    "        dataframe.iloc[j,i] = dataframe.iloc[j - 1,i] + dataframe.iloc[j,dataframe.columns.get_loc('time_diff')]\n",
    "      else:\n",
    "        dataframe.iloc[j,i] = 0\n",
    "  return dataframe\n",
    "multi_hot = days_since_last_visit(multi_hot)\n",
    "multi_hot"
   ],
   "metadata": {
    "collapsed": false,
    "ExecuteTime": {
     "end_time": "2023-06-05T02:22:04.519359900Z",
     "start_time": "2023-06-05T02:21:43.130399700Z"
    }
   }
  },
  {
   "cell_type": "code",
   "execution_count": 11,
   "outputs": [
    {
     "data": {
      "text/plain": "          tanggal  AB  ABA  ABD  ABK  ABS  ADR  AFDHAL  AG   AI  ...  UTJ  VG  \\\n0    1.641168e+09  -1   -1   -1   -1   -1   -1      -1  -1    0  ...   -1   0   \n1    1.641254e+09  -1   -1   -1   -1   -1   -1      -1  -1    1  ...   -1   1   \n2    1.641341e+09  -1   -1   -1   -1   -1   -1      -1  -1    2  ...   -1   0   \n3    1.641427e+09  -1    0   -1   -1   -1    0      -1   0    3  ...   -1   1   \n4    1.641514e+09  -1    1    0   -1   -1    1      -1   1    4  ...   -1   2   \n..            ...  ..  ...  ...  ...  ...  ...     ...  ..  ...  ...  ...  ..   \n385  1.679962e+09  91    0    7   99   43    3       7  14  133  ...    1   0   \n386  1.680048e+09  92    1    8  100   44    4       8  15  134  ...    2   0   \n387  1.680134e+09  93    0    9  101   45    5       9  16  135  ...    3   1   \n388  1.680221e+09  94    1   10  102   46    6      10  17  136  ...    4   2   \n389  1.680307e+09  95    2   11  103   47    7      11  18  137  ...    5   3   \n\n     WOI  WT  YENI  YIP  YS  YUSRA  ZAIMAR  ZULFAINI  \n0     -1  -1    -1   -1  -1     -1      -1        -1  \n1     -1  -1    -1   -1  -1     -1      -1        -1  \n2     -1  -1    -1   -1  -1     -1      -1        -1  \n3     -1  -1    -1   -1  -1     -1      -1        -1  \n4     -1   0    -1   -1  -1     -1      -1        -1  \n..   ...  ..   ...  ...  ..    ...     ...       ...  \n385   13   5   382    3  18     13     223        29  \n386   14   6   383    4  19     14     224        30  \n387    0   7   384    5   0     15     225        31  \n388    1   8   385    6   1     16     226        32  \n389    2   0   386    0   2     17     227        33  \n\n[390 rows x 200 columns]",
      "text/html": "<div>\n<style scoped>\n    .dataframe tbody tr th:only-of-type {\n        vertical-align: middle;\n    }\n\n    .dataframe tbody tr th {\n        vertical-align: top;\n    }\n\n    .dataframe thead th {\n        text-align: right;\n    }\n</style>\n<table border=\"1\" class=\"dataframe\">\n  <thead>\n    <tr style=\"text-align: right;\">\n      <th></th>\n      <th>tanggal</th>\n      <th>AB</th>\n      <th>ABA</th>\n      <th>ABD</th>\n      <th>ABK</th>\n      <th>ABS</th>\n      <th>ADR</th>\n      <th>AFDHAL</th>\n      <th>AG</th>\n      <th>AI</th>\n      <th>...</th>\n      <th>UTJ</th>\n      <th>VG</th>\n      <th>WOI</th>\n      <th>WT</th>\n      <th>YENI</th>\n      <th>YIP</th>\n      <th>YS</th>\n      <th>YUSRA</th>\n      <th>ZAIMAR</th>\n      <th>ZULFAINI</th>\n    </tr>\n  </thead>\n  <tbody>\n    <tr>\n      <th>0</th>\n      <td>1.641168e+09</td>\n      <td>-1</td>\n      <td>-1</td>\n      <td>-1</td>\n      <td>-1</td>\n      <td>-1</td>\n      <td>-1</td>\n      <td>-1</td>\n      <td>-1</td>\n      <td>0</td>\n      <td>...</td>\n      <td>-1</td>\n      <td>0</td>\n      <td>-1</td>\n      <td>-1</td>\n      <td>-1</td>\n      <td>-1</td>\n      <td>-1</td>\n      <td>-1</td>\n      <td>-1</td>\n      <td>-1</td>\n    </tr>\n    <tr>\n      <th>1</th>\n      <td>1.641254e+09</td>\n      <td>-1</td>\n      <td>-1</td>\n      <td>-1</td>\n      <td>-1</td>\n      <td>-1</td>\n      <td>-1</td>\n      <td>-1</td>\n      <td>-1</td>\n      <td>1</td>\n      <td>...</td>\n      <td>-1</td>\n      <td>1</td>\n      <td>-1</td>\n      <td>-1</td>\n      <td>-1</td>\n      <td>-1</td>\n      <td>-1</td>\n      <td>-1</td>\n      <td>-1</td>\n      <td>-1</td>\n    </tr>\n    <tr>\n      <th>2</th>\n      <td>1.641341e+09</td>\n      <td>-1</td>\n      <td>-1</td>\n      <td>-1</td>\n      <td>-1</td>\n      <td>-1</td>\n      <td>-1</td>\n      <td>-1</td>\n      <td>-1</td>\n      <td>2</td>\n      <td>...</td>\n      <td>-1</td>\n      <td>0</td>\n      <td>-1</td>\n      <td>-1</td>\n      <td>-1</td>\n      <td>-1</td>\n      <td>-1</td>\n      <td>-1</td>\n      <td>-1</td>\n      <td>-1</td>\n    </tr>\n    <tr>\n      <th>3</th>\n      <td>1.641427e+09</td>\n      <td>-1</td>\n      <td>0</td>\n      <td>-1</td>\n      <td>-1</td>\n      <td>-1</td>\n      <td>0</td>\n      <td>-1</td>\n      <td>0</td>\n      <td>3</td>\n      <td>...</td>\n      <td>-1</td>\n      <td>1</td>\n      <td>-1</td>\n      <td>-1</td>\n      <td>-1</td>\n      <td>-1</td>\n      <td>-1</td>\n      <td>-1</td>\n      <td>-1</td>\n      <td>-1</td>\n    </tr>\n    <tr>\n      <th>4</th>\n      <td>1.641514e+09</td>\n      <td>-1</td>\n      <td>1</td>\n      <td>0</td>\n      <td>-1</td>\n      <td>-1</td>\n      <td>1</td>\n      <td>-1</td>\n      <td>1</td>\n      <td>4</td>\n      <td>...</td>\n      <td>-1</td>\n      <td>2</td>\n      <td>-1</td>\n      <td>0</td>\n      <td>-1</td>\n      <td>-1</td>\n      <td>-1</td>\n      <td>-1</td>\n      <td>-1</td>\n      <td>-1</td>\n    </tr>\n    <tr>\n      <th>...</th>\n      <td>...</td>\n      <td>...</td>\n      <td>...</td>\n      <td>...</td>\n      <td>...</td>\n      <td>...</td>\n      <td>...</td>\n      <td>...</td>\n      <td>...</td>\n      <td>...</td>\n      <td>...</td>\n      <td>...</td>\n      <td>...</td>\n      <td>...</td>\n      <td>...</td>\n      <td>...</td>\n      <td>...</td>\n      <td>...</td>\n      <td>...</td>\n      <td>...</td>\n      <td>...</td>\n    </tr>\n    <tr>\n      <th>385</th>\n      <td>1.679962e+09</td>\n      <td>91</td>\n      <td>0</td>\n      <td>7</td>\n      <td>99</td>\n      <td>43</td>\n      <td>3</td>\n      <td>7</td>\n      <td>14</td>\n      <td>133</td>\n      <td>...</td>\n      <td>1</td>\n      <td>0</td>\n      <td>13</td>\n      <td>5</td>\n      <td>382</td>\n      <td>3</td>\n      <td>18</td>\n      <td>13</td>\n      <td>223</td>\n      <td>29</td>\n    </tr>\n    <tr>\n      <th>386</th>\n      <td>1.680048e+09</td>\n      <td>92</td>\n      <td>1</td>\n      <td>8</td>\n      <td>100</td>\n      <td>44</td>\n      <td>4</td>\n      <td>8</td>\n      <td>15</td>\n      <td>134</td>\n      <td>...</td>\n      <td>2</td>\n      <td>0</td>\n      <td>14</td>\n      <td>6</td>\n      <td>383</td>\n      <td>4</td>\n      <td>19</td>\n      <td>14</td>\n      <td>224</td>\n      <td>30</td>\n    </tr>\n    <tr>\n      <th>387</th>\n      <td>1.680134e+09</td>\n      <td>93</td>\n      <td>0</td>\n      <td>9</td>\n      <td>101</td>\n      <td>45</td>\n      <td>5</td>\n      <td>9</td>\n      <td>16</td>\n      <td>135</td>\n      <td>...</td>\n      <td>3</td>\n      <td>1</td>\n      <td>0</td>\n      <td>7</td>\n      <td>384</td>\n      <td>5</td>\n      <td>0</td>\n      <td>15</td>\n      <td>225</td>\n      <td>31</td>\n    </tr>\n    <tr>\n      <th>388</th>\n      <td>1.680221e+09</td>\n      <td>94</td>\n      <td>1</td>\n      <td>10</td>\n      <td>102</td>\n      <td>46</td>\n      <td>6</td>\n      <td>10</td>\n      <td>17</td>\n      <td>136</td>\n      <td>...</td>\n      <td>4</td>\n      <td>2</td>\n      <td>1</td>\n      <td>8</td>\n      <td>385</td>\n      <td>6</td>\n      <td>1</td>\n      <td>16</td>\n      <td>226</td>\n      <td>32</td>\n    </tr>\n    <tr>\n      <th>389</th>\n      <td>1.680307e+09</td>\n      <td>95</td>\n      <td>2</td>\n      <td>11</td>\n      <td>103</td>\n      <td>47</td>\n      <td>7</td>\n      <td>11</td>\n      <td>18</td>\n      <td>137</td>\n      <td>...</td>\n      <td>5</td>\n      <td>3</td>\n      <td>2</td>\n      <td>0</td>\n      <td>386</td>\n      <td>0</td>\n      <td>2</td>\n      <td>17</td>\n      <td>227</td>\n      <td>33</td>\n    </tr>\n  </tbody>\n</table>\n<p>390 rows × 200 columns</p>\n</div>"
     },
     "execution_count": 11,
     "metadata": {},
     "output_type": "execute_result"
    }
   ],
   "source": [
    "#Remove any columns of suppliers that have not visited in the last 186 days or if all the rows are -1\n",
    "def remove_unvisited(dataframe):\n",
    "  \"\"\"\n",
    "  Removes any columns of suppliers that have not visited in the last 186 days or if all the rows are -1\n",
    "  Args:\n",
    "    dataframe (dataframe): dataframe containing the dates\n",
    "\n",
    "  Returns:\n",
    "    df (dataframe): dataframe containing the suppliers that have visited in the last 186 days\n",
    "  \"\"\"\n",
    "  changed = dataframe.copy()\n",
    "  for i in range(1, len(dataframe.columns)-1):\n",
    "    if dataframe.iloc[-1,i] == -1:\n",
    "      dataframe.pop(dataframe.columns[i])\n",
    "  return dataframe\n",
    "multi_hot = remove_unvisited(multi_hot)\n",
    "multi_hot.pop('time_diff')\n",
    "multi_hot"
   ],
   "metadata": {
    "collapsed": false,
    "ExecuteTime": {
     "end_time": "2023-06-05T02:22:04.674450300Z",
     "start_time": "2023-06-05T02:22:04.532869600Z"
    }
   }
  },
  {
   "cell_type": "code",
   "execution_count": 12,
   "outputs": [
    {
     "name": "stdout",
     "output_type": "stream",
     "text": [
      "{'ab': 1, 'aba': 2, 'abd': 3, 'abk': 4, 'abs': 5, 'adr': 6, 'afdhal': 7, 'ag': 8, 'ai': 9, 'ajl': 10, 'ajsb': 11, 'ajw': 12, 'albacar': 13, 'alfa': 14, 'ani': 15, 'anis': 16, 'ap': 17, 'apl': 18, 'aps': 19, 'aqilla': 20, 'arb': 21, 'arta': 22, 'asi': 23, 'asih': 24, 'asniahk': 25, 'awm': 26, 'ayu': 27, 'ba': 28, 'bcrs': 29, 'bentol': 30, 'berkah': 31, 'bhk': 32, 'bm': 33, 'bmc': 34, 'bml': 35, 'bsm': 36, 'bsp': 37, 'bukwati': 38, 'bunda': 39, 'cado': 40, 'cd': 41, 'ck': 42, 'cmpg': 43, 'cola': 44, 'cr': 45, 'db': 46, 'dba': 47, 'dbbp': 48, 'dbt': 49, 'dma': 50, 'dp': 51, 'ds': 52, 'eb': 53, 'ecn': 54, 'elbiruni': 55, 'elka': 56, 'elsie': 57, 'elyana': 58, 'enseval': 59, 'erna': 60, 'esse': 61, 'fajar': 62, 'fd': 63, 'fikri': 64, 'fja': 65, 'fortuna': 66, 'fwi': 67, 'ga': 68, 'gb': 69, 'gbk': 70, 'gerai': 71, 'gjp': 72, 'gmp': 73, 'gpd': 74, 'haj': 75, 'hasanah': 76, 'heri': 77, 'herman': 78, 'hilal': 79, 'iap': 80, 'ica': 81, 'ida': 82, 'ig': 83, 'ila': 84, 'ina': 85, 'inn': 86, 'ip': 87, 'iub': 88, 'jailolo': 89, 'jakarta': 90, 'jay': 91, 'jb': 92, 'jra': 93, 'js': 94, 'jsnack': 95, 'kakria': 96, 'kampas': 97, 'kbj': 98, 'kbs': 99, 'kga': 100, 'kgak': 101, 'kk': 102, 'kka': 103, 'kkl': 104, 'klinik': 105, 'kobe': 106, 'kr': 107, 'lamlo': 108, 'lg': 109, 'lina': 110, 'lm': 111, 'maju': 112, 'makdah': 113, 'mapr': 114, 'mara': 115, 'maryam': 116, 'mas': 117, 'maya': 118, 'mbs': 119, 'mc': 120, 'mh': 121, 'mitra': 122, 'mja': 123, 'mjpp': 124, 'mn': 125, 'mnj': 126, 'mount': 127, 'mp': 128, 'ms': 129, 'msj': 130, 'mulia': 131, 'mutiara': 132, 'mws': 133, 'ngetop': 134, 'ngt': 135, 'nirmala': 136, 'nna': 137, 'ns': 138, 'nurul': 139, 'nv': 140, 'okhl': 141, 'pap': 142, 'pas': 143, 'permata': 144, 'pgi': 145, 'pmm': 146, 'pp': 147, 'ppl': 148, 'pr': 149, 'pttempo': 150, 'rahma': 151, 'rahmat': 152, 'rani': 153, 'razaq': 154, 'retur': 155, 'rr': 156, 'sa': 157, 'sab': 158, 'salfix': 159, 'sampoerna': 160, 'samsul': 161, 'sb': 162, 'sba': 163, 'sc': 164, 'scm': 165, 'sdi': 166, 'seranting': 167, 'sinar': 168, 'sjma': 169, 'sjs': 170, 'sk': 171, 'sm': 172, 'sma': 173, 'srb': 174, 'sultan': 175, 'surya': 176, 'suryam': 177, 'susi': 178, 'tangse': 179, 'tarmizi': 180, 'taufiqah': 181, 'tempo': 182, 'tg': 183, 'tiara': 184, 'tuah': 185, 'ub': 186, 'umj': 187, 'urb': 188, 'uti': 189, 'utj': 190, 'vg': 191, 'woi': 192, 'wt': 193, 'yeni': 194, 'yip': 195, 'ys': 196, 'yusra': 197, 'zaimar': 198, 'zulfaini': 199}\n"
     ]
    }
   ],
   "source": [
    "def supplier_tokenizer(supplier):\n",
    "  \"\"\"\n",
    "  Instantiates the tokenizer for the supplier codes\n",
    "  Args:\n",
    "    supplier (list): upper case list of supplier codes\n",
    "\n",
    "  Returns:\n",
    "    tokenizer (object): an instance of the Tokenizer class containing the dict\n",
    "  \"\"\"\n",
    "\n",
    "  tokenizer = Tokenizer()\n",
    "  tokenizer.fit_on_texts(supplier)\n",
    "\n",
    "  index = tokenizer.word_index\n",
    "  sequence = tokenizer.texts_to_sequences(supplier)\n",
    "\n",
    "  return index, sequence\n",
    "\n",
    "supplier_index, supplier_sequence = supplier_tokenizer(multi_hot.columns[1:])\n",
    "\n",
    "print(supplier_index)\n",
    "\n",
    "\n",
    "\n"
   ],
   "metadata": {
    "collapsed": false,
    "ExecuteTime": {
     "end_time": "2023-06-05T02:22:04.752583600Z",
     "start_time": "2023-06-05T02:22:04.580267100Z"
    }
   }
  },
  {
   "cell_type": "code",
   "execution_count": 13,
   "outputs": [
    {
     "data": {
      "text/plain": "          tanggal   1  2   3    4   5  6   7   8    9  ...  190  191  192  \\\n0    1.641168e+09  -1 -1  -1   -1  -1 -1  -1  -1    0  ...   -1    0   -1   \n1    1.641254e+09  -1 -1  -1   -1  -1 -1  -1  -1    1  ...   -1    1   -1   \n2    1.641341e+09  -1 -1  -1   -1  -1 -1  -1  -1    2  ...   -1    0   -1   \n3    1.641427e+09  -1  0  -1   -1  -1  0  -1   0    3  ...   -1    1   -1   \n4    1.641514e+09  -1  1   0   -1  -1  1  -1   1    4  ...   -1    2   -1   \n..            ...  .. ..  ..  ...  .. ..  ..  ..  ...  ...  ...  ...  ...   \n385  1.679962e+09  91  0   7   99  43  3   7  14  133  ...    1    0   13   \n386  1.680048e+09  92  1   8  100  44  4   8  15  134  ...    2    0   14   \n387  1.680134e+09  93  0   9  101  45  5   9  16  135  ...    3    1    0   \n388  1.680221e+09  94  1  10  102  46  6  10  17  136  ...    4    2    1   \n389  1.680307e+09  95  2  11  103  47  7  11  18  137  ...    5    3    2   \n\n     193  194  195  196  197  198  199  \n0     -1   -1   -1   -1   -1   -1   -1  \n1     -1   -1   -1   -1   -1   -1   -1  \n2     -1   -1   -1   -1   -1   -1   -1  \n3     -1   -1   -1   -1   -1   -1   -1  \n4      0   -1   -1   -1   -1   -1   -1  \n..   ...  ...  ...  ...  ...  ...  ...  \n385    5  382    3   18   13  223   29  \n386    6  383    4   19   14  224   30  \n387    7  384    5    0   15  225   31  \n388    8  385    6    1   16  226   32  \n389    0  386    0    2   17  227   33  \n\n[390 rows x 200 columns]",
      "text/html": "<div>\n<style scoped>\n    .dataframe tbody tr th:only-of-type {\n        vertical-align: middle;\n    }\n\n    .dataframe tbody tr th {\n        vertical-align: top;\n    }\n\n    .dataframe thead th {\n        text-align: right;\n    }\n</style>\n<table border=\"1\" class=\"dataframe\">\n  <thead>\n    <tr style=\"text-align: right;\">\n      <th></th>\n      <th>tanggal</th>\n      <th>1</th>\n      <th>2</th>\n      <th>3</th>\n      <th>4</th>\n      <th>5</th>\n      <th>6</th>\n      <th>7</th>\n      <th>8</th>\n      <th>9</th>\n      <th>...</th>\n      <th>190</th>\n      <th>191</th>\n      <th>192</th>\n      <th>193</th>\n      <th>194</th>\n      <th>195</th>\n      <th>196</th>\n      <th>197</th>\n      <th>198</th>\n      <th>199</th>\n    </tr>\n  </thead>\n  <tbody>\n    <tr>\n      <th>0</th>\n      <td>1.641168e+09</td>\n      <td>-1</td>\n      <td>-1</td>\n      <td>-1</td>\n      <td>-1</td>\n      <td>-1</td>\n      <td>-1</td>\n      <td>-1</td>\n      <td>-1</td>\n      <td>0</td>\n      <td>...</td>\n      <td>-1</td>\n      <td>0</td>\n      <td>-1</td>\n      <td>-1</td>\n      <td>-1</td>\n      <td>-1</td>\n      <td>-1</td>\n      <td>-1</td>\n      <td>-1</td>\n      <td>-1</td>\n    </tr>\n    <tr>\n      <th>1</th>\n      <td>1.641254e+09</td>\n      <td>-1</td>\n      <td>-1</td>\n      <td>-1</td>\n      <td>-1</td>\n      <td>-1</td>\n      <td>-1</td>\n      <td>-1</td>\n      <td>-1</td>\n      <td>1</td>\n      <td>...</td>\n      <td>-1</td>\n      <td>1</td>\n      <td>-1</td>\n      <td>-1</td>\n      <td>-1</td>\n      <td>-1</td>\n      <td>-1</td>\n      <td>-1</td>\n      <td>-1</td>\n      <td>-1</td>\n    </tr>\n    <tr>\n      <th>2</th>\n      <td>1.641341e+09</td>\n      <td>-1</td>\n      <td>-1</td>\n      <td>-1</td>\n      <td>-1</td>\n      <td>-1</td>\n      <td>-1</td>\n      <td>-1</td>\n      <td>-1</td>\n      <td>2</td>\n      <td>...</td>\n      <td>-1</td>\n      <td>0</td>\n      <td>-1</td>\n      <td>-1</td>\n      <td>-1</td>\n      <td>-1</td>\n      <td>-1</td>\n      <td>-1</td>\n      <td>-1</td>\n      <td>-1</td>\n    </tr>\n    <tr>\n      <th>3</th>\n      <td>1.641427e+09</td>\n      <td>-1</td>\n      <td>0</td>\n      <td>-1</td>\n      <td>-1</td>\n      <td>-1</td>\n      <td>0</td>\n      <td>-1</td>\n      <td>0</td>\n      <td>3</td>\n      <td>...</td>\n      <td>-1</td>\n      <td>1</td>\n      <td>-1</td>\n      <td>-1</td>\n      <td>-1</td>\n      <td>-1</td>\n      <td>-1</td>\n      <td>-1</td>\n      <td>-1</td>\n      <td>-1</td>\n    </tr>\n    <tr>\n      <th>4</th>\n      <td>1.641514e+09</td>\n      <td>-1</td>\n      <td>1</td>\n      <td>0</td>\n      <td>-1</td>\n      <td>-1</td>\n      <td>1</td>\n      <td>-1</td>\n      <td>1</td>\n      <td>4</td>\n      <td>...</td>\n      <td>-1</td>\n      <td>2</td>\n      <td>-1</td>\n      <td>0</td>\n      <td>-1</td>\n      <td>-1</td>\n      <td>-1</td>\n      <td>-1</td>\n      <td>-1</td>\n      <td>-1</td>\n    </tr>\n    <tr>\n      <th>...</th>\n      <td>...</td>\n      <td>...</td>\n      <td>...</td>\n      <td>...</td>\n      <td>...</td>\n      <td>...</td>\n      <td>...</td>\n      <td>...</td>\n      <td>...</td>\n      <td>...</td>\n      <td>...</td>\n      <td>...</td>\n      <td>...</td>\n      <td>...</td>\n      <td>...</td>\n      <td>...</td>\n      <td>...</td>\n      <td>...</td>\n      <td>...</td>\n      <td>...</td>\n      <td>...</td>\n    </tr>\n    <tr>\n      <th>385</th>\n      <td>1.679962e+09</td>\n      <td>91</td>\n      <td>0</td>\n      <td>7</td>\n      <td>99</td>\n      <td>43</td>\n      <td>3</td>\n      <td>7</td>\n      <td>14</td>\n      <td>133</td>\n      <td>...</td>\n      <td>1</td>\n      <td>0</td>\n      <td>13</td>\n      <td>5</td>\n      <td>382</td>\n      <td>3</td>\n      <td>18</td>\n      <td>13</td>\n      <td>223</td>\n      <td>29</td>\n    </tr>\n    <tr>\n      <th>386</th>\n      <td>1.680048e+09</td>\n      <td>92</td>\n      <td>1</td>\n      <td>8</td>\n      <td>100</td>\n      <td>44</td>\n      <td>4</td>\n      <td>8</td>\n      <td>15</td>\n      <td>134</td>\n      <td>...</td>\n      <td>2</td>\n      <td>0</td>\n      <td>14</td>\n      <td>6</td>\n      <td>383</td>\n      <td>4</td>\n      <td>19</td>\n      <td>14</td>\n      <td>224</td>\n      <td>30</td>\n    </tr>\n    <tr>\n      <th>387</th>\n      <td>1.680134e+09</td>\n      <td>93</td>\n      <td>0</td>\n      <td>9</td>\n      <td>101</td>\n      <td>45</td>\n      <td>5</td>\n      <td>9</td>\n      <td>16</td>\n      <td>135</td>\n      <td>...</td>\n      <td>3</td>\n      <td>1</td>\n      <td>0</td>\n      <td>7</td>\n      <td>384</td>\n      <td>5</td>\n      <td>0</td>\n      <td>15</td>\n      <td>225</td>\n      <td>31</td>\n    </tr>\n    <tr>\n      <th>388</th>\n      <td>1.680221e+09</td>\n      <td>94</td>\n      <td>1</td>\n      <td>10</td>\n      <td>102</td>\n      <td>46</td>\n      <td>6</td>\n      <td>10</td>\n      <td>17</td>\n      <td>136</td>\n      <td>...</td>\n      <td>4</td>\n      <td>2</td>\n      <td>1</td>\n      <td>8</td>\n      <td>385</td>\n      <td>6</td>\n      <td>1</td>\n      <td>16</td>\n      <td>226</td>\n      <td>32</td>\n    </tr>\n    <tr>\n      <th>389</th>\n      <td>1.680307e+09</td>\n      <td>95</td>\n      <td>2</td>\n      <td>11</td>\n      <td>103</td>\n      <td>47</td>\n      <td>7</td>\n      <td>11</td>\n      <td>18</td>\n      <td>137</td>\n      <td>...</td>\n      <td>5</td>\n      <td>3</td>\n      <td>2</td>\n      <td>0</td>\n      <td>386</td>\n      <td>0</td>\n      <td>2</td>\n      <td>17</td>\n      <td>227</td>\n      <td>33</td>\n    </tr>\n  </tbody>\n</table>\n<p>390 rows × 200 columns</p>\n</div>"
     },
     "execution_count": 13,
     "metadata": {},
     "output_type": "execute_result"
    }
   ],
   "source": [
    "#rename columns to supplier codes from supplier index\n",
    "def rename_columns(dataframe):\n",
    "  \"\"\"\n",
    "  Renames the columns to supplier codes from supplier index\n",
    "  Args:\n",
    "    dataframe (dataframe): dataframe containing the dates\n",
    "\n",
    "  Returns:\n",
    "    df (dataframe): dataframe containing the renamed columns\n",
    "  \"\"\"\n",
    "  dataframe = dataframe.copy()\n",
    "  for i in range(1, len(dataframe.columns)):\n",
    "    dataframe = dataframe.rename(columns = {dataframe.columns[i]: supplier_index[dataframe.columns[i].lower()]})\n",
    "  return dataframe\n",
    "renamed = rename_columns(multi_hot)\n",
    "renamed"
   ],
   "metadata": {
    "collapsed": false,
    "ExecuteTime": {
     "end_time": "2023-06-05T02:22:05.253510700Z",
     "start_time": "2023-06-05T02:22:04.611954900Z"
    }
   }
  },
  {
   "cell_type": "code",
   "execution_count": 14,
   "outputs": [],
   "source": [
    "#create tensor from dataframe splitting tanggal as feature and supplier codes as labels\n",
    "dataset = tf.data.Dataset.from_tensor_slices((renamed['tanggal'], renamed[renamed.columns[1:]]))\n",
    "#shuffle the dataset\n",
    "dataset = dataset.shuffle(len(renamed))\n",
    "\n",
    "#split dataset into train, val  and test\n",
    "train_size = int(len(renamed) * 0.8)\n",
    "val_size = int(len(renamed) * 0.10)\n",
    "test_size = int(len(renamed) * 0.10)\n",
    "\n",
    "train_dataset = dataset.take(train_size)\n",
    "test_dataset = dataset.skip(train_size)\n",
    "val_dataset = test_dataset.skip(test_size)\n",
    "test_dataset = test_dataset.take(test_size)\n",
    "\n"
   ],
   "metadata": {
    "collapsed": false,
    "ExecuteTime": {
     "end_time": "2023-06-05T02:22:05.487883600Z",
     "start_time": "2023-06-05T02:22:04.908929600Z"
    }
   }
  },
  {
   "cell_type": "markdown",
   "source": [
    "# Model Architecture"
   ],
   "metadata": {
    "collapsed": false
   }
  },
  {
   "cell_type": "markdown",
   "source": [
    "# Analysis"
   ],
   "metadata": {
    "id": "2_6PguF7Kuzf"
   }
  }
 ]
}
