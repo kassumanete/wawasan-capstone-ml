{
 "cells": [
  {
   "cell_type": "markdown",
   "source": [
    "# Imports and Constants"
   ],
   "metadata": {
    "collapsed": false,
    "id": "q62739y7eLK1"
   }
  },
  {
   "cell_type": "markdown",
   "source": [],
   "metadata": {
    "id": "Yk99K1mBe3cJ"
   }
  },
  {
   "cell_type": "code",
   "execution_count": null,
   "outputs": [],
   "source": [
    "import numpy as np\n",
    "import pandas as pd\n",
    "import matplotlib.pyplot as plt\n",
    "import tensorflow as tf\n",
    "import tensorboard\n",
    "import os"
   ],
   "metadata": {
    "id": "aryZ62neeLK9",
    "executionInfo": {
     "status": "ok",
     "timestamp": 1686287225110,
     "user_tz": -420,
     "elapsed": 3548,
     "user": {
      "displayName": "Muhammad Arief",
      "userId": "01585842397766244027"
     }
    }
   }
  },
  {
   "cell_type": "code",
   "source": [
    "WINDOW = 20\n",
    "BATCH_SIZE = 1000\n",
    "BUFFER = 100000"
   ],
   "metadata": {
    "id": "p8TxgaNyrSqD",
    "executionInfo": {
     "status": "ok",
     "timestamp": 1686287225115,
     "user_tz": -420,
     "elapsed": 41,
     "user": {
      "displayName": "Muhammad Arief",
      "userId": "01585842397766244027"
     }
    }
   },
   "execution_count": null,
   "outputs": []
  },
  {
   "cell_type": "markdown",
   "source": [
    "# Load data"
   ],
   "metadata": {
    "collapsed": false,
    "id": "zHaCTqUKeLK_"
   }
  },
  {
   "cell_type": "code",
   "source": [
    "# from google.colab import drive\n",
    "# drive.mount('/content/drive')\n",
    "# %pwd"
   ],
   "metadata": {
    "colab": {
     "base_uri": "https://localhost:8080/",
     "height": 328
    },
    "id": "GwN8M6XleqWL",
    "executionInfo": {
     "status": "error",
     "timestamp": 1686285433739,
     "user_tz": -420,
     "elapsed": 553,
     "user": {
      "displayName": "Muhammad Arief",
      "userId": "01585842397766244027"
     }
    },
    "outputId": "92a58a81-65a9-484d-ee8d-24da43af0de5"
   },
   "execution_count": null,
   "outputs": []
  },
  {
   "cell_type": "code",
   "execution_count": null,
   "outputs": [],
   "source": [
    "# filepath = 'sales_quantity.csv' #for local imports\n",
    "filepath = '/home/mariefloco/sales_quantity.csv' #colab\n",
    "data = pd.read_csv(filepath,names=['date','item_code','quantity'],header = 0 )\n",
    "data.head()"
   ],
   "metadata": {
    "colab": {
     "base_uri": "https://localhost:8080/",
     "height": 424
    },
    "id": "lP40rLWweLLA",
    "executionInfo": {
     "status": "ok",
     "timestamp": 1686287226767,
     "user_tz": -420,
     "elapsed": 1689,
     "user": {
      "displayName": "Muhammad Arief",
      "userId": "01585842397766244027"
     }
    },
    "outputId": "4b1e67e9-1f43-4e30-ed74-aaa1a0de72ab"
   }
  },
  {
   "cell_type": "code",
   "execution_count": null,
   "outputs": [],
   "source": [
    "# Transform data"
   ],
   "metadata": {
    "id": "wsum8uaFeLLB",
    "executionInfo": {
     "status": "ok",
     "timestamp": 1686287226768,
     "user_tz": -420,
     "elapsed": 16,
     "user": {
      "displayName": "Muhammad Arief",
      "userId": "01585842397766244027"
     }
    }
   }
  },
  {
   "cell_type": "code",
   "execution_count": null,
   "outputs": [],
   "source": [
    "#extract date features from date column\n",
    "data['date'] = pd.to_datetime(data['date'])\n",
    "data['year'] = data['date'].dt.year\n",
    "data['month'] = data['date'].dt.month\n",
    "data['day'] = data['date'].dt.day\n",
    "data['day_of_week'] = data['date'].dt.dayofweek\n",
    "data['day_of_year'] = data['date'].dt.dayofyear\n",
    "\n"
   ],
   "metadata": {
    "id": "RtmLJm2MeLLC",
    "executionInfo": {
     "status": "ok",
     "timestamp": 1686287226768,
     "user_tz": -420,
     "elapsed": 15,
     "user": {
      "displayName": "Muhammad Arief",
      "userId": "01585842397766244027"
     }
    }
   }
  },
  {
   "cell_type": "code",
   "execution_count": null,
   "outputs": [],
   "source": [
    "#stack dataframe based on item_code\n",
    "item_sales = data.groupby(['item_code','date','year','month','day','day_of_week','day_of_year'])['quantity'].sum().unstack(level=0)\n",
    "#turn each NaN value to 0\n",
    "item_sales = item_sales.fillna(0)\n",
    "item_sales.reset_index(inplace=True)\n",
    "item_sales.head()"
   ],
   "metadata": {
    "colab": {
     "base_uri": "https://localhost:8080/",
     "height": 404
    },
    "id": "7xKluIgqeLLD",
    "executionInfo": {
     "status": "ok",
     "timestamp": 1686287226769,
     "user_tz": -420,
     "elapsed": 16,
     "user": {
      "displayName": "Muhammad Arief",
      "userId": "01585842397766244027"
     }
    },
    "outputId": "a50777a9-4d54-4691-80ea-735c48a7de9b"
   }
  },
  {
   "cell_type": "code",
   "execution_count": null,
   "outputs": [],
   "source": [
    "import tensorflow as tf\n",
    "\n",
    "def create_tokenizer(item_code):\n",
    "    \"\"\"\n",
    "    Create a tokenizer to tokenize item codes.\n",
    "\n",
    "    Args:\n",
    "        item_code (list or Series): List or Series containing item codes.\n",
    "\n",
    "    Returns:\n",
    "        tf.keras.preprocessing.text.Tokenizer: Tokenizer object fitted on item codes.\n",
    "    \"\"\"\n",
    "\n",
    "    # Create a tokenizer with no filters and case-sensitive tokenization\n",
    "    tokenizer = tf.keras.preprocessing.text.Tokenizer(filters='', lower=False)\n",
    "\n",
    "    # Fit the tokenizer on the item codes\n",
    "    tokenizer.fit_on_texts(item_code)\n",
    "\n",
    "    return tokenizer\n",
    "\n",
    "# Create a tokenizer using item codes from item_sales dataframe columns\n",
    "tokenizer = create_tokenizer(item_sales.columns[6:].str.replace(' ', ''))\n",
    "\n",
    "# Get the length of the tokenizer's word index\n",
    "tokenizer_word_count = len(tokenizer.word_index)\n",
    "\n",
    "print(f'Tokenizer has {tokenizer_word_count} tokens')"
   ],
   "metadata": {
    "colab": {
     "base_uri": "https://localhost:8080/"
    },
    "id": "epIOoC6PeLLI",
    "executionInfo": {
     "status": "ok",
     "timestamp": 1686287226769,
     "user_tz": -420,
     "elapsed": 15,
     "user": {
      "displayName": "Muhammad Arief",
      "userId": "01585842397766244027"
     }
    },
    "outputId": "3a27cb81-ce45-4691-f648-7a5ca46f2095"
   }
  },
  {
   "cell_type": "code",
   "execution_count": null,
   "outputs": [],
   "source": [
    "# Extract date values from item_sales dataframe columns\n",
    "dates = np.array(item_sales[['month', 'day', 'day_of_week', 'day_of_year']])\n",
    "\n",
    "# Perform cyclic encoding on the date values\n",
    "dates_cyclic = np.sin(dates) + np.cos(dates)\n",
    "\n",
    "prefix_features = []\n",
    "\n",
    "# Iterate over each product in item_sales columns\n",
    "for product in item_sales.columns[6:].str.replace(' ', ''):\n",
    "    # Create prefix features for the product\n",
    "    prefix_feature = np.array([\n",
    "        [\n",
    "            tokenizer.word_index[product],\n",
    "            dates_cyclic[j][0],\n",
    "            dates_cyclic[j][1],\n",
    "            dates_cyclic[j][2],\n",
    "            dates_cyclic[j][3]\n",
    "        ]\n",
    "        for j in range(WINDOW, len(item_sales))\n",
    "    ], dtype=np.float64)\n",
    "    \n",
    "    prefix_features.append(prefix_feature)\n",
    "\n",
    "# Get the total number of prefix features arrays and the shape of the first array\n",
    "prefix_features_count = len(prefix_features)\n",
    "prefix_features_shape = prefix_features[0].shape\n",
    "\n",
    "print(f\"A total of {prefix_features_count} numpy arrays with each one having shape {prefix_features_shape}\")\n",
    "\n",
    "print(prefix_features[0])"
   ],
   "metadata": {
    "colab": {
     "base_uri": "https://localhost:8080/"
    },
    "id": "ojZPbyzjeLLE",
    "executionInfo": {
     "status": "ok",
     "timestamp": 1686287232903,
     "user_tz": -420,
     "elapsed": 6146,
     "user": {
      "displayName": "Muhammad Arief",
      "userId": "01585842397766244027"
     }
    },
    "outputId": "105b1cce-2c70-4202-8df4-0cd4b8bbe6d7"
   }
  },
  {
   "cell_type": "code",
   "execution_count": null,
   "outputs": [],
   "source": [
    "#convert each item sales to a tensorflow dataset\n",
    "sales_datasets = [tf.data.Dataset.from_tensor_slices(item_sales[column]) for column in item_sales.columns[7:]]\n",
    "sales_datasets[0].element_spec"
   ],
   "metadata": {
    "id": "G-yzQnnHeLLF",
    "colab": {
     "base_uri": "https://localhost:8080/"
    },
    "executionInfo": {
     "status": "ok",
     "timestamp": 1686287281623,
     "user_tz": -420,
     "elapsed": 23741,
     "user": {
      "displayName": "Muhammad Arief",
      "userId": "01585842397766244027"
     }
    },
    "outputId": "88bebf73-dd69-423a-9c9a-2f373ad9dba7"
   }
  },
  {
   "cell_type": "code",
   "execution_count": null,
   "outputs": [],
   "source": [
    "def window_dataset(token_time_ds, sales_ds, window_size):\n",
    "    \"\"\"\n",
    "    Create a windowed dataset by combining token_time_ds and sales_ds.\n",
    "\n",
    "    Args:\n",
    "        token_time_ds (tf.data.Dataset): Dataset containing token and time information.\n",
    "        sales_ds (tf.data.Dataset): Dataset containing sales information.\n",
    "        window_size (int): Size of the window for creating sequences.\n",
    "\n",
    "    Returns:\n",
    "        tf.data.Dataset: Windowed dataset with input-output pairs.\n",
    "    \"\"\"\n",
    "\n",
    "    # Create windows of size window_size+1, shifting by 1, and dropping any incomplete windows\n",
    "    sales_ds = sales_ds.window(window_size+1, shift=1, drop_remainder=True)\n",
    "\n",
    "    # Flatten the windows into individual datasets and combine them into a single dataset\n",
    "    sales_ds = sales_ds.flat_map(lambda w: w.batch(window_size+1))\n",
    "\n",
    "    # Concatenate token_time_ds and sales_ds tensors along the last axis\n",
    "    windowed_tensors = tf.concat((list(token_time_ds), list(sales_ds)), axis=-1)\n",
    "\n",
    "    # Create a new dataset from the concatenated tensors\n",
    "    ds = tf.data.Dataset.from_tensor_slices(windowed_tensors)\n",
    "\n",
    "    # Map each element of the dataset to input-output pairs\n",
    "    ds = ds.map(lambda x: (x[:-1], x[-1]),num_parallel_calls=tf.data.AUTOTUNE)\n",
    "\n",
    "    return ds\n"
   ],
   "metadata": {
    "id": "R75X6KAVeLLG",
    "executionInfo": {
     "status": "ok",
     "timestamp": 1686287281624,
     "user_tz": -420,
     "elapsed": 25,
     "user": {
      "displayName": "Muhammad Arief",
      "userId": "01585842397766244027"
     }
    }
   }
  },
  {
   "cell_type": "code",
   "execution_count": null,
   "outputs": [],
   "source": [
    "#window the dataset in batches\n",
    "ds = [window_dataset(prefix_features[i],sales_datasets[i], WINDOW) for i in range(len(sales_datasets))]\n",
    "del data\n",
    "del prefix_features\n",
    "del sales_datasets\n",
    "del item_sales"
   ],
   "metadata": {
    "id": "PuQNPgFAeLLH",
    "executionInfo": {
     "status": "error",
     "timestamp": 1686287808730,
     "user_tz": -420,
     "elapsed": 527130,
     "user": {
      "displayName": "Muhammad Arief",
      "userId": "01585842397766244027"
     }
    },
    "colab": {
     "base_uri": "https://localhost:8080/",
     "height": 380
    },
    "outputId": "f1d60b1b-662b-44bf-8a0d-6476f0164d9b"
   }
  },
  {
   "cell_type": "code",
   "source": [
    "def get_dataset_partitions_tf(ds, ds_size, train_split=0.8, val_split=0.1, test_split=0.1, shuffle=False, shuffle_size=1000):\n",
    "    \"\"\"\n",
    "    Splits a TensorFlow dataset into training, validation, and test partitions.\n",
    "\n",
    "    Args:\n",
    "        ds (tf.data.Dataset): The input dataset.\n",
    "        ds_size (int): The total size of the input dataset.\n",
    "        train_split (float, optional): The fraction of data to allocate for training. Defaults to 0.8.\n",
    "        val_split (float, optional): The fraction of data to allocate for validation. Defaults to 0.1.\n",
    "        test_split (float, optional): The fraction of data to allocate for testing. Defaults to 0.1.\n",
    "        shuffle (bool, optional): Whether to shuffle the training dataset. Defaults to True.\n",
    "        shuffle_size (int, optional): The buffer size used for shuffling. Defaults to 10000.\n",
    "\n",
    "    Returns:\n",
    "        tuple: A tuple containing the training, validation, and test partitions of the dataset.\n",
    "    \"\"\"\n",
    "    assert (train_split + test_split + val_split) == 1, \"The sum of train_split, val_split, and test_split must be 1.\"\n",
    "    \n",
    "    \n",
    "    train_size = int(train_split * ds_size)\n",
    "    val_size = int(val_split * ds_size)\n",
    "    \n",
    "    if shuffle:\n",
    "      # Specify seed to always have the same split distribution between runs\n",
    "      train_ds = ds.take(train_size).shuffle(shuffle_size, seed=12)\n",
    "    else:\n",
    "      train_ds = ds.take(train_size)\n",
    "    val_ds = ds.skip(train_size).take(val_size)\n",
    "    test_ds = ds.skip(train_size).skip(val_size)\n",
    "    \n",
    "    return train_ds, val_ds, test_ds\n"
   ],
   "metadata": {
    "id": "0aqw4tpeaayW",
    "executionInfo": {
     "status": "aborted",
     "timestamp": 1686287808733,
     "user_tz": -420,
     "elapsed": 16,
     "user": {
      "displayName": "Muhammad Arief",
      "userId": "01585842397766244027"
     }
    }
   },
   "execution_count": null,
   "outputs": []
  },
  {
   "cell_type": "code",
   "source": [
    "#split the datasets to train, val, test\n",
    "ds = [get_dataset_partitions_tf(items, 431, shuffle_size=BUFFER) for items in ds]"
   ],
   "metadata": {
    "id": "fZwJAsF3ojX7",
    "executionInfo": {
     "status": "aborted",
     "timestamp": 1686287808735,
     "user_tz": -420,
     "elapsed": 17,
     "user": {
      "displayName": "Muhammad Arief",
      "userId": "01585842397766244027"
     }
    }
   },
   "execution_count": null,
   "outputs": []
  },
  {
   "cell_type": "code",
   "source": [
    "#split into individual sets\n",
    "train_set = [ds[i][0] for i in range(len(ds))]\n",
    "val_set = [ds[i][1] for i in range(len(ds))]\n",
    "test_set = [ds[i][2]for i in range(len(ds))]"
   ],
   "metadata": {
    "id": "sjITHB8MyfPi",
    "executionInfo": {
     "status": "aborted",
     "timestamp": 1686287808736,
     "user_tz": -420,
     "elapsed": 18,
     "user": {
      "displayName": "Muhammad Arief",
      "userId": "01585842397766244027"
     }
    }
   },
   "execution_count": null,
   "outputs": []
  },
  {
   "cell_type": "code",
   "execution_count": null,
   "outputs": [],
   "source": [
    "#turn into tensors\n",
    "train_set = tf.data.experimental.from_list(train_set).flat_map(lambda x: x, num_parallel_calls=tf.data.AUTOTUNE)\n",
    "val_set = tf.data.experimental.from_list(val_set).flat_map(lambda x: x, num_parallel_calls=tf.data.AUTOTUNE)\n",
    "test_set = tf.data.experimental.from_list(test_set).flat_map(lambda x: x, num_parallel_calls=tf.data.AUTOTUNE)"
   ],
   "metadata": {
    "collapsed": false
   }
  },
  {
   "cell_type": "code",
   "execution_count": null,
   "outputs": [],
   "source": [
    "#create a normalizer layer as well as the inverse\n",
    "input_normalizer = tf.keras.layers.Normalization(axis=-1)\n",
    "input_normalizer.adapt(train_set.map(lambda x, y: x,num_parallel_calls=tf.data.AUTOTUNE))\n",
    "input_normalizer.update_state(val_set.map(lambda x, y: x,num_parallel_calls=tf.data.AUTOTUNE))\n",
    "input_normalizer.adapt(test_set.map(lambda x, y: x,num_parallel_calls=tf.data.AUTOTUNE))\n",
    "target_normalizer = tf.keras.layers.Normalization(axis=-1)\n",
    "target_normalizer.adapt(train_set.map(lambda x, y: y,num_parallel_calls=tf.data.AUTOTUNE))\n",
    "target_normalizer.update_state(val_set.map(lambda x, y: y,num_parallel_calls=tf.data.AUTOTUNE))\n",
    "target_normalizer.update_state(test_set.map(lambda x, y: y,num_parallel_calls=tf.data.AUTOTUNE))\n",
    "target_restore = tf.keras.layers.Normalization(axis=-1,invert=True)\n",
    "target_restore.adapt(train_set.map(lambda x, y: y,num_parallel_calls=tf.data.AUTOTUNE))\n",
    "target_restore.update_state(val_set.map(lambda x, y: y,num_parallel_calls=tf.data.AUTOTUNE))\n",
    "target_restore.update_state(test_set.map(lambda x, y: y,num_parallel_calls=tf.data.AUTOTUNE))\n",
    "\n",
    "train_set = train_set.map(lambda x, y: (x, target_normalizer(y)), num_parallel_calls=tf.data.AUTOTUNE)\n",
    "val_set = val_set.map(lambda x, y: (x, target_normalizer(y)), num_parallel_calls=tf.data.AUTOTUNE)\n",
    "test_set = test_set.map(lambda x, y: (x, target_normalizer(y)), num_parallel_calls=tf.data.AUTOTUNE)\n"
   ],
   "metadata": {
    "collapsed": false
   }
  },
  {
   "cell_type": "code",
   "execution_count": null,
   "outputs": [],
   "source": [
    "#find the length of each set using map\n",
    "# train_len = train_set.reduce(0, lambda x, _: x + 1).numpy()\n",
    "# val_len = val_set.reduce(0, lambda x, _: x + 1).numpy()\n",
    "# test_len = test_set.reduce(0, lambda x, _: x + 1).numpy()\n",
    "train_len = 4787104\n",
    "val_len = 598388\n",
    "test_len = 598388\n",
    "\n",
    "print(f\"Training set length: {train_len}\")\n",
    "print(f\"Validation set length: {val_len}\")\n",
    "print(f\"Test set length: {test_len}\")\n"
   ],
   "metadata": {
    "collapsed": false
   }
  },
  {
   "cell_type": "code",
   "execution_count": null,
   "outputs": [],
   "source": [
    "#batch and prefetch the datasets\n",
    "train_set = train_set.shuffle(BUFFER).batch(BATCH_SIZE).prefetch(1)\n",
    "val_set = val_set.batch(BATCH_SIZE).prefetch(1)\n",
    "test_set = test_set.batch(BATCH_SIZE).prefetch(1)"
   ],
   "metadata": {
    "collapsed": false
   }
  },
  {
   "cell_type": "code",
   "execution_count": null,
   "outputs": [],
   "source": [
    "#save the datasets\n",
    "tf.data.Dataset.save(train_set, 'train_set')\n",
    "tf.data.Dataset.save(val_set, 'val_set')\n",
    "tf.data.Dataset.save(test_set, 'test_set')"
   ],
   "metadata": {
    "collapsed": false
   }
  },
  {
   "cell_type": "markdown",
   "source": [
    "# Modelling"
   ],
   "metadata": {
    "collapsed": false
   }
  },
  {
   "cell_type": "code",
   "execution_count": null,
   "outputs": [],
   "source": [
    "#create a list of models based on given learning rates and optimizers\n",
    "def create_model():\n",
    "    \"\"\"\n",
    "    Creates a list of models based on the learning rates and optimizers given.\n",
    "\n",
    "    Args:\n",
    "        learning_rate_array (list): A list of learning rates and optimizers to use for each model.\n",
    "\n",
    "    Returns:\n",
    "        list: A list of models.\n",
    "    \"\"\"\n",
    "    model = tf.keras.Sequential([\n",
    "        input_normalizer,\n",
    "        tf.keras.layers.Conv1D(filters=64, kernel_size=3,\n",
    "                               strides=1,\n",
    "                               activation=\"relu\", padding=\"causal\",\n",
    "                               input_shape=[25, 1]),\n",
    "        tf.keras.layers.LSTM(64, return_sequences=True),\n",
    "        tf.keras.layers.LSTM(64),\n",
    "        tf.keras.layers.Dense(64, activation='relu'),\n",
    "        tf.keras.layers.Dense(1)\n",
    "    ])\n",
    "\n",
    "    return model\n"
   ],
   "metadata": {
    "collapsed": false
   }
  },
  {
   "cell_type": "code",
   "execution_count": null,
   "outputs": [],
   "source": [
    "model = create_model()\n",
    "train_sample = train_set.unbatch().shuffle(BUFFER).take(train_len//10).batch(BATCH_SIZE).prefetch(1)\n",
    "val_sample = val_set.unbatch().shuffle(BUFFER).take(val_len//10).batch(BATCH_SIZE).prefetch(1)\n",
    "train_sample"
   ],
   "metadata": {
    "collapsed": false
   }
  },
  {
   "cell_type": "code",
   "execution_count": null,
   "outputs": [],
   "source": [
    "#callback to tune the learning rate\n",
    "lr_schedule = tf.keras.callbacks.LearningRateScheduler(\n",
    "    lambda epoch: 1e-8 * 10**(epoch / 20))\n",
    "\n",
    "optimizer = tf.keras.optimizers.Adam(learning_rate=1e-8)\n",
    "\n",
    "model.compile(loss=tf.keras.losses.Huber(),\n",
    "              optimizer=optimizer,\n",
    "              metrics=[\"mae\"])\n",
    "\n",
    "history = model.fit(train_sample, epochs=100, callbacks=[lr_schedule],validation_data = val_sample, verbose=1)\n"
   ],
   "metadata": {
    "collapsed": false
   }
  },
  {
   "cell_type": "code",
   "execution_count": null,
   "outputs": [],
   "source": [],
   "metadata": {
    "collapsed": false
   }
  }
 ],
 "metadata": {
  "kernelspec": {
   "name": "python3",
   "language": "python",
   "display_name": "Python 3 (ipykernel)"
  },
  "language_info": {
   "name": "python"
  },
  "colab": {
   "provenance": [],
   "machine_shape": "hm",
   "gpuType": "T4"
  },
  "accelerator": "TPU"
 },
 "nbformat": 4,
 "nbformat_minor": 0
}
