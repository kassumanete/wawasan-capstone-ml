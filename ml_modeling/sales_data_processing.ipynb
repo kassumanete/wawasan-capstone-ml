{
 "cells": [
  {
   "cell_type": "markdown",
   "source": [
    "# Data Modelling\n",
    "This is a notebook to experiment with the data modelling of the sales quantity data.\n",
    "This was done on a cloud instance so the file paths will be different if you are running this locally.\n",
    "Note that the dataset is also propiertary so it will not be included in this repository."
   ],
   "metadata": {
    "collapsed": false
   }
  },
  {
   "cell_type": "markdown",
   "source": [
    "# 1.Imports and Constants\n",
    "We will be using the following libraries:"
   ],
   "metadata": {
    "collapsed": false
   }
  },
  {
   "cell_type": "code",
   "execution_count": 1,
   "outputs": [
    {
     "name": "stderr",
     "output_type": "stream",
     "text": [
      "2023-06-12 00:19:32.852817: I tensorflow/core/platform/cpu_feature_guard.cc:193] This TensorFlow binary is optimized with oneAPI Deep Neural Network Library (oneDNN) to use the following CPU instructions in performance-critical operations:  AVX2 AVX512F FMA\n",
      "To enable them in other operations, rebuild TensorFlow with the appropriate compiler flags.\n",
      "2023-06-12 00:19:33.772860: W tensorflow/compiler/xla/stream_executor/platform/default/dso_loader.cc:64] Could not load dynamic library 'libnvinfer.so.7'; dlerror: libnvinfer.so.7: cannot open shared object file: No such file or directory; LD_LIBRARY_PATH: /usr/local/cuda/lib64:/usr/local/nccl2/lib:/usr/local/cuda/extras/CUPTI/lib64\n",
      "2023-06-12 00:19:33.772982: W tensorflow/compiler/xla/stream_executor/platform/default/dso_loader.cc:64] Could not load dynamic library 'libnvinfer_plugin.so.7'; dlerror: libnvinfer_plugin.so.7: cannot open shared object file: No such file or directory; LD_LIBRARY_PATH: /usr/local/cuda/lib64:/usr/local/nccl2/lib:/usr/local/cuda/extras/CUPTI/lib64\n",
      "2023-06-12 00:19:33.772993: W tensorflow/compiler/tf2tensorrt/utils/py_utils.cc:38] TF-TRT Warning: Cannot dlopen some TensorRT libraries. If you would like to use Nvidia GPU with TensorRT, please make sure the missing libraries mentioned above are installed properly.\n"
     ]
    }
   ],
   "source": [
    "import numpy as np\n",
    "import pandas as pd\n",
    "import matplotlib.pyplot as plt\n",
    "import tensorflow as tf"
   ],
   "metadata": {
    "collapsed": false,
    "ExecuteTime": {
     "end_time": "2023-06-12T00:19:33.826121600Z",
     "start_time": "2023-06-12T00:19:32.080951500Z"
    }
   }
  },
  {
   "cell_type": "code",
   "execution_count": 2,
   "outputs": [],
   "source": [
    "WINDOW = 20\n",
    "BATCH_SIZE = 2048\n",
    "BUFFER = 100000"
   ],
   "metadata": {
    "collapsed": false,
    "ExecuteTime": {
     "end_time": "2023-06-12T00:19:33.830123400Z",
     "start_time": "2023-06-12T00:19:33.827157Z"
    }
   }
  },
  {
   "cell_type": "markdown",
   "source": [
    "# Load data"
   ],
   "metadata": {
    "collapsed": false
   }
  },
  {
   "cell_type": "markdown",
   "source": [
    "The data is a csv extracted from an SQL database and cleaned. It contains the following columns:\n",
    "- **date:** The date of the sale\n",
    "- **item_code:** The code of the product sold\n",
    "- **quantity:** The quantity of the product sold on that day"
   ],
   "metadata": {
    "collapsed": false
   }
  },
  {
   "cell_type": "code",
   "execution_count": 3,
   "outputs": [],
   "source": [
    "# from google.colab import drive\n",
    "# drive.mount('/content/drive')\n",
    "# %pwd"
   ],
   "metadata": {
    "collapsed": false,
    "ExecuteTime": {
     "end_time": "2023-06-12T00:19:33.834123700Z",
     "start_time": "2023-06-12T00:19:33.831121700Z"
    }
   }
  },
  {
   "cell_type": "code",
   "execution_count": 4,
   "outputs": [
    {
     "data": {
      "text/plain": "         date                  item_code  quantity\n0  2022-02-18  (90)NA18210500154(91)2403       1.0\n1  2022-02-19  (90)NA18210500154(91)2403       1.0\n2  2022-02-20  (90)NA18210500154(91)2403       1.0\n3  2022-03-03  (90)NA18210500154(91)2403       1.0\n4  2022-03-05  (90)NA18210500154(91)2403       1.0",
      "text/html": "<div>\n<style scoped>\n    .dataframe tbody tr th:only-of-type {\n        vertical-align: middle;\n    }\n\n    .dataframe tbody tr th {\n        vertical-align: top;\n    }\n\n    .dataframe thead th {\n        text-align: right;\n    }\n</style>\n<table border=\"1\" class=\"dataframe\">\n  <thead>\n    <tr style=\"text-align: right;\">\n      <th></th>\n      <th>date</th>\n      <th>item_code</th>\n      <th>quantity</th>\n    </tr>\n  </thead>\n  <tbody>\n    <tr>\n      <th>0</th>\n      <td>2022-02-18</td>\n      <td>(90)NA18210500154(91)2403</td>\n      <td>1.0</td>\n    </tr>\n    <tr>\n      <th>1</th>\n      <td>2022-02-19</td>\n      <td>(90)NA18210500154(91)2403</td>\n      <td>1.0</td>\n    </tr>\n    <tr>\n      <th>2</th>\n      <td>2022-02-20</td>\n      <td>(90)NA18210500154(91)2403</td>\n      <td>1.0</td>\n    </tr>\n    <tr>\n      <th>3</th>\n      <td>2022-03-03</td>\n      <td>(90)NA18210500154(91)2403</td>\n      <td>1.0</td>\n    </tr>\n    <tr>\n      <th>4</th>\n      <td>2022-03-05</td>\n      <td>(90)NA18210500154(91)2403</td>\n      <td>1.0</td>\n    </tr>\n  </tbody>\n</table>\n</div>"
     },
     "execution_count": 4,
     "metadata": {},
     "output_type": "execute_result"
    }
   ],
   "source": [
    "# filepath = 'sales_quantity.csv' #for local imports\n",
    "filepath = '/home/jupyter/data/sales_quantity.csv' #vm-instance\n",
    "# filepath = '/content/drive/MyDrive/Documents/uni_work/Bangkit2023/batch1/capstone/repo/ml_modeling/sales_quantity.csv' #colab\n",
    "data = pd.read_csv(filepath,names=['date','item_code','quantity'],\n",
    "                   dtype = {'item_code':str, 'quantity':np.float64},header = 0 )\n",
    "data.head()"
   ],
   "metadata": {
    "collapsed": false,
    "ExecuteTime": {
     "end_time": "2023-06-12T00:19:34.083229600Z",
     "start_time": "2023-06-12T00:19:33.858288500Z"
    }
   }
  },
  {
   "cell_type": "markdown",
   "source": [
    "# Transform data\n",
    "We need to change the data so that it has the following format for training:\n",
    "- **Input:** [*The tokenized item code, day, month, day of the week, day of the year, {A sequence of 20 days of sales data for a particular product}*]\n",
    "- **Output:** The quantity sold for that product in the following day\n",
    ">**Note:**\n",
    "    - *The tokenized item code is the index of the item code in the tokenizer's word index.*\n",
    "    - *The day component of the date is the day of the month.*\n",
    "    - *The month component of the date is the month of the year.*\n",
    "    - *The day of the week is a number between 0 and 6, where 0 is Monday and 6 is Sunday.*\n",
    "    - *The day of the year is a number between 1 and 365, where January 1st is 1 and December 31st is 365.*\n",
    "    - *The sequence of 20 days of sales data is the window size we will use for training the model. The data will be normalized*\n"
   ],
   "metadata": {
    "collapsed": false
   }
  },
  {
   "cell_type": "code",
   "execution_count": 5,
   "outputs": [],
   "source": [
    "#extract date features from date column\n",
    "data['date'] = pd.to_datetime(data['date'])\n",
    "data['year'] = data['date'].dt.year\n",
    "data['month'] = data['date'].dt.month\n",
    "data['day'] = data['date'].dt.day\n",
    "data['day_of_week'] = data['date'].dt.dayofweek\n",
    "data['day_of_year'] = data['date'].dt.dayofyear\n",
    "\n"
   ],
   "metadata": {
    "collapsed": false,
    "ExecuteTime": {
     "end_time": "2023-06-12T00:19:34.505339400Z",
     "start_time": "2023-06-12T00:19:34.090994400Z"
    }
   }
  },
  {
   "cell_type": "markdown",
   "source": [
    "We need to create a wide dataframe with each item code as a column and the quantity sold for each day as the values."
   ],
   "metadata": {
    "collapsed": false
   }
  },
  {
   "cell_type": "code",
   "execution_count": 6,
   "outputs": [
    {
     "data": {
      "text/plain": "item_code       date  year  month  day  day_of_week  day_of_year  \\\n0         2022-01-03  2022      1    3            0            3   \n1         2022-01-04  2022      1    4            1            4   \n2         2022-01-05  2022      1    5            2            5   \n3         2022-01-06  2022      1    6            3            6   \n4         2022-01-07  2022      1    7            4            7   \n\nitem_code  (90)NA18210500154(91)2403  (90)NA18211207820(91)2410  00000001  \\\n0                                0.0                        0.0       0.0   \n1                                0.0                        0.0       0.0   \n2                                0.0                        0.0       0.0   \n3                                0.0                        0.0       0.0   \n4                                0.0                        0.0       0.0   \n\nitem_code  00000002  ...  CL000448327  CL000450943  COS LT  COSLT-228  \\\n0               0.0  ...          0.0          0.0     0.0        0.0   \n1               0.0  ...          0.0          0.0     0.0        0.0   \n2               0.0  ...          0.0          0.0     0.0        1.0   \n3               0.0  ...          0.0          0.0     0.0        0.0   \n4               0.0  ...          0.0          0.0     0.0        0.0   \n\nitem_code  EC0102190002  EC0102191301  EC0103190002  EC0106190101  MP-2203  \\\n0                   0.0           0.0           0.0           0.0      0.0   \n1                   0.0           0.0           0.0           0.0      0.0   \n2                   0.0           0.0           0.0           0.0      0.0   \n3                   0.0           0.0           0.0           0.0      0.0   \n4                   0.0           0.0           0.0           0.0      0.0   \n\nitem_code  SLM0958266  \n0                 0.0  \n1                 0.0  \n2                 0.0  \n3                 0.0  \n4                 0.0  \n\n[5 rows x 13937 columns]",
      "text/html": "<div>\n<style scoped>\n    .dataframe tbody tr th:only-of-type {\n        vertical-align: middle;\n    }\n\n    .dataframe tbody tr th {\n        vertical-align: top;\n    }\n\n    .dataframe thead th {\n        text-align: right;\n    }\n</style>\n<table border=\"1\" class=\"dataframe\">\n  <thead>\n    <tr style=\"text-align: right;\">\n      <th>item_code</th>\n      <th>date</th>\n      <th>year</th>\n      <th>month</th>\n      <th>day</th>\n      <th>day_of_week</th>\n      <th>day_of_year</th>\n      <th>(90)NA18210500154(91)2403</th>\n      <th>(90)NA18211207820(91)2410</th>\n      <th>00000001</th>\n      <th>00000002</th>\n      <th>...</th>\n      <th>CL000448327</th>\n      <th>CL000450943</th>\n      <th>COS LT</th>\n      <th>COSLT-228</th>\n      <th>EC0102190002</th>\n      <th>EC0102191301</th>\n      <th>EC0103190002</th>\n      <th>EC0106190101</th>\n      <th>MP-2203</th>\n      <th>SLM0958266</th>\n    </tr>\n  </thead>\n  <tbody>\n    <tr>\n      <th>0</th>\n      <td>2022-01-03</td>\n      <td>2022</td>\n      <td>1</td>\n      <td>3</td>\n      <td>0</td>\n      <td>3</td>\n      <td>0.0</td>\n      <td>0.0</td>\n      <td>0.0</td>\n      <td>0.0</td>\n      <td>...</td>\n      <td>0.0</td>\n      <td>0.0</td>\n      <td>0.0</td>\n      <td>0.0</td>\n      <td>0.0</td>\n      <td>0.0</td>\n      <td>0.0</td>\n      <td>0.0</td>\n      <td>0.0</td>\n      <td>0.0</td>\n    </tr>\n    <tr>\n      <th>1</th>\n      <td>2022-01-04</td>\n      <td>2022</td>\n      <td>1</td>\n      <td>4</td>\n      <td>1</td>\n      <td>4</td>\n      <td>0.0</td>\n      <td>0.0</td>\n      <td>0.0</td>\n      <td>0.0</td>\n      <td>...</td>\n      <td>0.0</td>\n      <td>0.0</td>\n      <td>0.0</td>\n      <td>0.0</td>\n      <td>0.0</td>\n      <td>0.0</td>\n      <td>0.0</td>\n      <td>0.0</td>\n      <td>0.0</td>\n      <td>0.0</td>\n    </tr>\n    <tr>\n      <th>2</th>\n      <td>2022-01-05</td>\n      <td>2022</td>\n      <td>1</td>\n      <td>5</td>\n      <td>2</td>\n      <td>5</td>\n      <td>0.0</td>\n      <td>0.0</td>\n      <td>0.0</td>\n      <td>0.0</td>\n      <td>...</td>\n      <td>0.0</td>\n      <td>0.0</td>\n      <td>0.0</td>\n      <td>1.0</td>\n      <td>0.0</td>\n      <td>0.0</td>\n      <td>0.0</td>\n      <td>0.0</td>\n      <td>0.0</td>\n      <td>0.0</td>\n    </tr>\n    <tr>\n      <th>3</th>\n      <td>2022-01-06</td>\n      <td>2022</td>\n      <td>1</td>\n      <td>6</td>\n      <td>3</td>\n      <td>6</td>\n      <td>0.0</td>\n      <td>0.0</td>\n      <td>0.0</td>\n      <td>0.0</td>\n      <td>...</td>\n      <td>0.0</td>\n      <td>0.0</td>\n      <td>0.0</td>\n      <td>0.0</td>\n      <td>0.0</td>\n      <td>0.0</td>\n      <td>0.0</td>\n      <td>0.0</td>\n      <td>0.0</td>\n      <td>0.0</td>\n    </tr>\n    <tr>\n      <th>4</th>\n      <td>2022-01-07</td>\n      <td>2022</td>\n      <td>1</td>\n      <td>7</td>\n      <td>4</td>\n      <td>7</td>\n      <td>0.0</td>\n      <td>0.0</td>\n      <td>0.0</td>\n      <td>0.0</td>\n      <td>...</td>\n      <td>0.0</td>\n      <td>0.0</td>\n      <td>0.0</td>\n      <td>0.0</td>\n      <td>0.0</td>\n      <td>0.0</td>\n      <td>0.0</td>\n      <td>0.0</td>\n      <td>0.0</td>\n      <td>0.0</td>\n    </tr>\n  </tbody>\n</table>\n<p>5 rows × 13937 columns</p>\n</div>"
     },
     "execution_count": 6,
     "metadata": {},
     "output_type": "execute_result"
    }
   ],
   "source": [
    "#stack dataframe based on item_code\n",
    "item_sales = data.groupby(['item_code','date','year','month','day','day_of_week','day_of_year'])['quantity'].sum().unstack(level=0)\n",
    "#turn each NaN value to 0\n",
    "item_sales = item_sales.sort_values('date')\n",
    "item_sales = item_sales.fillna(0)\n",
    "item_sales.reset_index(inplace=True)\n",
    "item_sales.head()"
   ],
   "metadata": {
    "collapsed": false,
    "ExecuteTime": {
     "end_time": "2023-06-12T00:19:35.164357900Z",
     "start_time": "2023-06-12T00:19:34.529460Z"
    }
   }
  },
  {
   "cell_type": "markdown",
   "source": [
    "## Prepare item code and dates\n",
    "Since the dataset will use date and item code feature as input, to create an array of item code mapped to every date value"
   ],
   "metadata": {
    "collapsed": false
   }
  },
  {
   "cell_type": "code",
   "execution_count": 7,
   "outputs": [
    {
     "name": "stdout",
     "output_type": "stream",
     "text": [
      "(13931,)\n"
     ]
    }
   ],
   "source": [
    "#prepare the list of item codes\n",
    "\n",
    "items = np.array(item_sales.columns[6:])\n",
    "total_items = items.shape[0]\n",
    "print(items.shape)"
   ],
   "metadata": {
    "collapsed": false,
    "ExecuteTime": {
     "end_time": "2023-06-12T00:19:35.251198700Z",
     "start_time": "2023-06-12T00:19:35.165354100Z"
    }
   }
  },
  {
   "cell_type": "code",
   "execution_count": 8,
   "outputs": [
    {
     "name": "stdout",
     "output_type": "stream",
     "text": [
      "(431, 4)\n"
     ]
    }
   ],
   "source": [
    "# prepare the array of date_related features, since we will be windowing these features\n",
    "# we ignore the first few ones\n",
    "\n",
    "dates = np.array(item_sales[['month','day','day_of_week','day_of_year']][WINDOW:])\n",
    "\n",
    "#normalize for cyclic feature\n",
    "\n",
    "dates = np.sin(dates) + np.cos(dates)\n",
    "total_dates = dates.shape[0]\n",
    "print(dates.shape)"
   ],
   "metadata": {
    "collapsed": false,
    "ExecuteTime": {
     "end_time": "2023-06-12T00:19:35.251198700Z",
     "start_time": "2023-06-12T00:19:35.196377700Z"
    }
   }
  },
  {
   "cell_type": "markdown",
   "source": [
    "Create numpy arrays for each repeated item and dates for later joining."
   ],
   "metadata": {
    "collapsed": false
   }
  },
  {
   "cell_type": "code",
   "execution_count": 9,
   "outputs": [
    {
     "name": "stdout",
     "output_type": "stream",
     "text": [
      "(6004261,)\n",
      "(6004261, 4)\n"
     ]
    }
   ],
   "source": [
    "repeated_items = items.repeat(total_dates)\n",
    "repeated_dates = dates.reshape(1,dates.shape[0],dates.shape[1]).repeat(total_items,axis=0).reshape(-1,4)\n",
    "\n",
    "print(repeated_items.shape)\n",
    "print(repeated_dates.shape)"
   ],
   "metadata": {
    "collapsed": false,
    "ExecuteTime": {
     "end_time": "2023-06-12T00:19:35.387731600Z",
     "start_time": "2023-06-12T00:19:35.285200500Z"
    }
   }
  },
  {
   "cell_type": "markdown",
   "source": [
    "## Prepare the sales data to be windowed\n",
    "We need to create windows of the sales data corresponding to the dates. This will be used as input and output for the data later on."
   ],
   "metadata": {
    "collapsed": false
   }
  },
  {
   "cell_type": "code",
   "execution_count": 10,
   "outputs": [
    {
     "name": "stdout",
     "output_type": "stream",
     "text": [
      "Shape of windowed data (6004261, 21)\n",
      "Shape of windowed input (6004261, 20)\n",
      "Shape of target (6004261,)\n"
     ]
    }
   ],
   "source": [
    "#transpose the sales quantity so dates are columns\n",
    "sales_quantity = np.array(item_sales.iloc[:,6:]).T\n",
    "#create the windows\n",
    "windowed = np.lib.stride_tricks.sliding_window_view(sales_quantity, WINDOW+1, axis=-1).reshape(-1,WINDOW+1)\n",
    "print(f'Shape of windowed data {windowed.shape}')\n",
    "\n",
    "#seperate the input and target\n",
    "sales_input = windowed[:,:-1]\n",
    "target = windowed[:,-1]\n",
    "print(f'Shape of windowed input {sales_input.shape}')\n",
    "print(f'Shape of target {target.shape}')"
   ],
   "metadata": {
    "collapsed": false,
    "ExecuteTime": {
     "end_time": "2023-06-12T00:19:35.719807400Z",
     "start_time": "2023-06-12T00:19:35.289200400Z"
    }
   }
  },
  {
   "cell_type": "markdown",
   "source": [
    "## Normalization\n",
    "We need to normalize the input and output of the sales data.\n",
    "We can normalize the output in place while using a normalization layer to normalize the input\n",
    "\n"
   ],
   "metadata": {
    "collapsed": false
   }
  },
  {
   "cell_type": "code",
   "execution_count": 31,
   "outputs": [],
   "source": [
    "def create_normalization_layer(data):\n",
    "    \"\"\"\n",
    "    Create a normalization layer to normalize the input data.\n",
    "\n",
    "    Returns:\n",
    "        tf.keras.layers.Normalization: Normalization layer.\n",
    "    \"\"\"\n",
    "\n",
    "    # Create a normalization layer\n",
    "    normalization_layer = tf.keras.layers.Normalization()\n",
    "\n",
    "    # Fit the layer on the input data\n",
    "    normalization_layer.adapt(data)\n",
    "\n",
    "    return normalization_layer"
   ],
   "metadata": {
    "collapsed": false,
    "ExecuteTime": {
     "end_time": "2023-06-12T00:57:02.744341800Z",
     "start_time": "2023-06-12T00:57:02.709951Z"
    }
   }
  },
  {
   "cell_type": "code",
   "execution_count": 32,
   "outputs": [],
   "source": [
    "# Create a normalization layer for the input\n",
    "normalization_layer = create_normalization_layer(sales_input)\n",
    "\n",
    "# Normalize the output\n",
    "target_norm = np.linalg.norm(target)\n",
    "target = target/target_norm\n"
   ],
   "metadata": {
    "collapsed": false,
    "ExecuteTime": {
     "end_time": "2023-06-12T00:57:04.370814300Z",
     "start_time": "2023-06-12T00:57:03.202173600Z"
    }
   }
  },
  {
   "cell_type": "markdown",
   "source": [
    "Since we will be passing the item code as a feature to the model, we need to tokenize it.\n",
    "We use a helper function to create a tokenizer and fit it on the item codes.\n",
    "This will be also be used to later decode the predictions of the model."
   ],
   "metadata": {
    "collapsed": false
   }
  },
  {
   "cell_type": "code",
   "execution_count": 33,
   "outputs": [
    {
     "name": "stdout",
     "output_type": "stream",
     "text": [
      "Tokenizer has 13932 tokens\n"
     ]
    }
   ],
   "source": [
    "# Create a tokenizer using item codes from item_sales dataframe columns\n",
    "vectorize_layer = tf.keras.layers.StringLookup(vocabulary=items)\n",
    "\n",
    "# Get the length of the tokenizer's word index\n",
    "tokenizer_word_count = vectorize_layer.vocabulary_size()\n",
    "print(f'Tokenizer has {tokenizer_word_count} tokens')"
   ],
   "metadata": {
    "collapsed": false,
    "ExecuteTime": {
     "end_time": "2023-06-12T00:57:05.450358900Z",
     "start_time": "2023-06-12T00:57:05.435347500Z"
    }
   }
  },
  {
   "cell_type": "markdown",
   "source": [
    "## Splitting Data\n",
    "We split the data into training, validation and test sets. We use the first 80% of the data for training, the next 10% for validation and the last 10% for testing. The best way to do this is to use the most recent data for testing and validation since it is more representative of the future."
   ],
   "metadata": {
    "collapsed": false
   }
  },
  {
   "cell_type": "code",
   "execution_count": 34,
   "outputs": [
    {
     "name": "stdout",
     "output_type": "stream",
     "text": [
      "Test: (612964, 1), (612964, 4), (612964, 20), (612964, 1)\n",
      "Validation: (599033, 1), (599033, 4), (599033, 20), (599033, 1)\n",
      "Train: (4792264, 1), (4792264, 4), (4792264, 20), (4792264, 1)\n"
     ]
    }
   ],
   "source": [
    "#split the data into train, validation and test sets\n",
    "train_split = int(0.8 * total_dates)\n",
    "val_split = int(0.9 * total_dates)\n",
    "\n",
    "#reshape the data to be 3D to easily extract the splits\n",
    "repeated_items = repeated_items.reshape(total_dates,-1,1)\n",
    "repeated_dates = repeated_dates.reshape(total_dates,-1,4)\n",
    "sales_input = sales_input.reshape(total_dates,-1,WINDOW)\n",
    "target = target.reshape(total_dates,-1,1)\n",
    "\n",
    "#split the data\n",
    "train_items = repeated_items[:train_split].reshape(-1,1)\n",
    "train_dates = repeated_dates[:train_split].reshape(-1,4)\n",
    "train_sales = sales_input[:train_split].reshape(-1,WINDOW)\n",
    "train_target = target[:train_split].reshape(-1,1)\n",
    "\n",
    "val_items = repeated_items[train_split:val_split].reshape(-1,1)\n",
    "val_dates = repeated_dates[train_split:val_split].reshape(-1,4)\n",
    "val_sales = sales_input[train_split:val_split].reshape(-1,WINDOW)\n",
    "val_target = target[train_split:val_split].reshape(-1,1)\n",
    "\n",
    "test_items = repeated_items[val_split:].reshape(-1,1)\n",
    "test_dates = repeated_dates[val_split:].reshape(-1,4)\n",
    "test_sales = sales_input[val_split:].reshape(-1,WINDOW)\n",
    "test_target = target[val_split:].reshape(-1,1)\n",
    "\n",
    "train_length = train_items.shape[0]\n",
    "val_length = val_items.shape[0]\n",
    "test_length = test_items.shape[0]\n",
    "\n",
    "#ensure all the splits are of the same shape\n",
    "print(f'Test: {test_items.shape}, {test_dates.shape}, {test_sales.shape}, {test_target.shape}')\n",
    "print(f'Validation: {val_items.shape}, {val_dates.shape}, {val_sales.shape}, {val_target.shape}')\n",
    "print(f'Train: {train_items.shape}, {train_dates.shape}, {train_sales.shape}, {train_target.shape}')"
   ],
   "metadata": {
    "collapsed": false,
    "ExecuteTime": {
     "end_time": "2023-06-12T00:57:09.466382600Z",
     "start_time": "2023-06-12T00:57:09.461387700Z"
    }
   }
  },
  {
   "cell_type": "code",
   "execution_count": 45,
   "outputs": [
    {
     "name": "stdout",
     "output_type": "stream",
     "text": [
      "Test: ((TensorSpec(shape=(1,), dtype=tf.int64, name=None), TensorSpec(shape=(4,), dtype=tf.float64, name=None), TensorSpec(shape=(20,), dtype=tf.float64, name=None)), TensorSpec(shape=(1,), dtype=tf.float64, name=None))\n",
      "Validation: ((TensorSpec(shape=(1,), dtype=tf.int64, name=None), TensorSpec(shape=(4,), dtype=tf.float64, name=None), TensorSpec(shape=(20,), dtype=tf.float64, name=None)), TensorSpec(shape=(1,), dtype=tf.float64, name=None))\n",
      "Train: ((TensorSpec(shape=(1,), dtype=tf.int64, name=None), TensorSpec(shape=(4,), dtype=tf.float64, name=None), TensorSpec(shape=(20,), dtype=tf.float64, name=None)), TensorSpec(shape=(1,), dtype=tf.float64, name=None))\n"
     ]
    }
   ],
   "source": [
    "#Turn each split into a tensorflow dataset\n",
    "train_dataset = tf.data.Dataset.from_tensor_slices(((vectorize_layer(train_items), train_dates, train_sales), train_target))\n",
    "val_dataset = tf.data.Dataset.from_tensor_slices(((vectorize_layer(val_items), val_dates, val_sales), val_target))\n",
    "test_dataset = tf.data.Dataset.from_tensor_slices(((vectorize_layer(test_items), test_dates, test_sales), test_target))\n",
    "#show the shapes of the datasets\n",
    "print(f'Test: {test_dataset.element_spec}')\n",
    "print(f'Validation: {val_dataset.element_spec}')\n",
    "print(f'Train: {train_dataset.element_spec}')"
   ],
   "metadata": {
    "collapsed": false,
    "ExecuteTime": {
     "end_time": "2023-06-12T01:04:09.935068Z",
     "start_time": "2023-06-12T01:04:08.071536400Z"
    }
   }
  },
  {
   "cell_type": "markdown",
   "source": [
    "# Model Analysis"
   ],
   "metadata": {
    "collapsed": false
   }
  },
  {
   "cell_type": "markdown",
   "source": [
    "## Model architecture\n",
    "Since we are using the different types of features each with their own importance we will not be using a Sequential model but attempt to use the keras Functional API to define the model."
   ],
   "metadata": {
    "id": "fMKgvaWeidpa"
   }
  },
  {
   "cell_type": "code",
   "execution_count": 146,
   "outputs": [],
   "source": [
    "def create_model(vectorizer, normalizer):\n",
    "    '''\n",
    "    Create a model using the keras Functional API.\n",
    "\n",
    "    :return: keras model\n",
    "    '''\n",
    "    #input layers\n",
    "    item_input = tf.keras.Input(shape=(1,), name='item_input')\n",
    "    date_input = tf.keras.Input(shape=(4,), name='date_input')\n",
    "    sales_input = tf.keras.Input(shape=(WINDOW,),name='sales_input')\n",
    "\n",
    "    #embedding layers\n",
    "    embedding = tf.keras.layers.Embedding(vectorizer.vocabulary_size(), 64)(item_input)\n",
    "    embedding = tf.keras.layers.Flatten()(embedding)\n",
    "\n",
    "    #date layers\n",
    "    date_layer = tf.keras.layers.Dense(32, activation='relu')(date_input)\n",
    "    date_layer = tf.keras.layers.Dense(16, activation='relu')(date_layer)\n",
    "    date_layer = tf.keras.layers.Dense(8, activation='relu')(date_layer)\n",
    "\n",
    "    #sales layers\n",
    "    normalization_layer = normalizer(sales_input)\n",
    "    conv1sales = tf.keras.layers.Conv1D(32, 3, activation='relu', input_shape=(WINDOW,1))(normalization_layer)\n",
    "    conv1sales = tf.keras.layers.MaxPooling1D(2)(conv1sales)\n",
    "    conv2sales = tf.keras.layers.Conv1D(64, 3, activation='relu')(conv1sales)\n",
    "    conv2sales = tf.keras.layers.MaxPooling1D(2)(conv2sales)\n",
    "    lstmsales = tf.keras.layers.LSTM(64, return_sequences=True)(conv2sales)\n",
    "    lstmsales = tf.keras.layers.LSTM(64)(lstmsales)\n",
    "\n",
    "\n",
    "    #concatenate all layers\n",
    "    x = tf.keras.layers.Concatenate()([embedding, date_layer])\n",
    "    x = tf.keras.layers.Concatenate()([x, lstmsales])\n",
    "    x = tf.keras.layers.Dense(64, activation='relu')(x)\n",
    "    x = tf.keras.layers.Dense(32, activation='relu')(x)\n",
    "    output = tf.keras.layers.Dense(1)(x)\n",
    "\n",
    "    #create the model\n",
    "    model = tf.keras.Model(inputs=[item_input, date_input, sales_input], outputs=output)\n",
    "\n",
    "    return model\n"
   ],
   "metadata": {
    "collapsed": false,
    "ExecuteTime": {
     "end_time": "2023-06-12T01:35:15.799097500Z",
     "start_time": "2023-06-12T01:35:15.753606100Z"
    }
   }
  },
  {
   "cell_type": "markdown",
   "source": [
    "After preparing the dataset, we try to fine tune the learning rate of the algorithm.\n",
    "We only use a sample of the training set to speed up the process."
   ],
   "metadata": {
    "collapsed": false,
    "ExecuteTime": {
     "end_time": "2023-06-11T04:08:58.168373800Z",
     "start_time": "2023-06-11T04:08:58.124552200Z"
    },
    "id": "UQOjeOKDDpuK"
   }
  },
  {
   "cell_type": "code",
   "execution_count": 147,
   "outputs": [
    {
     "name": "stdout",
     "output_type": "stream",
     "text": [
      "Model: \"model_16\"\n",
      "__________________________________________________________________________________________________\n",
      " Layer (type)                   Output Shape         Param #     Connected to                     \n",
      "==================================================================================================\n",
      " sales_input (InputLayer)       [(None, 20)]         0           []                               \n",
      "                                                                                                  \n",
      " normalization_1 (Normalization  (1, None, 20)       41          ['sales_input[0][0]']            \n",
      " )                                                                                                \n",
      "                                                                                                  \n",
      " conv1d_58 (Conv1D)             (1, None, 32)        1952        ['normalization_1[33][0]']       \n",
      "                                                                                                  \n",
      " date_input (InputLayer)        [(None, 4)]          0           []                               \n",
      "                                                                                                  \n",
      " max_pooling1d_53 (MaxPooling1D  (1, None, 32)       0           ['conv1d_58[0][0]']              \n",
      " )                                                                                                \n",
      "                                                                                                  \n",
      " item_input (InputLayer)        [(None, 1)]          0           []                               \n",
      "                                                                                                  \n",
      " dense_150 (Dense)              (None, 32)           160         ['date_input[0][0]']             \n",
      "                                                                                                  \n",
      " conv1d_59 (Conv1D)             (1, None, 64)        6208        ['max_pooling1d_53[0][0]']       \n",
      "                                                                                                  \n",
      " embedding_43 (Embedding)       (None, 1, 64)        891648      ['item_input[0][0]']             \n",
      "                                                                                                  \n",
      " dense_151 (Dense)              (None, 16)           528         ['dense_150[0][0]']              \n",
      "                                                                                                  \n",
      " max_pooling1d_54 (MaxPooling1D  (1, None, 64)       0           ['conv1d_59[0][0]']              \n",
      " )                                                                                                \n",
      "                                                                                                  \n",
      " flatten_48 (Flatten)           (None, 64)           0           ['embedding_43[0][0]']           \n",
      "                                                                                                  \n",
      " dense_152 (Dense)              (None, 8)            136         ['dense_151[0][0]']              \n",
      "                                                                                                  \n",
      " lstm_70 (LSTM)                 (1, None, 64)        33024       ['max_pooling1d_54[0][0]']       \n",
      "                                                                                                  \n",
      " concatenate_26 (Concatenate)   (None, 72)           0           ['flatten_48[0][0]',             \n",
      "                                                                  'dense_152[0][0]']              \n",
      "                                                                                                  \n",
      " lstm_71 (LSTM)                 (1, 64)              33024       ['lstm_70[0][0]']                \n",
      "                                                                                                  \n",
      " concatenate_27 (Concatenate)   (1, 136)             0           ['concatenate_26[0][0]',         \n",
      "                                                                  'lstm_71[0][0]']                \n",
      "                                                                                                  \n",
      " dense_153 (Dense)              (1, 64)              8768        ['concatenate_27[0][0]']         \n",
      "                                                                                                  \n",
      " dense_154 (Dense)              (1, 32)              2080        ['dense_153[0][0]']              \n",
      "                                                                                                  \n",
      " dense_155 (Dense)              (1, 1)               33          ['dense_154[0][0]']              \n",
      "                                                                                                  \n",
      "==================================================================================================\n",
      "Total params: 977,602\n",
      "Trainable params: 977,561\n",
      "Non-trainable params: 41\n",
      "__________________________________________________________________________________________________\n"
     ]
    }
   ],
   "source": [
    "model = create_model(vectorize_layer, normalization_layer)\n",
    "model.summary()"
   ],
   "metadata": {
    "id": "s0KHTXKXDpuL",
    "ExecuteTime": {
     "end_time": "2023-06-12T01:35:17.012320700Z",
     "start_time": "2023-06-12T01:35:16.470218500Z"
    }
   }
  },
  {
   "cell_type": "code",
   "execution_count": 126,
   "outputs": [],
   "source": [
    "#take a sample of the training set\n",
    "train_sample = train_dataset.shuffle(BUFFER).batch(BATCH_SIZE).take(train_length//10).prefetch(1)\n",
    "val_sample = val_dataset.batch(BATCH_SIZE).take(val_length//10).prefetch(1)"
   ],
   "metadata": {
    "collapsed": false,
    "ExecuteTime": {
     "end_time": "2023-06-12T01:28:39.764866400Z",
     "start_time": "2023-06-12T01:28:39.690862500Z"
    }
   }
  },
  {
   "cell_type": "code",
   "execution_count": 127,
   "outputs": [
    {
     "name": "stdout",
     "output_type": "stream",
     "text": [
      "Epoch 1/100\n"
     ]
    },
    {
     "ename": "InvalidArgumentError",
     "evalue": "Graph execution error:\n\nDetected at node 'gradient_tape/model_15/concatenate_23/ConcatOffset' defined at (most recent call last):\n    File \"/opt/conda/lib/python3.10/runpy.py\", line 196, in _run_module_as_main\n      return _run_code(code, main_globals, None,\n    File \"/opt/conda/lib/python3.10/runpy.py\", line 86, in _run_code\n      exec(code, run_globals)\n    File \"/opt/conda/lib/python3.10/site-packages/ipykernel_launcher.py\", line 17, in <module>\n      app.launch_new_instance()\n    File \"/opt/conda/lib/python3.10/site-packages/traitlets/config/application.py\", line 1043, in launch_instance\n      app.start()\n    File \"/opt/conda/lib/python3.10/site-packages/ipykernel/kernelapp.py\", line 725, in start\n      self.io_loop.start()\n    File \"/opt/conda/lib/python3.10/site-packages/tornado/platform/asyncio.py\", line 195, in start\n      self.asyncio_loop.run_forever()\n    File \"/opt/conda/lib/python3.10/asyncio/base_events.py\", line 603, in run_forever\n      self._run_once()\n    File \"/opt/conda/lib/python3.10/asyncio/base_events.py\", line 1909, in _run_once\n      handle._run()\n    File \"/opt/conda/lib/python3.10/asyncio/events.py\", line 80, in _run\n      self._context.run(self._callback, *self._args)\n    File \"/opt/conda/lib/python3.10/site-packages/ipykernel/kernelbase.py\", line 513, in dispatch_queue\n      await self.process_one()\n    File \"/opt/conda/lib/python3.10/site-packages/ipykernel/kernelbase.py\", line 502, in process_one\n      await dispatch(*args)\n    File \"/opt/conda/lib/python3.10/site-packages/ipykernel/kernelbase.py\", line 409, in dispatch_shell\n      await result\n    File \"/opt/conda/lib/python3.10/site-packages/ipykernel/kernelbase.py\", line 729, in execute_request\n      reply_content = await reply_content\n    File \"/opt/conda/lib/python3.10/site-packages/ipykernel/ipkernel.py\", line 422, in do_execute\n      res = shell.run_cell(\n    File \"/opt/conda/lib/python3.10/site-packages/ipykernel/zmqshell.py\", line 540, in run_cell\n      return super().run_cell(*args, **kwargs)\n    File \"/opt/conda/lib/python3.10/site-packages/IPython/core/interactiveshell.py\", line 3009, in run_cell\n      result = self._run_cell(\n    File \"/opt/conda/lib/python3.10/site-packages/IPython/core/interactiveshell.py\", line 3064, in _run_cell\n      result = runner(coro)\n    File \"/opt/conda/lib/python3.10/site-packages/IPython/core/async_helpers.py\", line 129, in _pseudo_sync_runner\n      coro.send(None)\n    File \"/opt/conda/lib/python3.10/site-packages/IPython/core/interactiveshell.py\", line 3269, in run_cell_async\n      has_raised = await self.run_ast_nodes(code_ast.body, cell_name,\n    File \"/opt/conda/lib/python3.10/site-packages/IPython/core/interactiveshell.py\", line 3448, in run_ast_nodes\n      if await self.run_code(code, result, async_=asy):\n    File \"/opt/conda/lib/python3.10/site-packages/IPython/core/interactiveshell.py\", line 3508, in run_code\n      exec(code_obj, self.user_global_ns, self.user_ns)\n    File \"/var/tmp/ipykernel_28633/658638554.py\", line 11, in <module>\n      history = model.fit(train_sample, epochs=100, callbacks=[lr_schedule],validation_data = val_sample, verbose=2)\n    File \"/opt/conda/lib/python3.10/site-packages/keras/utils/traceback_utils.py\", line 65, in error_handler\n      return fn(*args, **kwargs)\n    File \"/opt/conda/lib/python3.10/site-packages/keras/engine/training.py\", line 1650, in fit\n      tmp_logs = self.train_function(iterator)\n    File \"/opt/conda/lib/python3.10/site-packages/keras/engine/training.py\", line 1249, in train_function\n      return step_function(self, iterator)\n    File \"/opt/conda/lib/python3.10/site-packages/keras/engine/training.py\", line 1233, in step_function\n      outputs = model.distribute_strategy.run(run_step, args=(data,))\n    File \"/opt/conda/lib/python3.10/site-packages/keras/engine/training.py\", line 1222, in run_step\n      outputs = model.train_step(data)\n    File \"/opt/conda/lib/python3.10/site-packages/keras/engine/training.py\", line 1027, in train_step\n      self.optimizer.minimize(loss, self.trainable_variables, tape=tape)\n    File \"/opt/conda/lib/python3.10/site-packages/keras/optimizers/optimizer_experimental/optimizer.py\", line 526, in minimize\n      grads_and_vars = self.compute_gradients(loss, var_list, tape)\n    File \"/opt/conda/lib/python3.10/site-packages/keras/optimizers/optimizer_experimental/optimizer.py\", line 259, in compute_gradients\n      grads = tape.gradient(loss, var_list)\nNode: 'gradient_tape/model_15/concatenate_23/ConcatOffset'\nAll dimensions except 1 must match. Input 1 has shape [1 64] and doesn't match input 0 with shape [2048 72].\n\t [[{{node gradient_tape/model_15/concatenate_23/ConcatOffset}}]] [Op:__inference_train_function_519601]",
     "output_type": "error",
     "traceback": [
      "\u001B[0;31m---------------------------------------------------------------------------\u001B[0m",
      "\u001B[0;31mInvalidArgumentError\u001B[0m                      Traceback (most recent call last)",
      "Cell \u001B[0;32mIn[127], line 11\u001B[0m\n\u001B[1;32m      5\u001B[0m optimizer \u001B[38;5;241m=\u001B[39m tf\u001B[38;5;241m.\u001B[39mkeras\u001B[38;5;241m.\u001B[39moptimizers\u001B[38;5;241m.\u001B[39mSGD(momentum\u001B[38;5;241m=\u001B[39m\u001B[38;5;241m0.9\u001B[39m)\n\u001B[1;32m      7\u001B[0m model\u001B[38;5;241m.\u001B[39mcompile(loss\u001B[38;5;241m=\u001B[39mtf\u001B[38;5;241m.\u001B[39mkeras\u001B[38;5;241m.\u001B[39mlosses\u001B[38;5;241m.\u001B[39mHuber(),\n\u001B[1;32m      8\u001B[0m               optimizer\u001B[38;5;241m=\u001B[39moptimizer,\n\u001B[1;32m      9\u001B[0m               metrics\u001B[38;5;241m=\u001B[39m[\u001B[38;5;124m\"\u001B[39m\u001B[38;5;124mmape\u001B[39m\u001B[38;5;124m\"\u001B[39m])\n\u001B[0;32m---> 11\u001B[0m history \u001B[38;5;241m=\u001B[39m \u001B[43mmodel\u001B[49m\u001B[38;5;241;43m.\u001B[39;49m\u001B[43mfit\u001B[49m\u001B[43m(\u001B[49m\u001B[43mtrain_sample\u001B[49m\u001B[43m,\u001B[49m\u001B[43m \u001B[49m\u001B[43mepochs\u001B[49m\u001B[38;5;241;43m=\u001B[39;49m\u001B[38;5;241;43m100\u001B[39;49m\u001B[43m,\u001B[49m\u001B[43m \u001B[49m\u001B[43mcallbacks\u001B[49m\u001B[38;5;241;43m=\u001B[39;49m\u001B[43m[\u001B[49m\u001B[43mlr_schedule\u001B[49m\u001B[43m]\u001B[49m\u001B[43m,\u001B[49m\u001B[43mvalidation_data\u001B[49m\u001B[43m \u001B[49m\u001B[38;5;241;43m=\u001B[39;49m\u001B[43m \u001B[49m\u001B[43mval_sample\u001B[49m\u001B[43m,\u001B[49m\u001B[43m \u001B[49m\u001B[43mverbose\u001B[49m\u001B[38;5;241;43m=\u001B[39;49m\u001B[38;5;241;43m2\u001B[39;49m\u001B[43m)\u001B[49m\n",
      "File \u001B[0;32m/opt/conda/lib/python3.10/site-packages/keras/utils/traceback_utils.py:70\u001B[0m, in \u001B[0;36mfilter_traceback.<locals>.error_handler\u001B[0;34m(*args, **kwargs)\u001B[0m\n\u001B[1;32m     67\u001B[0m     filtered_tb \u001B[38;5;241m=\u001B[39m _process_traceback_frames(e\u001B[38;5;241m.\u001B[39m__traceback__)\n\u001B[1;32m     68\u001B[0m     \u001B[38;5;66;03m# To get the full stack trace, call:\u001B[39;00m\n\u001B[1;32m     69\u001B[0m     \u001B[38;5;66;03m# `tf.debugging.disable_traceback_filtering()`\u001B[39;00m\n\u001B[0;32m---> 70\u001B[0m     \u001B[38;5;28;01mraise\u001B[39;00m e\u001B[38;5;241m.\u001B[39mwith_traceback(filtered_tb) \u001B[38;5;28;01mfrom\u001B[39;00m \u001B[38;5;28;01mNone\u001B[39;00m\n\u001B[1;32m     71\u001B[0m \u001B[38;5;28;01mfinally\u001B[39;00m:\n\u001B[1;32m     72\u001B[0m     \u001B[38;5;28;01mdel\u001B[39;00m filtered_tb\n",
      "File \u001B[0;32m/opt/conda/lib/python3.10/site-packages/tensorflow/python/eager/execute.py:52\u001B[0m, in \u001B[0;36mquick_execute\u001B[0;34m(op_name, num_outputs, inputs, attrs, ctx, name)\u001B[0m\n\u001B[1;32m     50\u001B[0m \u001B[38;5;28;01mtry\u001B[39;00m:\n\u001B[1;32m     51\u001B[0m   ctx\u001B[38;5;241m.\u001B[39mensure_initialized()\n\u001B[0;32m---> 52\u001B[0m   tensors \u001B[38;5;241m=\u001B[39m pywrap_tfe\u001B[38;5;241m.\u001B[39mTFE_Py_Execute(ctx\u001B[38;5;241m.\u001B[39m_handle, device_name, op_name,\n\u001B[1;32m     53\u001B[0m                                       inputs, attrs, num_outputs)\n\u001B[1;32m     54\u001B[0m \u001B[38;5;28;01mexcept\u001B[39;00m core\u001B[38;5;241m.\u001B[39m_NotOkStatusException \u001B[38;5;28;01mas\u001B[39;00m e:\n\u001B[1;32m     55\u001B[0m   \u001B[38;5;28;01mif\u001B[39;00m name \u001B[38;5;129;01mis\u001B[39;00m \u001B[38;5;129;01mnot\u001B[39;00m \u001B[38;5;28;01mNone\u001B[39;00m:\n",
      "\u001B[0;31mInvalidArgumentError\u001B[0m: Graph execution error:\n\nDetected at node 'gradient_tape/model_15/concatenate_23/ConcatOffset' defined at (most recent call last):\n    File \"/opt/conda/lib/python3.10/runpy.py\", line 196, in _run_module_as_main\n      return _run_code(code, main_globals, None,\n    File \"/opt/conda/lib/python3.10/runpy.py\", line 86, in _run_code\n      exec(code, run_globals)\n    File \"/opt/conda/lib/python3.10/site-packages/ipykernel_launcher.py\", line 17, in <module>\n      app.launch_new_instance()\n    File \"/opt/conda/lib/python3.10/site-packages/traitlets/config/application.py\", line 1043, in launch_instance\n      app.start()\n    File \"/opt/conda/lib/python3.10/site-packages/ipykernel/kernelapp.py\", line 725, in start\n      self.io_loop.start()\n    File \"/opt/conda/lib/python3.10/site-packages/tornado/platform/asyncio.py\", line 195, in start\n      self.asyncio_loop.run_forever()\n    File \"/opt/conda/lib/python3.10/asyncio/base_events.py\", line 603, in run_forever\n      self._run_once()\n    File \"/opt/conda/lib/python3.10/asyncio/base_events.py\", line 1909, in _run_once\n      handle._run()\n    File \"/opt/conda/lib/python3.10/asyncio/events.py\", line 80, in _run\n      self._context.run(self._callback, *self._args)\n    File \"/opt/conda/lib/python3.10/site-packages/ipykernel/kernelbase.py\", line 513, in dispatch_queue\n      await self.process_one()\n    File \"/opt/conda/lib/python3.10/site-packages/ipykernel/kernelbase.py\", line 502, in process_one\n      await dispatch(*args)\n    File \"/opt/conda/lib/python3.10/site-packages/ipykernel/kernelbase.py\", line 409, in dispatch_shell\n      await result\n    File \"/opt/conda/lib/python3.10/site-packages/ipykernel/kernelbase.py\", line 729, in execute_request\n      reply_content = await reply_content\n    File \"/opt/conda/lib/python3.10/site-packages/ipykernel/ipkernel.py\", line 422, in do_execute\n      res = shell.run_cell(\n    File \"/opt/conda/lib/python3.10/site-packages/ipykernel/zmqshell.py\", line 540, in run_cell\n      return super().run_cell(*args, **kwargs)\n    File \"/opt/conda/lib/python3.10/site-packages/IPython/core/interactiveshell.py\", line 3009, in run_cell\n      result = self._run_cell(\n    File \"/opt/conda/lib/python3.10/site-packages/IPython/core/interactiveshell.py\", line 3064, in _run_cell\n      result = runner(coro)\n    File \"/opt/conda/lib/python3.10/site-packages/IPython/core/async_helpers.py\", line 129, in _pseudo_sync_runner\n      coro.send(None)\n    File \"/opt/conda/lib/python3.10/site-packages/IPython/core/interactiveshell.py\", line 3269, in run_cell_async\n      has_raised = await self.run_ast_nodes(code_ast.body, cell_name,\n    File \"/opt/conda/lib/python3.10/site-packages/IPython/core/interactiveshell.py\", line 3448, in run_ast_nodes\n      if await self.run_code(code, result, async_=asy):\n    File \"/opt/conda/lib/python3.10/site-packages/IPython/core/interactiveshell.py\", line 3508, in run_code\n      exec(code_obj, self.user_global_ns, self.user_ns)\n    File \"/var/tmp/ipykernel_28633/658638554.py\", line 11, in <module>\n      history = model.fit(train_sample, epochs=100, callbacks=[lr_schedule],validation_data = val_sample, verbose=2)\n    File \"/opt/conda/lib/python3.10/site-packages/keras/utils/traceback_utils.py\", line 65, in error_handler\n      return fn(*args, **kwargs)\n    File \"/opt/conda/lib/python3.10/site-packages/keras/engine/training.py\", line 1650, in fit\n      tmp_logs = self.train_function(iterator)\n    File \"/opt/conda/lib/python3.10/site-packages/keras/engine/training.py\", line 1249, in train_function\n      return step_function(self, iterator)\n    File \"/opt/conda/lib/python3.10/site-packages/keras/engine/training.py\", line 1233, in step_function\n      outputs = model.distribute_strategy.run(run_step, args=(data,))\n    File \"/opt/conda/lib/python3.10/site-packages/keras/engine/training.py\", line 1222, in run_step\n      outputs = model.train_step(data)\n    File \"/opt/conda/lib/python3.10/site-packages/keras/engine/training.py\", line 1027, in train_step\n      self.optimizer.minimize(loss, self.trainable_variables, tape=tape)\n    File \"/opt/conda/lib/python3.10/site-packages/keras/optimizers/optimizer_experimental/optimizer.py\", line 526, in minimize\n      grads_and_vars = self.compute_gradients(loss, var_list, tape)\n    File \"/opt/conda/lib/python3.10/site-packages/keras/optimizers/optimizer_experimental/optimizer.py\", line 259, in compute_gradients\n      grads = tape.gradient(loss, var_list)\nNode: 'gradient_tape/model_15/concatenate_23/ConcatOffset'\nAll dimensions except 1 must match. Input 1 has shape [1 64] and doesn't match input 0 with shape [2048 72].\n\t [[{{node gradient_tape/model_15/concatenate_23/ConcatOffset}}]] [Op:__inference_train_function_519601]"
     ]
    }
   ],
   "source": [
    "#callback to tune the learning rate\n",
    "lr_schedule = tf.keras.callbacks.LearningRateScheduler(\n",
    "    lambda epoch: 1e-8 * 10**(epoch / 20))\n",
    "\n",
    "optimizer = tf.keras.optimizers.SGD(momentum=0.9)\n",
    "\n",
    "model.compile(loss=tf.keras.losses.Huber(),\n",
    "              optimizer=optimizer,\n",
    "              metrics=[\"mape\"])\n",
    "\n",
    "history = model.fit(train_sample, epochs=100, callbacks=[lr_schedule],validation_data = val_sample, verbose=2)\n"
   ],
   "metadata": {
    "id": "yaTRDm9_DpuL",
    "ExecuteTime": {
     "end_time": "2023-06-12T01:28:44.643311100Z",
     "start_time": "2023-06-12T01:28:40.628815800Z"
    }
   }
  },
  {
   "cell_type": "code",
   "execution_count": null,
   "outputs": [],
   "source": [
    "# Define the learning rate array\n",
    "lrs = 1e-8 * (10 ** (np.arange(100) / 20))\n",
    "\n",
    "# Set the figure size\n",
    "plt.figure(figsize=(10, 6))\n",
    "\n",
    "# Set the grid\n",
    "plt.grid(True)\n",
    "\n",
    "# Plot the loss in log scale\n",
    "plt.semilogx(lrs, history.history[\"loss\"])\n",
    "\n",
    "# Increase the tickmarks size\n",
    "plt.tick_params('both', length=10, width=1, which='both')\n",
    "plt.xlabel(\"Learning rate\")\n",
    "plt.ylabel(\"Loss\")\n"
   ],
   "metadata": {
    "id": "vJZTTjAfDpuL",
    "ExecuteTime": {
     "start_time": "2023-06-12T01:28:44.632307900Z"
    }
   }
  },
  {
   "cell_type": "markdown",
   "source": [
    "# Model Training"
   ],
   "metadata": {
    "collapsed": false,
    "id": "OdJmrXkkDpuM"
   }
  },
  {
   "cell_type": "markdown",
   "source": [
    "We found that the best learning rate is 10e-5 (or 1e-4)."
   ],
   "metadata": {
    "collapsed": false,
    "id": "XfikhMBkDpuM"
   }
  },
  {
   "cell_type": "code",
   "execution_count": null,
   "outputs": [],
   "source": [
    "#Reset the states generated by keras\n",
    "tf.keras.backend.clear_session()\n",
    "\n",
    "model = create_model()"
   ],
   "metadata": {
    "id": "3TzUUy2lDpuM"
   }
  },
  {
   "cell_type": "code",
   "execution_count": null,
   "outputs": [],
   "source": [
    "#set the learning rate\n",
    "learning_rate = 1e-4\n",
    "#set the optimizer\n",
    "optimizer = tf.keras.optimizers.Adam(learning_rate=learning_rate)\n",
    "\n",
    "#set the callback to stop the training if the validation loss doesn't improve\n",
    "callback = tf.keras.callbacks.EarlyStopping(patience=10, restore_best_weights=True)\n",
    "\n",
    "model.compile(loss=tf.keras.losses.Huber(),\n",
    "              optimizer=optimizer,\n",
    "              metrics=[\"mape\"])\n",
    "\n",
    "history = model.fit(train_set, epochs=500, validation_data = val_set, verbose=2, callbacks=[callback])"
   ],
   "metadata": {
    "id": "Ou9tWQPpDpuN"
   }
  },
  {
   "cell_type": "code",
   "execution_count": null,
   "outputs": [],
   "source": [
    "evaluation = model.evaluate(test_set)"
   ],
   "metadata": {
    "id": "ZE9ZwLS5DpuN"
   }
  },
  {
   "cell_type": "code",
   "execution_count": null,
   "outputs": [],
   "source": [],
   "metadata": {
    "id": "2JI6l44VDpuN"
   }
  }
 ],
 "metadata": {
  "kernelspec": {
   "name": "python3",
   "language": "python",
   "display_name": "Python 3 (ipykernel)"
  },
  "language_info": {
   "name": "python"
  },
  "colab": {
   "provenance": [],
   "machine_shape": "hm",
   "gpuType": "T4"
  },
  "accelerator": "TPU"
 },
 "nbformat": 4,
 "nbformat_minor": 0
}
