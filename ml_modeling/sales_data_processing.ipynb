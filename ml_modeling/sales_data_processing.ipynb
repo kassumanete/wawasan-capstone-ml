{
 "cells": [
  {
   "cell_type": "markdown",
   "source": [
    "# Data Modelling\n",
    "This is a notebook to experiment with the data modelling of the sales quantity data.\n",
    "This was done on a cloud instance so the file paths will be different if you are running this locally.\n",
    "Note that the dataset is also propiertary so it will not be included in this repository."
   ],
   "metadata": {
    "collapsed": false,
    "id": "rGIoBAPKP3fO"
   }
  },
  {
   "cell_type": "markdown",
   "source": [
    "# 1.Imports and Constants\n",
    "We will be using the following libraries:"
   ],
   "metadata": {
    "collapsed": false,
    "id": "volNP3ksP3fU"
   }
  },
  {
   "cell_type": "code",
   "execution_count": 1,
   "outputs": [
    {
     "name": "stderr",
     "output_type": "stream",
     "text": [
      "2023-06-12 01:56:27.253213: I tensorflow/core/platform/cpu_feature_guard.cc:193] This TensorFlow binary is optimized with oneAPI Deep Neural Network Library (oneDNN) to use the following CPU instructions in performance-critical operations:  AVX2 AVX512F FMA\n",
      "To enable them in other operations, rebuild TensorFlow with the appropriate compiler flags.\n",
      "2023-06-12 01:56:28.126265: W tensorflow/compiler/xla/stream_executor/platform/default/dso_loader.cc:64] Could not load dynamic library 'libnvinfer.so.7'; dlerror: libnvinfer.so.7: cannot open shared object file: No such file or directory; LD_LIBRARY_PATH: /usr/local/cuda/lib64:/usr/local/nccl2/lib:/usr/local/cuda/extras/CUPTI/lib64\n",
      "2023-06-12 01:56:28.126367: W tensorflow/compiler/xla/stream_executor/platform/default/dso_loader.cc:64] Could not load dynamic library 'libnvinfer_plugin.so.7'; dlerror: libnvinfer_plugin.so.7: cannot open shared object file: No such file or directory; LD_LIBRARY_PATH: /usr/local/cuda/lib64:/usr/local/nccl2/lib:/usr/local/cuda/extras/CUPTI/lib64\n",
      "2023-06-12 01:56:28.126376: W tensorflow/compiler/tf2tensorrt/utils/py_utils.cc:38] TF-TRT Warning: Cannot dlopen some TensorRT libraries. If you would like to use Nvidia GPU with TensorRT, please make sure the missing libraries mentioned above are installed properly.\n"
     ]
    }
   ],
   "source": [
    "import numpy as np\n",
    "import pandas as pd\n",
    "import matplotlib.pyplot as plt\n",
    "import tensorflow as tf"
   ],
   "metadata": {
    "id": "o1wVdUrPP3fV",
    "executionInfo": {
     "status": "ok",
     "timestamp": 1686533868111,
     "user_tz": -420,
     "elapsed": 3423,
     "user": {
      "displayName": "Muhammad Arief",
      "userId": "01585842397766244027"
     }
    },
    "ExecuteTime": {
     "end_time": "2023-06-12T01:56:28.147040400Z",
     "start_time": "2023-06-12T01:56:26.457726200Z"
    }
   }
  },
  {
   "cell_type": "code",
   "execution_count": 2,
   "outputs": [],
   "source": [
    "WINDOW = 20\n",
    "BATCH_SIZE = 2048\n",
    "BUFFER = 100000"
   ],
   "metadata": {
    "id": "gUnl9bQTP3fX",
    "executionInfo": {
     "status": "ok",
     "timestamp": 1686533868112,
     "user_tz": -420,
     "elapsed": 10,
     "user": {
      "displayName": "Muhammad Arief",
      "userId": "01585842397766244027"
     }
    },
    "ExecuteTime": {
     "end_time": "2023-06-12T01:56:28.151035500Z",
     "start_time": "2023-06-12T01:56:28.148042500Z"
    }
   }
  },
  {
   "cell_type": "markdown",
   "source": [
    "# Load data"
   ],
   "metadata": {
    "collapsed": false,
    "id": "naCHG3Y2P3fY"
   }
  },
  {
   "cell_type": "markdown",
   "source": [
    "The data is a csv extracted from an SQL database and cleaned. It contains the following columns:\n",
    "- **date:** The date of the sale\n",
    "- **item_code:** The code of the product sold\n",
    "- **quantity:** The quantity of the product sold on that day"
   ],
   "metadata": {
    "collapsed": false,
    "id": "Iw1O9ZhDP3fY"
   }
  },
  {
   "cell_type": "code",
   "execution_count": 3,
   "outputs": [],
   "source": [
    "from google.colab import drive\n",
    "drive.mount('/content/drive')\n",
    "# %pwd"
   ],
   "metadata": {
    "colab": {
     "base_uri": "https://localhost:8080/"
    },
    "id": "V6MlIlPbP3fZ",
    "executionInfo": {
     "status": "ok",
     "timestamp": 1686533884554,
     "user_tz": -420,
     "elapsed": 16451,
     "user": {
      "displayName": "Muhammad Arief",
      "userId": "01585842397766244027"
     }
    },
    "outputId": "ccc48f6e-c19f-45c0-cc64-d77c2d66ff01",
    "ExecuteTime": {
     "end_time": "2023-06-12T01:56:28.153036Z",
     "start_time": "2023-06-12T01:56:28.149050700Z"
    }
   }
  },
  {
   "cell_type": "code",
   "execution_count": 4,
   "outputs": [
    {
     "data": {
      "text/plain": "         date                  item_code  quantity\n0  2022-02-18  (90)NA18210500154(91)2403       1.0\n1  2022-02-19  (90)NA18210500154(91)2403       1.0\n2  2022-02-20  (90)NA18210500154(91)2403       1.0\n3  2022-03-03  (90)NA18210500154(91)2403       1.0\n4  2022-03-05  (90)NA18210500154(91)2403       1.0",
      "text/html": "<div>\n<style scoped>\n    .dataframe tbody tr th:only-of-type {\n        vertical-align: middle;\n    }\n\n    .dataframe tbody tr th {\n        vertical-align: top;\n    }\n\n    .dataframe thead th {\n        text-align: right;\n    }\n</style>\n<table border=\"1\" class=\"dataframe\">\n  <thead>\n    <tr style=\"text-align: right;\">\n      <th></th>\n      <th>date</th>\n      <th>item_code</th>\n      <th>quantity</th>\n    </tr>\n  </thead>\n  <tbody>\n    <tr>\n      <th>0</th>\n      <td>2022-02-18</td>\n      <td>(90)NA18210500154(91)2403</td>\n      <td>1.0</td>\n    </tr>\n    <tr>\n      <th>1</th>\n      <td>2022-02-19</td>\n      <td>(90)NA18210500154(91)2403</td>\n      <td>1.0</td>\n    </tr>\n    <tr>\n      <th>2</th>\n      <td>2022-02-20</td>\n      <td>(90)NA18210500154(91)2403</td>\n      <td>1.0</td>\n    </tr>\n    <tr>\n      <th>3</th>\n      <td>2022-03-03</td>\n      <td>(90)NA18210500154(91)2403</td>\n      <td>1.0</td>\n    </tr>\n    <tr>\n      <th>4</th>\n      <td>2022-03-05</td>\n      <td>(90)NA18210500154(91)2403</td>\n      <td>1.0</td>\n    </tr>\n  </tbody>\n</table>\n</div>"
     },
     "execution_count": 4,
     "metadata": {},
     "output_type": "execute_result"
    }
   ],
   "source": [
    "# filepath = 'sales_quantity.csv' #for local imports\n",
    "# filepath = '/home/jupyter/data/sales_quantity.csv' #vm-instance\n",
    "filepath = '/content/drive/MyDrive/Documents/uni_work/Bangkit2023/batch1/capstone/repo/ml_modeling/sales_quantity.csv' #colab\n",
    "data = pd.read_csv(filepath,names=['date','item_code','quantity'],\n",
    "                   dtype = {'item_code':str, 'quantity':np.float64},header = 0 )\n",
    "data.head()"
   ],
   "metadata": {
    "colab": {
     "base_uri": "https://localhost:8080/",
     "height": 206
    },
    "id": "XYb_1SAfP3fZ",
    "executionInfo": {
     "status": "ok",
     "timestamp": 1686533886734,
     "user_tz": -420,
     "elapsed": 2183,
     "user": {
      "displayName": "Muhammad Arief",
      "userId": "01585842397766244027"
     }
    },
    "outputId": "8f5dd8f5-8653-4b00-e546-48ab7d13eaa7",
    "ExecuteTime": {
     "end_time": "2023-06-12T01:56:28.415241Z",
     "start_time": "2023-06-12T01:56:28.174027400Z"
    }
   }
  },
  {
   "cell_type": "markdown",
   "source": [
    "# Transform data\n",
    "We need to change the data so that it has the following format for training:\n",
    "- **Input:** [*The tokenized item code, day, month, day of the week, day of the year, {A sequence of 20 days of sales data for a particular product}*]\n",
    "- **Output:** The quantity sold for that product in the following day\n",
    ">**Note:**\n",
    "    - *The tokenized item code is the index of the item code in the tokenizer's word index.*\n",
    "    - *The day component of the date is the day of the month.*\n",
    "    - *The month component of the date is the month of the year.*\n",
    "    - *The day of the week is a number between 0 and 6, where 0 is Monday and 6 is Sunday.*\n",
    "    - *The day of the year is a number between 1 and 365, where January 1st is 1 and December 31st is 365.*\n",
    "    - *The sequence of 20 days of sales data is the window size we will use for training the model. The data will be normalized*\n"
   ],
   "metadata": {
    "collapsed": false,
    "id": "vxpu3jyxP3fa"
   }
  },
  {
   "cell_type": "code",
   "execution_count": 5,
   "outputs": [],
   "source": [
    "#extract date features from date column\n",
    "data['date'] = pd.to_datetime(data['date'])\n",
    "data['year'] = data['date'].dt.year\n",
    "data['month'] = data['date'].dt.month\n",
    "data['day'] = data['date'].dt.day\n",
    "data['day_of_week'] = data['date'].dt.dayofweek\n",
    "data['day_of_year'] = data['date'].dt.dayofyear\n",
    "\n"
   ],
   "metadata": {
    "id": "qk0iqFIyP3fa",
    "executionInfo": {
     "status": "ok",
     "timestamp": 1686533887231,
     "user_tz": -420,
     "elapsed": 501,
     "user": {
      "displayName": "Muhammad Arief",
      "userId": "01585842397766244027"
     }
    },
    "ExecuteTime": {
     "end_time": "2023-06-12T01:56:28.853881600Z",
     "start_time": "2023-06-12T01:56:28.427235700Z"
    }
   }
  },
  {
   "cell_type": "markdown",
   "source": [
    "We need to create a wide dataframe with each item code as a column and the quantity sold for each day as the values."
   ],
   "metadata": {
    "collapsed": false,
    "id": "Na5a_P3FP3fb"
   }
  },
  {
   "cell_type": "code",
   "execution_count": 6,
   "outputs": [
    {
     "data": {
      "text/plain": "item_code       date  year  month  day  day_of_week  day_of_year  \\\n0         2022-01-03  2022      1    3            0            3   \n1         2022-01-04  2022      1    4            1            4   \n2         2022-01-05  2022      1    5            2            5   \n3         2022-01-06  2022      1    6            3            6   \n4         2022-01-07  2022      1    7            4            7   \n\nitem_code  (90)NA18210500154(91)2403  (90)NA18211207820(91)2410  00000001  \\\n0                                0.0                        0.0       0.0   \n1                                0.0                        0.0       0.0   \n2                                0.0                        0.0       0.0   \n3                                0.0                        0.0       0.0   \n4                                0.0                        0.0       0.0   \n\nitem_code  00000002  ...  CL000448327  CL000450943  COS LT  COSLT-228  \\\n0               0.0  ...          0.0          0.0     0.0        0.0   \n1               0.0  ...          0.0          0.0     0.0        0.0   \n2               0.0  ...          0.0          0.0     0.0        1.0   \n3               0.0  ...          0.0          0.0     0.0        0.0   \n4               0.0  ...          0.0          0.0     0.0        0.0   \n\nitem_code  EC0102190002  EC0102191301  EC0103190002  EC0106190101  MP-2203  \\\n0                   0.0           0.0           0.0           0.0      0.0   \n1                   0.0           0.0           0.0           0.0      0.0   \n2                   0.0           0.0           0.0           0.0      0.0   \n3                   0.0           0.0           0.0           0.0      0.0   \n4                   0.0           0.0           0.0           0.0      0.0   \n\nitem_code  SLM0958266  \n0                 0.0  \n1                 0.0  \n2                 0.0  \n3                 0.0  \n4                 0.0  \n\n[5 rows x 13937 columns]",
      "text/html": "<div>\n<style scoped>\n    .dataframe tbody tr th:only-of-type {\n        vertical-align: middle;\n    }\n\n    .dataframe tbody tr th {\n        vertical-align: top;\n    }\n\n    .dataframe thead th {\n        text-align: right;\n    }\n</style>\n<table border=\"1\" class=\"dataframe\">\n  <thead>\n    <tr style=\"text-align: right;\">\n      <th>item_code</th>\n      <th>date</th>\n      <th>year</th>\n      <th>month</th>\n      <th>day</th>\n      <th>day_of_week</th>\n      <th>day_of_year</th>\n      <th>(90)NA18210500154(91)2403</th>\n      <th>(90)NA18211207820(91)2410</th>\n      <th>00000001</th>\n      <th>00000002</th>\n      <th>...</th>\n      <th>CL000448327</th>\n      <th>CL000450943</th>\n      <th>COS LT</th>\n      <th>COSLT-228</th>\n      <th>EC0102190002</th>\n      <th>EC0102191301</th>\n      <th>EC0103190002</th>\n      <th>EC0106190101</th>\n      <th>MP-2203</th>\n      <th>SLM0958266</th>\n    </tr>\n  </thead>\n  <tbody>\n    <tr>\n      <th>0</th>\n      <td>2022-01-03</td>\n      <td>2022</td>\n      <td>1</td>\n      <td>3</td>\n      <td>0</td>\n      <td>3</td>\n      <td>0.0</td>\n      <td>0.0</td>\n      <td>0.0</td>\n      <td>0.0</td>\n      <td>...</td>\n      <td>0.0</td>\n      <td>0.0</td>\n      <td>0.0</td>\n      <td>0.0</td>\n      <td>0.0</td>\n      <td>0.0</td>\n      <td>0.0</td>\n      <td>0.0</td>\n      <td>0.0</td>\n      <td>0.0</td>\n    </tr>\n    <tr>\n      <th>1</th>\n      <td>2022-01-04</td>\n      <td>2022</td>\n      <td>1</td>\n      <td>4</td>\n      <td>1</td>\n      <td>4</td>\n      <td>0.0</td>\n      <td>0.0</td>\n      <td>0.0</td>\n      <td>0.0</td>\n      <td>...</td>\n      <td>0.0</td>\n      <td>0.0</td>\n      <td>0.0</td>\n      <td>0.0</td>\n      <td>0.0</td>\n      <td>0.0</td>\n      <td>0.0</td>\n      <td>0.0</td>\n      <td>0.0</td>\n      <td>0.0</td>\n    </tr>\n    <tr>\n      <th>2</th>\n      <td>2022-01-05</td>\n      <td>2022</td>\n      <td>1</td>\n      <td>5</td>\n      <td>2</td>\n      <td>5</td>\n      <td>0.0</td>\n      <td>0.0</td>\n      <td>0.0</td>\n      <td>0.0</td>\n      <td>...</td>\n      <td>0.0</td>\n      <td>0.0</td>\n      <td>0.0</td>\n      <td>1.0</td>\n      <td>0.0</td>\n      <td>0.0</td>\n      <td>0.0</td>\n      <td>0.0</td>\n      <td>0.0</td>\n      <td>0.0</td>\n    </tr>\n    <tr>\n      <th>3</th>\n      <td>2022-01-06</td>\n      <td>2022</td>\n      <td>1</td>\n      <td>6</td>\n      <td>3</td>\n      <td>6</td>\n      <td>0.0</td>\n      <td>0.0</td>\n      <td>0.0</td>\n      <td>0.0</td>\n      <td>...</td>\n      <td>0.0</td>\n      <td>0.0</td>\n      <td>0.0</td>\n      <td>0.0</td>\n      <td>0.0</td>\n      <td>0.0</td>\n      <td>0.0</td>\n      <td>0.0</td>\n      <td>0.0</td>\n      <td>0.0</td>\n    </tr>\n    <tr>\n      <th>4</th>\n      <td>2022-01-07</td>\n      <td>2022</td>\n      <td>1</td>\n      <td>7</td>\n      <td>4</td>\n      <td>7</td>\n      <td>0.0</td>\n      <td>0.0</td>\n      <td>0.0</td>\n      <td>0.0</td>\n      <td>...</td>\n      <td>0.0</td>\n      <td>0.0</td>\n      <td>0.0</td>\n      <td>0.0</td>\n      <td>0.0</td>\n      <td>0.0</td>\n      <td>0.0</td>\n      <td>0.0</td>\n      <td>0.0</td>\n      <td>0.0</td>\n    </tr>\n  </tbody>\n</table>\n<p>5 rows × 13937 columns</p>\n</div>"
     },
     "execution_count": 6,
     "metadata": {},
     "output_type": "execute_result"
    }
   ],
   "source": [
    "#stack dataframe based on item_code\n",
    "item_sales = data.groupby(['item_code','date','year','month','day','day_of_week','day_of_year'])['quantity'].sum().unstack(level=0)\n",
    "#turn each NaN value to 0\n",
    "item_sales = item_sales.sort_values('date')\n",
    "item_sales = item_sales.fillna(0)\n",
    "item_sales.reset_index(inplace=True)\n",
    "item_sales.head()"
   ],
   "metadata": {
    "colab": {
     "base_uri": "https://localhost:8080/",
     "height": 404
    },
    "id": "F7AeXq2nP3fb",
    "executionInfo": {
     "status": "ok",
     "timestamp": 1686533888015,
     "user_tz": -420,
     "elapsed": 786,
     "user": {
      "displayName": "Muhammad Arief",
      "userId": "01585842397766244027"
     }
    },
    "outputId": "159648fc-3152-440f-a7c7-7fbf74e4989f",
    "ExecuteTime": {
     "end_time": "2023-06-12T01:56:29.538901300Z",
     "start_time": "2023-06-12T01:56:28.878531100Z"
    }
   }
  },
  {
   "cell_type": "markdown",
   "source": [
    "## Prepare item code and dates\n",
    "Since the dataset will use date and item code feature as input, to create an array of item code mapped to every date value"
   ],
   "metadata": {
    "collapsed": false,
    "id": "YtNRBhlpP3fb"
   }
  },
  {
   "cell_type": "code",
   "execution_count": 7,
   "outputs": [
    {
     "name": "stdout",
     "output_type": "stream",
     "text": [
      "(13931,)\n"
     ]
    }
   ],
   "source": [
    "#prepare the list of item codes\n",
    "\n",
    "items = np.array(item_sales.columns[6:])\n",
    "total_items = items.shape[0]\n",
    "print(items.shape)"
   ],
   "metadata": {
    "colab": {
     "base_uri": "https://localhost:8080/"
    },
    "id": "OQRxvzHdP3fb",
    "executionInfo": {
     "status": "ok",
     "timestamp": 1686533888016,
     "user_tz": -420,
     "elapsed": 12,
     "user": {
      "displayName": "Muhammad Arief",
      "userId": "01585842397766244027"
     }
    },
    "outputId": "4112e120-103a-4c90-837b-d124acafac1a",
    "ExecuteTime": {
     "end_time": "2023-06-12T01:56:29.571903300Z",
     "start_time": "2023-06-12T01:56:29.528903Z"
    }
   }
  },
  {
   "cell_type": "code",
   "execution_count": 8,
   "outputs": [
    {
     "name": "stdout",
     "output_type": "stream",
     "text": [
      "(431, 4)\n"
     ]
    }
   ],
   "source": [
    "# prepare the array of date_related features, since we will be windowing these features\n",
    "# we ignore the first few ones\n",
    "\n",
    "dates = np.array(item_sales[['month','day','day_of_week','day_of_year']][WINDOW:])\n",
    "\n",
    "#normalize for cyclic feature\n",
    "\n",
    "dates = np.sin(dates) + np.cos(dates)\n",
    "total_dates = dates.shape[0]\n",
    "print(dates.shape)"
   ],
   "metadata": {
    "colab": {
     "base_uri": "https://localhost:8080/"
    },
    "id": "drMkz4LqP3fc",
    "executionInfo": {
     "status": "ok",
     "timestamp": 1686533888016,
     "user_tz": -420,
     "elapsed": 10,
     "user": {
      "displayName": "Muhammad Arief",
      "userId": "01585842397766244027"
     }
    },
    "outputId": "bf2a5324-2f40-414c-dfcb-d6b8b5b6a4f3",
    "ExecuteTime": {
     "end_time": "2023-06-12T01:56:29.571903300Z",
     "start_time": "2023-06-12T01:56:29.556918200Z"
    }
   }
  },
  {
   "cell_type": "markdown",
   "source": [
    "Create numpy arrays for each repeated item and dates for later joining."
   ],
   "metadata": {
    "collapsed": false,
    "id": "W94gxsYDP3fd"
   }
  },
  {
   "cell_type": "code",
   "execution_count": 9,
   "outputs": [
    {
     "name": "stdout",
     "output_type": "stream",
     "text": [
      "(6004261,)\n",
      "(6004261, 4)\n"
     ]
    }
   ],
   "source": [
    "repeated_items = items.repeat(total_dates)\n",
    "repeated_dates = dates.reshape(1,dates.shape[0],dates.shape[1]).repeat(total_items,axis=0).reshape(-1,4)\n",
    "\n",
    "print(repeated_items.shape)\n",
    "print(repeated_dates.shape)"
   ],
   "metadata": {
    "colab": {
     "base_uri": "https://localhost:8080/"
    },
    "id": "TXd5gwouP3fd",
    "executionInfo": {
     "status": "ok",
     "timestamp": 1686533888017,
     "user_tz": -420,
     "elapsed": 8,
     "user": {
      "displayName": "Muhammad Arief",
      "userId": "01585842397766244027"
     }
    },
    "outputId": "68611638-c31e-42d2-c9ee-890a6e4a155a",
    "ExecuteTime": {
     "end_time": "2023-06-12T01:56:29.748936300Z",
     "start_time": "2023-06-12T01:56:29.560913500Z"
    }
   }
  },
  {
   "cell_type": "markdown",
   "source": [
    "## Prepare the sales data to be windowed\n",
    "We need to create windows of the sales data corresponding to the dates. This will be used as input and output for the data later on."
   ],
   "metadata": {
    "collapsed": false,
    "id": "qpqb-6i9P3fd"
   }
  },
  {
   "cell_type": "code",
   "execution_count": 10,
   "outputs": [
    {
     "name": "stdout",
     "output_type": "stream",
     "text": [
      "Shape of windowed data (6004261, 21)\n",
      "Shape of windowed input (6004261, 20)\n",
      "Shape of target (6004261,)\n"
     ]
    }
   ],
   "source": [
    "#transpose the sales quantity so dates are columns\n",
    "sales_quantity = np.array(item_sales.iloc[:,6:]).T\n",
    "#create the windows\n",
    "windowed = np.lib.stride_tricks.sliding_window_view(sales_quantity, WINDOW+1, axis=-1).reshape(-1,WINDOW+1)\n",
    "print(f'Shape of windowed data {windowed.shape}')\n",
    "\n",
    "#seperate the input and target\n",
    "sales_input = windowed[:,:-1]\n",
    "target = windowed[:,-1]\n",
    "print(f'Shape of windowed input {sales_input.shape}')\n",
    "print(f'Shape of target {target.shape}')"
   ],
   "metadata": {
    "colab": {
     "base_uri": "https://localhost:8080/"
    },
    "id": "XeeqjL62P3fe",
    "executionInfo": {
     "status": "ok",
     "timestamp": 1686533888541,
     "user_tz": -420,
     "elapsed": 529,
     "user": {
      "displayName": "Muhammad Arief",
      "userId": "01585842397766244027"
     }
    },
    "outputId": "edf2d2aa-8454-46c3-f668-f5d8e5446888",
    "ExecuteTime": {
     "end_time": "2023-06-12T01:56:30.099944400Z",
     "start_time": "2023-06-12T01:56:29.652896300Z"
    }
   }
  },
  {
   "cell_type": "markdown",
   "source": [
    "## Normalization\n",
    "We need to normalize the input and output of the sales data.\n",
    "We can normalize the output in place while using a normalization layer to normalize the input\n",
    "\n"
   ],
   "metadata": {
    "collapsed": false,
    "id": "lE1JsHaiP3fe"
   }
  },
  {
   "cell_type": "code",
   "execution_count": 11,
   "outputs": [],
   "source": [
    "def create_normalization_layer(data):\n",
    "    \"\"\"\n",
    "    Create a normalization layer to normalize the input data.\n",
    "\n",
    "    Returns:\n",
    "        tf.keras.layers.Normalization: Normalization layer.\n",
    "    \"\"\"\n",
    "\n",
    "    # Create a normalization layer\n",
    "    normalization_layer = tf.keras.layers.Normalization()\n",
    "\n",
    "    # Fit the layer on the input data\n",
    "    normalization_layer.adapt(data)\n",
    "\n",
    "    return normalization_layer"
   ],
   "metadata": {
    "id": "2VHe65MHP3fe",
    "executionInfo": {
     "status": "ok",
     "timestamp": 1686533888542,
     "user_tz": -420,
     "elapsed": 5,
     "user": {
      "displayName": "Muhammad Arief",
      "userId": "01585842397766244027"
     }
    },
    "ExecuteTime": {
     "end_time": "2023-06-12T01:56:30.100953300Z",
     "start_time": "2023-06-12T01:56:30.097968300Z"
    }
   }
  },
  {
   "cell_type": "code",
   "execution_count": 12,
   "outputs": [
    {
     "name": "stderr",
     "output_type": "stream",
     "text": [
      "2023-06-12 01:56:32.812196: I tensorflow/compiler/xla/stream_executor/cuda/cuda_gpu_executor.cc:981] successful NUMA node read from SysFS had negative value (-1), but there must be at least one NUMA node, so returning NUMA node zero\n",
      "2023-06-12 01:56:32.824440: I tensorflow/compiler/xla/stream_executor/cuda/cuda_gpu_executor.cc:981] successful NUMA node read from SysFS had negative value (-1), but there must be at least one NUMA node, so returning NUMA node zero\n",
      "2023-06-12 01:56:32.826107: I tensorflow/compiler/xla/stream_executor/cuda/cuda_gpu_executor.cc:981] successful NUMA node read from SysFS had negative value (-1), but there must be at least one NUMA node, so returning NUMA node zero\n",
      "2023-06-12 01:56:32.828595: I tensorflow/core/platform/cpu_feature_guard.cc:193] This TensorFlow binary is optimized with oneAPI Deep Neural Network Library (oneDNN) to use the following CPU instructions in performance-critical operations:  AVX2 AVX512F FMA\n",
      "To enable them in other operations, rebuild TensorFlow with the appropriate compiler flags.\n",
      "2023-06-12 01:56:32.830609: I tensorflow/compiler/xla/stream_executor/cuda/cuda_gpu_executor.cc:981] successful NUMA node read from SysFS had negative value (-1), but there must be at least one NUMA node, so returning NUMA node zero\n",
      "2023-06-12 01:56:32.832277: I tensorflow/compiler/xla/stream_executor/cuda/cuda_gpu_executor.cc:981] successful NUMA node read from SysFS had negative value (-1), but there must be at least one NUMA node, so returning NUMA node zero\n",
      "2023-06-12 01:56:32.833892: I tensorflow/compiler/xla/stream_executor/cuda/cuda_gpu_executor.cc:981] successful NUMA node read from SysFS had negative value (-1), but there must be at least one NUMA node, so returning NUMA node zero\n",
      "2023-06-12 01:56:33.616191: I tensorflow/compiler/xla/stream_executor/cuda/cuda_gpu_executor.cc:981] successful NUMA node read from SysFS had negative value (-1), but there must be at least one NUMA node, so returning NUMA node zero\n",
      "2023-06-12 01:56:33.618112: I tensorflow/compiler/xla/stream_executor/cuda/cuda_gpu_executor.cc:981] successful NUMA node read from SysFS had negative value (-1), but there must be at least one NUMA node, so returning NUMA node zero\n",
      "2023-06-12 01:56:33.619783: I tensorflow/compiler/xla/stream_executor/cuda/cuda_gpu_executor.cc:981] successful NUMA node read from SysFS had negative value (-1), but there must be at least one NUMA node, so returning NUMA node zero\n",
      "2023-06-12 01:56:33.621392: I tensorflow/core/common_runtime/gpu/gpu_device.cc:1613] Created device /job:localhost/replica:0/task:0/device:GPU:0 with 13582 MB memory:  -> device: 0, name: Tesla T4, pci bus id: 0000:00:04.0, compute capability: 7.5\n"
     ]
    }
   ],
   "source": [
    "# Create a normalization layer for the input\n",
    "normalization_layer = create_normalization_layer(sales_input)\n",
    "\n",
    "# Normalize the output\n",
    "target_norm = np.linalg.norm(target)\n",
    "target = target/target_norm\n"
   ],
   "metadata": {
    "id": "KG5pDVt5P3ff",
    "executionInfo": {
     "status": "ok",
     "timestamp": 1686534044498,
     "user_tz": -420,
     "elapsed": 155961,
     "user": {
      "displayName": "Muhammad Arief",
      "userId": "01585842397766244027"
     }
    },
    "ExecuteTime": {
     "end_time": "2023-06-12T01:59:53.925906700Z",
     "start_time": "2023-06-12T01:56:30.101946400Z"
    }
   }
  },
  {
   "cell_type": "markdown",
   "source": [
    "Since we will be passing the item code as a feature to the model, we need to tokenize it.\n",
    "We use a helper function to create a tokenizer and fit it on the item codes.\n",
    "This will be also be used to later decode the predictions of the model."
   ],
   "metadata": {
    "collapsed": false,
    "id": "4Ir7k5HRP3ff"
   }
  },
  {
   "cell_type": "code",
   "execution_count": 13,
   "outputs": [
    {
     "name": "stdout",
     "output_type": "stream",
     "text": [
      "Tokenizer has 13932 tokens\n"
     ]
    }
   ],
   "source": [
    "# Create a tokenizer using item codes from item_sales dataframe columns\n",
    "vectorize_layer = tf.keras.layers.StringLookup(vocabulary=items)\n",
    "\n",
    "# Get the length of the tokenizer's word index\n",
    "tokenizer_word_count = vectorize_layer.vocabulary_size()\n",
    "print(f'Tokenizer has {tokenizer_word_count} tokens')"
   ],
   "metadata": {
    "colab": {
     "base_uri": "https://localhost:8080/"
    },
    "id": "Qi9t1Ao8P3fg",
    "executionInfo": {
     "status": "ok",
     "timestamp": 1686534044498,
     "user_tz": -420,
     "elapsed": 14,
     "user": {
      "displayName": "Muhammad Arief",
      "userId": "01585842397766244027"
     }
    },
    "outputId": "0c53b210-7ee3-4e28-8755-55074d068c39",
    "ExecuteTime": {
     "end_time": "2023-06-12T01:59:53.978971500Z",
     "start_time": "2023-06-12T01:59:53.929903900Z"
    }
   }
  },
  {
   "cell_type": "markdown",
   "source": [
    "## Splitting Data\n",
    "We split the data into training, validation and test sets. We use the first 80% of the data for training, the next 10% for validation and the last 10% for testing. The best way to do this is to use the most recent data for testing and validation since it is more representative of the future."
   ],
   "metadata": {
    "collapsed": false,
    "id": "l025Ku9KP3fg"
   }
  },
  {
   "cell_type": "code",
   "execution_count": 14,
   "outputs": [
    {
     "name": "stdout",
     "output_type": "stream",
     "text": [
      "Test: (612964, 1), (612964, 4), (612964, 20), (612964, 1)\n",
      "Validation: (599033, 1), (599033, 4), (599033, 20), (599033, 1)\n",
      "Train: (4792264, 1), (4792264, 4), (4792264, 20), (4792264, 1)\n"
     ]
    }
   ],
   "source": [
    "#split the data into train, validation and test sets\n",
    "train_split = int(0.8 * total_dates)\n",
    "val_split = int(0.9 * total_dates)\n",
    "\n",
    "#reshape the data to be 3D to easily extract the splits\n",
    "repeated_items = repeated_items.reshape(total_dates,-1,1)\n",
    "repeated_dates = repeated_dates.reshape(total_dates,-1,4)\n",
    "sales_input = sales_input.reshape(total_dates,-1,WINDOW)\n",
    "target = target.reshape(total_dates,-1,1)\n",
    "\n",
    "#split the data\n",
    "train_items = repeated_items[:train_split].reshape(-1,1)\n",
    "train_dates = repeated_dates[:train_split].reshape(-1,4)\n",
    "train_sales = sales_input[:train_split].reshape(-1,WINDOW)\n",
    "train_target = target[:train_split].reshape(-1,1)\n",
    "\n",
    "val_items = repeated_items[train_split:val_split].reshape(-1,1)\n",
    "val_dates = repeated_dates[train_split:val_split].reshape(-1,4)\n",
    "val_sales = sales_input[train_split:val_split].reshape(-1,WINDOW)\n",
    "val_target = target[train_split:val_split].reshape(-1,1)\n",
    "\n",
    "test_items = repeated_items[val_split:].reshape(-1,1)\n",
    "test_dates = repeated_dates[val_split:].reshape(-1,4)\n",
    "test_sales = sales_input[val_split:].reshape(-1,WINDOW)\n",
    "test_target = target[val_split:].reshape(-1,1)\n",
    "\n",
    "train_length = train_items.shape[0]\n",
    "val_length = val_items.shape[0]\n",
    "test_length = test_items.shape[0]\n",
    "\n",
    "#ensure all the splits are of the same shape\n",
    "print(f'Test: {test_items.shape}, {test_dates.shape}, {test_sales.shape}, {test_target.shape}')\n",
    "print(f'Validation: {val_items.shape}, {val_dates.shape}, {val_sales.shape}, {val_target.shape}')\n",
    "print(f'Train: {train_items.shape}, {train_dates.shape}, {train_sales.shape}, {train_target.shape}')"
   ],
   "metadata": {
    "colab": {
     "base_uri": "https://localhost:8080/"
    },
    "id": "KuWU_dUmP3fg",
    "executionInfo": {
     "status": "ok",
     "timestamp": 1686534044499,
     "user_tz": -420,
     "elapsed": 12,
     "user": {
      "displayName": "Muhammad Arief",
      "userId": "01585842397766244027"
     }
    },
    "outputId": "f3f44c38-b1a5-4e67-9cec-3bf5237b93f5",
    "ExecuteTime": {
     "end_time": "2023-06-12T01:59:53.980010300Z",
     "start_time": "2023-06-12T01:59:53.970010800Z"
    }
   }
  },
  {
   "cell_type": "code",
   "execution_count": 15,
   "outputs": [
    {
     "name": "stdout",
     "output_type": "stream",
     "text": [
      "Test: ((TensorSpec(shape=(1,), dtype=tf.int64, name=None), TensorSpec(shape=(4,), dtype=tf.float64, name=None), TensorSpec(shape=(20,), dtype=tf.float64, name=None)), TensorSpec(shape=(1,), dtype=tf.float64, name=None))\n",
      "Validation: ((TensorSpec(shape=(1,), dtype=tf.int64, name=None), TensorSpec(shape=(4,), dtype=tf.float64, name=None), TensorSpec(shape=(20,), dtype=tf.float64, name=None)), TensorSpec(shape=(1,), dtype=tf.float64, name=None))\n",
      "Train: ((TensorSpec(shape=(1,), dtype=tf.int64, name=None), TensorSpec(shape=(4,), dtype=tf.float64, name=None), TensorSpec(shape=(20,), dtype=tf.float64, name=None)), TensorSpec(shape=(1,), dtype=tf.float64, name=None))\n"
     ]
    }
   ],
   "source": [
    "#Turn each split into a tensorflow dataset\n",
    "train_dataset = tf.data.Dataset.from_tensor_slices(((vectorize_layer(train_items), train_dates, train_sales), train_target))\n",
    "val_dataset = tf.data.Dataset.from_tensor_slices(((vectorize_layer(val_items), val_dates, val_sales), val_target))\n",
    "test_dataset = tf.data.Dataset.from_tensor_slices(((vectorize_layer(test_items), test_dates, test_sales), test_target))\n",
    "#show the shapes of the datasets\n",
    "print(f'Test: {test_dataset.element_spec}')\n",
    "print(f'Validation: {val_dataset.element_spec}')\n",
    "print(f'Train: {train_dataset.element_spec}')"
   ],
   "metadata": {
    "colab": {
     "base_uri": "https://localhost:8080/"
    },
    "id": "l9u0kNpMP3fh",
    "executionInfo": {
     "status": "ok",
     "timestamp": 1686534045991,
     "user_tz": -420,
     "elapsed": 1498,
     "user": {
      "displayName": "Muhammad Arief",
      "userId": "01585842397766244027"
     }
    },
    "outputId": "2ee0531b-da96-4b6c-a01c-2409cb7091ac",
    "ExecuteTime": {
     "end_time": "2023-06-12T01:59:56.037592900Z",
     "start_time": "2023-06-12T01:59:53.976981300Z"
    }
   }
  },
  {
   "cell_type": "markdown",
   "source": [
    "# Model Analysis"
   ],
   "metadata": {
    "collapsed": false,
    "id": "Z3efqjVkP3fh"
   }
  },
  {
   "cell_type": "markdown",
   "source": [
    "## Model architecture\n",
    "Since we are using the different types of features each with their own importance we will not be using a Sequential model but attempt to use the keras Functional API to define the model."
   ],
   "metadata": {
    "id": "fMKgvaWeidpa"
   }
  },
  {
   "cell_type": "code",
   "execution_count": 16,
   "outputs": [],
   "source": [
    "def create_model(vectorizer, normalizer):\n",
    "    '''\n",
    "    Create a model using the keras Functional API.\n",
    "\n",
    "    :return: keras model\n",
    "    '''\n",
    "    #input layers\n",
    "    item_input = tf.keras.Input(shape=(1,), name='item_input')\n",
    "    date_input = tf.keras.Input(shape=(4,), name='date_input')\n",
    "    sales_input = tf.keras.Input(shape=(WINDOW,),name='sales_input')\n",
    "\n",
    "    #embedding layers\n",
    "    item_feature = tf.keras.layers.Embedding(vectorizer.vocabulary_size(), 64)(item_input)\n",
    "    item_feature = tf.keras.layers.Flatten()(item_feature)\n",
    "\n",
    "    #date layers\n",
    "    date_feature = tf.keras.layers.Dense(32, activation='relu')(date_input)\n",
    "    date_feature = tf.keras.layers.Dense(16, activation='relu')(date_feature)\n",
    "    date_feature = tf.keras.layers.Dense(8, activation='relu')(date_feature)\n",
    "\n",
    "    #sales layers\n",
    "    sales_feature = normalizer(sales_input)\n",
    "    sales_feature = tf.keras.layers.Reshape((20,1))(sales_feature)\n",
    "    sales_feature = tf.keras.layers.Conv1D(32, 3, activation='relu', input_shape=(WINDOW,1))(sales_feature)\n",
    "    sales_feature = tf.keras.layers.LSTM(64, return_sequences=True)(sales_feature)\n",
    "    sales_feature = tf.keras.layers.LSTM(64)(sales_feature)\n",
    "\n",
    "\n",
    "    #concatenate all layers\n",
    "    x = tf.keras.layers.Concatenate()([item_feature, date_feature])\n",
    "    x = tf.keras.layers.Concatenate()([x, sales_feature])\n",
    "    x = tf.keras.layers.Dense(64, activation='relu')(x)\n",
    "    x = tf.keras.layers.Dense(32, activation='relu')(x)\n",
    "    output = tf.keras.layers.Dense(1)(x)\n",
    "\n",
    "    #create the model\n",
    "    model = tf.keras.Model(inputs=[item_input, date_input, sales_input], outputs=output)\n",
    "\n",
    "    return model\n"
   ],
   "metadata": {
    "id": "pwFrHrfaP3fh",
    "executionInfo": {
     "status": "ok",
     "timestamp": 1686534668837,
     "user_tz": -420,
     "elapsed": 3,
     "user": {
      "displayName": "Muhammad Arief",
      "userId": "01585842397766244027"
     }
    },
    "ExecuteTime": {
     "end_time": "2023-06-12T01:59:56.044561900Z",
     "start_time": "2023-06-12T01:59:56.042562200Z"
    }
   }
  },
  {
   "cell_type": "markdown",
   "source": [
    "After preparing the dataset, we try to fine tune the learning rate of the algorithm.\n",
    "We only use a sample of the training set to speed up the process."
   ],
   "metadata": {
    "collapsed": false,
    "ExecuteTime": {
     "end_time": "2023-06-11T04:08:58.168373800Z",
     "start_time": "2023-06-11T04:08:58.124552200Z"
    },
    "id": "UQOjeOKDDpuK"
   }
  },
  {
   "cell_type": "code",
   "execution_count": 17,
   "outputs": [
    {
     "name": "stdout",
     "output_type": "stream",
     "text": [
      "Model: \"model\"\n",
      "__________________________________________________________________________________________________\n",
      " Layer (type)                   Output Shape         Param #     Connected to                     \n",
      "==================================================================================================\n",
      " sales_input (InputLayer)       [(None, 20)]         0           []                               \n",
      "                                                                                                  \n",
      " date_input (InputLayer)        [(None, 4)]          0           []                               \n",
      "                                                                                                  \n",
      " normalization (Normalization)  (None, 20)           41          ['sales_input[0][0]']            \n",
      "                                                                                                  \n",
      " item_input (InputLayer)        [(None, 1)]          0           []                               \n",
      "                                                                                                  \n",
      " dense (Dense)                  (None, 32)           160         ['date_input[0][0]']             \n",
      "                                                                                                  \n",
      " reshape (Reshape)              (None, 20, 1)        0           ['normalization[0][0]']          \n",
      "                                                                                                  \n",
      " embedding (Embedding)          (None, 1, 64)        891648      ['item_input[0][0]']             \n",
      "                                                                                                  \n",
      " dense_1 (Dense)                (None, 16)           528         ['dense[0][0]']                  \n",
      "                                                                                                  \n",
      " conv1d (Conv1D)                (None, 18, 32)       128         ['reshape[0][0]']                \n",
      "                                                                                                  \n",
      " flatten (Flatten)              (None, 64)           0           ['embedding[0][0]']              \n",
      "                                                                                                  \n",
      " dense_2 (Dense)                (None, 8)            136         ['dense_1[0][0]']                \n",
      "                                                                                                  \n",
      " lstm (LSTM)                    (None, 18, 64)       24832       ['conv1d[0][0]']                 \n",
      "                                                                                                  \n",
      " concatenate (Concatenate)      (None, 72)           0           ['flatten[0][0]',                \n",
      "                                                                  'dense_2[0][0]']                \n",
      "                                                                                                  \n",
      " lstm_1 (LSTM)                  (None, 64)           33024       ['lstm[0][0]']                   \n",
      "                                                                                                  \n",
      " concatenate_1 (Concatenate)    (None, 136)          0           ['concatenate[0][0]',            \n",
      "                                                                  'lstm_1[0][0]']                 \n",
      "                                                                                                  \n",
      " dense_3 (Dense)                (None, 64)           8768        ['concatenate_1[0][0]']          \n",
      "                                                                                                  \n",
      " dense_4 (Dense)                (None, 32)           2080        ['dense_3[0][0]']                \n",
      "                                                                                                  \n",
      " dense_5 (Dense)                (None, 1)            33          ['dense_4[0][0]']                \n",
      "                                                                                                  \n",
      "==================================================================================================\n",
      "Total params: 961,378\n",
      "Trainable params: 961,337\n",
      "Non-trainable params: 41\n",
      "__________________________________________________________________________________________________\n",
      "You must install pydot (`pip install pydot`) and install graphviz (see instructions at https://graphviz.gitlab.io/download/) for plot_model to work.\n"
     ]
    }
   ],
   "source": [
    "model = create_model(vectorize_layer, normalization_layer)\n",
    "model.summary()\n",
    "tf.keras.utils.plot_model(model)"
   ],
   "metadata": {
    "id": "s0KHTXKXDpuL",
    "colab": {
     "base_uri": "https://localhost:8080/",
     "height": 1000
    },
    "executionInfo": {
     "status": "ok",
     "timestamp": 1686534682576,
     "user_tz": -420,
     "elapsed": 1144,
     "user": {
      "displayName": "Muhammad Arief",
      "userId": "01585842397766244027"
     }
    },
    "outputId": "4e483c2d-68e4-4f44-bd68-45274d1bd6d5",
    "ExecuteTime": {
     "end_time": "2023-06-12T01:59:56.894436100Z",
     "start_time": "2023-06-12T01:59:56.047560Z"
    }
   }
  },
  {
   "cell_type": "code",
   "execution_count": 18,
   "outputs": [],
   "source": [
    "#take a sample of the training set\n",
    "train_sample = train_dataset.shuffle(BUFFER).batch(BATCH_SIZE).take(train_length//10).prefetch(1)\n",
    "val_sample = val_dataset.batch(BATCH_SIZE).take(val_length//10).prefetch(1)"
   ],
   "metadata": {
    "id": "u5G_Eu-OP3fi",
    "executionInfo": {
     "status": "ok",
     "timestamp": 1686534694876,
     "user_tz": -420,
     "elapsed": 295,
     "user": {
      "displayName": "Muhammad Arief",
      "userId": "01585842397766244027"
     }
    },
    "ExecuteTime": {
     "end_time": "2023-06-12T01:59:56.899429800Z",
     "start_time": "2023-06-12T01:59:56.893431900Z"
    }
   }
  },
  {
   "cell_type": "code",
   "execution_count": 20,
   "outputs": [
    {
     "name": "stdout",
     "output_type": "stream",
     "text": [
      "Epoch 1/100\n",
      "2340/2340 [==============================] - 44s 18ms/step - loss: 0.0012 - mae: 0.0412 - val_loss: 0.0011 - val_mae: 0.0399 - lr: 1.0000e-08\n",
      "Epoch 2/100\n",
      "2340/2340 [==============================] - 37s 16ms/step - loss: 0.0012 - mae: 0.0412 - val_loss: 0.0011 - val_mae: 0.0399 - lr: 1.1220e-08\n",
      "Epoch 3/100\n",
      "2340/2340 [==============================] - 37s 16ms/step - loss: 0.0012 - mae: 0.0411 - val_loss: 0.0011 - val_mae: 0.0399 - lr: 1.2589e-08\n",
      "Epoch 4/100\n",
      "2340/2340 [==============================] - 36s 15ms/step - loss: 0.0012 - mae: 0.0411 - val_loss: 0.0011 - val_mae: 0.0399 - lr: 1.4125e-08\n",
      "Epoch 5/100\n",
      "2340/2340 [==============================] - 36s 15ms/step - loss: 0.0012 - mae: 0.0411 - val_loss: 0.0011 - val_mae: 0.0398 - lr: 1.5849e-08\n",
      "Epoch 6/100\n",
      "2340/2340 [==============================] - 36s 15ms/step - loss: 0.0012 - mae: 0.0411 - val_loss: 0.0011 - val_mae: 0.0398 - lr: 1.7783e-08\n",
      "Epoch 7/100\n",
      "2340/2340 [==============================] - 36s 15ms/step - loss: 0.0012 - mae: 0.0410 - val_loss: 0.0011 - val_mae: 0.0398 - lr: 1.9953e-08\n",
      "Epoch 8/100\n",
      "2340/2340 [==============================] - 36s 15ms/step - loss: 0.0012 - mae: 0.0410 - val_loss: 0.0011 - val_mae: 0.0397 - lr: 2.2387e-08\n",
      "Epoch 9/100\n",
      "2340/2340 [==============================] - 36s 15ms/step - loss: 0.0012 - mae: 0.0409 - val_loss: 0.0011 - val_mae: 0.0397 - lr: 2.5119e-08\n",
      "Epoch 10/100\n",
      "2340/2340 [==============================] - 35s 15ms/step - loss: 0.0012 - mae: 0.0409 - val_loss: 0.0011 - val_mae: 0.0396 - lr: 2.8184e-08\n",
      "Epoch 11/100\n",
      "2340/2340 [==============================] - 36s 15ms/step - loss: 0.0012 - mae: 0.0408 - val_loss: 0.0011 - val_mae: 0.0396 - lr: 3.1623e-08\n",
      "Epoch 12/100\n",
      "2340/2340 [==============================] - 35s 15ms/step - loss: 0.0012 - mae: 0.0408 - val_loss: 0.0011 - val_mae: 0.0395 - lr: 3.5481e-08\n",
      "Epoch 13/100\n",
      "2340/2340 [==============================] - 35s 15ms/step - loss: 0.0011 - mae: 0.0407 - val_loss: 0.0011 - val_mae: 0.0395 - lr: 3.9811e-08\n",
      "Epoch 14/100\n",
      "2340/2340 [==============================] - 35s 15ms/step - loss: 0.0011 - mae: 0.0406 - val_loss: 0.0011 - val_mae: 0.0394 - lr: 4.4668e-08\n",
      "Epoch 15/100\n",
      "2340/2340 [==============================] - 35s 15ms/step - loss: 0.0011 - mae: 0.0405 - val_loss: 0.0011 - val_mae: 0.0393 - lr: 5.0119e-08\n",
      "Epoch 16/100\n",
      "2340/2340 [==============================] - 35s 15ms/step - loss: 0.0011 - mae: 0.0404 - val_loss: 0.0011 - val_mae: 0.0392 - lr: 5.6234e-08\n",
      "Epoch 17/100\n",
      "2340/2340 [==============================] - 35s 15ms/step - loss: 0.0011 - mae: 0.0403 - val_loss: 0.0011 - val_mae: 0.0391 - lr: 6.3096e-08\n",
      "Epoch 18/100\n",
      "2340/2340 [==============================] - 35s 15ms/step - loss: 0.0011 - mae: 0.0402 - val_loss: 0.0011 - val_mae: 0.0390 - lr: 7.0795e-08\n",
      "Epoch 19/100\n",
      "2340/2340 [==============================] - 34s 15ms/step - loss: 0.0011 - mae: 0.0401 - val_loss: 0.0011 - val_mae: 0.0388 - lr: 7.9433e-08\n",
      "Epoch 20/100\n",
      "2340/2340 [==============================] - 36s 15ms/step - loss: 0.0011 - mae: 0.0399 - val_loss: 0.0011 - val_mae: 0.0387 - lr: 8.9125e-08\n",
      "Epoch 21/100\n",
      "2340/2340 [==============================] - 36s 15ms/step - loss: 0.0011 - mae: 0.0398 - val_loss: 0.0010 - val_mae: 0.0385 - lr: 1.0000e-07\n",
      "Epoch 22/100\n",
      "2340/2340 [==============================] - 36s 15ms/step - loss: 0.0011 - mae: 0.0396 - val_loss: 0.0010 - val_mae: 0.0383 - lr: 1.1220e-07\n",
      "Epoch 23/100\n",
      "2340/2340 [==============================] - 35s 15ms/step - loss: 0.0011 - mae: 0.0394 - val_loss: 0.0010 - val_mae: 0.0381 - lr: 1.2589e-07\n",
      "Epoch 24/100\n",
      "2340/2340 [==============================] - 36s 15ms/step - loss: 0.0011 - mae: 0.0391 - val_loss: 0.0010 - val_mae: 0.0379 - lr: 1.4125e-07\n",
      "Epoch 25/100\n",
      "2340/2340 [==============================] - 36s 15ms/step - loss: 0.0011 - mae: 0.0389 - val_loss: 0.0010 - val_mae: 0.0376 - lr: 1.5849e-07\n",
      "Epoch 26/100\n",
      "2340/2340 [==============================] - 35s 15ms/step - loss: 0.0010 - mae: 0.0386 - val_loss: 9.9240e-04 - val_mae: 0.0373 - lr: 1.7783e-07\n",
      "Epoch 27/100\n",
      "2340/2340 [==============================] - 36s 15ms/step - loss: 0.0010 - mae: 0.0383 - val_loss: 9.7817e-04 - val_mae: 0.0370 - lr: 1.9953e-07\n",
      "Epoch 28/100\n",
      "2340/2340 [==============================] - 36s 15ms/step - loss: 0.0010 - mae: 0.0379 - val_loss: 9.6260e-04 - val_mae: 0.0367 - lr: 2.2387e-07\n",
      "Epoch 29/100\n",
      "2340/2340 [==============================] - 35s 15ms/step - loss: 0.0010 - mae: 0.0376 - val_loss: 9.4562e-04 - val_mae: 0.0363 - lr: 2.5119e-07\n",
      "Epoch 30/100\n",
      "2340/2340 [==============================] - 35s 15ms/step - loss: 9.8202e-04 - mae: 0.0372 - val_loss: 9.2717e-04 - val_mae: 0.0359 - lr: 2.8184e-07\n",
      "Epoch 31/100\n",
      "2340/2340 [==============================] - 35s 15ms/step - loss: 9.6155e-04 - mae: 0.0367 - val_loss: 9.0712e-04 - val_mae: 0.0355 - lr: 3.1623e-07\n",
      "Epoch 32/100\n",
      "2340/2340 [==============================] - 35s 15ms/step - loss: 9.3937e-04 - mae: 0.0362 - val_loss: 8.8546e-04 - val_mae: 0.0350 - lr: 3.5481e-07\n",
      "Epoch 33/100\n",
      "2340/2340 [==============================] - 35s 15ms/step - loss: 9.1546e-04 - mae: 0.0357 - val_loss: 8.6221e-04 - val_mae: 0.0345 - lr: 3.9811e-07\n",
      "Epoch 34/100\n",
      "2340/2340 [==============================] - 35s 15ms/step - loss: 8.8986e-04 - mae: 0.0351 - val_loss: 8.3743e-04 - val_mae: 0.0339 - lr: 4.4668e-07\n",
      "Epoch 35/100\n",
      "2340/2340 [==============================] - 35s 15ms/step - loss: 8.6261e-04 - mae: 0.0345 - val_loss: 8.1117e-04 - val_mae: 0.0333 - lr: 5.0119e-07\n",
      "Epoch 36/100\n",
      "2340/2340 [==============================] - 35s 15ms/step - loss: 8.3380e-04 - mae: 0.0338 - val_loss: 7.8354e-04 - val_mae: 0.0326 - lr: 5.6234e-07\n",
      "Epoch 37/100\n",
      "2340/2340 [==============================] - 35s 15ms/step - loss: 8.0354e-04 - mae: 0.0331 - val_loss: 7.5467e-04 - val_mae: 0.0320 - lr: 6.3096e-07\n",
      "Epoch 38/100\n",
      "2340/2340 [==============================] - 35s 15ms/step - loss: 7.7200e-04 - mae: 0.0324 - val_loss: 7.2475e-04 - val_mae: 0.0312 - lr: 7.0795e-07\n",
      "Epoch 39/100\n",
      "2340/2340 [==============================] - 35s 15ms/step - loss: 7.3940e-04 - mae: 0.0316 - val_loss: 6.9403e-04 - val_mae: 0.0305 - lr: 7.9433e-07\n",
      "Epoch 40/100\n",
      "2340/2340 [==============================] - 35s 15ms/step - loss: 7.0602e-04 - mae: 0.0308 - val_loss: 6.6283e-04 - val_mae: 0.0297 - lr: 8.9125e-07\n",
      "Epoch 41/100\n",
      "2340/2340 [==============================] - 35s 15ms/step - loss: 6.7225e-04 - mae: 0.0300 - val_loss: 6.3154e-04 - val_mae: 0.0290 - lr: 1.0000e-06\n",
      "Epoch 42/100\n",
      "2340/2340 [==============================] - 35s 15ms/step - loss: 6.3847e-04 - mae: 0.0291 - val_loss: 6.0054e-04 - val_mae: 0.0282 - lr: 1.1220e-06\n",
      "Epoch 43/100\n",
      "2340/2340 [==============================] - 35s 15ms/step - loss: 6.0512e-04 - mae: 0.0283 - val_loss: 5.7027e-04 - val_mae: 0.0274 - lr: 1.2589e-06\n",
      "Epoch 44/100\n",
      "2340/2340 [==============================] - 35s 15ms/step - loss: 5.7266e-04 - mae: 0.0275 - val_loss: 5.4117e-04 - val_mae: 0.0266 - lr: 1.4125e-06\n",
      "Epoch 45/100\n",
      "2340/2340 [==============================] - 35s 15ms/step - loss: 5.4157e-04 - mae: 0.0267 - val_loss: 5.1368e-04 - val_mae: 0.0259 - lr: 1.5849e-06\n",
      "Epoch 46/100\n",
      "2340/2340 [==============================] - 35s 15ms/step - loss: 5.1229e-04 - mae: 0.0259 - val_loss: 4.8817e-04 - val_mae: 0.0252 - lr: 1.7783e-06\n",
      "Epoch 47/100\n",
      "2340/2340 [==============================] - 35s 15ms/step - loss: 4.8518e-04 - mae: 0.0252 - val_loss: 4.6492e-04 - val_mae: 0.0246 - lr: 1.9953e-06\n",
      "Epoch 48/100\n",
      "2340/2340 [==============================] - 35s 15ms/step - loss: 4.6050e-04 - mae: 0.0245 - val_loss: 4.4410e-04 - val_mae: 0.0240 - lr: 2.2387e-06\n",
      "Epoch 49/100\n",
      "2340/2340 [==============================] - 36s 15ms/step - loss: 4.3839e-04 - mae: 0.0239 - val_loss: 4.2575e-04 - val_mae: 0.0235 - lr: 2.5119e-06\n",
      "Epoch 50/100\n",
      "2340/2340 [==============================] - 35s 15ms/step - loss: 4.1888e-04 - mae: 0.0233 - val_loss: 4.0978e-04 - val_mae: 0.0230 - lr: 2.8184e-06\n",
      "Epoch 51/100\n",
      "2340/2340 [==============================] - 36s 15ms/step - loss: 4.0185e-04 - mae: 0.0228 - val_loss: 3.9598e-04 - val_mae: 0.0226 - lr: 3.1623e-06\n",
      "Epoch 52/100\n",
      "2340/2340 [==============================] - 35s 15ms/step - loss: 3.8705e-04 - mae: 0.0223 - val_loss: 3.8402e-04 - val_mae: 0.0222 - lr: 3.5481e-06\n",
      "Epoch 53/100\n",
      "2340/2340 [==============================] - 35s 15ms/step - loss: 3.7413e-04 - mae: 0.0219 - val_loss: 3.7348e-04 - val_mae: 0.0219 - lr: 3.9811e-06\n",
      "Epoch 54/100\n",
      "2340/2340 [==============================] - 36s 15ms/step - loss: 3.6265e-04 - mae: 0.0216 - val_loss: 3.6389e-04 - val_mae: 0.0216 - lr: 4.4668e-06\n",
      "Epoch 55/100\n",
      "2340/2340 [==============================] - 35s 15ms/step - loss: 3.5218e-04 - mae: 0.0212 - val_loss: 3.5480e-04 - val_mae: 0.0213 - lr: 5.0119e-06\n",
      "Epoch 56/100\n",
      "2340/2340 [==============================] - 36s 15ms/step - loss: 3.4227e-04 - mae: 0.0209 - val_loss: 3.4581e-04 - val_mae: 0.0210 - lr: 5.6234e-06\n",
      "Epoch 57/100\n",
      "2340/2340 [==============================] - 35s 15ms/step - loss: 3.3255e-04 - mae: 0.0206 - val_loss: 3.3660e-04 - val_mae: 0.0207 - lr: 6.3096e-06\n",
      "Epoch 58/100\n",
      "2340/2340 [==============================] - 35s 15ms/step - loss: 3.2273e-04 - mae: 0.0203 - val_loss: 3.2696e-04 - val_mae: 0.0203 - lr: 7.0795e-06\n",
      "Epoch 59/100\n",
      "2340/2340 [==============================] - 35s 15ms/step - loss: 3.1260e-04 - mae: 0.0199 - val_loss: 3.1676e-04 - val_mae: 0.0200 - lr: 7.9433e-06\n",
      "Epoch 60/100\n",
      "2340/2340 [==============================] - 35s 15ms/step - loss: 3.0205e-04 - mae: 0.0196 - val_loss: 3.0595e-04 - val_mae: 0.0196 - lr: 8.9125e-06\n",
      "Epoch 61/100\n",
      "2340/2340 [==============================] - 34s 15ms/step - loss: 2.9101e-04 - mae: 0.0192 - val_loss: 2.9452e-04 - val_mae: 0.0192 - lr: 1.0000e-05\n",
      "Epoch 62/100\n",
      "2340/2340 [==============================] - 35s 15ms/step - loss: 2.7949e-04 - mae: 0.0188 - val_loss: 2.8255e-04 - val_mae: 0.0188 - lr: 1.1220e-05\n",
      "Epoch 63/100\n",
      "2340/2340 [==============================] - 35s 15ms/step - loss: 2.6756e-04 - mae: 0.0183 - val_loss: 2.7015e-04 - val_mae: 0.0184 - lr: 1.2589e-05\n",
      "Epoch 64/100\n",
      "2340/2340 [==============================] - 35s 15ms/step - loss: 2.5529e-04 - mae: 0.0179 - val_loss: 2.5745e-04 - val_mae: 0.0179 - lr: 1.4125e-05\n",
      "Epoch 65/100\n",
      "2340/2340 [==============================] - 35s 15ms/step - loss: 2.4281e-04 - mae: 0.0174 - val_loss: 2.4456e-04 - val_mae: 0.0174 - lr: 1.5849e-05\n",
      "Epoch 66/100\n",
      "2340/2340 [==============================] - 35s 15ms/step - loss: 2.3021e-04 - mae: 0.0169 - val_loss: 2.3161e-04 - val_mae: 0.0169 - lr: 1.7783e-05\n",
      "Epoch 67/100\n",
      "2340/2340 [==============================] - 35s 15ms/step - loss: 2.1762e-04 - mae: 0.0164 - val_loss: 2.1874e-04 - val_mae: 0.0164 - lr: 1.9953e-05\n",
      "Epoch 68/100\n",
      "2340/2340 [==============================] - 35s 15ms/step - loss: 2.0514e-04 - mae: 0.0159 - val_loss: 2.0605e-04 - val_mae: 0.0159 - lr: 2.2387e-05\n",
      "Epoch 69/100\n",
      "2340/2340 [==============================] - 34s 15ms/step - loss: 1.9290e-04 - mae: 0.0154 - val_loss: 1.9367e-04 - val_mae: 0.0154 - lr: 2.5119e-05\n",
      "Epoch 70/100\n",
      "2340/2340 [==============================] - 35s 15ms/step - loss: 1.8099e-04 - mae: 0.0149 - val_loss: 1.8170e-04 - val_mae: 0.0149 - lr: 2.8184e-05\n",
      "Epoch 71/100\n",
      "2340/2340 [==============================] - 35s 15ms/step - loss: 1.6950e-04 - mae: 0.0144 - val_loss: 1.7020e-04 - val_mae: 0.0144 - lr: 3.1623e-05\n",
      "Epoch 72/100\n",
      "2340/2340 [==============================] - 35s 15ms/step - loss: 1.5848e-04 - mae: 0.0139 - val_loss: 1.5924e-04 - val_mae: 0.0139 - lr: 3.5481e-05\n",
      "Epoch 73/100\n",
      "2340/2340 [==============================] - 34s 15ms/step - loss: 1.4796e-04 - mae: 0.0134 - val_loss: 1.4882e-04 - val_mae: 0.0134 - lr: 3.9811e-05\n",
      "Epoch 74/100\n",
      "2340/2340 [==============================] - 35s 15ms/step - loss: 1.3797e-04 - mae: 0.0129 - val_loss: 1.3895e-04 - val_mae: 0.0130 - lr: 4.4668e-05\n",
      "Epoch 75/100\n",
      "2340/2340 [==============================] - 36s 15ms/step - loss: 1.2851e-04 - mae: 0.0125 - val_loss: 1.2963e-04 - val_mae: 0.0125 - lr: 5.0119e-05\n",
      "Epoch 76/100\n",
      "2340/2340 [==============================] - 37s 16ms/step - loss: 1.1956e-04 - mae: 0.0120 - val_loss: 1.2083e-04 - val_mae: 0.0121 - lr: 5.6234e-05\n",
      "Epoch 77/100\n",
      "2340/2340 [==============================] - 37s 16ms/step - loss: 1.1111e-04 - mae: 0.0116 - val_loss: 1.1253e-04 - val_mae: 0.0116 - lr: 6.3096e-05\n",
      "Epoch 78/100\n",
      "2340/2340 [==============================] - 40s 17ms/step - loss: 1.0313e-04 - mae: 0.0111 - val_loss: 1.0468e-04 - val_mae: 0.0112 - lr: 7.0795e-05\n",
      "Epoch 79/100\n",
      "2340/2340 [==============================] - 35s 15ms/step - loss: 9.5599e-05 - mae: 0.0107 - val_loss: 9.7272e-05 - val_mae: 0.0108 - lr: 7.9433e-05\n",
      "Epoch 80/100\n",
      "2340/2340 [==============================] - 37s 16ms/step - loss: 8.8504e-05 - mae: 0.0103 - val_loss: 9.0285e-05 - val_mae: 0.0103 - lr: 8.9125e-05\n",
      "Epoch 81/100\n",
      "2340/2340 [==============================] - 35s 15ms/step - loss: 8.1826e-05 - mae: 0.0099 - val_loss: 8.3705e-05 - val_mae: 0.0099 - lr: 1.0000e-04\n",
      "Epoch 82/100\n",
      "2340/2340 [==============================] - 36s 15ms/step - loss: 7.5562e-05 - mae: 0.0095 - val_loss: 7.7525e-05 - val_mae: 0.0095 - lr: 1.1220e-04\n",
      "Epoch 83/100\n",
      "2340/2340 [==============================] - 35s 15ms/step - loss: 6.9714e-05 - mae: 0.0091 - val_loss: 7.1743e-05 - val_mae: 0.0092 - lr: 1.2589e-04\n",
      "Epoch 84/100\n",
      "2340/2340 [==============================] - 36s 15ms/step - loss: 6.4275e-05 - mae: 0.0087 - val_loss: 6.6347e-05 - val_mae: 0.0088 - lr: 1.4125e-04\n",
      "Epoch 85/100\n",
      "2340/2340 [==============================] - 35s 15ms/step - loss: 5.9233e-05 - mae: 0.0083 - val_loss: 6.1329e-05 - val_mae: 0.0084 - lr: 1.5849e-04\n",
      "Epoch 86/100\n",
      "2340/2340 [==============================] - 36s 15ms/step - loss: 5.4577e-05 - mae: 0.0080 - val_loss: 5.6671e-05 - val_mae: 0.0081 - lr: 1.7783e-04\n",
      "Epoch 87/100\n",
      "2340/2340 [==============================] - 35s 15ms/step - loss: 5.0283e-05 - mae: 0.0077 - val_loss: 5.2359e-05 - val_mae: 0.0078 - lr: 1.9953e-04\n",
      "Epoch 88/100\n",
      "2340/2340 [==============================] - 36s 15ms/step - loss: 4.6329e-05 - mae: 0.0074 - val_loss: 4.8373e-05 - val_mae: 0.0075 - lr: 2.2387e-04\n",
      "Epoch 89/100\n",
      "2340/2340 [==============================] - 35s 15ms/step - loss: 4.2692e-05 - mae: 0.0071 - val_loss: 4.4690e-05 - val_mae: 0.0072 - lr: 2.5119e-04\n",
      "Epoch 90/100\n",
      "2340/2340 [==============================] - 36s 15ms/step - loss: 3.9343e-05 - mae: 0.0068 - val_loss: 4.1277e-05 - val_mae: 0.0069 - lr: 2.8184e-04\n",
      "Epoch 91/100\n",
      "2340/2340 [==============================] - 36s 15ms/step - loss: 3.6251e-05 - mae: 0.0065 - val_loss: 3.8108e-05 - val_mae: 0.0066 - lr: 3.1623e-04\n",
      "Epoch 92/100\n",
      "2340/2340 [==============================] - 36s 15ms/step - loss: 3.3384e-05 - mae: 0.0062 - val_loss: 3.5154e-05 - val_mae: 0.0063 - lr: 3.5481e-04\n",
      "Epoch 93/100\n",
      "2340/2340 [==============================] - 35s 15ms/step - loss: 3.0709e-05 - mae: 0.0060 - val_loss: 3.2381e-05 - val_mae: 0.0061 - lr: 3.9811e-04\n",
      "Epoch 94/100\n",
      "2340/2340 [==============================] - 35s 15ms/step - loss: 2.8190e-05 - mae: 0.0057 - val_loss: 2.9759e-05 - val_mae: 0.0058 - lr: 4.4668e-04\n",
      "Epoch 95/100\n",
      "2340/2340 [==============================] - 35s 15ms/step - loss: 2.5798e-05 - mae: 0.0054 - val_loss: 2.7252e-05 - val_mae: 0.0055 - lr: 5.0119e-04\n",
      "Epoch 96/100\n",
      "2340/2340 [==============================] - 35s 15ms/step - loss: 2.3508e-05 - mae: 0.0052 - val_loss: 2.4842e-05 - val_mae: 0.0053 - lr: 5.6234e-04\n",
      "Epoch 97/100\n",
      "2340/2340 [==============================] - 35s 15ms/step - loss: 2.1307e-05 - mae: 0.0049 - val_loss: 2.2522e-05 - val_mae: 0.0050 - lr: 6.3096e-04\n",
      "Epoch 98/100\n",
      "2340/2340 [==============================] - 35s 15ms/step - loss: 1.9203e-05 - mae: 0.0046 - val_loss: 2.0314e-05 - val_mae: 0.0047 - lr: 7.0795e-04\n",
      "Epoch 99/100\n",
      "2340/2340 [==============================] - 35s 15ms/step - loss: 1.7217e-05 - mae: 0.0044 - val_loss: 1.8238e-05 - val_mae: 0.0044 - lr: 7.9433e-04\n",
      "Epoch 100/100\n",
      "2340/2340 [==============================] - 35s 15ms/step - loss: 1.5360e-05 - mae: 0.0041 - val_loss: 1.6307e-05 - val_mae: 0.0042 - lr: 8.9125e-04\n"
     ]
    }
   ],
   "source": [
    "#callback to tune the learning rate\n",
    "lr_schedule = tf.keras.callbacks.LearningRateScheduler(\n",
    "    lambda epoch: 1e-8 * 10**(epoch / 20))\n",
    "\n",
    "optimizer = tf.keras.optimizers.SGD(momentum=0.9)\n",
    "\n",
    "model.compile(loss=tf.keras.losses.Huber(),\n",
    "              optimizer=optimizer,\n",
    "              metrics=[\"mape\"])\n",
    "\n",
    "history = model.fit(train_sample, epochs=100, callbacks=[lr_schedule],validation_data = val_sample, verbose=1)\n"
   ],
   "metadata": {
    "id": "yaTRDm9_DpuL",
    "colab": {
     "base_uri": "https://localhost:8080/",
     "height": 380
    },
    "executionInfo": {
     "status": "error",
     "timestamp": 1686534850109,
     "user_tz": -420,
     "elapsed": 28478,
     "user": {
      "displayName": "Muhammad Arief",
      "userId": "01585842397766244027"
     }
    },
    "outputId": "3f3cb821-6cb3-4e70-8391-fa9f494bb0d0",
    "ExecuteTime": {
     "end_time": "2023-06-12T03:02:23.333925100Z",
     "start_time": "2023-06-12T02:03:22.418874100Z"
    }
   }
  },
  {
   "cell_type": "code",
   "execution_count": 21,
   "outputs": [
    {
     "data": {
      "text/plain": "Text(0, 0.5, 'Loss')"
     },
     "execution_count": 21,
     "metadata": {},
     "output_type": "execute_result"
    },
    {
     "data": {
      "text/plain": "<Figure size 1000x600 with 1 Axes>",
      "image/png": "[encoded data removed]"
     },
     "metadata": {},
     "output_type": "display_data"
    }
   ],
   "source": [
    "# Define the learning rate array\n",
    "lrs = 1e-8 * (10 ** (np.arange(100) / 20))\n",
    "\n",
    "# Set the figure size\n",
    "plt.figure(figsize=(10, 6))\n",
    "\n",
    "# Set the grid\n",
    "plt.grid(True)\n",
    "\n",
    "# Plot the loss in log scale\n",
    "plt.semilogx(lrs, history.history[\"loss\"])\n",
    "\n",
    "# Increase the tickmarks size\n",
    "plt.tick_params('both', length=10, width=1, which='both')\n",
    "plt.xlabel(\"Learning rate\")\n",
    "plt.ylabel(\"Loss\")\n"
   ],
   "metadata": {
    "id": "vJZTTjAfDpuL",
    "executionInfo": {
     "status": "aborted",
     "timestamp": 1686534046303,
     "user_tz": -420,
     "elapsed": 11,
     "user": {
      "displayName": "Muhammad Arief",
      "userId": "01585842397766244027"
     }
    },
    "ExecuteTime": {
     "end_time": "2023-06-12T03:04:45.508273Z",
     "start_time": "2023-06-12T03:04:44.577030600Z"
    }
   }
  },
  {
   "cell_type": "markdown",
   "source": [
    "# Model Training"
   ],
   "metadata": {
    "collapsed": false,
    "id": "OdJmrXkkDpuM"
   }
  },
  {
   "cell_type": "markdown",
   "source": [
    "We found that the best learning rate is 10e-5 (or 1e-4)."
   ],
   "metadata": {
    "collapsed": false,
    "id": "XfikhMBkDpuM"
   }
  },
  {
   "cell_type": "code",
   "execution_count": 22,
   "outputs": [
    {
     "ename": "TypeError",
     "evalue": "create_model() missing 2 required positional arguments: 'vectorizer' and 'normalizer'",
     "output_type": "error",
     "traceback": [
      "\u001B[0;31m---------------------------------------------------------------------------\u001B[0m",
      "\u001B[0;31mTypeError\u001B[0m                                 Traceback (most recent call last)",
      "Cell \u001B[0;32mIn[22], line 4\u001B[0m\n\u001B[1;32m      1\u001B[0m \u001B[38;5;66;03m#Reset the states generated by keras\u001B[39;00m\n\u001B[1;32m      2\u001B[0m tf\u001B[38;5;241m.\u001B[39mkeras\u001B[38;5;241m.\u001B[39mbackend\u001B[38;5;241m.\u001B[39mclear_session()\n\u001B[0;32m----> 4\u001B[0m model \u001B[38;5;241m=\u001B[39m \u001B[43mcreate_model\u001B[49m\u001B[43m(\u001B[49m\u001B[43m)\u001B[49m\n",
      "\u001B[0;31mTypeError\u001B[0m: create_model() missing 2 required positional arguments: 'vectorizer' and 'normalizer'"
     ]
    }
   ],
   "source": [
    "#Reset the states generated by keras\n",
    "tf.keras.backend.clear_session()\n",
    "\n",
    "model = create_model()"
   ],
   "metadata": {
    "id": "3TzUUy2lDpuM",
    "executionInfo": {
     "status": "aborted",
     "timestamp": 1686534046303,
     "user_tz": -420,
     "elapsed": 11,
     "user": {
      "displayName": "Muhammad Arief",
      "userId": "01585842397766244027"
     }
    },
    "ExecuteTime": {
     "end_time": "2023-06-12T03:11:07.937984600Z",
     "start_time": "2023-06-12T03:11:07.886998700Z"
    }
   }
  },
  {
   "cell_type": "code",
   "execution_count": null,
   "outputs": [],
   "source": [
    "#set the learning rate\n",
    "learning_rate = 1e-4\n",
    "#set the optimizer\n",
    "optimizer = tf.keras.optimizers.Adam(learning_rate=learning_rate)\n",
    "\n",
    "#set the callback to stop the training if the validation loss doesn't improve\n",
    "callback = tf.keras.callbacks.EarlyStopping(patience=10, restore_best_weights=True)\n",
    "\n",
    "model.compile(loss=tf.keras.losses.Huber(),\n",
    "              optimizer=optimizer,\n",
    "              metrics=[\"mape\"])\n",
    "\n",
    "history = model.fit(train_set, epochs=500, validation_data = val_set, verbose=2, callbacks=[callback])"
   ],
   "metadata": {
    "id": "Ou9tWQPpDpuN",
    "executionInfo": {
     "status": "aborted",
     "timestamp": 1686534046304,
     "user_tz": -420,
     "elapsed": 11,
     "user": {
      "displayName": "Muhammad Arief",
      "userId": "01585842397766244027"
     }
    }
   }
  },
  {
   "cell_type": "code",
   "execution_count": null,
   "outputs": [],
   "source": [
    "evaluation = model.evaluate(test_set)"
   ],
   "metadata": {
    "id": "ZE9ZwLS5DpuN",
    "executionInfo": {
     "status": "aborted",
     "timestamp": 1686534046304,
     "user_tz": -420,
     "elapsed": 11,
     "user": {
      "displayName": "Muhammad Arief",
      "userId": "01585842397766244027"
     }
    }
   }
  },
  {
   "cell_type": "code",
   "execution_count": null,
   "outputs": [],
   "source": [],
   "metadata": {
    "id": "2JI6l44VDpuN",
    "executionInfo": {
     "status": "aborted",
     "timestamp": 1686534046305,
     "user_tz": -420,
     "elapsed": 11,
     "user": {
      "displayName": "Muhammad Arief",
      "userId": "01585842397766244027"
     }
    }
   }
  }
 ],
 "metadata": {
  "kernelspec": {
   "name": "python3",
   "language": "python",
   "display_name": "Python 3 (ipykernel)"
  },
  "language_info": {
   "name": "python"
  },
  "colab": {
   "provenance": [],
   "machine_shape": "hm",
   "gpuType": "T4"
  },
  "accelerator": "TPU"
 },
 "nbformat": 4,
 "nbformat_minor": 0
}
