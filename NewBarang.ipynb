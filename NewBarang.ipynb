{
 "cells": [
  {
   "cell_type": "code",
   "execution_count": 1,
   "metadata": {},
   "outputs": [],
   "source": [
    "import numpy as np # linear algebra\n",
    "import pandas as pd # data processing, CSV file I/O (e.g. pd.read_csv)\n",
    "import matplotlib.pyplot as plt\n",
    "import datetime"
   ]
  },
  {
   "cell_type": "code",
   "execution_count": 2,
   "metadata": {},
   "outputs": [
    {
     "name": "stderr",
     "output_type": "stream",
     "text": [
      "C:\\Users\\HP\\AppData\\Local\\Temp\\ipykernel_32340\\2442242761.py:2: DtypeWarning: Columns (0) have mixed types. Specify dtype option on import or set low_memory=False.\n",
      "  df1 = pd.read_csv('Data/cleanData/BarangHistory.csv')\n",
      "C:\\Users\\HP\\AppData\\Local\\Temp\\ipykernel_32340\\2442242761.py:6: DtypeWarning: Columns (3,4,7,20,41,43) have mixed types. Specify dtype option on import or set low_memory=False.\n",
      "  df5 = pd.read_csv('Data/cleanData/penjualan.csv')\n"
     ]
    }
   ],
   "source": [
    "# read dataFrame\n",
    "df1 = pd.read_csv('Data/cleanData/BarangHistory.csv')\n",
    "df2 = pd.read_csv('Data/cleanData/ItemPenjualan.csv')\n",
    "df3 = pd.read_csv('Data/cleanData/ItemPembelian.csv')\n",
    "df4 = pd.read_csv('Data/cleanData/pembelian.csv') \n",
    "df5 = pd.read_csv('Data/cleanData/penjualan.csv')"
   ]
  },
  {
   "cell_type": "code",
   "execution_count": 3,
   "metadata": {},
   "outputs": [
    {
     "data": {
      "text/html": [
       "<div>\n",
       "<style scoped>\n",
       "    .dataframe tbody tr th:only-of-type {\n",
       "        vertical-align: middle;\n",
       "    }\n",
       "\n",
       "    .dataframe tbody tr th {\n",
       "        vertical-align: top;\n",
       "    }\n",
       "\n",
       "    .dataframe thead th {\n",
       "        text-align: right;\n",
       "    }\n",
       "</style>\n",
       "<table border=\"1\" class=\"dataframe\">\n",
       "  <thead>\n",
       "    <tr style=\"text-align: right;\">\n",
       "      <th></th>\n",
       "      <th>kode</th>\n",
       "      <th>nama</th>\n",
       "      <th>kategori</th>\n",
       "      <th>golongan</th>\n",
       "      <th>toko</th>\n",
       "      <th>gudang</th>\n",
       "      <th>hpp</th>\n",
       "      <th>harga_toko</th>\n",
       "      <th>kode_barcode</th>\n",
       "      <th>supplier</th>\n",
       "      <th>date</th>\n",
       "    </tr>\n",
       "  </thead>\n",
       "  <tbody>\n",
       "    <tr>\n",
       "      <th>0</th>\n",
       "      <td>00000879</td>\n",
       "      <td>Socolatte Choc.Original Drink 450g</td>\n",
       "      <td>Minuman Bubuk</td>\n",
       "      <td>Bubuk</td>\n",
       "      <td>4</td>\n",
       "      <td>0</td>\n",
       "      <td>42000.00</td>\n",
       "      <td>46500</td>\n",
       "      <td>00000879</td>\n",
       "      <td>SC</td>\n",
       "      <td>2022-05-05</td>\n",
       "    </tr>\n",
       "    <tr>\n",
       "      <th>1</th>\n",
       "      <td>749921011121</td>\n",
       "      <td>NutriSari 10x14gr MaduJeruk</td>\n",
       "      <td>Minuman Bubuk</td>\n",
       "      <td>Bubuk</td>\n",
       "      <td>3</td>\n",
       "      <td>0</td>\n",
       "      <td>10230.00</td>\n",
       "      <td>11500</td>\n",
       "      <td>749921011121</td>\n",
       "      <td>MBS</td>\n",
       "      <td>2022-02-10</td>\n",
       "    </tr>\n",
       "    <tr>\n",
       "      <th>2</th>\n",
       "      <td>8993365121539</td>\n",
       "      <td>Madu TJ 150g Super</td>\n",
       "      <td>Madu</td>\n",
       "      <td>NaN</td>\n",
       "      <td>12</td>\n",
       "      <td>0</td>\n",
       "      <td>18000.00</td>\n",
       "      <td>20700</td>\n",
       "      <td>8993365121539</td>\n",
       "      <td>HERI</td>\n",
       "      <td>2022-12-06</td>\n",
       "    </tr>\n",
       "    <tr>\n",
       "      <th>3</th>\n",
       "      <td>00002015</td>\n",
       "      <td>Luxury Regulator GRL-2D</td>\n",
       "      <td>Gas</td>\n",
       "      <td>Regulator</td>\n",
       "      <td>0</td>\n",
       "      <td>0</td>\n",
       "      <td>35000.00</td>\n",
       "      <td>42500</td>\n",
       "      <td>00002015</td>\n",
       "      <td>SP</td>\n",
       "      <td>2022-06-01</td>\n",
       "    </tr>\n",
       "    <tr>\n",
       "      <th>4</th>\n",
       "      <td>8853301550017</td>\n",
       "      <td>Whiskas 85gr 1+ Tuna</td>\n",
       "      <td>Pet Stuff</td>\n",
       "      <td>NaN</td>\n",
       "      <td>21</td>\n",
       "      <td>0</td>\n",
       "      <td>6004.17</td>\n",
       "      <td>6700</td>\n",
       "      <td>8853301550017</td>\n",
       "      <td>RAHMAT</td>\n",
       "      <td>2022-06-02</td>\n",
       "    </tr>\n",
       "  </tbody>\n",
       "</table>\n",
       "</div>"
      ],
      "text/plain": [
       "            kode                                nama       kategori  \\\n",
       "0       00000879  Socolatte Choc.Original Drink 450g  Minuman Bubuk   \n",
       "1   749921011121         NutriSari 10x14gr MaduJeruk  Minuman Bubuk   \n",
       "2  8993365121539                  Madu TJ 150g Super           Madu   \n",
       "3       00002015             Luxury Regulator GRL-2D            Gas   \n",
       "4  8853301550017                Whiskas 85gr 1+ Tuna      Pet Stuff   \n",
       "\n",
       "    golongan  toko  gudang       hpp  harga_toko   kode_barcode supplier  \\\n",
       "0      Bubuk     4       0  42000.00       46500       00000879       SC   \n",
       "1      Bubuk     3       0  10230.00       11500   749921011121      MBS   \n",
       "2        NaN    12       0  18000.00       20700  8993365121539     HERI   \n",
       "3  Regulator     0       0  35000.00       42500       00002015       SP   \n",
       "4        NaN    21       0   6004.17        6700  8853301550017   RAHMAT   \n",
       "\n",
       "         date  \n",
       "0  2022-05-05  \n",
       "1  2022-02-10  \n",
       "2  2022-12-06  \n",
       "3  2022-06-01  \n",
       "4  2022-06-02  "
      ]
     },
     "execution_count": 3,
     "metadata": {},
     "output_type": "execute_result"
    }
   ],
   "source": [
    "df1.head()"
   ]
  },
  {
   "cell_type": "code",
   "execution_count": 4,
   "metadata": {},
   "outputs": [
    {
     "name": "stdout",
     "output_type": "stream",
     "text": [
      "<class 'pandas.core.frame.DataFrame'>\n",
      "RangeIndex: 77167 entries, 0 to 77166\n",
      "Data columns (total 11 columns):\n",
      " #   Column        Non-Null Count  Dtype  \n",
      "---  ------        --------------  -----  \n",
      " 0   kode          77167 non-null  object \n",
      " 1   nama          77167 non-null  object \n",
      " 2   kategori      77155 non-null  object \n",
      " 3   golongan      48224 non-null  object \n",
      " 4   toko          77167 non-null  int64  \n",
      " 5   gudang        77167 non-null  int64  \n",
      " 6   hpp           77167 non-null  float64\n",
      " 7   harga_toko    77167 non-null  int64  \n",
      " 8   kode_barcode  77167 non-null  object \n",
      " 9   supplier      76568 non-null  object \n",
      " 10  date          77167 non-null  object \n",
      "dtypes: float64(1), int64(3), object(7)\n",
      "memory usage: 6.5+ MB\n",
      "None\n"
     ]
    }
   ],
   "source": [
    "pd.set_option('display.max_columns', None)\n",
    "pd.set_option('display.width', 1000)\n",
    "\n",
    "print(df1.info())"
   ]
  },
  {
   "cell_type": "code",
   "execution_count": 5,
   "metadata": {},
   "outputs": [],
   "source": [
    "df1['date'] = pd.to_datetime(df1['date'])\n",
    "df1['Total'] = df1['toko'] + df1['gudang']"
   ]
  },
  {
   "cell_type": "code",
   "execution_count": 6,
   "metadata": {},
   "outputs": [],
   "source": [
    "use_data = ['date','kategori','nama','Total']"
   ]
  },
  {
   "cell_type": "code",
   "execution_count": 7,
   "metadata": {},
   "outputs": [],
   "source": [
    "df1 = df1[use_data]"
   ]
  },
  {
   "cell_type": "code",
   "execution_count": 8,
   "metadata": {},
   "outputs": [
    {
     "data": {
      "text/html": [
       "<div>\n",
       "<style scoped>\n",
       "    .dataframe tbody tr th:only-of-type {\n",
       "        vertical-align: middle;\n",
       "    }\n",
       "\n",
       "    .dataframe tbody tr th {\n",
       "        vertical-align: top;\n",
       "    }\n",
       "\n",
       "    .dataframe thead th {\n",
       "        text-align: right;\n",
       "    }\n",
       "</style>\n",
       "<table border=\"1\" class=\"dataframe\">\n",
       "  <thead>\n",
       "    <tr style=\"text-align: right;\">\n",
       "      <th></th>\n",
       "      <th>date</th>\n",
       "      <th>kategori</th>\n",
       "      <th>nama</th>\n",
       "      <th>Total</th>\n",
       "    </tr>\n",
       "  </thead>\n",
       "  <tbody>\n",
       "    <tr>\n",
       "      <th>0</th>\n",
       "      <td>2022-05-05</td>\n",
       "      <td>Minuman Bubuk</td>\n",
       "      <td>Socolatte Choc.Original Drink 450g</td>\n",
       "      <td>4</td>\n",
       "    </tr>\n",
       "    <tr>\n",
       "      <th>1</th>\n",
       "      <td>2022-02-10</td>\n",
       "      <td>Minuman Bubuk</td>\n",
       "      <td>NutriSari 10x14gr MaduJeruk</td>\n",
       "      <td>3</td>\n",
       "    </tr>\n",
       "    <tr>\n",
       "      <th>2</th>\n",
       "      <td>2022-12-06</td>\n",
       "      <td>Madu</td>\n",
       "      <td>Madu TJ 150g Super</td>\n",
       "      <td>12</td>\n",
       "    </tr>\n",
       "    <tr>\n",
       "      <th>3</th>\n",
       "      <td>2022-06-01</td>\n",
       "      <td>Gas</td>\n",
       "      <td>Luxury Regulator GRL-2D</td>\n",
       "      <td>0</td>\n",
       "    </tr>\n",
       "    <tr>\n",
       "      <th>4</th>\n",
       "      <td>2022-06-02</td>\n",
       "      <td>Pet Stuff</td>\n",
       "      <td>Whiskas 85gr 1+ Tuna</td>\n",
       "      <td>21</td>\n",
       "    </tr>\n",
       "  </tbody>\n",
       "</table>\n",
       "</div>"
      ],
      "text/plain": [
       "        date       kategori                                nama  Total\n",
       "0 2022-05-05  Minuman Bubuk  Socolatte Choc.Original Drink 450g      4\n",
       "1 2022-02-10  Minuman Bubuk         NutriSari 10x14gr MaduJeruk      3\n",
       "2 2022-12-06           Madu                  Madu TJ 150g Super     12\n",
       "3 2022-06-01            Gas             Luxury Regulator GRL-2D      0\n",
       "4 2022-06-02      Pet Stuff                Whiskas 85gr 1+ Tuna     21"
      ]
     },
     "execution_count": 8,
     "metadata": {},
     "output_type": "execute_result"
    }
   ],
   "source": [
    "df1.head()"
   ]
  },
  {
   "cell_type": "code",
   "execution_count": 9,
   "metadata": {},
   "outputs": [
    {
     "data": {
      "text/html": [
       "<div>\n",
       "<style scoped>\n",
       "    .dataframe tbody tr th:only-of-type {\n",
       "        vertical-align: middle;\n",
       "    }\n",
       "\n",
       "    .dataframe tbody tr th {\n",
       "        vertical-align: top;\n",
       "    }\n",
       "\n",
       "    .dataframe thead th {\n",
       "        text-align: right;\n",
       "    }\n",
       "</style>\n",
       "<table border=\"1\" class=\"dataframe\">\n",
       "  <thead>\n",
       "    <tr style=\"text-align: right;\">\n",
       "      <th></th>\n",
       "      <th>date</th>\n",
       "      <th>kategori</th>\n",
       "      <th>nama</th>\n",
       "      <th>Total</th>\n",
       "    </tr>\n",
       "  </thead>\n",
       "  <tbody>\n",
       "    <tr>\n",
       "      <th>0</th>\n",
       "      <td>05</td>\n",
       "      <td>Minuman Bubuk</td>\n",
       "      <td>Socolatte Choc.Original Drink 450g</td>\n",
       "      <td>4</td>\n",
       "    </tr>\n",
       "    <tr>\n",
       "      <th>1</th>\n",
       "      <td>10</td>\n",
       "      <td>Minuman Bubuk</td>\n",
       "      <td>NutriSari 10x14gr MaduJeruk</td>\n",
       "      <td>3</td>\n",
       "    </tr>\n",
       "    <tr>\n",
       "      <th>2</th>\n",
       "      <td>06</td>\n",
       "      <td>Madu</td>\n",
       "      <td>Madu TJ 150g Super</td>\n",
       "      <td>12</td>\n",
       "    </tr>\n",
       "    <tr>\n",
       "      <th>3</th>\n",
       "      <td>01</td>\n",
       "      <td>Gas</td>\n",
       "      <td>Luxury Regulator GRL-2D</td>\n",
       "      <td>0</td>\n",
       "    </tr>\n",
       "    <tr>\n",
       "      <th>4</th>\n",
       "      <td>02</td>\n",
       "      <td>Pet Stuff</td>\n",
       "      <td>Whiskas 85gr 1+ Tuna</td>\n",
       "      <td>21</td>\n",
       "    </tr>\n",
       "  </tbody>\n",
       "</table>\n",
       "</div>"
      ],
      "text/plain": [
       "  date       kategori                                nama  Total\n",
       "0   05  Minuman Bubuk  Socolatte Choc.Original Drink 450g      4\n",
       "1   10  Minuman Bubuk         NutriSari 10x14gr MaduJeruk      3\n",
       "2   06           Madu                  Madu TJ 150g Super     12\n",
       "3   01            Gas             Luxury Regulator GRL-2D      0\n",
       "4   02      Pet Stuff                Whiskas 85gr 1+ Tuna     21"
      ]
     },
     "execution_count": 9,
     "metadata": {},
     "output_type": "execute_result"
    }
   ],
   "source": [
    "# make predict\n",
    "df1['date'] = pd.to_datetime(df1['date']) \n",
    "df1['date'] = df1['date'].dt.strftime('%m') \n",
    "df1.head()"
   ]
  },
  {
   "cell_type": "code",
   "execution_count": 10,
   "metadata": {},
   "outputs": [
    {
     "name": "stderr",
     "output_type": "stream",
     "text": [
      "C:\\Users\\HP\\AppData\\Local\\Temp\\ipykernel_32340\\3047989489.py:2: FutureWarning: The default value of numeric_only in DataFrameGroupBy.sum is deprecated. In a future version, numeric_only will default to False. Either specify numeric_only or select only columns which should be valid for the function.\n",
      "  df1Supplier =  pd.DataFrame(df1.groupby(['date','kategori']).sum())\n"
     ]
    },
    {
     "data": {
      "text/html": [
       "<div>\n",
       "<style scoped>\n",
       "    .dataframe tbody tr th:only-of-type {\n",
       "        vertical-align: middle;\n",
       "    }\n",
       "\n",
       "    .dataframe tbody tr th {\n",
       "        vertical-align: top;\n",
       "    }\n",
       "\n",
       "    .dataframe thead th {\n",
       "        text-align: right;\n",
       "    }\n",
       "</style>\n",
       "<table border=\"1\" class=\"dataframe\">\n",
       "  <thead>\n",
       "    <tr style=\"text-align: right;\">\n",
       "      <th></th>\n",
       "      <th></th>\n",
       "      <th>Total</th>\n",
       "    </tr>\n",
       "    <tr>\n",
       "      <th>date</th>\n",
       "      <th>kategori</th>\n",
       "      <th></th>\n",
       "    </tr>\n",
       "  </thead>\n",
       "  <tbody>\n",
       "    <tr>\n",
       "      <th rowspan=\"5\" valign=\"top\">01</th>\n",
       "      <th>ATK</th>\n",
       "      <td>3252</td>\n",
       "    </tr>\n",
       "    <tr>\n",
       "      <th>Beras</th>\n",
       "      <td>13</td>\n",
       "    </tr>\n",
       "    <tr>\n",
       "      <th>Biskuit</th>\n",
       "      <td>2423</td>\n",
       "    </tr>\n",
       "    <tr>\n",
       "      <th>Eskrim</th>\n",
       "      <td>214</td>\n",
       "    </tr>\n",
       "    <tr>\n",
       "      <th>Gas</th>\n",
       "      <td>29</td>\n",
       "    </tr>\n",
       "    <tr>\n",
       "      <th>...</th>\n",
       "      <th>...</th>\n",
       "      <td>...</td>\n",
       "    </tr>\n",
       "    <tr>\n",
       "      <th rowspan=\"5\" valign=\"top\">31</th>\n",
       "      <th>Selai</th>\n",
       "      <td>3</td>\n",
       "    </tr>\n",
       "    <tr>\n",
       "      <th>Semir</th>\n",
       "      <td>11</td>\n",
       "    </tr>\n",
       "    <tr>\n",
       "      <th>Sereal</th>\n",
       "      <td>47</td>\n",
       "    </tr>\n",
       "    <tr>\n",
       "      <th>Susu</th>\n",
       "      <td>526</td>\n",
       "    </tr>\n",
       "    <tr>\n",
       "      <th>Tissue</th>\n",
       "      <td>799</td>\n",
       "    </tr>\n",
       "  </tbody>\n",
       "</table>\n",
       "<p>992 rows × 1 columns</p>\n",
       "</div>"
      ],
      "text/plain": [
       "               Total\n",
       "date kategori       \n",
       "01   ATK        3252\n",
       "     Beras        13\n",
       "     Biskuit    2423\n",
       "     Eskrim      214\n",
       "     Gas          29\n",
       "...              ...\n",
       "31   Selai         3\n",
       "     Semir        11\n",
       "     Sereal       47\n",
       "     Susu        526\n",
       "     Tissue      799\n",
       "\n",
       "[992 rows x 1 columns]"
      ]
     },
     "execution_count": 10,
     "metadata": {},
     "output_type": "execute_result"
    }
   ],
   "source": [
    "# make groub by date by month\n",
    "df1Supplier =  pd.DataFrame(df1.groupby(['date','kategori']).sum())\n",
    "\n",
    "df1Supplier.head(1000)"
   ]
  },
  {
   "cell_type": "code",
   "execution_count": 11,
   "metadata": {},
   "outputs": [
    {
     "data": {
      "text/plain": [
       "ATK               17702\n",
       "Mainan             7582\n",
       "Sabun              7170\n",
       "Minuman            5784\n",
       "Susu               5463\n",
       "Obat               5241\n",
       "Biskuit            4934\n",
       "Kerupuk            3425\n",
       "Permen             2678\n",
       "Tissue             2472\n",
       "Popok              2211\n",
       "Mie                1931\n",
       "Rokok              1224\n",
       "Roti                962\n",
       "Eskrim              887\n",
       "Minuman Bubuk       813\n",
       "Otomotif            697\n",
       "Nugget              677\n",
       "Pet Stuff           656\n",
       "Minyak              580\n",
       "Kacang              573\n",
       "Madu                538\n",
       "Jelly               497\n",
       "Gas                 421\n",
       "Kueh                386\n",
       "Sereal              379\n",
       "Selai               285\n",
       "Beras               242\n",
       "Kurma               218\n",
       "Pemanis             208\n",
       "Makanan Kaleng      169\n",
       "Semir               150\n",
       "Name: kategori, dtype: int64"
      ]
     },
     "execution_count": 11,
     "metadata": {},
     "output_type": "execute_result"
    }
   ],
   "source": [
    "bestCategory = df1['kategori'].value_counts()\n",
    "bestCategory"
   ]
  },
  {
   "cell_type": "code",
   "execution_count": 12,
   "metadata": {},
   "outputs": [
    {
     "data": {
      "image/png": "[encoded data removed]",
      "text/plain": [
       "<Figure size 1000x500 with 1 Axes>"
      ]
     },
     "metadata": {},
     "output_type": "display_data"
    }
   ],
   "source": [
    "# make visualization for best category\n",
    "plt.figure(figsize=(10,5)) \n",
    "plt.title('Best Category')\n",
    "plt.xlabel('Category')\n",
    "plt.ylabel('Total')\n",
    "bestCategory.plot(kind='bar')\n",
    "plt.show()"
   ]
  },
  {
   "cell_type": "code",
   "execution_count": 13,
   "metadata": {},
   "outputs": [
    {
     "name": "stderr",
     "output_type": "stream",
     "text": [
      "C:\\Users\\HP\\AppData\\Local\\Temp\\ipykernel_32340\\3047989489.py:2: FutureWarning: The default value of numeric_only in DataFrameGroupBy.sum is deprecated. In a future version, numeric_only will default to False. Either specify numeric_only or select only columns which should be valid for the function.\n",
      "  df1Supplier =  pd.DataFrame(df1.groupby(['date','kategori']).sum())\n"
     ]
    },
    {
     "data": {
      "text/html": [
       "<div>\n",
       "<style scoped>\n",
       "    .dataframe tbody tr th:only-of-type {\n",
       "        vertical-align: middle;\n",
       "    }\n",
       "\n",
       "    .dataframe tbody tr th {\n",
       "        vertical-align: top;\n",
       "    }\n",
       "\n",
       "    .dataframe thead th {\n",
       "        text-align: right;\n",
       "    }\n",
       "</style>\n",
       "<table border=\"1\" class=\"dataframe\">\n",
       "  <thead>\n",
       "    <tr style=\"text-align: right;\">\n",
       "      <th></th>\n",
       "      <th></th>\n",
       "      <th>Total</th>\n",
       "    </tr>\n",
       "    <tr>\n",
       "      <th>date</th>\n",
       "      <th>kategori</th>\n",
       "      <th></th>\n",
       "    </tr>\n",
       "  </thead>\n",
       "  <tbody>\n",
       "    <tr>\n",
       "      <th rowspan=\"5\" valign=\"top\">01</th>\n",
       "      <th>ATK</th>\n",
       "      <td>3252</td>\n",
       "    </tr>\n",
       "    <tr>\n",
       "      <th>Beras</th>\n",
       "      <td>13</td>\n",
       "    </tr>\n",
       "    <tr>\n",
       "      <th>Biskuit</th>\n",
       "      <td>2423</td>\n",
       "    </tr>\n",
       "    <tr>\n",
       "      <th>Eskrim</th>\n",
       "      <td>214</td>\n",
       "    </tr>\n",
       "    <tr>\n",
       "      <th>Gas</th>\n",
       "      <td>29</td>\n",
       "    </tr>\n",
       "    <tr>\n",
       "      <th>...</th>\n",
       "      <th>...</th>\n",
       "      <td>...</td>\n",
       "    </tr>\n",
       "    <tr>\n",
       "      <th rowspan=\"5\" valign=\"top\">31</th>\n",
       "      <th>Selai</th>\n",
       "      <td>3</td>\n",
       "    </tr>\n",
       "    <tr>\n",
       "      <th>Semir</th>\n",
       "      <td>11</td>\n",
       "    </tr>\n",
       "    <tr>\n",
       "      <th>Sereal</th>\n",
       "      <td>47</td>\n",
       "    </tr>\n",
       "    <tr>\n",
       "      <th>Susu</th>\n",
       "      <td>526</td>\n",
       "    </tr>\n",
       "    <tr>\n",
       "      <th>Tissue</th>\n",
       "      <td>799</td>\n",
       "    </tr>\n",
       "  </tbody>\n",
       "</table>\n",
       "<p>992 rows × 1 columns</p>\n",
       "</div>"
      ],
      "text/plain": [
       "               Total\n",
       "date kategori       \n",
       "01   ATK        3252\n",
       "     Beras        13\n",
       "     Biskuit    2423\n",
       "     Eskrim      214\n",
       "     Gas          29\n",
       "...              ...\n",
       "31   Selai         3\n",
       "     Semir        11\n",
       "     Sereal       47\n",
       "     Susu        526\n",
       "     Tissue      799\n",
       "\n",
       "[992 rows x 1 columns]"
      ]
     },
     "execution_count": 13,
     "metadata": {},
     "output_type": "execute_result"
    }
   ],
   "source": [
    "# make groub by date by month\n",
    "df1Supplier =  pd.DataFrame(df1.groupby(['date','kategori']).sum())\n",
    "\n",
    "df1Supplier.head(1000)"
   ]
  },
  {
   "cell_type": "code",
   "execution_count": 14,
   "metadata": {},
   "outputs": [],
   "source": [
    "input = df1.drop(['Total'], axis=1)\n",
    "target = df1['Total']"
   ]
  },
  {
   "cell_type": "code",
   "execution_count": 15,
   "metadata": {},
   "outputs": [
    {
     "data": {
      "text/plain": [
       "0         4\n",
       "1         3\n",
       "2        12\n",
       "3         0\n",
       "4        21\n",
       "         ..\n",
       "77162     4\n",
       "77163    28\n",
       "77164    12\n",
       "77165    11\n",
       "77166    30\n",
       "Name: Total, Length: 77167, dtype: int64"
      ]
     },
     "execution_count": 15,
     "metadata": {},
     "output_type": "execute_result"
    }
   ],
   "source": [
    "target"
   ]
  },
  {
   "cell_type": "code",
   "execution_count": 16,
   "metadata": {},
   "outputs": [
    {
     "data": {
      "text/html": [
       "<div>\n",
       "<style scoped>\n",
       "    .dataframe tbody tr th:only-of-type {\n",
       "        vertical-align: middle;\n",
       "    }\n",
       "\n",
       "    .dataframe tbody tr th {\n",
       "        vertical-align: top;\n",
       "    }\n",
       "\n",
       "    .dataframe thead th {\n",
       "        text-align: right;\n",
       "    }\n",
       "</style>\n",
       "<table border=\"1\" class=\"dataframe\">\n",
       "  <thead>\n",
       "    <tr style=\"text-align: right;\">\n",
       "      <th></th>\n",
       "      <th>date</th>\n",
       "      <th>kategori</th>\n",
       "      <th>nama</th>\n",
       "    </tr>\n",
       "  </thead>\n",
       "  <tbody>\n",
       "    <tr>\n",
       "      <th>0</th>\n",
       "      <td>05</td>\n",
       "      <td>Minuman Bubuk</td>\n",
       "      <td>Socolatte Choc.Original Drink 450g</td>\n",
       "    </tr>\n",
       "    <tr>\n",
       "      <th>1</th>\n",
       "      <td>10</td>\n",
       "      <td>Minuman Bubuk</td>\n",
       "      <td>NutriSari 10x14gr MaduJeruk</td>\n",
       "    </tr>\n",
       "    <tr>\n",
       "      <th>2</th>\n",
       "      <td>06</td>\n",
       "      <td>Madu</td>\n",
       "      <td>Madu TJ 150g Super</td>\n",
       "    </tr>\n",
       "    <tr>\n",
       "      <th>3</th>\n",
       "      <td>01</td>\n",
       "      <td>Gas</td>\n",
       "      <td>Luxury Regulator GRL-2D</td>\n",
       "    </tr>\n",
       "    <tr>\n",
       "      <th>4</th>\n",
       "      <td>02</td>\n",
       "      <td>Pet Stuff</td>\n",
       "      <td>Whiskas 85gr 1+ Tuna</td>\n",
       "    </tr>\n",
       "    <tr>\n",
       "      <th>...</th>\n",
       "      <td>...</td>\n",
       "      <td>...</td>\n",
       "      <td>...</td>\n",
       "    </tr>\n",
       "    <tr>\n",
       "      <th>77162</th>\n",
       "      <td>08</td>\n",
       "      <td>Minuman</td>\n",
       "      <td>Fruit Tea 318ml Klg. BlackC.</td>\n",
       "    </tr>\n",
       "    <tr>\n",
       "      <th>77163</th>\n",
       "      <td>06</td>\n",
       "      <td>Minuman</td>\n",
       "      <td>Zee UHT 200ml Choc.</td>\n",
       "    </tr>\n",
       "    <tr>\n",
       "      <th>77164</th>\n",
       "      <td>01</td>\n",
       "      <td>Minuman</td>\n",
       "      <td>DiamondMilk UHT 1L LowFat Plain</td>\n",
       "    </tr>\n",
       "    <tr>\n",
       "      <th>77165</th>\n",
       "      <td>09</td>\n",
       "      <td>Minuman</td>\n",
       "      <td>FresTea 350ml Original</td>\n",
       "    </tr>\n",
       "    <tr>\n",
       "      <th>77166</th>\n",
       "      <td>09</td>\n",
       "      <td>Minuman</td>\n",
       "      <td>Golda Coffee 200ml D.Latte</td>\n",
       "    </tr>\n",
       "  </tbody>\n",
       "</table>\n",
       "<p>77167 rows × 3 columns</p>\n",
       "</div>"
      ],
      "text/plain": [
       "      date       kategori                                nama\n",
       "0       05  Minuman Bubuk  Socolatte Choc.Original Drink 450g\n",
       "1       10  Minuman Bubuk         NutriSari 10x14gr MaduJeruk\n",
       "2       06           Madu                  Madu TJ 150g Super\n",
       "3       01            Gas             Luxury Regulator GRL-2D\n",
       "4       02      Pet Stuff                Whiskas 85gr 1+ Tuna\n",
       "...    ...            ...                                 ...\n",
       "77162   08        Minuman        Fruit Tea 318ml Klg. BlackC.\n",
       "77163   06        Minuman                 Zee UHT 200ml Choc.\n",
       "77164   01        Minuman     DiamondMilk UHT 1L LowFat Plain\n",
       "77165   09        Minuman              FresTea 350ml Original\n",
       "77166   09        Minuman          Golda Coffee 200ml D.Latte\n",
       "\n",
       "[77167 rows x 3 columns]"
      ]
     },
     "execution_count": 16,
     "metadata": {},
     "output_type": "execute_result"
    }
   ],
   "source": [
    "input"
   ]
  },
  {
   "cell_type": "code",
   "execution_count": 17,
   "metadata": {},
   "outputs": [],
   "source": [
    "# LaberEncoder\n",
    "from sklearn.preprocessing import LabelEncoder\n",
    "\n",
    "# create instance\n",
    "le_nama = LabelEncoder()\n",
    "le_kategori = LabelEncoder()\n",
    "le_date = LabelEncoder()\n",
    "# le_Total = LabelEncoder()"
   ]
  },
  {
   "cell_type": "code",
   "execution_count": 18,
   "metadata": {},
   "outputs": [
    {
     "data": {
      "text/html": [
       "<div>\n",
       "<style scoped>\n",
       "    .dataframe tbody tr th:only-of-type {\n",
       "        vertical-align: middle;\n",
       "    }\n",
       "\n",
       "    .dataframe tbody tr th {\n",
       "        vertical-align: top;\n",
       "    }\n",
       "\n",
       "    .dataframe thead th {\n",
       "        text-align: right;\n",
       "    }\n",
       "</style>\n",
       "<table border=\"1\" class=\"dataframe\">\n",
       "  <thead>\n",
       "    <tr style=\"text-align: right;\">\n",
       "      <th></th>\n",
       "      <th>date</th>\n",
       "      <th>kategori</th>\n",
       "      <th>nama</th>\n",
       "      <th>nama_n</th>\n",
       "      <th>kategori_n</th>\n",
       "      <th>date_n</th>\n",
       "    </tr>\n",
       "  </thead>\n",
       "  <tbody>\n",
       "    <tr>\n",
       "      <th>0</th>\n",
       "      <td>05</td>\n",
       "      <td>Minuman Bubuk</td>\n",
       "      <td>Socolatte Choc.Original Drink 450g</td>\n",
       "      <td>9048</td>\n",
       "      <td>15</td>\n",
       "      <td>4</td>\n",
       "    </tr>\n",
       "    <tr>\n",
       "      <th>1</th>\n",
       "      <td>10</td>\n",
       "      <td>Minuman Bubuk</td>\n",
       "      <td>NutriSari 10x14gr MaduJeruk</td>\n",
       "      <td>7297</td>\n",
       "      <td>15</td>\n",
       "      <td>9</td>\n",
       "    </tr>\n",
       "    <tr>\n",
       "      <th>2</th>\n",
       "      <td>06</td>\n",
       "      <td>Madu</td>\n",
       "      <td>Madu TJ 150g Super</td>\n",
       "      <td>6243</td>\n",
       "      <td>10</td>\n",
       "      <td>5</td>\n",
       "    </tr>\n",
       "  </tbody>\n",
       "</table>\n",
       "</div>"
      ],
      "text/plain": [
       "  date       kategori                                nama  nama_n  kategori_n  date_n\n",
       "0   05  Minuman Bubuk  Socolatte Choc.Original Drink 450g    9048          15       4\n",
       "1   10  Minuman Bubuk         NutriSari 10x14gr MaduJeruk    7297          15       9\n",
       "2   06           Madu                  Madu TJ 150g Super    6243          10       5"
      ]
     },
     "execution_count": 18,
     "metadata": {},
     "output_type": "execute_result"
    }
   ],
   "source": [
    "input['nama_n'] = le_nama.fit_transform(input['nama'])\n",
    "input['kategori_n'] = le_kategori.fit_transform(input['kategori'])\n",
    "input['date_n'] = le_date.fit_transform(input['date'])\n",
    "\n",
    "input.head(3)"
   ]
  },
  {
   "cell_type": "code",
   "execution_count": 19,
   "metadata": {},
   "outputs": [
    {
     "data": {
      "text/html": [
       "<div>\n",
       "<style scoped>\n",
       "    .dataframe tbody tr th:only-of-type {\n",
       "        vertical-align: middle;\n",
       "    }\n",
       "\n",
       "    .dataframe tbody tr th {\n",
       "        vertical-align: top;\n",
       "    }\n",
       "\n",
       "    .dataframe thead th {\n",
       "        text-align: right;\n",
       "    }\n",
       "</style>\n",
       "<table border=\"1\" class=\"dataframe\">\n",
       "  <thead>\n",
       "    <tr style=\"text-align: right;\">\n",
       "      <th></th>\n",
       "      <th>nama_n</th>\n",
       "      <th>kategori_n</th>\n",
       "      <th>date_n</th>\n",
       "    </tr>\n",
       "  </thead>\n",
       "  <tbody>\n",
       "    <tr>\n",
       "      <th>0</th>\n",
       "      <td>9048</td>\n",
       "      <td>15</td>\n",
       "      <td>4</td>\n",
       "    </tr>\n",
       "    <tr>\n",
       "      <th>1</th>\n",
       "      <td>7297</td>\n",
       "      <td>15</td>\n",
       "      <td>9</td>\n",
       "    </tr>\n",
       "    <tr>\n",
       "      <th>2</th>\n",
       "      <td>6243</td>\n",
       "      <td>10</td>\n",
       "      <td>5</td>\n",
       "    </tr>\n",
       "    <tr>\n",
       "      <th>3</th>\n",
       "      <td>6126</td>\n",
       "      <td>4</td>\n",
       "      <td>0</td>\n",
       "    </tr>\n",
       "    <tr>\n",
       "      <th>4</th>\n",
       "      <td>10126</td>\n",
       "      <td>22</td>\n",
       "      <td>1</td>\n",
       "    </tr>\n",
       "  </tbody>\n",
       "</table>\n",
       "</div>"
      ],
      "text/plain": [
       "   nama_n  kategori_n  date_n\n",
       "0    9048          15       4\n",
       "1    7297          15       9\n",
       "2    6243          10       5\n",
       "3    6126           4       0\n",
       "4   10126          22       1"
      ]
     },
     "execution_count": 19,
     "metadata": {},
     "output_type": "execute_result"
    }
   ],
   "source": [
    "input_n = input.drop(['nama','kategori','date'], axis=1)\n",
    "input_n.head()"
   ]
  },
  {
   "cell_type": "code",
   "execution_count": 20,
   "metadata": {},
   "outputs": [],
   "source": [
    "# # combine input and target\n",
    "# df1_n = pd.concat([input_n, target], axis=1)\n",
    "# df1_n.head()"
   ]
  },
  {
   "cell_type": "code",
   "execution_count": 21,
   "metadata": {},
   "outputs": [
    {
     "data": {
      "image/png": "[encoded data removed]",
      "text/plain": [
       "<Figure size 1000x500 with 1 Axes>"
      ]
     },
     "metadata": {},
     "output_type": "display_data"
    }
   ],
   "source": [
    "# make visualization input_n use barcart\n",
    "plt.figure(figsize=(10,5))\n",
    "plt.title('Input')\n",
    "plt.xlabel('Date')\n",
    "plt.ylabel('Total')\n",
    "input_n['date_n'].value_counts().plot(kind='bar')\n",
    "plt.show()\n"
   ]
  },
  {
   "cell_type": "code",
   "execution_count": 25,
   "metadata": {},
   "outputs": [],
   "source": [
    "# training with TensorFlow linear regression\n",
    "import tensorflow as tf\n",
    "from tensorflow import keras\n",
    "from tensorflow.keras import layers\n",
    "\n",
    "# make model\n",
    "model = keras.Sequential([\n",
    "    layers.Dense(64, activation='relu', input_shape=[3]),\n",
    "    layers.Dense(64, activation='relu'),\n",
    "    layers.Dense(1)\n",
    "])"
   ]
  },
  {
   "cell_type": "code",
   "execution_count": 23,
   "metadata": {},
   "outputs": [],
   "source": [
    "# import tensorflow as tf\n",
    "# from tensorflow import keras\n",
    "# from tensorflow.keras import layers\n",
    "\n",
    "# # Create the model\n",
    "# model = keras.Sequential()\n",
    "\n",
    "# # Add layers to the model\n",
    "# model.add(layers.Dense(64, activation='relu', input_shape=[3]))  # Dense layer\n",
    "# # model.add(layers.Conv2D(32, kernel_size=(3, 3), activation='relu'))  # Convolutional layer\n",
    "# model.add(layers.MaxPooling2D(pool_size=(2, 2)))  # Max pooling layer\n",
    "# model.add(layers.Flatten())  # Flatten layer\n",
    "# model.add(layers.Dense(10, activation='softmax'))  # Output layer\n",
    "\n",
    "# # Print model summary\n",
    "# model.summary()\n"
   ]
  },
  {
   "cell_type": "code",
   "execution_count": 26,
   "metadata": {},
   "outputs": [],
   "source": [
    "# compile model\n",
    "model.compile(loss='mse',\n",
    "                optimizer=tf.keras.optimizers.RMSprop(0.001),\n",
    "                metrics=[\"accuracy\"])"
   ]
  },
  {
   "cell_type": "code",
   "execution_count": 27,
   "metadata": {},
   "outputs": [
    {
     "name": "stdout",
     "output_type": "stream",
     "text": [
      "Epoch 1/10\n",
      "2412/2412 [==============================] - 2s 794us/step - loss: 4476.8857 - accuracy: 0.2704\n",
      "Epoch 2/10\n",
      "2412/2412 [==============================] - 2s 821us/step - loss: 1983.9573 - accuracy: 0.1633\n",
      "Epoch 3/10\n",
      "2412/2412 [==============================] - 2s 803us/step - loss: 1823.5337 - accuracy: 0.0689\n",
      "Epoch 4/10\n",
      "2412/2412 [==============================] - 2s 815us/step - loss: 1795.9567 - accuracy: 0.0679\n",
      "Epoch 5/10\n",
      "2412/2412 [==============================] - 2s 825us/step - loss: 1794.6464 - accuracy: 0.0665\n",
      "Epoch 6/10\n",
      "2412/2412 [==============================] - 2s 822us/step - loss: 1794.7509 - accuracy: 0.0640\n",
      "Epoch 7/10\n",
      "2412/2412 [==============================] - 2s 790us/step - loss: 1793.3154 - accuracy: 0.0655\n",
      "Epoch 8/10\n",
      "2412/2412 [==============================] - 2s 932us/step - loss: 1791.1219 - accuracy: 0.0637\n",
      "Epoch 9/10\n",
      "2412/2412 [==============================] - 3s 1ms/step - loss: 1790.0033 - accuracy: 0.0649\n",
      "Epoch 10/10\n",
      "2412/2412 [==============================] - 3s 1ms/step - loss: 1790.9590 - accuracy: 0.0632\n"
     ]
    }
   ],
   "source": [
    "# training model\n",
    "history = model.fit(input_n, target, epochs=10)"
   ]
  },
  {
   "cell_type": "code",
   "execution_count": 28,
   "metadata": {},
   "outputs": [
    {
     "name": "stdout",
     "output_type": "stream",
     "text": [
      "2412/2412 [==============================] - 2s 728us/step\n"
     ]
    },
    {
     "data": {
      "text/plain": [
       "array([[4.277061 ],\n",
       "       [4.207292 ],\n",
       "       [3.8634417],\n",
       "       ...,\n",
       "       [3.337561 ],\n",
       "       [3.7231767],\n",
       "       [3.7679014]], dtype=float32)"
      ]
     },
     "execution_count": 28,
     "metadata": {},
     "output_type": "execute_result"
    }
   ],
   "source": [
    "# make predict\n",
    "predict = model.predict(input_n)\n",
    "\n",
    "predict"
   ]
  }
 ],
 "metadata": {
  "kernelspec": {
   "display_name": "base",
   "language": "python",
   "name": "python3"
  },
  "language_info": {
   "codemirror_mode": {
    "name": "ipython",
    "version": 3
   },
   "file_extension": ".py",
   "mimetype": "text/x-python",
   "name": "python",
   "nbconvert_exporter": "python",
   "pygments_lexer": "ipython3",
   "version": "3.10.9"
  },
  "orig_nbformat": 4
 },
 "nbformat": 4,
 "nbformat_minor": 2
}
